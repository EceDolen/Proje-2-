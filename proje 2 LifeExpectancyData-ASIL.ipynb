{
 "cells": [
  {
   "cell_type": "code",
   "execution_count": 1,
   "metadata": {},
   "outputs": [],
   "source": [
    "import pandas as pd\n",
    "import numpy as np\n",
    "import seaborn as sns\n",
    "import matplotlib.pyplot as plt\n",
    "from sklearn import linear_model as lm\n",
    "import statsmodels.api as sm\n",
    "\n",
    "from sklearn.linear_model import LinearRegression\n",
    "from sklearn.model_selection import train_test_split\n",
    "from sklearn.metrics import mean_absolute_error\n",
    "\n",
    "from statsmodels.tools.eval_measures import mse, rmse\n",
    "\n",
    "%matplotlib inline\n",
    "pd.options.display.float_format = '{:.3f}'.format\n",
    "\n",
    "import warnings\n",
    "warnings.filterwarnings(action= \"ignore\")"
   ]
  },
  {
   "cell_type": "markdown",
   "metadata": {},
   "source": [
    "#                                                  Reggression Project (2)\n",
    " \n",
    " "
   ]
  },
  {
   "cell_type": "markdown",
   "metadata": {},
   "source": [
    "## Contents\n",
    "1.  Introduction\n",
    "2.  The Aim of Analysis\n",
    "3.  General Information of the Data\n",
    "4.  Arrangements of the Data Sets\n",
    "5.  Filling of the Row Data \n",
    "6.  Data Exploration \n",
    "7.  Splitting the Data\n",
    "8.  Training the Model\n",
    "9.  Predicting the Model\n",
    "10. Evaluating the Model\n",
    "11. Conclusions"
   ]
  },
  {
   "cell_type": "markdown",
   "metadata": {},
   "source": [
    "**1. Introduction**"
   ]
  },
  {
   "cell_type": "markdown",
   "metadata": {},
   "source": [
    "The Global Health Observatory (GHO) data repository under World Health Organization (WHO) keeps track of the health status as well as many other related factors for all countries The datasets are made available to public for the purpose of health data analysis. The dataset related to life expectancy, health factors for 193 countries has been collected from the same WHO data repository website and its corresponding economic data was collected from United Nation website. Among all categories of health-related factors only those critical factors were chosen which are more representative. It has been observed that in the past 15 years , there has been a huge development in health sector resulting in improvement of human mortality rates especially in the developing nations in comparison to the past 30 years. Therefore, in this project we have considered data from year 2000-2015 for 193 countries for further analysis. The individual data files have been merged together into a single dataset. On initial visual inspection of the data showed some missing values. As the datasets were from WHO, we found no evident errors. Missing data was handled in R software by using Missmap command. The result indicated that most of the missing data was for population, Hepatitis B and GDP. The missing data were from less known countries like Vanuatu, Tonga, Togo,Cabo Verde etc. Finding all data for these countries was difficult and hence, it was decided that we exclude these countries from the final model dataset. The final merged file(final dataset) consists of 22 Columns and 2938 rows which meant 20 predicting variables. All predicting variables was then divided into several broad categories:​Immunization related factors, Mortality factors, Economical factors and Social factors."
   ]
  },
  {
   "cell_type": "markdown",
   "metadata": {},
   "source": [
    "**2. The Aim of Analysis**"
   ]
  },
  {
   "cell_type": "markdown",
   "metadata": {},
   "source": [
    "This study aims to search for the elements which effects life expectancy by using correlations with regression models."
   ]
  },
  {
   "cell_type": "markdown",
   "metadata": {},
   "source": [
    "**3. General Information of the Data**"
   ]
  },
  {
   "cell_type": "markdown",
   "metadata": {},
   "source": [
    "Country : Country\n",
    "\n",
    "Year : Year \n",
    "\n",
    "Status : Developed or Developing status\n",
    "\n",
    "Life expectancy : Life Expectancy in age\n",
    "\n",
    "Adult Mortality : Adult Mortality Rates of both sexes (probability of dying between 15 and 60 years per 1000 population)\n",
    "\n",
    "infant deaths : Number of Infant Deaths per 1000 population\n",
    "\n",
    "\n",
    "Alcohol : Alcohol, recorded per capita (15+) consumption (in litres of pure alcohol)\n",
    "\n",
    "percentage:  expenditureExpenditure on health as a percentage of Gross Domestic Product per capita(%)\n",
    "\n",
    "Hepatitis B : Hepatitis B (HepB) immunization coverage among 1-year-olds (%)\n",
    "\n",
    "Measles : Measles - number of reported cases per 1000 population\n",
    "\n",
    "BMI : Average Body Mass Index of entire population\n",
    "\n",
    "under-five deaths : Number of under-five deaths per 1000 population\n",
    "\n",
    "Polio : Polio (Pol3) immunization coverage among 1-year-olds (%)\n",
    "\n",
    "Total expenditure : General government expenditure on health as a percentage of total government expenditure (%)\n",
    "\n",
    "Diphtheria :  Diphtheria tetanus toxoid and pertussis (DTP3) immunization coverage among 1-year-olds (%)\n",
    "\n",
    "HIV/AIDS : Deaths per 1 000 live births HIV/AIDS (0-4 years)\n",
    "\n",
    "GDP : Gross Domestic Product per capita (in USD)\n",
    "\n",
    "Population : Population of the country\n",
    "\n",
    "thinness 1-19 years : Prevalence of thinness among children and adolescents for Age 10 to 19 (% )\n",
    "\n",
    "Income composition of resources : Human Development Index in terms of income composition of resources (index ranging from 0 to 1)\n",
    "\n",
    "Schooling : Number of years of Schooling(years)"
   ]
  },
  {
   "cell_type": "markdown",
   "metadata": {},
   "source": [
    "**4. Data Exploration**"
   ]
  },
  {
   "cell_type": "code",
   "execution_count": 2,
   "metadata": {
    "scrolled": false
   },
   "outputs": [
    {
     "data": {
      "text/html": [
       "<div>\n",
       "<style scoped>\n",
       "    .dataframe tbody tr th:only-of-type {\n",
       "        vertical-align: middle;\n",
       "    }\n",
       "\n",
       "    .dataframe tbody tr th {\n",
       "        vertical-align: top;\n",
       "    }\n",
       "\n",
       "    .dataframe thead th {\n",
       "        text-align: right;\n",
       "    }\n",
       "</style>\n",
       "<table border=\"1\" class=\"dataframe\">\n",
       "  <thead>\n",
       "    <tr style=\"text-align: right;\">\n",
       "      <th></th>\n",
       "      <th>Country</th>\n",
       "      <th>Year</th>\n",
       "      <th>Status</th>\n",
       "      <th>Life expectancy</th>\n",
       "      <th>Adult Mortality</th>\n",
       "      <th>infant deaths</th>\n",
       "      <th>Alcohol</th>\n",
       "      <th>percentage expenditure</th>\n",
       "      <th>Hepatitis B</th>\n",
       "      <th>Measles</th>\n",
       "      <th>...</th>\n",
       "      <th>Polio</th>\n",
       "      <th>Total expenditure</th>\n",
       "      <th>Diphtheria</th>\n",
       "      <th>HIV/AIDS</th>\n",
       "      <th>GDP</th>\n",
       "      <th>Population</th>\n",
       "      <th>thinness  1-19 years</th>\n",
       "      <th>thinness 5-9 years</th>\n",
       "      <th>Income composition of resources</th>\n",
       "      <th>Schooling</th>\n",
       "    </tr>\n",
       "  </thead>\n",
       "  <tbody>\n",
       "    <tr>\n",
       "      <th>0</th>\n",
       "      <td>Afghanistan</td>\n",
       "      <td>2015</td>\n",
       "      <td>Developing</td>\n",
       "      <td>65.000</td>\n",
       "      <td>263.000</td>\n",
       "      <td>62</td>\n",
       "      <td>0.010</td>\n",
       "      <td>71.280</td>\n",
       "      <td>65.000</td>\n",
       "      <td>1154</td>\n",
       "      <td>...</td>\n",
       "      <td>6.000</td>\n",
       "      <td>8.160</td>\n",
       "      <td>65.000</td>\n",
       "      <td>0.100</td>\n",
       "      <td>584.259</td>\n",
       "      <td>33736494.000</td>\n",
       "      <td>17.200</td>\n",
       "      <td>17.300</td>\n",
       "      <td>0.479</td>\n",
       "      <td>10.100</td>\n",
       "    </tr>\n",
       "    <tr>\n",
       "      <th>1</th>\n",
       "      <td>Afghanistan</td>\n",
       "      <td>2014</td>\n",
       "      <td>Developing</td>\n",
       "      <td>59.900</td>\n",
       "      <td>271.000</td>\n",
       "      <td>64</td>\n",
       "      <td>0.010</td>\n",
       "      <td>73.524</td>\n",
       "      <td>62.000</td>\n",
       "      <td>492</td>\n",
       "      <td>...</td>\n",
       "      <td>58.000</td>\n",
       "      <td>8.180</td>\n",
       "      <td>62.000</td>\n",
       "      <td>0.100</td>\n",
       "      <td>612.697</td>\n",
       "      <td>327582.000</td>\n",
       "      <td>17.500</td>\n",
       "      <td>17.500</td>\n",
       "      <td>0.476</td>\n",
       "      <td>10.000</td>\n",
       "    </tr>\n",
       "    <tr>\n",
       "      <th>2</th>\n",
       "      <td>Afghanistan</td>\n",
       "      <td>2013</td>\n",
       "      <td>Developing</td>\n",
       "      <td>59.900</td>\n",
       "      <td>268.000</td>\n",
       "      <td>66</td>\n",
       "      <td>0.010</td>\n",
       "      <td>73.219</td>\n",
       "      <td>64.000</td>\n",
       "      <td>430</td>\n",
       "      <td>...</td>\n",
       "      <td>62.000</td>\n",
       "      <td>8.130</td>\n",
       "      <td>64.000</td>\n",
       "      <td>0.100</td>\n",
       "      <td>631.745</td>\n",
       "      <td>31731688.000</td>\n",
       "      <td>17.700</td>\n",
       "      <td>17.700</td>\n",
       "      <td>0.470</td>\n",
       "      <td>9.900</td>\n",
       "    </tr>\n",
       "    <tr>\n",
       "      <th>3</th>\n",
       "      <td>Afghanistan</td>\n",
       "      <td>2012</td>\n",
       "      <td>Developing</td>\n",
       "      <td>59.500</td>\n",
       "      <td>272.000</td>\n",
       "      <td>69</td>\n",
       "      <td>0.010</td>\n",
       "      <td>78.184</td>\n",
       "      <td>67.000</td>\n",
       "      <td>2787</td>\n",
       "      <td>...</td>\n",
       "      <td>67.000</td>\n",
       "      <td>8.520</td>\n",
       "      <td>67.000</td>\n",
       "      <td>0.100</td>\n",
       "      <td>669.959</td>\n",
       "      <td>3696958.000</td>\n",
       "      <td>17.900</td>\n",
       "      <td>18.000</td>\n",
       "      <td>0.463</td>\n",
       "      <td>9.800</td>\n",
       "    </tr>\n",
       "    <tr>\n",
       "      <th>4</th>\n",
       "      <td>Afghanistan</td>\n",
       "      <td>2011</td>\n",
       "      <td>Developing</td>\n",
       "      <td>59.200</td>\n",
       "      <td>275.000</td>\n",
       "      <td>71</td>\n",
       "      <td>0.010</td>\n",
       "      <td>7.097</td>\n",
       "      <td>68.000</td>\n",
       "      <td>3013</td>\n",
       "      <td>...</td>\n",
       "      <td>68.000</td>\n",
       "      <td>7.870</td>\n",
       "      <td>68.000</td>\n",
       "      <td>0.100</td>\n",
       "      <td>63.537</td>\n",
       "      <td>2978599.000</td>\n",
       "      <td>18.200</td>\n",
       "      <td>18.200</td>\n",
       "      <td>0.454</td>\n",
       "      <td>9.500</td>\n",
       "    </tr>\n",
       "  </tbody>\n",
       "</table>\n",
       "<p>5 rows × 22 columns</p>\n",
       "</div>"
      ],
      "text/plain": [
       "       Country  Year      Status  Life expectancy   Adult Mortality  \\\n",
       "0  Afghanistan  2015  Developing            65.000          263.000   \n",
       "1  Afghanistan  2014  Developing            59.900          271.000   \n",
       "2  Afghanistan  2013  Developing            59.900          268.000   \n",
       "3  Afghanistan  2012  Developing            59.500          272.000   \n",
       "4  Afghanistan  2011  Developing            59.200          275.000   \n",
       "\n",
       "   infant deaths  Alcohol  percentage expenditure  Hepatitis B  Measles   \\\n",
       "0             62    0.010                  71.280       65.000      1154   \n",
       "1             64    0.010                  73.524       62.000       492   \n",
       "2             66    0.010                  73.219       64.000       430   \n",
       "3             69    0.010                  78.184       67.000      2787   \n",
       "4             71    0.010                   7.097       68.000      3013   \n",
       "\n",
       "     ...      Polio  Total expenditure  Diphtheria    HIV/AIDS     GDP  \\\n",
       "0    ...      6.000              8.160       65.000      0.100 584.259   \n",
       "1    ...     58.000              8.180       62.000      0.100 612.697   \n",
       "2    ...     62.000              8.130       64.000      0.100 631.745   \n",
       "3    ...     67.000              8.520       67.000      0.100 669.959   \n",
       "4    ...     68.000              7.870       68.000      0.100  63.537   \n",
       "\n",
       "    Population   thinness  1-19 years   thinness 5-9 years  \\\n",
       "0 33736494.000                 17.200               17.300   \n",
       "1   327582.000                 17.500               17.500   \n",
       "2 31731688.000                 17.700               17.700   \n",
       "3  3696958.000                 17.900               18.000   \n",
       "4  2978599.000                 18.200               18.200   \n",
       "\n",
       "   Income composition of resources  Schooling  \n",
       "0                            0.479     10.100  \n",
       "1                            0.476     10.000  \n",
       "2                            0.470      9.900  \n",
       "3                            0.463      9.800  \n",
       "4                            0.454      9.500  \n",
       "\n",
       "[5 rows x 22 columns]"
      ]
     },
     "execution_count": 2,
     "metadata": {},
     "output_type": "execute_result"
    }
   ],
   "source": [
    "LifeExpectancyData = pd.read_csv('data/LifeExpectancyData.csv')\n",
    "LifeExpectancyData.head()"
   ]
  },
  {
   "cell_type": "code",
   "execution_count": 3,
   "metadata": {},
   "outputs": [
    {
     "name": "stdout",
     "output_type": "stream",
     "text": [
      "<class 'pandas.core.frame.DataFrame'>\n",
      "RangeIndex: 2938 entries, 0 to 2937\n",
      "Data columns (total 22 columns):\n",
      "Country                            2938 non-null object\n",
      "Year                               2938 non-null int64\n",
      "Status                             2938 non-null object\n",
      "Life expectancy                    2928 non-null float64\n",
      "Adult Mortality                    2928 non-null float64\n",
      "infant deaths                      2938 non-null int64\n",
      "Alcohol                            2744 non-null float64\n",
      "percentage expenditure             2938 non-null float64\n",
      "Hepatitis B                        2385 non-null float64\n",
      "Measles                            2938 non-null int64\n",
      " BMI                               2904 non-null float64\n",
      "under-five deaths                  2938 non-null int64\n",
      "Polio                              2919 non-null float64\n",
      "Total expenditure                  2712 non-null float64\n",
      "Diphtheria                         2919 non-null float64\n",
      " HIV/AIDS                          2938 non-null float64\n",
      "GDP                                2490 non-null float64\n",
      "Population                         2286 non-null float64\n",
      " thinness  1-19 years              2904 non-null float64\n",
      " thinness 5-9 years                2904 non-null float64\n",
      "Income composition of resources    2771 non-null float64\n",
      "Schooling                          2775 non-null float64\n",
      "dtypes: float64(16), int64(4), object(2)\n",
      "memory usage: 505.0+ KB\n"
     ]
    }
   ],
   "source": [
    "LifeExpectancyData.info()"
   ]
  },
  {
   "cell_type": "code",
   "execution_count": 4,
   "metadata": {},
   "outputs": [
    {
     "data": {
      "text/plain": [
       "Country                              0\n",
       "Year                                 0\n",
       "Status                               0\n",
       "Life expectancy                     10\n",
       "Adult Mortality                     10\n",
       "infant deaths                        0\n",
       "Alcohol                            194\n",
       "percentage expenditure               0\n",
       "Hepatitis B                        553\n",
       "Measles                              0\n",
       " BMI                                34\n",
       "under-five deaths                    0\n",
       "Polio                               19\n",
       "Total expenditure                  226\n",
       "Diphtheria                          19\n",
       " HIV/AIDS                            0\n",
       "GDP                                448\n",
       "Population                         652\n",
       " thinness  1-19 years               34\n",
       " thinness 5-9 years                 34\n",
       "Income composition of resources    167\n",
       "Schooling                          163\n",
       "dtype: int64"
      ]
     },
     "execution_count": 4,
     "metadata": {},
     "output_type": "execute_result"
    }
   ],
   "source": [
    "LifeExpectancyData.isnull().sum()"
   ]
  },
  {
   "cell_type": "markdown",
   "metadata": {},
   "source": [
    "We have a lot of missing population values in  many countries. We alsa have GDP values from population for each countries as well. Therefore, I preferred to drop coloumn from data frame."
   ]
  },
  {
   "cell_type": "code",
   "execution_count": 5,
   "metadata": {},
   "outputs": [
    {
     "data": {
      "text/plain": [
       "Index(['Country', 'Year', 'Status', 'Life expectancy ', 'Adult Mortality',\n",
       "       'infant deaths', 'Alcohol', 'percentage expenditure', 'Hepatitis B',\n",
       "       'Measles ', ' BMI ', 'under-five deaths ', 'Polio', 'Total expenditure',\n",
       "       'Diphtheria ', ' HIV/AIDS', 'GDP', 'Population',\n",
       "       ' thinness  1-19 years', ' thinness 5-9 years',\n",
       "       'Income composition of resources', 'Schooling'],\n",
       "      dtype='object')"
      ]
     },
     "execution_count": 5,
     "metadata": {},
     "output_type": "execute_result"
    }
   ],
   "source": [
    "LifeExpectancyData.columns "
   ]
  },
  {
   "cell_type": "code",
   "execution_count": 6,
   "metadata": {},
   "outputs": [],
   "source": [
    "LifeExpectancyData.columns= ['Country', 'Year', 'Status', 'Life_Expectancy', 'Adult_Mortality',\n",
    "       'infant_deaths', 'Alcohol', 'percentage_expenditure', 'Hepatitis_B',\n",
    "       'Measles', 'BMI', 'under_five_deaths', 'Polio', 'Total_Expenditure',\n",
    "       'Diphtheria', 'HIV/AIDS', 'GDP','Population', 'thinness_1_19_years', 'thinness_5_9_years',\n",
    "       'Income_composition_of_resources', 'Schooling']"
   ]
  },
  {
   "cell_type": "code",
   "execution_count": 7,
   "metadata": {},
   "outputs": [],
   "source": [
    "bos_hucre_toplam = LifeExpectancyData.isnull().sum()\n",
    "bos_hucre_yuzde = LifeExpectancyData.isnull().sum()/LifeExpectancyData.isnull().count()\n",
    "bos_degerler = pd.concat([bos_hucre_toplam, bos_hucre_yuzde], axis=1, keys=['bos_toplam', 'bos_yuzde'])\n",
    "bos_degerler = bos_degerler.sort_values('bos_toplam', ascending=False)"
   ]
  },
  {
   "cell_type": "code",
   "execution_count": 8,
   "metadata": {},
   "outputs": [],
   "source": [
    "def bos_hucre(LifeExpectancyData):\n",
    "    bos_hucre_toplam = LifeExpectancyData.isnull().sum()\n",
    "    bos_hucre_yuzde = LifeExpectancyData.isnull().sum()/LifeExpectancyData.isnull().count()\n",
    "    bos_degerler = pd.concat([bos_hucre_toplam, bos_hucre_yuzde], axis=1, keys=['bos_toplam', 'bos_yuzde'])\n",
    "    bos_degerler = bos_degerler.sort_values('bos_toplam', ascending=False)\n",
    "    return bos_degerler[bos_degerler['bos_toplam'] > 0]"
   ]
  },
  {
   "cell_type": "code",
   "execution_count": 9,
   "metadata": {},
   "outputs": [
    {
     "data": {
      "text/plain": [
       "<matplotlib.axes._subplots.AxesSubplot at 0x20ac1243550>"
      ]
     },
     "execution_count": 9,
     "metadata": {},
     "output_type": "execute_result"
    },
    {
     "data": {
      "image/png": "[encoded data removed]",
      "text/plain": [
       "<Figure size 432x288 with 2 Axes>"
      ]
     },
     "metadata": {
      "needs_background": "light"
     },
     "output_type": "display_data"
    }
   ],
   "source": [
    "sns.heatmap(LifeExpectancyData.isnull(),cmap='viridis')"
   ]
  },
  {
   "cell_type": "markdown",
   "metadata": {},
   "source": [
    "**4.a. Importing an Extarnel Data Frame**\n",
    "\n",
    "***Further steps requires extra tools to compare and to group row data for cleaning and filling Null values. Therefore, I imported another data frame with neccessary columns.**"
   ]
  },
  {
   "cell_type": "code",
   "execution_count": 10,
   "metadata": {},
   "outputs": [],
   "source": [
    "regions = pd.read_csv('./data/all.csv')"
   ]
  },
  {
   "cell_type": "code",
   "execution_count": 11,
   "metadata": {},
   "outputs": [
    {
     "data": {
      "text/html": [
       "<div>\n",
       "<style scoped>\n",
       "    .dataframe tbody tr th:only-of-type {\n",
       "        vertical-align: middle;\n",
       "    }\n",
       "\n",
       "    .dataframe tbody tr th {\n",
       "        vertical-align: top;\n",
       "    }\n",
       "\n",
       "    .dataframe thead th {\n",
       "        text-align: right;\n",
       "    }\n",
       "</style>\n",
       "<table border=\"1\" class=\"dataframe\">\n",
       "  <thead>\n",
       "    <tr style=\"text-align: right;\">\n",
       "      <th></th>\n",
       "      <th>name</th>\n",
       "      <th>alpha-2</th>\n",
       "      <th>alpha-3</th>\n",
       "      <th>country-code</th>\n",
       "      <th>iso_3166-2</th>\n",
       "      <th>region</th>\n",
       "      <th>sub-region</th>\n",
       "      <th>intermediate-region</th>\n",
       "      <th>region-code</th>\n",
       "      <th>sub-region-code</th>\n",
       "      <th>intermediate-region-code</th>\n",
       "    </tr>\n",
       "  </thead>\n",
       "  <tbody>\n",
       "    <tr>\n",
       "      <th>0</th>\n",
       "      <td>Afghanistan</td>\n",
       "      <td>AF</td>\n",
       "      <td>AFG</td>\n",
       "      <td>4</td>\n",
       "      <td>ISO 3166-2:AF</td>\n",
       "      <td>Asia</td>\n",
       "      <td>Southern Asia</td>\n",
       "      <td>NaN</td>\n",
       "      <td>142.000</td>\n",
       "      <td>34.000</td>\n",
       "      <td>nan</td>\n",
       "    </tr>\n",
       "    <tr>\n",
       "      <th>1</th>\n",
       "      <td>Åland Islands</td>\n",
       "      <td>AX</td>\n",
       "      <td>ALA</td>\n",
       "      <td>248</td>\n",
       "      <td>ISO 3166-2:AX</td>\n",
       "      <td>Europe</td>\n",
       "      <td>Northern Europe</td>\n",
       "      <td>NaN</td>\n",
       "      <td>150.000</td>\n",
       "      <td>154.000</td>\n",
       "      <td>nan</td>\n",
       "    </tr>\n",
       "    <tr>\n",
       "      <th>2</th>\n",
       "      <td>Albania</td>\n",
       "      <td>AL</td>\n",
       "      <td>ALB</td>\n",
       "      <td>8</td>\n",
       "      <td>ISO 3166-2:AL</td>\n",
       "      <td>Europe</td>\n",
       "      <td>Southern Europe</td>\n",
       "      <td>NaN</td>\n",
       "      <td>150.000</td>\n",
       "      <td>39.000</td>\n",
       "      <td>nan</td>\n",
       "    </tr>\n",
       "    <tr>\n",
       "      <th>3</th>\n",
       "      <td>Algeria</td>\n",
       "      <td>DZ</td>\n",
       "      <td>DZA</td>\n",
       "      <td>12</td>\n",
       "      <td>ISO 3166-2:DZ</td>\n",
       "      <td>Africa</td>\n",
       "      <td>Northern Africa</td>\n",
       "      <td>NaN</td>\n",
       "      <td>2.000</td>\n",
       "      <td>15.000</td>\n",
       "      <td>nan</td>\n",
       "    </tr>\n",
       "    <tr>\n",
       "      <th>4</th>\n",
       "      <td>American Samoa</td>\n",
       "      <td>AS</td>\n",
       "      <td>ASM</td>\n",
       "      <td>16</td>\n",
       "      <td>ISO 3166-2:AS</td>\n",
       "      <td>Oceania</td>\n",
       "      <td>Polynesia</td>\n",
       "      <td>NaN</td>\n",
       "      <td>9.000</td>\n",
       "      <td>61.000</td>\n",
       "      <td>nan</td>\n",
       "    </tr>\n",
       "  </tbody>\n",
       "</table>\n",
       "</div>"
      ],
      "text/plain": [
       "             name alpha-2 alpha-3  country-code     iso_3166-2   region  \\\n",
       "0     Afghanistan      AF     AFG             4  ISO 3166-2:AF     Asia   \n",
       "1   Åland Islands      AX     ALA           248  ISO 3166-2:AX   Europe   \n",
       "2         Albania      AL     ALB             8  ISO 3166-2:AL   Europe   \n",
       "3         Algeria      DZ     DZA            12  ISO 3166-2:DZ   Africa   \n",
       "4  American Samoa      AS     ASM            16  ISO 3166-2:AS  Oceania   \n",
       "\n",
       "        sub-region intermediate-region  region-code  sub-region-code  \\\n",
       "0    Southern Asia                 NaN      142.000           34.000   \n",
       "1  Northern Europe                 NaN      150.000          154.000   \n",
       "2  Southern Europe                 NaN      150.000           39.000   \n",
       "3  Northern Africa                 NaN        2.000           15.000   \n",
       "4        Polynesia                 NaN        9.000           61.000   \n",
       "\n",
       "   intermediate-region-code  \n",
       "0                       nan  \n",
       "1                       nan  \n",
       "2                       nan  \n",
       "3                       nan  \n",
       "4                       nan  "
      ]
     },
     "execution_count": 11,
     "metadata": {},
     "output_type": "execute_result"
    }
   ],
   "source": [
    "regions.head()"
   ]
  },
  {
   "cell_type": "code",
   "execution_count": 12,
   "metadata": {},
   "outputs": [
    {
     "data": {
      "text/plain": [
       "name          0\n",
       "region        1\n",
       "sub-region    1\n",
       "dtype: int64"
      ]
     },
     "execution_count": 12,
     "metadata": {},
     "output_type": "execute_result"
    }
   ],
   "source": [
    "regions[['name', 'region', 'sub-region']].isnull().sum()"
   ]
  },
  {
   "cell_type": "code",
   "execution_count": 13,
   "metadata": {},
   "outputs": [
    {
     "data": {
      "text/plain": [
       "Index(['name', 'alpha-2', 'alpha-3', 'country-code', 'iso_3166-2', 'region',\n",
       "       'sub-region', 'intermediate-region', 'region-code', 'sub-region-code',\n",
       "       'intermediate-region-code'],\n",
       "      dtype='object')"
      ]
     },
     "execution_count": 13,
     "metadata": {},
     "output_type": "execute_result"
    }
   ],
   "source": [
    "regions.columns"
   ]
  },
  {
   "cell_type": "markdown",
   "metadata": {},
   "source": [
    "**4.b. Merging two data frame in one, LifeExpectancyData_merged, will help us to fill in accurately.**"
   ]
  },
  {
   "cell_type": "code",
   "execution_count": 14,
   "metadata": {},
   "outputs": [],
   "source": [
    "LifeExpectancyData_merged = pd.merge(LifeExpectancyData, regions[['name', 'region', 'sub-region']], left_on='Country', right_on='name')"
   ]
  },
  {
   "cell_type": "code",
   "execution_count": 15,
   "metadata": {
    "scrolled": true
   },
   "outputs": [
    {
     "data": {
      "text/html": [
       "<div>\n",
       "<style scoped>\n",
       "    .dataframe tbody tr th:only-of-type {\n",
       "        vertical-align: middle;\n",
       "    }\n",
       "\n",
       "    .dataframe tbody tr th {\n",
       "        vertical-align: top;\n",
       "    }\n",
       "\n",
       "    .dataframe thead th {\n",
       "        text-align: right;\n",
       "    }\n",
       "</style>\n",
       "<table border=\"1\" class=\"dataframe\">\n",
       "  <thead>\n",
       "    <tr style=\"text-align: right;\">\n",
       "      <th></th>\n",
       "      <th>bos_toplam</th>\n",
       "      <th>bos_yuzde</th>\n",
       "    </tr>\n",
       "  </thead>\n",
       "  <tbody>\n",
       "    <tr>\n",
       "      <th>Population</th>\n",
       "      <td>556</td>\n",
       "      <td>0.197</td>\n",
       "    </tr>\n",
       "    <tr>\n",
       "      <th>Hepatitis_B</th>\n",
       "      <td>536</td>\n",
       "      <td>0.190</td>\n",
       "    </tr>\n",
       "    <tr>\n",
       "      <th>GDP</th>\n",
       "      <td>352</td>\n",
       "      <td>0.125</td>\n",
       "    </tr>\n",
       "    <tr>\n",
       "      <th>Total_Expenditure</th>\n",
       "      <td>204</td>\n",
       "      <td>0.072</td>\n",
       "    </tr>\n",
       "    <tr>\n",
       "      <th>Alcohol</th>\n",
       "      <td>187</td>\n",
       "      <td>0.066</td>\n",
       "    </tr>\n",
       "    <tr>\n",
       "      <th>Income_composition_of_resources</th>\n",
       "      <td>87</td>\n",
       "      <td>0.031</td>\n",
       "    </tr>\n",
       "    <tr>\n",
       "      <th>Schooling</th>\n",
       "      <td>83</td>\n",
       "      <td>0.029</td>\n",
       "    </tr>\n",
       "    <tr>\n",
       "      <th>BMI</th>\n",
       "      <td>34</td>\n",
       "      <td>0.012</td>\n",
       "    </tr>\n",
       "    <tr>\n",
       "      <th>thinness_5_9_years</th>\n",
       "      <td>34</td>\n",
       "      <td>0.012</td>\n",
       "    </tr>\n",
       "    <tr>\n",
       "      <th>thinness_1_19_years</th>\n",
       "      <td>34</td>\n",
       "      <td>0.012</td>\n",
       "    </tr>\n",
       "    <tr>\n",
       "      <th>Polio</th>\n",
       "      <td>19</td>\n",
       "      <td>0.007</td>\n",
       "    </tr>\n",
       "    <tr>\n",
       "      <th>Diphtheria</th>\n",
       "      <td>19</td>\n",
       "      <td>0.007</td>\n",
       "    </tr>\n",
       "    <tr>\n",
       "      <th>Life_Expectancy</th>\n",
       "      <td>10</td>\n",
       "      <td>0.004</td>\n",
       "    </tr>\n",
       "    <tr>\n",
       "      <th>Adult_Mortality</th>\n",
       "      <td>10</td>\n",
       "      <td>0.004</td>\n",
       "    </tr>\n",
       "  </tbody>\n",
       "</table>\n",
       "</div>"
      ],
      "text/plain": [
       "                                 bos_toplam  bos_yuzde\n",
       "Population                              556      0.197\n",
       "Hepatitis_B                             536      0.190\n",
       "GDP                                     352      0.125\n",
       "Total_Expenditure                       204      0.072\n",
       "Alcohol                                 187      0.066\n",
       "Income_composition_of_resources          87      0.031\n",
       "Schooling                                83      0.029\n",
       "BMI                                      34      0.012\n",
       "thinness_5_9_years                       34      0.012\n",
       "thinness_1_19_years                      34      0.012\n",
       "Polio                                    19      0.007\n",
       "Diphtheria                               19      0.007\n",
       "Life_Expectancy                          10      0.004\n",
       "Adult_Mortality                          10      0.004"
      ]
     },
     "execution_count": 15,
     "metadata": {},
     "output_type": "execute_result"
    }
   ],
   "source": [
    "bos_hucre(LifeExpectancyData_merged)"
   ]
  },
  {
   "cell_type": "code",
   "execution_count": 16,
   "metadata": {
    "scrolled": true
   },
   "outputs": [
    {
     "data": {
      "text/html": [
       "<div>\n",
       "<style scoped>\n",
       "    .dataframe tbody tr th:only-of-type {\n",
       "        vertical-align: middle;\n",
       "    }\n",
       "\n",
       "    .dataframe tbody tr th {\n",
       "        vertical-align: top;\n",
       "    }\n",
       "\n",
       "    .dataframe thead th {\n",
       "        text-align: right;\n",
       "    }\n",
       "</style>\n",
       "<table border=\"1\" class=\"dataframe\">\n",
       "  <thead>\n",
       "    <tr style=\"text-align: right;\">\n",
       "      <th></th>\n",
       "      <th>Country</th>\n",
       "      <th>Year</th>\n",
       "      <th>Status</th>\n",
       "      <th>Life_Expectancy</th>\n",
       "      <th>Adult_Mortality</th>\n",
       "      <th>infant_deaths</th>\n",
       "      <th>Alcohol</th>\n",
       "      <th>percentage_expenditure</th>\n",
       "      <th>Hepatitis_B</th>\n",
       "      <th>Measles</th>\n",
       "      <th>...</th>\n",
       "      <th>HIV/AIDS</th>\n",
       "      <th>GDP</th>\n",
       "      <th>Population</th>\n",
       "      <th>thinness_1_19_years</th>\n",
       "      <th>thinness_5_9_years</th>\n",
       "      <th>Income_composition_of_resources</th>\n",
       "      <th>Schooling</th>\n",
       "      <th>name</th>\n",
       "      <th>region</th>\n",
       "      <th>sub-region</th>\n",
       "    </tr>\n",
       "  </thead>\n",
       "  <tbody>\n",
       "    <tr>\n",
       "      <th>0</th>\n",
       "      <td>Afghanistan</td>\n",
       "      <td>2015</td>\n",
       "      <td>Developing</td>\n",
       "      <td>65.000</td>\n",
       "      <td>263.000</td>\n",
       "      <td>62</td>\n",
       "      <td>0.010</td>\n",
       "      <td>71.280</td>\n",
       "      <td>65.000</td>\n",
       "      <td>1154</td>\n",
       "      <td>...</td>\n",
       "      <td>0.100</td>\n",
       "      <td>584.259</td>\n",
       "      <td>33736494.000</td>\n",
       "      <td>17.200</td>\n",
       "      <td>17.300</td>\n",
       "      <td>0.479</td>\n",
       "      <td>10.100</td>\n",
       "      <td>Afghanistan</td>\n",
       "      <td>Asia</td>\n",
       "      <td>Southern Asia</td>\n",
       "    </tr>\n",
       "    <tr>\n",
       "      <th>1</th>\n",
       "      <td>Afghanistan</td>\n",
       "      <td>2014</td>\n",
       "      <td>Developing</td>\n",
       "      <td>59.900</td>\n",
       "      <td>271.000</td>\n",
       "      <td>64</td>\n",
       "      <td>0.010</td>\n",
       "      <td>73.524</td>\n",
       "      <td>62.000</td>\n",
       "      <td>492</td>\n",
       "      <td>...</td>\n",
       "      <td>0.100</td>\n",
       "      <td>612.697</td>\n",
       "      <td>327582.000</td>\n",
       "      <td>17.500</td>\n",
       "      <td>17.500</td>\n",
       "      <td>0.476</td>\n",
       "      <td>10.000</td>\n",
       "      <td>Afghanistan</td>\n",
       "      <td>Asia</td>\n",
       "      <td>Southern Asia</td>\n",
       "    </tr>\n",
       "    <tr>\n",
       "      <th>2</th>\n",
       "      <td>Afghanistan</td>\n",
       "      <td>2013</td>\n",
       "      <td>Developing</td>\n",
       "      <td>59.900</td>\n",
       "      <td>268.000</td>\n",
       "      <td>66</td>\n",
       "      <td>0.010</td>\n",
       "      <td>73.219</td>\n",
       "      <td>64.000</td>\n",
       "      <td>430</td>\n",
       "      <td>...</td>\n",
       "      <td>0.100</td>\n",
       "      <td>631.745</td>\n",
       "      <td>31731688.000</td>\n",
       "      <td>17.700</td>\n",
       "      <td>17.700</td>\n",
       "      <td>0.470</td>\n",
       "      <td>9.900</td>\n",
       "      <td>Afghanistan</td>\n",
       "      <td>Asia</td>\n",
       "      <td>Southern Asia</td>\n",
       "    </tr>\n",
       "    <tr>\n",
       "      <th>3</th>\n",
       "      <td>Afghanistan</td>\n",
       "      <td>2012</td>\n",
       "      <td>Developing</td>\n",
       "      <td>59.500</td>\n",
       "      <td>272.000</td>\n",
       "      <td>69</td>\n",
       "      <td>0.010</td>\n",
       "      <td>78.184</td>\n",
       "      <td>67.000</td>\n",
       "      <td>2787</td>\n",
       "      <td>...</td>\n",
       "      <td>0.100</td>\n",
       "      <td>669.959</td>\n",
       "      <td>3696958.000</td>\n",
       "      <td>17.900</td>\n",
       "      <td>18.000</td>\n",
       "      <td>0.463</td>\n",
       "      <td>9.800</td>\n",
       "      <td>Afghanistan</td>\n",
       "      <td>Asia</td>\n",
       "      <td>Southern Asia</td>\n",
       "    </tr>\n",
       "    <tr>\n",
       "      <th>4</th>\n",
       "      <td>Afghanistan</td>\n",
       "      <td>2011</td>\n",
       "      <td>Developing</td>\n",
       "      <td>59.200</td>\n",
       "      <td>275.000</td>\n",
       "      <td>71</td>\n",
       "      <td>0.010</td>\n",
       "      <td>7.097</td>\n",
       "      <td>68.000</td>\n",
       "      <td>3013</td>\n",
       "      <td>...</td>\n",
       "      <td>0.100</td>\n",
       "      <td>63.537</td>\n",
       "      <td>2978599.000</td>\n",
       "      <td>18.200</td>\n",
       "      <td>18.200</td>\n",
       "      <td>0.454</td>\n",
       "      <td>9.500</td>\n",
       "      <td>Afghanistan</td>\n",
       "      <td>Asia</td>\n",
       "      <td>Southern Asia</td>\n",
       "    </tr>\n",
       "  </tbody>\n",
       "</table>\n",
       "<p>5 rows × 25 columns</p>\n",
       "</div>"
      ],
      "text/plain": [
       "       Country  Year      Status  Life_Expectancy  Adult_Mortality  \\\n",
       "0  Afghanistan  2015  Developing           65.000          263.000   \n",
       "1  Afghanistan  2014  Developing           59.900          271.000   \n",
       "2  Afghanistan  2013  Developing           59.900          268.000   \n",
       "3  Afghanistan  2012  Developing           59.500          272.000   \n",
       "4  Afghanistan  2011  Developing           59.200          275.000   \n",
       "\n",
       "   infant_deaths  Alcohol  percentage_expenditure  Hepatitis_B  Measles  \\\n",
       "0             62    0.010                  71.280       65.000     1154   \n",
       "1             64    0.010                  73.524       62.000      492   \n",
       "2             66    0.010                  73.219       64.000      430   \n",
       "3             69    0.010                  78.184       67.000     2787   \n",
       "4             71    0.010                   7.097       68.000     3013   \n",
       "\n",
       "       ...        HIV/AIDS     GDP   Population  thinness_1_19_years  \\\n",
       "0      ...           0.100 584.259 33736494.000               17.200   \n",
       "1      ...           0.100 612.697   327582.000               17.500   \n",
       "2      ...           0.100 631.745 31731688.000               17.700   \n",
       "3      ...           0.100 669.959  3696958.000               17.900   \n",
       "4      ...           0.100  63.537  2978599.000               18.200   \n",
       "\n",
       "   thinness_5_9_years  Income_composition_of_resources  Schooling  \\\n",
       "0              17.300                            0.479     10.100   \n",
       "1              17.500                            0.476     10.000   \n",
       "2              17.700                            0.470      9.900   \n",
       "3              18.000                            0.463      9.800   \n",
       "4              18.200                            0.454      9.500   \n",
       "\n",
       "          name  region     sub-region  \n",
       "0  Afghanistan    Asia  Southern Asia  \n",
       "1  Afghanistan    Asia  Southern Asia  \n",
       "2  Afghanistan    Asia  Southern Asia  \n",
       "3  Afghanistan    Asia  Southern Asia  \n",
       "4  Afghanistan    Asia  Southern Asia  \n",
       "\n",
       "[5 rows x 25 columns]"
      ]
     },
     "execution_count": 16,
     "metadata": {},
     "output_type": "execute_result"
    }
   ],
   "source": [
    "LifeExpectancyData_merged.head()"
   ]
  },
  {
   "cell_type": "markdown",
   "metadata": {},
   "source": [
    "**5. Cleaning of the Row Data**"
   ]
  },
  {
   "cell_type": "markdown",
   "metadata": {},
   "source": [
    "There is a high number of Null values on Population column. We already have GDP values on each countries so I prefered to drop it."
   ]
  },
  {
   "cell_type": "code",
   "execution_count": 17,
   "metadata": {},
   "outputs": [],
   "source": [
    "LifeExpectancyData_merged.drop('Population', inplace=True, axis=1)"
   ]
  },
  {
   "cell_type": "code",
   "execution_count": 18,
   "metadata": {},
   "outputs": [
    {
     "data": {
      "text/plain": [
       "Index(['Country', 'Year', 'Status', 'Life_Expectancy', 'Adult_Mortality',\n",
       "       'infant_deaths', 'Alcohol', 'percentage_expenditure', 'Hepatitis_B',\n",
       "       'Measles', 'BMI', 'under_five_deaths', 'Polio', 'Total_Expenditure',\n",
       "       'Diphtheria', 'HIV/AIDS', 'GDP', 'thinness_1_19_years',\n",
       "       'thinness_5_9_years', 'Income_composition_of_resources', 'Schooling',\n",
       "       'name', 'region', 'sub-region'],\n",
       "      dtype='object')"
      ]
     },
     "execution_count": 18,
     "metadata": {},
     "output_type": "execute_result"
    }
   ],
   "source": [
    "LifeExpectancyData_merged.columns"
   ]
  },
  {
   "cell_type": "code",
   "execution_count": 19,
   "metadata": {},
   "outputs": [],
   "source": [
    "fill_list = (bos_hucre(LifeExpectancyData_merged)).index"
   ]
  },
  {
   "cell_type": "code",
   "execution_count": 20,
   "metadata": {},
   "outputs": [
    {
     "data": {
      "text/html": [
       "<div>\n",
       "<style scoped>\n",
       "    .dataframe tbody tr th:only-of-type {\n",
       "        vertical-align: middle;\n",
       "    }\n",
       "\n",
       "    .dataframe tbody tr th {\n",
       "        vertical-align: top;\n",
       "    }\n",
       "\n",
       "    .dataframe thead th {\n",
       "        text-align: right;\n",
       "    }\n",
       "</style>\n",
       "<table border=\"1\" class=\"dataframe\">\n",
       "  <thead>\n",
       "    <tr style=\"text-align: right;\">\n",
       "      <th></th>\n",
       "      <th>bos_toplam</th>\n",
       "      <th>bos_yuzde</th>\n",
       "    </tr>\n",
       "  </thead>\n",
       "  <tbody>\n",
       "    <tr>\n",
       "      <th>Hepatitis_B</th>\n",
       "      <td>536</td>\n",
       "      <td>0.190</td>\n",
       "    </tr>\n",
       "    <tr>\n",
       "      <th>GDP</th>\n",
       "      <td>352</td>\n",
       "      <td>0.125</td>\n",
       "    </tr>\n",
       "    <tr>\n",
       "      <th>Total_Expenditure</th>\n",
       "      <td>204</td>\n",
       "      <td>0.072</td>\n",
       "    </tr>\n",
       "    <tr>\n",
       "      <th>Alcohol</th>\n",
       "      <td>187</td>\n",
       "      <td>0.066</td>\n",
       "    </tr>\n",
       "    <tr>\n",
       "      <th>Income_composition_of_resources</th>\n",
       "      <td>87</td>\n",
       "      <td>0.031</td>\n",
       "    </tr>\n",
       "    <tr>\n",
       "      <th>Schooling</th>\n",
       "      <td>83</td>\n",
       "      <td>0.029</td>\n",
       "    </tr>\n",
       "    <tr>\n",
       "      <th>BMI</th>\n",
       "      <td>34</td>\n",
       "      <td>0.012</td>\n",
       "    </tr>\n",
       "    <tr>\n",
       "      <th>thinness_5_9_years</th>\n",
       "      <td>34</td>\n",
       "      <td>0.012</td>\n",
       "    </tr>\n",
       "    <tr>\n",
       "      <th>thinness_1_19_years</th>\n",
       "      <td>34</td>\n",
       "      <td>0.012</td>\n",
       "    </tr>\n",
       "    <tr>\n",
       "      <th>Polio</th>\n",
       "      <td>19</td>\n",
       "      <td>0.007</td>\n",
       "    </tr>\n",
       "    <tr>\n",
       "      <th>Diphtheria</th>\n",
       "      <td>19</td>\n",
       "      <td>0.007</td>\n",
       "    </tr>\n",
       "    <tr>\n",
       "      <th>Life_Expectancy</th>\n",
       "      <td>10</td>\n",
       "      <td>0.004</td>\n",
       "    </tr>\n",
       "    <tr>\n",
       "      <th>Adult_Mortality</th>\n",
       "      <td>10</td>\n",
       "      <td>0.004</td>\n",
       "    </tr>\n",
       "  </tbody>\n",
       "</table>\n",
       "</div>"
      ],
      "text/plain": [
       "                                 bos_toplam  bos_yuzde\n",
       "Hepatitis_B                             536      0.190\n",
       "GDP                                     352      0.125\n",
       "Total_Expenditure                       204      0.072\n",
       "Alcohol                                 187      0.066\n",
       "Income_composition_of_resources          87      0.031\n",
       "Schooling                                83      0.029\n",
       "BMI                                      34      0.012\n",
       "thinness_5_9_years                       34      0.012\n",
       "thinness_1_19_years                      34      0.012\n",
       "Polio                                    19      0.007\n",
       "Diphtheria                               19      0.007\n",
       "Life_Expectancy                          10      0.004\n",
       "Adult_Mortality                          10      0.004"
      ]
     },
     "execution_count": 20,
     "metadata": {},
     "output_type": "execute_result"
    }
   ],
   "source": [
    "bos_hucre(LifeExpectancyData_merged)"
   ]
  },
  {
   "cell_type": "markdown",
   "metadata": {},
   "source": [
    "**5. Filling of the Row Data**"
   ]
  },
  {
   "cell_type": "code",
   "execution_count": 21,
   "metadata": {},
   "outputs": [],
   "source": [
    "df_interpolate = LifeExpectancyData_merged.copy()\n",
    "\n",
    "for col in fill_list:\n",
    "    df_interpolate[col] = df_interpolate.groupby(['Country'])[col].transform(lambda x: x.interpolate(limit_direction = 'both'))"
   ]
  },
  {
   "cell_type": "code",
   "execution_count": 22,
   "metadata": {},
   "outputs": [
    {
     "data": {
      "text/html": [
       "<div>\n",
       "<style scoped>\n",
       "    .dataframe tbody tr th:only-of-type {\n",
       "        vertical-align: middle;\n",
       "    }\n",
       "\n",
       "    .dataframe tbody tr th {\n",
       "        vertical-align: top;\n",
       "    }\n",
       "\n",
       "    .dataframe thead th {\n",
       "        text-align: right;\n",
       "    }\n",
       "</style>\n",
       "<table border=\"1\" class=\"dataframe\">\n",
       "  <thead>\n",
       "    <tr style=\"text-align: right;\">\n",
       "      <th></th>\n",
       "      <th>bos_toplam</th>\n",
       "      <th>bos_yuzde</th>\n",
       "    </tr>\n",
       "  </thead>\n",
       "  <tbody>\n",
       "    <tr>\n",
       "      <th>GDP</th>\n",
       "      <td>309</td>\n",
       "      <td>0.109</td>\n",
       "    </tr>\n",
       "    <tr>\n",
       "      <th>Hepatitis_B</th>\n",
       "      <td>144</td>\n",
       "      <td>0.051</td>\n",
       "    </tr>\n",
       "    <tr>\n",
       "      <th>Income_composition_of_resources</th>\n",
       "      <td>87</td>\n",
       "      <td>0.031</td>\n",
       "    </tr>\n",
       "    <tr>\n",
       "      <th>Schooling</th>\n",
       "      <td>83</td>\n",
       "      <td>0.029</td>\n",
       "    </tr>\n",
       "    <tr>\n",
       "      <th>BMI</th>\n",
       "      <td>34</td>\n",
       "      <td>0.012</td>\n",
       "    </tr>\n",
       "    <tr>\n",
       "      <th>thinness_5_9_years</th>\n",
       "      <td>34</td>\n",
       "      <td>0.012</td>\n",
       "    </tr>\n",
       "    <tr>\n",
       "      <th>thinness_1_19_years</th>\n",
       "      <td>34</td>\n",
       "      <td>0.012</td>\n",
       "    </tr>\n",
       "    <tr>\n",
       "      <th>Alcohol</th>\n",
       "      <td>17</td>\n",
       "      <td>0.006</td>\n",
       "    </tr>\n",
       "    <tr>\n",
       "      <th>Total_Expenditure</th>\n",
       "      <td>16</td>\n",
       "      <td>0.006</td>\n",
       "    </tr>\n",
       "    <tr>\n",
       "      <th>Life_Expectancy</th>\n",
       "      <td>10</td>\n",
       "      <td>0.004</td>\n",
       "    </tr>\n",
       "    <tr>\n",
       "      <th>Adult_Mortality</th>\n",
       "      <td>10</td>\n",
       "      <td>0.004</td>\n",
       "    </tr>\n",
       "  </tbody>\n",
       "</table>\n",
       "</div>"
      ],
      "text/plain": [
       "                                 bos_toplam  bos_yuzde\n",
       "GDP                                     309      0.109\n",
       "Hepatitis_B                             144      0.051\n",
       "Income_composition_of_resources          87      0.031\n",
       "Schooling                                83      0.029\n",
       "BMI                                      34      0.012\n",
       "thinness_5_9_years                       34      0.012\n",
       "thinness_1_19_years                      34      0.012\n",
       "Alcohol                                  17      0.006\n",
       "Total_Expenditure                        16      0.006\n",
       "Life_Expectancy                          10      0.004\n",
       "Adult_Mortality                          10      0.004"
      ]
     },
     "execution_count": 22,
     "metadata": {},
     "output_type": "execute_result"
    }
   ],
   "source": [
    "bos_hucre(df_interpolate)"
   ]
  },
  {
   "cell_type": "markdown",
   "metadata": {},
   "source": [
    "****Applying Interpolate on both direction with grouping by Country, does not help on missing values of Total_Expenditure and Alcohol  as there is no information on related countries. Thus, I used interpolte method with grouping by sub-region and Year columns.***"
   ]
  },
  {
   "cell_type": "code",
   "execution_count": 23,
   "metadata": {},
   "outputs": [],
   "source": [
    "for col in fill_list:\n",
    "    df_interpolate[col] = df_interpolate.groupby(['sub-region', 'Year'])[col].transform(lambda x: x.interpolate(limit_direction='both'))"
   ]
  },
  {
   "cell_type": "code",
   "execution_count": 24,
   "metadata": {},
   "outputs": [
    {
     "data": {
      "text/html": [
       "<div>\n",
       "<style scoped>\n",
       "    .dataframe tbody tr th:only-of-type {\n",
       "        vertical-align: middle;\n",
       "    }\n",
       "\n",
       "    .dataframe tbody tr th {\n",
       "        vertical-align: top;\n",
       "    }\n",
       "\n",
       "    .dataframe thead th {\n",
       "        text-align: right;\n",
       "    }\n",
       "</style>\n",
       "<table border=\"1\" class=\"dataframe\">\n",
       "  <thead>\n",
       "    <tr style=\"text-align: right;\">\n",
       "      <th></th>\n",
       "      <th>bos_toplam</th>\n",
       "      <th>bos_yuzde</th>\n",
       "    </tr>\n",
       "  </thead>\n",
       "  <tbody>\n",
       "  </tbody>\n",
       "</table>\n",
       "</div>"
      ],
      "text/plain": [
       "Empty DataFrame\n",
       "Columns: [bos_toplam, bos_yuzde]\n",
       "Index: []"
      ]
     },
     "execution_count": 24,
     "metadata": {},
     "output_type": "execute_result"
    }
   ],
   "source": [
    "bos_hucre(df_interpolate)"
   ]
  },
  {
   "cell_type": "markdown",
   "metadata": {},
   "source": [
    "**8.Training the Model**"
   ]
  },
  {
   "cell_type": "code",
   "execution_count": 41,
   "metadata": {},
   "outputs": [],
   "source": [
    "LifeExpectancyData_num = df_interpolate._get_numeric_data() "
   ]
  },
  {
   "cell_type": "code",
   "execution_count": 42,
   "metadata": {},
   "outputs": [
    {
     "data": {
      "text/plain": [
       "Index(['Schooling', 'Income_composition_of_resources', 'Adult_Mortality',\n",
       "       'HIV/AIDS', 'BMI', 'Diphtheria', 'thinness_1_19_years',\n",
       "       'thinness_5_9_years', 'Polio', 'GDP', 'Alcohol',\n",
       "       'percentage_expenditure', 'Hepatitis_B', 'Total_Expenditure',\n",
       "       'under_five_deaths', 'infant_deaths', 'Year', 'Measles'],\n",
       "      dtype='object')"
      ]
     },
     "execution_count": 42,
     "metadata": {},
     "output_type": "execute_result"
    }
   ],
   "source": [
    "corr_matrix = LifeExpectancyData_num.corr()\n",
    "corr_list = corr_matrix.Life_Expectancy.abs().sort_values(ascending=False).index[1:]\n",
    "corr_list"
   ]
  },
  {
   "cell_type": "code",
   "execution_count": 43,
   "metadata": {
    "scrolled": true
   },
   "outputs": [],
   "source": [
    "y_allValues = LifeExpectancyData_num['Life_Expectancy']\n",
    "X_allValues = LifeExpectancyData_num[corr_list]"
   ]
  },
  {
   "cell_type": "code",
   "execution_count": 44,
   "metadata": {},
   "outputs": [
    {
     "name": "stdout",
     "output_type": "stream",
     "text": [
      "Eğitim kümesindeki gözlem sayısı : 2260\n",
      "Test kümesindeki gözlem sayısı   : 566\n"
     ]
    }
   ],
   "source": [
    "X_train, X_test, y_train, y_test = train_test_split(X_allValues, y_allValues, test_size = 0.2, random_state = 0)\n",
    "\n",
    "print(\"Eğitim kümesindeki gözlem sayısı : {}\".format(X_train.shape[0]))\n",
    "print(\"Test kümesindeki gözlem sayısı   : {}\".format(X_test.shape[0]))"
   ]
  },
  {
   "cell_type": "code",
   "execution_count": 45,
   "metadata": {
    "scrolled": true
   },
   "outputs": [
    {
     "name": "stdout",
     "output_type": "stream",
     "text": [
      "Değişkenler: \n",
      " [ 7.15539191e-01  8.55813497e+00 -1.69144545e-02 -5.60021308e-01\n",
      "  4.02864592e-02  2.29682455e-02 -8.27665606e-02  1.30996467e-02\n",
      "  2.15422299e-02  2.45261209e-05  3.95727325e-02  2.48776603e-04\n",
      "  3.10142885e-04  3.38773843e-02 -6.33437613e-02  8.48885795e-02\n",
      " -5.91888385e-02 -1.39210944e-05]\n",
      "Sabit değer (bias): \n",
      " 172.30871199996673\n"
     ]
    }
   ],
   "source": [
    "tum_degiskenli_model = lm.LinearRegression()\n",
    "results = tum_degiskenli_model.fit(X_train, y_train)\n",
    "y_pred = tum_degiskenli_model.predict(X_test)\n",
    "\n",
    "print('Değişkenler: \\n', tum_degiskenli_model.coef_)\n",
    "print('Sabit değer (bias): \\n', tum_degiskenli_model.intercept_)"
   ]
  },
  {
   "cell_type": "markdown",
   "metadata": {},
   "source": [
    "***P Values from stats***"
   ]
  },
  {
   "cell_type": "code",
   "execution_count": 46,
   "metadata": {},
   "outputs": [
    {
     "data": {
      "text/plain": [
       "array([4.10171798e-17, 4.34003018e-01, 9.99999996e-01, ...,\n",
       "       9.99999995e-01, 9.99999869e-01, 9.99981414e-01])"
      ]
     },
     "execution_count": 46,
     "metadata": {},
     "output_type": "execute_result"
    }
   ],
   "source": [
    "from sklearn.feature_selection import chi2\n",
    "from sklearn.datasets import fetch_20newsgroups_vectorized\n",
    "\n",
    "data = fetch_20newsgroups_vectorized()\n",
    "X_train, y_train = data.data, data.target\n",
    "scores, pvalues = chi2(X_train,y_train)\n",
    "pvalues"
   ]
  },
  {
   "cell_type": "code",
   "execution_count": 47,
   "metadata": {},
   "outputs": [
    {
     "name": "stdout",
     "output_type": "stream",
     "text": [
      "[4.10171798e-017 4.47068275e-003 1.71094182e-015 2.15794155e-003\n",
      " 6.52078400e-006 3.49149205e-005 2.50994003e-002 5.01331939e-006\n",
      " 1.58704579e-004 7.43183314e-007 2.97171749e-004 2.39702024e-003\n",
      " 9.40321606e-005 1.83899913e-002 2.08002838e-002 1.32912372e-002\n",
      " 3.72225461e-020 1.48124101e-003 2.89301654e-002 1.47606931e-011\n",
      " 2.10619038e-003 4.27155339e-002 2.29752802e-008 8.72250857e-003\n",
      " 3.43491383e-010 1.34880706e-005 2.73529586e-012 1.10041535e-003\n",
      " 1.86776729e-002 4.45425132e-002 1.85671991e-004 1.02430208e-002\n",
      " 1.25361927e-005 1.33101543e-004 9.63029202e-006 4.39598305e-002\n",
      " 1.88863823e-005 2.09337914e-030 2.56165778e-008 7.04611561e-019\n",
      " 3.68023343e-011 1.12943978e-002 4.13265339e-015 6.65934712e-019\n",
      " 1.63062410e-023 9.73910317e-022 7.93269192e-003 1.65541685e-002\n",
      " 2.42240757e-002 3.61302110e-003 1.34949770e-002 8.18220127e-010\n",
      " 4.39852079e-002 3.62941881e-012 1.92274977e-020 9.35245892e-004\n",
      " 5.45176914e-024 3.85109465e-013 6.70606250e-003 2.36205491e-002\n",
      " 1.30135200e-003 5.18186336e-010 2.39249794e-002 4.12907143e-005\n",
      " 2.63505758e-003 1.75319789e-026 7.05504177e-003 1.25704924e-007\n",
      " 5.52887909e-003 7.85715232e-005 4.41446298e-004 1.49896300e-034\n",
      " 2.26862277e-034 4.58819454e-013 1.40706738e-002 4.21622251e-003\n",
      " 4.12779478e-008 3.25800112e-008 3.02237282e-003 9.11593476e-003\n",
      " 3.31015883e-007 4.75373590e-002 3.64182374e-002 1.23708813e-016\n",
      " 6.98464420e-004 9.25501111e-076 9.46277077e-003 3.04298355e-019\n",
      " 1.18847508e-003 6.50617169e-007 2.78639469e-002 1.47584732e-002\n",
      " 1.02704813e-003 1.22456518e-004 2.08636448e-012 9.56159283e-003\n",
      " 3.40315960e-004 2.64511326e-008 2.11649131e-003 6.85827454e-009\n",
      " 1.27106385e-004 5.12494461e-005 8.92697641e-003 3.58150657e-002\n",
      " 5.13080498e-004 6.55912576e-006 7.99592466e-003 1.51118432e-003\n",
      " 4.28166916e-011 1.12045137e-002 1.01831027e-006 7.18366221e-004\n",
      " 2.63675179e-004 4.45419515e-002 6.05170170e-021 5.93478585e-003\n",
      " 5.15076948e-007 2.33695943e-007 9.41381882e-003 3.66145824e-006\n",
      " 1.13454744e-002 4.46630204e-006 1.10772684e-016 2.71360959e-005\n",
      " 5.40966503e-004 1.33853902e-002 1.27050103e-003 5.92344693e-072\n",
      " 1.83230726e-019 2.15907149e-002 2.35046614e-029 3.02964323e-002\n",
      " 1.22646649e-004 1.90157698e-006 4.46840156e-005 1.65992565e-008\n",
      " 4.96423014e-003 2.87976625e-015 2.66544673e-005 2.76356178e-002\n",
      " 6.46221721e-008 2.85312424e-002 1.54617410e-002 2.08499955e-034\n",
      " 3.26294005e-002 1.63754852e-016 1.99139756e-020 2.06287839e-009\n",
      " 4.96164540e-022 2.29775337e-017 7.11801555e-007 8.51309146e-011\n",
      " 3.80055558e-003 5.30436350e-003 2.94192941e-002 3.10616990e-003\n",
      " 2.27126405e-004 1.97875441e-013 2.53303698e-002 1.83985073e-005\n",
      " 1.55579080e-003 2.85841662e-003 1.86926810e-013 1.64485129e-076\n",
      " 4.30381375e-002 2.32403393e-006 1.78045496e-002 5.08057164e-007\n",
      " 2.78380362e-005 5.48379524e-004 3.55509344e-007 2.66518200e-005\n",
      " 3.17036457e-002 2.16968006e-002 1.39953577e-013 4.44238733e-002\n",
      " 3.82841041e-021 1.29069223e-002 1.17276356e-002 2.71061879e-002\n",
      " 6.62955869e-007 2.51388262e-002 7.91783302e-003 1.79105072e-008\n",
      " 6.94105643e-003 5.92743882e-033 1.85279029e-002 5.41959355e-003\n",
      " 1.28349697e-002 2.77346051e-002 1.72775956e-003 1.19263667e-021\n",
      " 1.64490873e-008 1.16864173e-010 8.76891204e-006 4.21625400e-002\n",
      " 1.78800560e-007 4.68889016e-003 2.74585202e-002 3.28261613e-002\n",
      " 3.46504791e-002 1.09134718e-003 3.98622001e-002 4.65737903e-003\n",
      " 2.92553562e-006 3.69045295e-002 4.70855300e-002 8.18607539e-005\n",
      " 9.88725977e-012 7.51815257e-003 9.96534069e-004 1.31570095e-012\n",
      " 6.12576927e-013 4.70210408e-002 1.21667990e-003 5.68618970e-007\n",
      " 4.61565037e-002 9.46917356e-010 2.08234101e-012 3.06271779e-008\n",
      " 1.51172260e-002 2.12823433e-004 1.02576768e-002 1.43159681e-004\n",
      " 2.30817680e-004 1.42630306e-010 2.34858300e-050 4.30301158e-003\n",
      " 2.98742384e-007 2.79645757e-002 2.20089432e-018 2.23836457e-005\n",
      " 2.45943398e-025 1.50111614e-010 1.43811186e-010 3.09706999e-006\n",
      " 7.32407316e-005 1.64711635e-004 9.69178238e-008 4.39059953e-003\n",
      " 3.18205715e-011 3.79097804e-002 1.49064900e-015 4.31385903e-004\n",
      " 9.89344595e-003 4.24802640e-004 8.25913880e-006 8.83668631e-004\n",
      " 1.78897964e-003 1.14637521e-006 1.44817356e-003 1.54774122e-003\n",
      " 7.52345985e-003 2.64635286e-010 5.80879199e-063 5.49855228e-003\n",
      " 2.90640779e-009 7.05077797e-006 1.01707515e-026 3.59015818e-002\n",
      " 3.22415597e-002 2.19641607e-011 2.99585834e-002 2.35491942e-003\n",
      " 3.16051258e-003 5.36567825e-012 7.61076953e-004 3.59413198e-002\n",
      " 1.99823049e-009 2.03370462e-003 1.30585809e-004 9.26088700e-013\n",
      " 1.32311178e-004 4.73777806e-002 2.76042050e-005 6.37103324e-020\n",
      " 5.68089157e-016 4.72864811e-004 4.32444301e-004 1.22210507e-004\n",
      " 2.14242506e-015 3.86653862e-002 5.84134731e-004 8.36377836e-007\n",
      " 2.35999218e-006 9.44327556e-006 1.37888593e-003 1.80009216e-006\n",
      " 5.43645725e-005 4.56528077e-007 4.41797678e-003 1.12416952e-004\n",
      " 4.44247024e-016 1.98752786e-002 2.55295449e-005 4.36342656e-002\n",
      " 9.98785897e-006 5.25228525e-004 5.43068158e-031 1.34173749e-015\n",
      " 4.85817868e-002 1.69557185e-003 2.04054395e-011 6.79757830e-004\n",
      " 4.95332228e-038 3.09255979e-005 3.06355171e-003 1.00083733e-005\n",
      " 2.61875820e-002 1.62948311e-004 2.07239720e-003 2.39518467e-002\n",
      " 4.02216208e-006 4.62066901e-004 1.30773581e-003 3.16296042e-004\n",
      " 1.66276271e-003 9.02997365e-004 3.06383163e-004 4.59329818e-068\n",
      " 2.65240247e-003 1.87568412e-028 2.16753635e-004 2.53112818e-016\n",
      " 2.88612214e-040 4.40387121e-002 2.67419391e-003 2.83962956e-002\n",
      " 3.93723814e-004 3.43077032e-003 4.51146408e-003 2.20879021e-002\n",
      " 1.14109353e-014 2.03409983e-059 3.12008012e-029 1.75490491e-003\n",
      " 2.94191769e-003 8.89292777e-008 3.22569606e-006 4.02443115e-002\n",
      " 1.45477821e-004 2.19825976e-002 1.48630475e-005 7.28117496e-003\n",
      " 8.34633312e-003 1.30670000e-004 2.56520282e-003 1.13063381e-030\n",
      " 4.99320034e-002 5.71783871e-005 8.32582338e-005 7.51874461e-004\n",
      " 3.35217720e-010 7.52319338e-004 1.19828354e-002 1.94114924e-002\n",
      " 1.42762446e-021 2.11881147e-005 2.40825222e-003 1.96933594e-002\n",
      " 2.88559215e-005 3.10424025e-004 1.11196022e-004 6.93136865e-010\n",
      " 1.52466336e-004 2.68317718e-008 2.41022016e-056 1.12680132e-004\n",
      " 4.82216525e-002 1.97852398e-005 2.70284195e-003 9.75105197e-007\n",
      " 3.80941586e-003 3.31707323e-002 2.44067483e-003 6.84757012e-004\n",
      " 1.09134718e-003 4.47927829e-005 9.49822483e-010 1.16073561e-027\n",
      " 1.24957522e-003 5.95529586e-006 2.18800453e-008 6.58206489e-012\n",
      " 1.33171918e-006 1.07564820e-002 8.06234812e-007 8.93533586e-003\n",
      " 5.51138161e-003 5.94253617e-004 1.42005516e-010 3.29455257e-003\n",
      " 4.14815472e-007 2.52071277e-014 1.44758522e-003 2.98880683e-003\n",
      " 3.50215081e-005 1.40930638e-008 3.97668089e-013 1.31358003e-002\n",
      " 1.04026422e-011 3.10733545e-011 2.72339741e-010 1.05357516e-069\n",
      " 5.91280584e-057 5.55916296e-008 1.43871183e-003 6.60172911e-003\n",
      " 5.18950290e-012 3.56773202e-003 1.36876862e-010 2.26455555e-003\n",
      " 7.90414888e-005 1.22743782e-003 1.09653655e-030 1.98064493e-005\n",
      " 1.49807684e-010 1.88602048e-021 1.42363739e-002 1.56277972e-002\n",
      " 3.21456301e-002 6.37020696e-004 3.62651338e-002 2.14296790e-003\n",
      " 2.71608427e-006 8.25369072e-003 1.55101861e-002 8.80864261e-003\n",
      " 1.42198190e-017 6.10252595e-003 1.09508441e-035 1.43118804e-002\n",
      " 1.64247979e-004 4.44392388e-002 9.71587736e-011 1.76882226e-066\n",
      " 1.20413226e-019 1.33049061e-002 1.80182872e-003 3.54838260e-002\n",
      " 2.49907226e-002 4.30505580e-008 3.06753163e-007 2.77433568e-002\n",
      " 1.17952237e-003 4.08691022e-002 3.60605435e-002 2.51128817e-002\n",
      " 6.50840160e-014 2.27443957e-004 3.93852732e-004 4.01641383e-013\n",
      " 2.10757799e-008 4.24928848e-014 3.65415354e-017 6.11449629e-009\n",
      " 8.69935067e-008 1.04729565e-005 9.98680890e-008 1.64538239e-002\n",
      " 2.15201515e-006 1.94427906e-002 2.07422595e-004 3.68711545e-024\n",
      " 1.16754557e-004 5.70564482e-003 1.33766606e-010 2.86917768e-003\n",
      " 8.39564022e-045 1.22445080e-002 5.15165820e-003 4.89571761e-003\n",
      " 1.68276942e-004 1.95891913e-002 1.68602933e-004 3.81353725e-002\n",
      " 4.79799847e-005 3.32499715e-003 4.17567454e-002 2.21234097e-002\n",
      " 8.32881769e-003 2.59382689e-004 8.88148968e-009 2.15079481e-006\n",
      " 1.56332344e-002 6.68295560e-004 1.47010400e-003 5.71022122e-007\n",
      " 7.73809396e-004 8.69373734e-003 1.49083360e-004 3.45712922e-003\n",
      " 2.99248914e-007 2.06251603e-002 3.47133539e-003 4.99998422e-002\n",
      " 1.94393986e-002 2.66112301e-002 3.66482697e-003 1.05677850e-012\n",
      " 7.13807637e-004 8.07875119e-003 3.31904668e-005 5.78031769e-010\n",
      " 1.99140532e-002 1.29788675e-005 1.52988187e-021 4.79736427e-006\n",
      " 9.91965024e-019 1.12855944e-002 1.21120777e-007 2.17675809e-036\n",
      " 2.94454492e-018 3.35452338e-007 5.91069745e-003 2.06895798e-007\n",
      " 1.03211573e-005 3.40205701e-007 1.39720309e-028 1.03803030e-004\n",
      " 4.37168300e-005 1.37393303e-002 5.98736361e-008 2.85138150e-002\n",
      " 8.61332803e-023 3.71177221e-002 4.84252732e-002 3.53342413e-003\n",
      " 1.30000427e-002 2.47235087e-002 1.16765273e-008 3.76449723e-035\n",
      " 2.68831869e-002 4.30300526e-002 3.91287286e-004 1.99543931e-002\n",
      " 2.49246788e-002 4.56688651e-002 8.77713995e-006 1.24500707e-003\n",
      " 1.69437093e-019 1.74018086e-009 1.56151112e-005 1.32353133e-007\n",
      " 1.94122311e-005 3.65895276e-002 1.46582324e-010 9.17030765e-007\n",
      " 4.17468404e-002 2.54754650e-002 2.22470927e-005 1.67780441e-018\n",
      " 1.00679315e-022 4.74210596e-003 4.51035710e-002 1.30815133e-006\n",
      " 3.43322857e-008 3.38696916e-003 4.74781633e-002 1.46691189e-004\n",
      " 1.39173607e-024 1.35236288e-022 5.35749214e-003 2.10504773e-002\n",
      " 8.53954150e-004 2.53025303e-005 1.63834390e-002 3.50208449e-002\n",
      " 3.32370816e-004 4.61734565e-004 2.20307719e-004 2.91621347e-005\n",
      " 6.15884886e-004 2.37933206e-009 8.13913246e-003 8.95263008e-007\n",
      " 1.24889039e-009 4.02256936e-005 2.24358151e-004 6.31773841e-008\n",
      " 7.80231698e-008 2.59470741e-009 1.94183427e-002 3.03699341e-005\n",
      " 4.56231268e-002 8.14449606e-016 1.51281201e-012 9.85527520e-003\n",
      " 3.48844502e-003 4.35471992e-002 3.51770484e-002 4.26587399e-002\n",
      " 5.19212859e-004 1.85047067e-002 1.01868398e-013 5.09303213e-030\n",
      " 4.35931166e-008 1.87401604e-004 1.31712154e-014 3.80261953e-002\n",
      " 5.86880102e-007 4.57754951e-023 5.82819625e-014 5.90585048e-012\n",
      " 2.18091377e-002 2.76593624e-003 1.12579904e-002 3.67269461e-005\n",
      " 3.38326672e-003 2.46342170e-012 4.58275473e-005 4.77711905e-002\n",
      " 1.64635376e-006 6.46880473e-003 1.60268739e-008 2.84208193e-002\n",
      " 4.27394193e-009 1.00885733e-003 3.26875187e-007 1.06184668e-004\n",
      " 1.04908745e-009 2.92023910e-004 1.96548998e-007 1.70566262e-002\n",
      " 2.09573009e-002 1.06531514e-002 4.01833125e-003 4.72535077e-003\n",
      " 9.19492690e-004 4.12613288e-003 2.78452116e-002 3.66588930e-018\n",
      " 7.57278528e-006 2.85996730e-003 3.12397385e-004 2.26960047e-002\n",
      " 5.54788287e-005 3.75116224e-005 1.94654287e-004 5.37227354e-005\n",
      " 1.91456216e-005 1.81689642e-011 6.36888495e-005 2.20455811e-002\n",
      " 3.78438025e-002 2.33825643e-002 2.21450051e-008 1.13716845e-002\n",
      " 6.03324862e-004 2.60157277e-002 2.28608308e-016 2.90338685e-010\n",
      " 7.36625080e-003 9.24709851e-014 5.74851606e-004 2.12090901e-002\n",
      " 1.58522992e-002 1.40525276e-002 2.83811959e-004 3.71222063e-002\n",
      " 2.63360173e-002 1.22734056e-003 6.90247302e-005 1.10645646e-002\n",
      " 1.78708454e-002 9.17068119e-003 7.82050055e-003 4.48434930e-005\n",
      " 1.87558321e-002 3.47276363e-004 1.22901807e-006 3.07838058e-003\n",
      " 1.98287667e-008 2.20333552e-008 5.38599869e-012 2.29347121e-003\n",
      " 9.95875395e-107 2.66894905e-002 1.76680662e-030 1.72794133e-003\n",
      " 6.21734578e-003 2.00336319e-002 2.74844516e-014 2.02802597e-004\n",
      " 1.35379606e-002 2.54666566e-002 2.53716515e-002 1.29915632e-003\n",
      " 1.20232008e-004 8.98891254e-040 7.54577021e-005 2.95119684e-005\n",
      " 3.07741263e-018 1.26806263e-011 4.32160227e-010 2.21401282e-011\n",
      " 1.88131932e-002 1.96475863e-003 3.26321461e-003 1.60994016e-006\n",
      " 7.48087918e-004 7.65502299e-005 1.93059174e-016 1.99115088e-017\n",
      " 1.30890979e-004 2.26137504e-010 6.65925472e-003 3.20141858e-007\n",
      " 6.23991570e-003 3.97948231e-004 1.81621291e-024 8.87937575e-004\n",
      " 1.76036947e-002 1.75013847e-013 3.47908194e-005 9.64646845e-009\n",
      " 5.23897551e-007 1.76463607e-007 9.27092352e-003 9.72280774e-003\n",
      " 6.60416201e-005 1.82564889e-008 1.23896913e-015 1.77261499e-002\n",
      " 8.03703660e-009 3.37616447e-084 2.04763992e-009 3.67913329e-006\n",
      " 3.81081429e-003 2.41356043e-003 6.64367606e-005 3.19630201e-003\n",
      " 3.05632712e-002 9.97951869e-004 6.21688062e-004 2.05573594e-006\n",
      " 2.78761023e-003 2.64104801e-006 7.41383399e-004 9.26128134e-010\n",
      " 6.12121661e-004 1.11169979e-002 3.72295251e-002 2.62307545e-003\n",
      " 1.52500365e-004 8.53788704e-005 4.79154922e-003 6.67819436e-005\n",
      " 3.10955627e-002 9.43376431e-003 4.27277094e-003 1.14474108e-004\n",
      " 1.05719968e-003 2.67578944e-004 3.76185697e-002 1.47519733e-007\n",
      " 1.37388154e-003 4.65901638e-006 1.32287270e-002 5.17750363e-043\n",
      " 5.79804636e-012 4.55919064e-002 1.49432872e-003 1.03789450e-002\n",
      " 5.71492743e-003 1.58153059e-002 1.60702410e-006 2.06233721e-019\n",
      " 2.48818295e-021 2.30019801e-003 2.46227999e-002 1.80746831e-006\n",
      " 2.70789138e-002 2.96710863e-002 3.79793451e-003 3.44326508e-004\n",
      " 6.26145319e-010 3.27761429e-003 4.18816972e-006 3.18217638e-005\n",
      " 8.48296376e-011 1.15338829e-004 4.92080810e-003 6.40512354e-004\n",
      " 1.11097545e-005 3.37145216e-003 1.68318370e-003 7.94329933e-011\n",
      " 2.57730447e-030 2.46255874e-011 2.57643922e-002 3.81118524e-002\n",
      " 3.06385329e-002 2.73165986e-003 1.42263521e-002 1.10228079e-002\n",
      " 3.57331639e-003 6.20272502e-004 1.78368509e-004 1.26039033e-004\n",
      " 5.55350056e-004 2.62201196e-002 3.26385421e-002 1.28701573e-002\n",
      " 7.13837981e-003 1.71670192e-004 1.37668345e-003 1.07265187e-004\n",
      " 7.82138502e-005 1.46831652e-005 4.68554617e-002 1.72619968e-003\n",
      " 8.16981219e-003 3.24232117e-010 7.84803164e-007 7.45755098e-006\n",
      " 4.84208670e-002 7.36648062e-003 5.59398654e-010 4.38522183e-003\n",
      " 3.12468565e-002 4.01546314e-002 1.42916373e-006 3.16450447e-010\n",
      " 4.19658575e-004 5.99107665e-011 2.11251420e-003 4.12868992e-006\n",
      " 1.70283547e-006 2.86021359e-021 2.49153163e-005 4.23345748e-012\n",
      " 1.93902639e-005 4.34821281e-047 1.91316461e-116 1.44861655e-003\n",
      " 2.17679862e-011 4.50019889e-003 5.73041808e-004 3.38701805e-003\n",
      " 1.63189706e-011 1.62132184e-013 1.50925182e-003 8.77573201e-004\n",
      " 1.18046982e-005 1.18998555e-020 6.16737265e-004 2.53542949e-010\n",
      " 1.36018762e-010 4.00461243e-002 7.88310215e-003 6.11083734e-018\n",
      " 2.23777484e-002 4.58853965e-004 8.48383551e-003 3.19299149e-005\n",
      " 5.15047301e-011 8.73060232e-004 2.46121335e-005 5.55629214e-004\n",
      " 1.03498705e-004 1.93958633e-009 2.29185613e-004 4.24333659e-005\n",
      " 8.41877851e-004]\n"
     ]
    }
   ],
   "source": [
    "pDegeri = pvalues\n",
    "anlamli_degerler = print (pDegeri[pDegeri<= 0.05])\n",
    "anlamli_degerler"
   ]
  },
  {
   "cell_type": "code",
   "execution_count": 48,
   "metadata": {},
   "outputs": [],
   "source": [
    "prediction_error = y_test - y_pred"
   ]
  },
  {
   "cell_type": "code",
   "execution_count": 49,
   "metadata": {},
   "outputs": [],
   "source": [
    "from matplotlib import style\n",
    "style.use('fivethirtyeight')"
   ]
  },
  {
   "cell_type": "code",
   "execution_count": 50,
   "metadata": {},
   "outputs": [
    {
     "data": {
      "image/png": "[encoded data removed]",
      "text/plain": [
       "<Figure size 432x288 with 1 Axes>"
      ]
     },
     "metadata": {},
     "output_type": "display_data"
    }
   ],
   "source": [
    "plt.scatter(y_test, y_pred)\n",
    "plt.plot(y_test, y_test, color=\"red\")\n",
    "plt.xlabel(\"Y Test/Real Values\")\n",
    "plt.ylabel(\"Predicted Y\")\n",
    "plt.title(\"LIFE EXPECTANCY REAL AND REDICTED VALUES\")\n",
    "plt.show()"
   ]
  },
  {
   "cell_type": "code",
   "execution_count": 51,
   "metadata": {},
   "outputs": [
    {
     "name": "stdout",
     "output_type": "stream",
     "text": [
      "Ortalama Mutlak Hata (MAE)        : 2.9324622460831735\n",
      "Ortalama Kare Hata (MSE)          : 15.69344423567842\n",
      "Kök Ortalama Kare Hata (RMSE)     : 3.961495202026429\n",
      "Ortalama Mutlak Yüzde Hata (MAPE) : 4.509099826730088\n"
     ]
    }
   ],
   "source": [
    "print(\"Ortalama Mutlak Hata (MAE)        : {}\".format(mean_absolute_error(y_test, y_pred)))\n",
    "print(\"Ortalama Kare Hata (MSE)          : {}\".format(mse(y_test, y_pred)))\n",
    "print(\"Kök Ortalama Kare Hata (RMSE)     : {}\".format(rmse(y_test, y_pred)))\n",
    "print(\"Ortalama Mutlak Yüzde Hata (MAPE) : {}\".format(np.mean(np.abs((y_test - y_pred) / y_test)) * 100))\n"
   ]
  },
  {
   "cell_type": "code",
   "execution_count": null,
   "metadata": {},
   "outputs": [],
   "source": []
  },
  {
   "cell_type": "code",
   "execution_count": null,
   "metadata": {},
   "outputs": [],
   "source": []
  },
  {
   "cell_type": "code",
   "execution_count": null,
   "metadata": {},
   "outputs": [],
   "source": []
  },
  {
   "cell_type": "code",
   "execution_count": null,
   "metadata": {},
   "outputs": [],
   "source": []
  },
  {
   "cell_type": "code",
   "execution_count": null,
   "metadata": {},
   "outputs": [],
   "source": []
  },
  {
   "cell_type": "code",
   "execution_count": null,
   "metadata": {},
   "outputs": [],
   "source": []
  },
  {
   "cell_type": "code",
   "execution_count": null,
   "metadata": {},
   "outputs": [],
   "source": []
  },
  {
   "cell_type": "code",
   "execution_count": null,
   "metadata": {},
   "outputs": [],
   "source": []
  },
  {
   "cell_type": "code",
   "execution_count": null,
   "metadata": {},
   "outputs": [],
   "source": []
  },
  {
   "cell_type": "code",
   "execution_count": null,
   "metadata": {},
   "outputs": [],
   "source": []
  },
  {
   "cell_type": "code",
   "execution_count": null,
   "metadata": {},
   "outputs": [],
   "source": []
  },
  {
   "cell_type": "code",
   "execution_count": null,
   "metadata": {},
   "outputs": [],
   "source": []
  },
  {
   "cell_type": "code",
   "execution_count": null,
   "metadata": {},
   "outputs": [],
   "source": []
  },
  {
   "cell_type": "code",
   "execution_count": null,
   "metadata": {},
   "outputs": [],
   "source": []
  },
  {
   "cell_type": "code",
   "execution_count": null,
   "metadata": {},
   "outputs": [],
   "source": []
  },
  {
   "cell_type": "code",
   "execution_count": null,
   "metadata": {},
   "outputs": [],
   "source": []
  },
  {
   "cell_type": "code",
   "execution_count": null,
   "metadata": {},
   "outputs": [],
   "source": []
  },
  {
   "cell_type": "code",
   "execution_count": null,
   "metadata": {},
   "outputs": [],
   "source": []
  },
  {
   "cell_type": "code",
   "execution_count": null,
   "metadata": {},
   "outputs": [],
   "source": []
  },
  {
   "cell_type": "code",
   "execution_count": null,
   "metadata": {},
   "outputs": [],
   "source": []
  },
  {
   "cell_type": "code",
   "execution_count": null,
   "metadata": {},
   "outputs": [],
   "source": []
  },
  {
   "cell_type": "code",
   "execution_count": null,
   "metadata": {},
   "outputs": [],
   "source": []
  },
  {
   "cell_type": "code",
   "execution_count": null,
   "metadata": {},
   "outputs": [],
   "source": []
  },
  {
   "cell_type": "code",
   "execution_count": 72,
   "metadata": {},
   "outputs": [],
   "source": [
    "y_allValues = LifeExpectancyData_num['Life_Expectancy']\n",
    "X_allValues = LifeExpectancyData_num[corr_list]"
   ]
  },
  {
   "cell_type": "code",
   "execution_count": 73,
   "metadata": {},
   "outputs": [],
   "source": [
    "X_train, X_test, y_train, y_test = train_test_split(X_allValues, y_allValues, test_size = 0.2, random_state = 0)"
   ]
  },
  {
   "cell_type": "code",
   "execution_count": 59,
   "metadata": {},
   "outputs": [
    {
     "data": {
      "text/html": [
       "<table class=\"simpletable\">\n",
       "<caption>OLS Regression Results</caption>\n",
       "<tr>\n",
       "  <th>Dep. Variable:</th>     <td>Life_Expectancy</td> <th>  R-squared:         </th> <td>   0.825</td> \n",
       "</tr>\n",
       "<tr>\n",
       "  <th>Model:</th>                   <td>OLS</td>       <th>  Adj. R-squared:    </th> <td>   0.823</td> \n",
       "</tr>\n",
       "<tr>\n",
       "  <th>Method:</th>             <td>Least Squares</td>  <th>  F-statistic:       </th> <td>   585.1</td> \n",
       "</tr>\n",
       "<tr>\n",
       "  <th>Date:</th>             <td>Fri, 03 May 2019</td> <th>  Prob (F-statistic):</th>  <td>  0.00</td>  \n",
       "</tr>\n",
       "<tr>\n",
       "  <th>Time:</th>                 <td>22:07:03</td>     <th>  Log-Likelihood:    </th> <td> -6297.3</td> \n",
       "</tr>\n",
       "<tr>\n",
       "  <th>No. Observations:</th>      <td>  2260</td>      <th>  AIC:               </th> <td>1.263e+04</td>\n",
       "</tr>\n",
       "<tr>\n",
       "  <th>Df Residuals:</th>          <td>  2241</td>      <th>  BIC:               </th> <td>1.274e+04</td>\n",
       "</tr>\n",
       "<tr>\n",
       "  <th>Df Model:</th>              <td>    18</td>      <th>                     </th>     <td> </td>    \n",
       "</tr>\n",
       "<tr>\n",
       "  <th>Covariance Type:</th>      <td>nonrobust</td>    <th>                     </th>     <td> </td>    \n",
       "</tr>\n",
       "</table>\n",
       "<table class=\"simpletable\">\n",
       "<tr>\n",
       "                 <td></td>                    <th>coef</th>     <th>std err</th>      <th>t</th>      <th>P>|t|</th>  <th>[0.025</th>    <th>0.975]</th>  \n",
       "</tr>\n",
       "<tr>\n",
       "  <th>const</th>                           <td>  172.3087</td> <td>   39.540</td> <td>    4.358</td> <td> 0.000</td> <td>   94.770</td> <td>  249.848</td>\n",
       "</tr>\n",
       "<tr>\n",
       "  <th>Schooling</th>                       <td>    0.7155</td> <td>    0.047</td> <td>   15.120</td> <td> 0.000</td> <td>    0.623</td> <td>    0.808</td>\n",
       "</tr>\n",
       "<tr>\n",
       "  <th>Income_composition_of_resources</th> <td>    8.5581</td> <td>    0.729</td> <td>   11.735</td> <td> 0.000</td> <td>    7.128</td> <td>    9.988</td>\n",
       "</tr>\n",
       "<tr>\n",
       "  <th>Adult_Mortality</th>                 <td>   -0.0169</td> <td>    0.001</td> <td>  -18.017</td> <td> 0.000</td> <td>   -0.019</td> <td>   -0.015</td>\n",
       "</tr>\n",
       "<tr>\n",
       "  <th>HIV/AIDS</th>                        <td>   -0.5600</td> <td>    0.024</td> <td>  -23.020</td> <td> 0.000</td> <td>   -0.608</td> <td>   -0.512</td>\n",
       "</tr>\n",
       "<tr>\n",
       "  <th>BMI</th>                             <td>    0.0403</td> <td>    0.005</td> <td>    7.416</td> <td> 0.000</td> <td>    0.030</td> <td>    0.051</td>\n",
       "</tr>\n",
       "<tr>\n",
       "  <th>Diphtheria</th>                      <td>    0.0230</td> <td>    0.005</td> <td>    4.325</td> <td> 0.000</td> <td>    0.013</td> <td>    0.033</td>\n",
       "</tr>\n",
       "<tr>\n",
       "  <th>thinness_1_19_years</th>             <td>   -0.0828</td> <td>    0.054</td> <td>   -1.528</td> <td> 0.127</td> <td>   -0.189</td> <td>    0.023</td>\n",
       "</tr>\n",
       "<tr>\n",
       "  <th>thinness_5_9_years</th>              <td>    0.0131</td> <td>    0.053</td> <td>    0.246</td> <td> 0.806</td> <td>   -0.091</td> <td>    0.118</td>\n",
       "</tr>\n",
       "<tr>\n",
       "  <th>Polio</th>                           <td>    0.0215</td> <td>    0.005</td> <td>    4.339</td> <td> 0.000</td> <td>    0.012</td> <td>    0.031</td>\n",
       "</tr>\n",
       "<tr>\n",
       "  <th>GDP</th>                             <td> 2.453e-05</td> <td> 1.22e-05</td> <td>    2.011</td> <td> 0.044</td> <td> 6.15e-07</td> <td> 4.84e-05</td>\n",
       "</tr>\n",
       "<tr>\n",
       "  <th>Alcohol</th>                         <td>    0.0396</td> <td>    0.027</td> <td>    1.469</td> <td> 0.142</td> <td>   -0.013</td> <td>    0.092</td>\n",
       "</tr>\n",
       "<tr>\n",
       "  <th>percentage_expenditure</th>          <td>    0.0002</td> <td> 8.17e-05</td> <td>    3.047</td> <td> 0.002</td> <td> 8.86e-05</td> <td>    0.000</td>\n",
       "</tr>\n",
       "<tr>\n",
       "  <th>Hepatitis_B</th>                     <td>    0.0003</td> <td>    0.004</td> <td>    0.086</td> <td> 0.931</td> <td>   -0.007</td> <td>    0.007</td>\n",
       "</tr>\n",
       "<tr>\n",
       "  <th>Total_Expenditure</th>               <td>    0.0339</td> <td>    0.035</td> <td>    0.957</td> <td> 0.339</td> <td>   -0.036</td> <td>    0.103</td>\n",
       "</tr>\n",
       "<tr>\n",
       "  <th>under_five_deaths</th>               <td>   -0.0633</td> <td>    0.007</td> <td>   -9.504</td> <td> 0.000</td> <td>   -0.076</td> <td>   -0.050</td>\n",
       "</tr>\n",
       "<tr>\n",
       "  <th>infant_deaths</th>                   <td>    0.0849</td> <td>    0.009</td> <td>    9.464</td> <td> 0.000</td> <td>    0.067</td> <td>    0.102</td>\n",
       "</tr>\n",
       "<tr>\n",
       "  <th>Year</th>                            <td>   -0.0592</td> <td>    0.020</td> <td>   -2.994</td> <td> 0.003</td> <td>   -0.098</td> <td>   -0.020</td>\n",
       "</tr>\n",
       "<tr>\n",
       "  <th>Measles</th>                         <td>-1.392e-05</td> <td>    1e-05</td> <td>   -1.387</td> <td> 0.166</td> <td>-3.36e-05</td> <td> 5.77e-06</td>\n",
       "</tr>\n",
       "</table>\n",
       "<table class=\"simpletable\">\n",
       "<tr>\n",
       "  <th>Omnibus:</th>       <td>153.315</td> <th>  Durbin-Watson:     </th> <td>   1.906</td> \n",
       "</tr>\n",
       "<tr>\n",
       "  <th>Prob(Omnibus):</th> <td> 0.000</td>  <th>  Jarque-Bera (JB):  </th> <td> 703.653</td> \n",
       "</tr>\n",
       "<tr>\n",
       "  <th>Skew:</th>          <td> 0.099</td>  <th>  Prob(JB):          </th> <td>1.60e-153</td>\n",
       "</tr>\n",
       "<tr>\n",
       "  <th>Kurtosis:</th>      <td> 5.726</td>  <th>  Cond. No.          </th> <td>7.57e+06</td> \n",
       "</tr>\n",
       "</table><br/><br/>Warnings:<br/>[1] Standard Errors assume that the covariance matrix of the errors is correctly specified.<br/>[2] The condition number is large, 7.57e+06. This might indicate that there are<br/>strong multicollinearity or other numerical problems."
      ],
      "text/plain": [
       "<class 'statsmodels.iolib.summary.Summary'>\n",
       "\"\"\"\n",
       "                            OLS Regression Results                            \n",
       "==============================================================================\n",
       "Dep. Variable:        Life_Expectancy   R-squared:                       0.825\n",
       "Model:                            OLS   Adj. R-squared:                  0.823\n",
       "Method:                 Least Squares   F-statistic:                     585.1\n",
       "Date:                Fri, 03 May 2019   Prob (F-statistic):               0.00\n",
       "Time:                        22:07:03   Log-Likelihood:                -6297.3\n",
       "No. Observations:                2260   AIC:                         1.263e+04\n",
       "Df Residuals:                    2241   BIC:                         1.274e+04\n",
       "Df Model:                          18                                         \n",
       "Covariance Type:            nonrobust                                         \n",
       "===================================================================================================\n",
       "                                      coef    std err          t      P>|t|      [0.025      0.975]\n",
       "---------------------------------------------------------------------------------------------------\n",
       "const                             172.3087     39.540      4.358      0.000      94.770     249.848\n",
       "Schooling                           0.7155      0.047     15.120      0.000       0.623       0.808\n",
       "Income_composition_of_resources     8.5581      0.729     11.735      0.000       7.128       9.988\n",
       "Adult_Mortality                    -0.0169      0.001    -18.017      0.000      -0.019      -0.015\n",
       "HIV/AIDS                           -0.5600      0.024    -23.020      0.000      -0.608      -0.512\n",
       "BMI                                 0.0403      0.005      7.416      0.000       0.030       0.051\n",
       "Diphtheria                          0.0230      0.005      4.325      0.000       0.013       0.033\n",
       "thinness_1_19_years                -0.0828      0.054     -1.528      0.127      -0.189       0.023\n",
       "thinness_5_9_years                  0.0131      0.053      0.246      0.806      -0.091       0.118\n",
       "Polio                               0.0215      0.005      4.339      0.000       0.012       0.031\n",
       "GDP                              2.453e-05   1.22e-05      2.011      0.044    6.15e-07    4.84e-05\n",
       "Alcohol                             0.0396      0.027      1.469      0.142      -0.013       0.092\n",
       "percentage_expenditure              0.0002   8.17e-05      3.047      0.002    8.86e-05       0.000\n",
       "Hepatitis_B                         0.0003      0.004      0.086      0.931      -0.007       0.007\n",
       "Total_Expenditure                   0.0339      0.035      0.957      0.339      -0.036       0.103\n",
       "under_five_deaths                  -0.0633      0.007     -9.504      0.000      -0.076      -0.050\n",
       "infant_deaths                       0.0849      0.009      9.464      0.000       0.067       0.102\n",
       "Year                               -0.0592      0.020     -2.994      0.003      -0.098      -0.020\n",
       "Measles                         -1.392e-05      1e-05     -1.387      0.166   -3.36e-05    5.77e-06\n",
       "==============================================================================\n",
       "Omnibus:                      153.315   Durbin-Watson:                   1.906\n",
       "Prob(Omnibus):                  0.000   Jarque-Bera (JB):              703.653\n",
       "Skew:                           0.099   Prob(JB):                    1.60e-153\n",
       "Kurtosis:                       5.726   Cond. No.                     7.57e+06\n",
       "==============================================================================\n",
       "\n",
       "Warnings:\n",
       "[1] Standard Errors assume that the covariance matrix of the errors is correctly specified.\n",
       "[2] The condition number is large, 7.57e+06. This might indicate that there are\n",
       "strong multicollinearity or other numerical problems.\n",
       "\"\"\""
      ]
     },
     "execution_count": 59,
     "metadata": {},
     "output_type": "execute_result"
    }
   ],
   "source": [
    "X_train = sm.add_constant(X_train)\n",
    "\n",
    "tum_degiskenli_model = sm.OLS(y_train, X_train).fit()\n",
    "\n",
    "tum_degiskenli_model.summary()"
   ]
  },
  {
   "cell_type": "code",
   "execution_count": 60,
   "metadata": {},
   "outputs": [],
   "source": [
    "from matplotlib import style\n",
    "style.use('fivethirtyeight')"
   ]
  },
  {
   "cell_type": "code",
   "execution_count": 61,
   "metadata": {},
   "outputs": [
    {
     "data": {
      "image/png": "[encoded data removed]",
      "text/plain": [
       "<Figure size 600x400 with 1 Axes>"
      ]
     },
     "metadata": {},
     "output_type": "display_data"
    }
   ],
   "source": [
    "X_test = sm.add_constant(X_test)\n",
    "\n",
    "y_preds = tum_degiskenli_model.predict(X_test)\n",
    "\n",
    "plt.figure(dpi = 100)\n",
    "\n",
    "plt.scatter(y_test, y_preds)\n",
    "plt.plot(y_test, y_test, color=\"red\")\n",
    "plt.xlabel(\"Y Test/Real Values\")\n",
    "plt.ylabel(\"Predicted Y\")\n",
    "plt.title(\"LIFE EXPECTANCY REAL AND REDICTED VALUES\")\n",
    "plt.show()"
   ]
  },
  {
   "cell_type": "code",
   "execution_count": 62,
   "metadata": {},
   "outputs": [
    {
     "name": "stdout",
     "output_type": "stream",
     "text": [
      "Ortalama Mutlak Hata (MAE)        : 2.93246224608464\n",
      "Ortalama Kare Hata (MSE)          : 15.693444235675615\n",
      "Kök Ortalama Kare Hata (RMSE)     : 3.961495202026075\n",
      "Ortalama Mutlak Yüzde Hata (MAPE) : 4.5090998267320375\n"
     ]
    }
   ],
   "source": [
    "print(\"Ortalama Mutlak Hata (MAE)        : {}\".format(mean_absolute_error(y_test, y_preds)))\n",
    "print(\"Ortalama Kare Hata (MSE)          : {}\".format(mse(y_test, y_preds)))\n",
    "print(\"Kök Ortalama Kare Hata (RMSE)     : {}\".format(rmse(y_test, y_preds)))\n",
    "print(\"Ortalama Mutlak Yüzde Hata (MAPE) : {}\".format(np.mean(np.abs((y_test - y_preds) / y_test)) * 100))"
   ]
  },
  {
   "cell_type": "code",
   "execution_count": 63,
   "metadata": {},
   "outputs": [
    {
     "data": {
      "text/plain": [
       "19"
      ]
     },
     "execution_count": 63,
     "metadata": {},
     "output_type": "execute_result"
    }
   ],
   "source": [
    "len(tum_degiskenli_model.pvalues)"
   ]
  },
  {
   "cell_type": "code",
   "execution_count": 74,
   "metadata": {},
   "outputs": [
    {
     "ename": "AttributeError",
     "evalue": "'LinearRegression' object has no attribute 'pvalues'",
     "output_type": "error",
     "traceback": [
      "\u001b[1;31m---------------------------------------------------------------------------\u001b[0m",
      "\u001b[1;31mAttributeError\u001b[0m                            Traceback (most recent call last)",
      "\u001b[1;32m<ipython-input-74-3ab1796f75a6>\u001b[0m in \u001b[0;36m<module>\u001b[1;34m\u001b[0m\n\u001b[1;32m----> 1\u001b[1;33m \u001b[0mpDegeri\u001b[0m \u001b[1;33m=\u001b[0m \u001b[0mtum_degiskenli_model\u001b[0m\u001b[1;33m.\u001b[0m\u001b[0mpvalues\u001b[0m\u001b[1;33m\u001b[0m\u001b[1;33m\u001b[0m\u001b[0m\n\u001b[0m\u001b[0;32m      2\u001b[0m \u001b[0manlamli_degerler\u001b[0m \u001b[1;33m=\u001b[0m \u001b[0mlist\u001b[0m\u001b[1;33m(\u001b[0m\u001b[0mpDegeri\u001b[0m\u001b[1;33m[\u001b[0m\u001b[0mpDegeri\u001b[0m\u001b[1;33m<=\u001b[0m \u001b[1;36m0.05\u001b[0m\u001b[1;33m]\u001b[0m\u001b[1;33m.\u001b[0m\u001b[0mindex\u001b[0m\u001b[1;33m)\u001b[0m\u001b[1;33m\u001b[0m\u001b[1;33m\u001b[0m\u001b[0m\n\u001b[0;32m      3\u001b[0m \u001b[0manlamli_degerler\u001b[0m\u001b[1;33m\u001b[0m\u001b[1;33m\u001b[0m\u001b[0m\n",
      "\u001b[1;31mAttributeError\u001b[0m: 'LinearRegression' object has no attribute 'pvalues'"
     ]
    }
   ],
   "source": [
    "pDegeri = tum_degiskenli_model.pvalues\n",
    "anlamli_degerler = list(pDegeri[pDegeri<= 0.05].index)\n",
    "anlamli_degerler"
   ]
  },
  {
   "cell_type": "code",
   "execution_count": 65,
   "metadata": {},
   "outputs": [],
   "source": [
    "anlamli_degerler= anlamli_degerler[1:]"
   ]
  },
  {
   "cell_type": "code",
   "execution_count": 66,
   "metadata": {},
   "outputs": [
    {
     "data": {
      "text/plain": [
       "12"
      ]
     },
     "execution_count": 66,
     "metadata": {},
     "output_type": "execute_result"
    }
   ],
   "source": [
    "len(anlamli_degerler)"
   ]
  },
  {
   "cell_type": "code",
   "execution_count": 67,
   "metadata": {},
   "outputs": [],
   "source": [
    "y_anlamli = LifeExpectancyData_num['Life_Expectancy'] \n",
    "X_anlamli = LifeExpectancyData_num[anlamli_degerler] "
   ]
  },
  {
   "cell_type": "code",
   "execution_count": 68,
   "metadata": {},
   "outputs": [
    {
     "name": "stdout",
     "output_type": "stream",
     "text": [
      "Eğitim kümesindeki gözlem sayısı : 2260\n",
      "Test kümesindeki gözlem sayısı   : 566\n"
     ]
    }
   ],
   "source": [
    "X_train, X_test, y_train, y_test = train_test_split(X_anlamli, y_anlamli, test_size = 0.2, random_state = 500)\n",
    "\n",
    "print(\"Eğitim kümesindeki gözlem sayısı : {}\".format(X_train.shape[0]))\n",
    "print(\"Test kümesindeki gözlem sayısı   : {}\".format(X_test.shape[0]))"
   ]
  },
  {
   "cell_type": "code",
   "execution_count": 69,
   "metadata": {},
   "outputs": [
    {
     "name": "stdout",
     "output_type": "stream",
     "text": [
      "Değişkenler: \n",
      " [ 7.97545252e-01  7.60330770e+00 -1.70039494e-02 -5.40238187e-01\n",
      "  4.94169975e-02  2.54568032e-02  2.23669722e-02  2.48816900e-05\n",
      "  2.57759493e-04 -6.74263029e-02  8.87461314e-02 -5.63598044e-02]\n",
      "Sabit değer (bias): \n",
      " 165.66845578440746\n"
     ]
    }
   ],
   "source": [
    "tum_degiskenli_model = lm.LinearRegression()\n",
    "results = tum_degiskenli_model.fit(X_train, y_train)\n",
    "y_pred = tum_degiskenli_model.predict(X_test)\n",
    "\n",
    "print('Değişkenler: \\n', tum_degiskenli_model.coef_)\n",
    "print('Sabit değer (bias): \\n', tum_degiskenli_model.intercept_)"
   ]
  },
  {
   "cell_type": "code",
   "execution_count": 41,
   "metadata": {},
   "outputs": [
    {
     "data": {
      "text/html": [
       "<table class=\"simpletable\">\n",
       "<caption>OLS Regression Results</caption>\n",
       "<tr>\n",
       "  <th>Dep. Variable:</th>     <td>Life_Expectancy</td> <th>  R-squared:         </th> <td>   0.830</td> \n",
       "</tr>\n",
       "<tr>\n",
       "  <th>Model:</th>                   <td>OLS</td>       <th>  Adj. R-squared:    </th> <td>   0.829</td> \n",
       "</tr>\n",
       "<tr>\n",
       "  <th>Method:</th>             <td>Least Squares</td>  <th>  F-statistic:       </th> <td>   914.4</td> \n",
       "</tr>\n",
       "<tr>\n",
       "  <th>Date:</th>             <td>Thu, 02 May 2019</td> <th>  Prob (F-statistic):</th>  <td>  0.00</td>  \n",
       "</tr>\n",
       "<tr>\n",
       "  <th>Time:</th>                 <td>11:06:07</td>     <th>  Log-Likelihood:    </th> <td> -6266.4</td> \n",
       "</tr>\n",
       "<tr>\n",
       "  <th>No. Observations:</th>      <td>  2260</td>      <th>  AIC:               </th> <td>1.256e+04</td>\n",
       "</tr>\n",
       "<tr>\n",
       "  <th>Df Residuals:</th>          <td>  2247</td>      <th>  BIC:               </th> <td>1.263e+04</td>\n",
       "</tr>\n",
       "<tr>\n",
       "  <th>Df Model:</th>              <td>    12</td>      <th>                     </th>     <td> </td>    \n",
       "</tr>\n",
       "<tr>\n",
       "  <th>Covariance Type:</th>      <td>nonrobust</td>    <th>                     </th>     <td> </td>    \n",
       "</tr>\n",
       "</table>\n",
       "<table class=\"simpletable\">\n",
       "<tr>\n",
       "                 <td></td>                    <th>coef</th>     <th>std err</th>      <th>t</th>      <th>P>|t|</th>  <th>[0.025</th>    <th>0.975]</th>  \n",
       "</tr>\n",
       "<tr>\n",
       "  <th>const</th>                           <td>  165.6685</td> <td>   37.177</td> <td>    4.456</td> <td> 0.000</td> <td>   92.763</td> <td>  238.574</td>\n",
       "</tr>\n",
       "<tr>\n",
       "  <th>Schooling</th>                       <td>    0.7975</td> <td>    0.044</td> <td>   18.098</td> <td> 0.000</td> <td>    0.711</td> <td>    0.884</td>\n",
       "</tr>\n",
       "<tr>\n",
       "  <th>Income_composition_of_resources</th> <td>    7.6033</td> <td>    0.691</td> <td>   11.005</td> <td> 0.000</td> <td>    6.248</td> <td>    8.958</td>\n",
       "</tr>\n",
       "<tr>\n",
       "  <th>Adult_Mortality</th>                 <td>   -0.0170</td> <td>    0.001</td> <td>  -18.560</td> <td> 0.000</td> <td>   -0.019</td> <td>   -0.015</td>\n",
       "</tr>\n",
       "<tr>\n",
       "  <th>HIV/AIDS</th>                        <td>   -0.5402</td> <td>    0.023</td> <td>  -23.015</td> <td> 0.000</td> <td>   -0.586</td> <td>   -0.494</td>\n",
       "</tr>\n",
       "<tr>\n",
       "  <th>BMI</th>                             <td>    0.0494</td> <td>    0.005</td> <td>    9.616</td> <td> 0.000</td> <td>    0.039</td> <td>    0.059</td>\n",
       "</tr>\n",
       "<tr>\n",
       "  <th>Diphtheria</th>                      <td>    0.0255</td> <td>    0.005</td> <td>    5.109</td> <td> 0.000</td> <td>    0.016</td> <td>    0.035</td>\n",
       "</tr>\n",
       "<tr>\n",
       "  <th>Polio</th>                           <td>    0.0224</td> <td>    0.005</td> <td>    4.489</td> <td> 0.000</td> <td>    0.013</td> <td>    0.032</td>\n",
       "</tr>\n",
       "<tr>\n",
       "  <th>GDP</th>                             <td> 2.488e-05</td> <td> 1.13e-05</td> <td>    2.197</td> <td> 0.028</td> <td> 2.67e-06</td> <td> 4.71e-05</td>\n",
       "</tr>\n",
       "<tr>\n",
       "  <th>percentage_expenditure</th>          <td>    0.0003</td> <td>  7.6e-05</td> <td>    3.392</td> <td> 0.001</td> <td>    0.000</td> <td>    0.000</td>\n",
       "</tr>\n",
       "<tr>\n",
       "  <th>under_five_deaths</th>               <td>   -0.0674</td> <td>    0.006</td> <td>  -10.694</td> <td> 0.000</td> <td>   -0.080</td> <td>   -0.055</td>\n",
       "</tr>\n",
       "<tr>\n",
       "  <th>infant_deaths</th>                   <td>    0.0887</td> <td>    0.009</td> <td>   10.399</td> <td> 0.000</td> <td>    0.072</td> <td>    0.105</td>\n",
       "</tr>\n",
       "<tr>\n",
       "  <th>Year</th>                            <td>   -0.0564</td> <td>    0.019</td> <td>   -3.036</td> <td> 0.002</td> <td>   -0.093</td> <td>   -0.020</td>\n",
       "</tr>\n",
       "</table>\n",
       "<table class=\"simpletable\">\n",
       "<tr>\n",
       "  <th>Omnibus:</th>       <td>158.909</td> <th>  Durbin-Watson:     </th> <td>   1.962</td> \n",
       "</tr>\n",
       "<tr>\n",
       "  <th>Prob(Omnibus):</th> <td> 0.000</td>  <th>  Jarque-Bera (JB):  </th> <td> 748.807</td> \n",
       "</tr>\n",
       "<tr>\n",
       "  <th>Skew:</th>          <td> 0.111</td>  <th>  Prob(JB):          </th> <td>2.50e-163</td>\n",
       "</tr>\n",
       "<tr>\n",
       "  <th>Kurtosis:</th>      <td> 5.811</td>  <th>  Cond. No.          </th> <td>7.39e+06</td> \n",
       "</tr>\n",
       "</table><br/><br/>Warnings:<br/>[1] Standard Errors assume that the covariance matrix of the errors is correctly specified.<br/>[2] The condition number is large, 7.39e+06. This might indicate that there are<br/>strong multicollinearity or other numerical problems."
      ],
      "text/plain": [
       "<class 'statsmodels.iolib.summary.Summary'>\n",
       "\"\"\"\n",
       "                            OLS Regression Results                            \n",
       "==============================================================================\n",
       "Dep. Variable:        Life_Expectancy   R-squared:                       0.830\n",
       "Model:                            OLS   Adj. R-squared:                  0.829\n",
       "Method:                 Least Squares   F-statistic:                     914.4\n",
       "Date:                Thu, 02 May 2019   Prob (F-statistic):               0.00\n",
       "Time:                        11:06:07   Log-Likelihood:                -6266.4\n",
       "No. Observations:                2260   AIC:                         1.256e+04\n",
       "Df Residuals:                    2247   BIC:                         1.263e+04\n",
       "Df Model:                          12                                         \n",
       "Covariance Type:            nonrobust                                         \n",
       "===================================================================================================\n",
       "                                      coef    std err          t      P>|t|      [0.025      0.975]\n",
       "---------------------------------------------------------------------------------------------------\n",
       "const                             165.6685     37.177      4.456      0.000      92.763     238.574\n",
       "Schooling                           0.7975      0.044     18.098      0.000       0.711       0.884\n",
       "Income_composition_of_resources     7.6033      0.691     11.005      0.000       6.248       8.958\n",
       "Adult_Mortality                    -0.0170      0.001    -18.560      0.000      -0.019      -0.015\n",
       "HIV/AIDS                           -0.5402      0.023    -23.015      0.000      -0.586      -0.494\n",
       "BMI                                 0.0494      0.005      9.616      0.000       0.039       0.059\n",
       "Diphtheria                          0.0255      0.005      5.109      0.000       0.016       0.035\n",
       "Polio                               0.0224      0.005      4.489      0.000       0.013       0.032\n",
       "GDP                              2.488e-05   1.13e-05      2.197      0.028    2.67e-06    4.71e-05\n",
       "percentage_expenditure              0.0003    7.6e-05      3.392      0.001       0.000       0.000\n",
       "under_five_deaths                  -0.0674      0.006    -10.694      0.000      -0.080      -0.055\n",
       "infant_deaths                       0.0887      0.009     10.399      0.000       0.072       0.105\n",
       "Year                               -0.0564      0.019     -3.036      0.002      -0.093      -0.020\n",
       "==============================================================================\n",
       "Omnibus:                      158.909   Durbin-Watson:                   1.962\n",
       "Prob(Omnibus):                  0.000   Jarque-Bera (JB):              748.807\n",
       "Skew:                           0.111   Prob(JB):                    2.50e-163\n",
       "Kurtosis:                       5.811   Cond. No.                     7.39e+06\n",
       "==============================================================================\n",
       "\n",
       "Warnings:\n",
       "[1] Standard Errors assume that the covariance matrix of the errors is correctly specified.\n",
       "[2] The condition number is large, 7.39e+06. This might indicate that there are\n",
       "strong multicollinearity or other numerical problems.\n",
       "\"\"\""
      ]
     },
     "execution_count": 41,
     "metadata": {},
     "output_type": "execute_result"
    }
   ],
   "source": [
    "X_train = sm.add_constant(X_train)\n",
    "\n",
    "anlamli_12degiskenli_model = sm.OLS(y_train, X_train).fit()\n",
    "anlamli_12degiskenli_model.summary()"
   ]
  },
  {
   "cell_type": "code",
   "execution_count": 75,
   "metadata": {},
   "outputs": [
    {
     "ename": "NameError",
     "evalue": "name 'anlamli_12degiskenli_model' is not defined",
     "output_type": "error",
     "traceback": [
      "\u001b[1;31m---------------------------------------------------------------------------\u001b[0m",
      "\u001b[1;31mNameError\u001b[0m                                 Traceback (most recent call last)",
      "\u001b[1;32m<ipython-input-75-5503ff7e45cd>\u001b[0m in \u001b[0;36m<module>\u001b[1;34m\u001b[0m\n\u001b[0;32m      1\u001b[0m \u001b[0mX_test\u001b[0m \u001b[1;33m=\u001b[0m \u001b[0msm\u001b[0m\u001b[1;33m.\u001b[0m\u001b[0madd_constant\u001b[0m\u001b[1;33m(\u001b[0m\u001b[0mX_test\u001b[0m\u001b[1;33m)\u001b[0m\u001b[1;33m\u001b[0m\u001b[1;33m\u001b[0m\u001b[0m\n\u001b[0;32m      2\u001b[0m \u001b[1;33m\u001b[0m\u001b[0m\n\u001b[1;32m----> 3\u001b[1;33m \u001b[0my_preds\u001b[0m \u001b[1;33m=\u001b[0m \u001b[0manlamli_12degiskenli_model\u001b[0m\u001b[1;33m.\u001b[0m\u001b[0mpredict\u001b[0m\u001b[1;33m(\u001b[0m\u001b[0mX_test\u001b[0m\u001b[1;33m)\u001b[0m\u001b[1;33m\u001b[0m\u001b[1;33m\u001b[0m\u001b[0m\n\u001b[0m\u001b[0;32m      4\u001b[0m \u001b[1;33m\u001b[0m\u001b[0m\n\u001b[0;32m      5\u001b[0m \u001b[0mplt\u001b[0m\u001b[1;33m.\u001b[0m\u001b[0mfigure\u001b[0m\u001b[1;33m(\u001b[0m\u001b[0mdpi\u001b[0m \u001b[1;33m=\u001b[0m \u001b[1;36m100\u001b[0m\u001b[1;33m)\u001b[0m\u001b[1;33m\u001b[0m\u001b[1;33m\u001b[0m\u001b[0m\n",
      "\u001b[1;31mNameError\u001b[0m: name 'anlamli_12degiskenli_model' is not defined"
     ]
    }
   ],
   "source": [
    "X_test = sm.add_constant(X_test)\n",
    "\n",
    "y_preds = anlamli_12degiskenli_model.predict(X_test)\n",
    "\n",
    "plt.figure(dpi = 100)\n",
    "\n",
    "plt.scatter(y_test, y_preds)\n",
    "plt.plot(y_test, y_test, color=\"red\")\n",
    "plt.xlabel(\"Y Test/Real Values\")\n",
    "plt.ylabel(\"Predicted Y\")\n",
    "plt.title(\"LIFE EXPECTANCY REAL AND PREDICTED VALUES\")\n",
    "plt.show()"
   ]
  },
  {
   "cell_type": "code",
   "execution_count": 43,
   "metadata": {},
   "outputs": [
    {
     "name": "stdout",
     "output_type": "stream",
     "text": [
      "0.8313145645747545\n",
      "0.830025511192831\n"
     ]
    }
   ],
   "source": [
    "print (tum_degiskenli_model.rsquared)\n",
    "print (anlamli_12degiskenli_model.rsquared) \n"
   ]
  },
  {
   "cell_type": "code",
   "execution_count": 44,
   "metadata": {},
   "outputs": [
    {
     "data": {
      "text/plain": [
       "const                             0.000\n",
       "Schooling                         0.000\n",
       "Income_composition_of_resources   0.000\n",
       "Adult_Mortality                   0.000\n",
       "HIV/AIDS                          0.000\n",
       "BMI                               0.000\n",
       "Diphtheria                        0.000\n",
       "Polio                             0.000\n",
       "GDP                               0.028\n",
       "percentage_expenditure            0.001\n",
       "under_five_deaths                 0.000\n",
       "infant_deaths                     0.000\n",
       "Year                              0.002\n",
       "dtype: float64"
      ]
     },
     "execution_count": 44,
     "metadata": {},
     "output_type": "execute_result"
    }
   ],
   "source": [
    "anlamli_12degiskenli_model.pvalues"
   ]
  },
  {
   "cell_type": "code",
   "execution_count": 45,
   "metadata": {},
   "outputs": [
    {
     "data": {
      "text/plain": [
       "['Schooling',\n",
       " 'Income_composition_of_resources',\n",
       " 'Adult_Mortality',\n",
       " 'HIV/AIDS',\n",
       " 'BMI',\n",
       " 'Diphtheria',\n",
       " 'Polio',\n",
       " 'GDP',\n",
       " 'percentage_expenditure',\n",
       " 'under_five_deaths',\n",
       " 'infant_deaths',\n",
       " 'Year']"
      ]
     },
     "execution_count": 45,
     "metadata": {},
     "output_type": "execute_result"
    }
   ],
   "source": [
    "anlamli_degerler"
   ]
  },
  {
   "cell_type": "markdown",
   "metadata": {},
   "source": [
    "anlamli_degerler listesinde artik sabit olmadigi icin devam edebiliriz."
   ]
  },
  {
   "cell_type": "code",
   "execution_count": 46,
   "metadata": {},
   "outputs": [],
   "source": [
    "X_arttirilmis_anlamli = LifeExpectancyData_num[anlamli_degerler[:10]]\n"
   ]
  },
  {
   "cell_type": "code",
   "execution_count": 47,
   "metadata": {},
   "outputs": [
    {
     "data": {
      "text/plain": [
       "10"
      ]
     },
     "execution_count": 47,
     "metadata": {},
     "output_type": "execute_result"
    }
   ],
   "source": [
    "len(anlamli_degerler[:10])"
   ]
  },
  {
   "cell_type": "code",
   "execution_count": 48,
   "metadata": {},
   "outputs": [
    {
     "name": "stdout",
     "output_type": "stream",
     "text": [
      "Eğitim kümesindeki gözlem sayısı : 2260\n",
      "Test kümesindeki gözlem sayısı   : 566\n"
     ]
    }
   ],
   "source": [
    "X_train, X_test, y_train, y_test = train_test_split(X_arttirilmis_anlamli, y_anlamli, test_size = 0.2, random_state = 500)\n",
    "\n",
    "print(\"Eğitim kümesindeki gözlem sayısı : {}\".format(X_train.shape[0]))\n",
    "print(\"Test kümesindeki gözlem sayısı   : {}\".format(X_test.shape[0]))"
   ]
  },
  {
   "cell_type": "code",
   "execution_count": 49,
   "metadata": {},
   "outputs": [
    {
     "data": {
      "text/html": [
       "<table class=\"simpletable\">\n",
       "<caption>OLS Regression Results</caption>\n",
       "<tr>\n",
       "  <th>Dep. Variable:</th>     <td>Life_Expectancy</td> <th>  R-squared:         </th> <td>   0.981</td> \n",
       "</tr>\n",
       "<tr>\n",
       "  <th>Model:</th>                   <td>OLS</td>       <th>  Adj. R-squared:    </th> <td>   0.981</td> \n",
       "</tr>\n",
       "<tr>\n",
       "  <th>Method:</th>             <td>Least Squares</td>  <th>  F-statistic:       </th> <td>1.486e+04</td>\n",
       "</tr>\n",
       "<tr>\n",
       "  <th>Date:</th>             <td>Thu, 02 May 2019</td> <th>  Prob (F-statistic):</th>  <td>  0.00</td>  \n",
       "</tr>\n",
       "<tr>\n",
       "  <th>Time:</th>                 <td>11:06:09</td>     <th>  Log-Likelihood:    </th> <td> -10387.</td> \n",
       "</tr>\n",
       "<tr>\n",
       "  <th>No. Observations:</th>      <td>  2826</td>      <th>  AIC:               </th> <td>2.079e+04</td>\n",
       "</tr>\n",
       "<tr>\n",
       "  <th>Df Residuals:</th>          <td>  2816</td>      <th>  BIC:               </th> <td>2.085e+04</td>\n",
       "</tr>\n",
       "<tr>\n",
       "  <th>Df Model:</th>              <td>    10</td>      <th>                     </th>     <td> </td>    \n",
       "</tr>\n",
       "<tr>\n",
       "  <th>Covariance Type:</th>      <td>nonrobust</td>    <th>                     </th>     <td> </td>    \n",
       "</tr>\n",
       "</table>\n",
       "<table class=\"simpletable\">\n",
       "<tr>\n",
       "                 <td></td>                    <th>coef</th>     <th>std err</th>      <th>t</th>      <th>P>|t|</th>  <th>[0.025</th>    <th>0.975]</th>  \n",
       "</tr>\n",
       "<tr>\n",
       "  <th>Schooling</th>                       <td>    2.3109</td> <td>    0.092</td> <td>   25.254</td> <td> 0.000</td> <td>    2.131</td> <td>    2.490</td>\n",
       "</tr>\n",
       "<tr>\n",
       "  <th>Income_composition_of_resources</th> <td>   15.7849</td> <td>    1.525</td> <td>   10.350</td> <td> 0.000</td> <td>   12.794</td> <td>   18.776</td>\n",
       "</tr>\n",
       "<tr>\n",
       "  <th>Adult_Mortality</th>                 <td>    0.0359</td> <td>    0.002</td> <td>   21.609</td> <td> 0.000</td> <td>    0.033</td> <td>    0.039</td>\n",
       "</tr>\n",
       "<tr>\n",
       "  <th>HIV/AIDS</th>                        <td>   -0.6964</td> <td>    0.050</td> <td>  -13.854</td> <td> 0.000</td> <td>   -0.795</td> <td>   -0.598</td>\n",
       "</tr>\n",
       "<tr>\n",
       "  <th>BMI</th>                             <td>    0.1001</td> <td>    0.011</td> <td>    9.073</td> <td> 0.000</td> <td>    0.078</td> <td>    0.122</td>\n",
       "</tr>\n",
       "<tr>\n",
       "  <th>Diphtheria</th>                      <td>    0.1246</td> <td>    0.011</td> <td>   11.606</td> <td> 0.000</td> <td>    0.104</td> <td>    0.146</td>\n",
       "</tr>\n",
       "<tr>\n",
       "  <th>Polio</th>                           <td>    0.1359</td> <td>    0.011</td> <td>   12.920</td> <td> 0.000</td> <td>    0.115</td> <td>    0.157</td>\n",
       "</tr>\n",
       "<tr>\n",
       "  <th>GDP</th>                             <td>-5.731e-05</td> <td> 2.54e-05</td> <td>   -2.255</td> <td> 0.024</td> <td>   -0.000</td> <td>-7.47e-06</td>\n",
       "</tr>\n",
       "<tr>\n",
       "  <th>percentage_expenditure</th>          <td>    0.0001</td> <td>    0.000</td> <td>    0.703</td> <td> 0.482</td> <td>   -0.000</td> <td>    0.000</td>\n",
       "</tr>\n",
       "<tr>\n",
       "  <th>under_five_deaths</th>               <td>    0.0113</td> <td>    0.001</td> <td>   10.079</td> <td> 0.000</td> <td>    0.009</td> <td>    0.014</td>\n",
       "</tr>\n",
       "</table>\n",
       "<table class=\"simpletable\">\n",
       "<tr>\n",
       "  <th>Omnibus:</th>       <td>539.163</td> <th>  Durbin-Watson:     </th> <td>   0.657</td>\n",
       "</tr>\n",
       "<tr>\n",
       "  <th>Prob(Omnibus):</th> <td> 0.000</td>  <th>  Jarque-Bera (JB):  </th> <td>1645.105</td>\n",
       "</tr>\n",
       "<tr>\n",
       "  <th>Skew:</th>          <td> 0.972</td>  <th>  Prob(JB):          </th> <td>    0.00</td>\n",
       "</tr>\n",
       "<tr>\n",
       "  <th>Kurtosis:</th>      <td> 6.192</td>  <th>  Cond. No.          </th> <td>1.36e+05</td>\n",
       "</tr>\n",
       "</table><br/><br/>Warnings:<br/>[1] Standard Errors assume that the covariance matrix of the errors is correctly specified.<br/>[2] The condition number is large, 1.36e+05. This might indicate that there are<br/>strong multicollinearity or other numerical problems."
      ],
      "text/plain": [
       "<class 'statsmodels.iolib.summary.Summary'>\n",
       "\"\"\"\n",
       "                            OLS Regression Results                            \n",
       "==============================================================================\n",
       "Dep. Variable:        Life_Expectancy   R-squared:                       0.981\n",
       "Model:                            OLS   Adj. R-squared:                  0.981\n",
       "Method:                 Least Squares   F-statistic:                 1.486e+04\n",
       "Date:                Thu, 02 May 2019   Prob (F-statistic):               0.00\n",
       "Time:                        11:06:09   Log-Likelihood:                -10387.\n",
       "No. Observations:                2826   AIC:                         2.079e+04\n",
       "Df Residuals:                    2816   BIC:                         2.085e+04\n",
       "Df Model:                          10                                         \n",
       "Covariance Type:            nonrobust                                         \n",
       "===================================================================================================\n",
       "                                      coef    std err          t      P>|t|      [0.025      0.975]\n",
       "---------------------------------------------------------------------------------------------------\n",
       "Schooling                           2.3109      0.092     25.254      0.000       2.131       2.490\n",
       "Income_composition_of_resources    15.7849      1.525     10.350      0.000      12.794      18.776\n",
       "Adult_Mortality                     0.0359      0.002     21.609      0.000       0.033       0.039\n",
       "HIV/AIDS                           -0.6964      0.050    -13.854      0.000      -0.795      -0.598\n",
       "BMI                                 0.1001      0.011      9.073      0.000       0.078       0.122\n",
       "Diphtheria                          0.1246      0.011     11.606      0.000       0.104       0.146\n",
       "Polio                               0.1359      0.011     12.920      0.000       0.115       0.157\n",
       "GDP                             -5.731e-05   2.54e-05     -2.255      0.024      -0.000   -7.47e-06\n",
       "percentage_expenditure              0.0001      0.000      0.703      0.482      -0.000       0.000\n",
       "under_five_deaths                   0.0113      0.001     10.079      0.000       0.009       0.014\n",
       "==============================================================================\n",
       "Omnibus:                      539.163   Durbin-Watson:                   0.657\n",
       "Prob(Omnibus):                  0.000   Jarque-Bera (JB):             1645.105\n",
       "Skew:                           0.972   Prob(JB):                         0.00\n",
       "Kurtosis:                       6.192   Cond. No.                     1.36e+05\n",
       "==============================================================================\n",
       "\n",
       "Warnings:\n",
       "[1] Standard Errors assume that the covariance matrix of the errors is correctly specified.\n",
       "[2] The condition number is large, 1.36e+05. This might indicate that there are\n",
       "strong multicollinearity or other numerical problems.\n",
       "\"\"\""
      ]
     },
     "execution_count": 49,
     "metadata": {},
     "output_type": "execute_result"
    }
   ],
   "source": [
    "X_artilirmis_anlamli = sm.add_constant(X_arttirilmis_anlamli)\n",
    "\n",
    "anlamli_10degiskenli_model = sm.OLS(y_anlamli, X_arttirilmis_anlamli).fit()\n",
    "\n",
    "anlamli_10degiskenli_model.summary()"
   ]
  },
  {
   "cell_type": "code",
   "execution_count": 50,
   "metadata": {},
   "outputs": [],
   "source": [
    "X_test = sm.add_constant(X_test)"
   ]
  },
  {
   "cell_type": "code",
   "execution_count": 51,
   "metadata": {},
   "outputs": [
    {
     "ename": "ValueError",
     "evalue": "shapes (566,11) and (10,) not aligned: 11 (dim 1) != 10 (dim 0)",
     "output_type": "error",
     "traceback": [
      "\u001b[1;31m---------------------------------------------------------------------------\u001b[0m",
      "\u001b[1;31mValueError\u001b[0m                                Traceback (most recent call last)",
      "\u001b[1;32m<ipython-input-51-db93db8979a5>\u001b[0m in \u001b[0;36m<module>\u001b[1;34m\u001b[0m\n\u001b[1;32m----> 1\u001b[1;33m \u001b[0my_preds\u001b[0m \u001b[1;33m=\u001b[0m \u001b[0manlamli_10degiskenli_model\u001b[0m\u001b[1;33m.\u001b[0m\u001b[0mpredict\u001b[0m\u001b[1;33m(\u001b[0m\u001b[0mX_test\u001b[0m\u001b[1;33m)\u001b[0m\u001b[1;33m\u001b[0m\u001b[1;33m\u001b[0m\u001b[0m\n\u001b[0m\u001b[0;32m      2\u001b[0m \u001b[1;33m\u001b[0m\u001b[0m\n\u001b[0;32m      3\u001b[0m \u001b[0mplt\u001b[0m\u001b[1;33m.\u001b[0m\u001b[0mfigure\u001b[0m\u001b[1;33m(\u001b[0m\u001b[0mdpi\u001b[0m \u001b[1;33m=\u001b[0m \u001b[1;36m200\u001b[0m\u001b[1;33m)\u001b[0m\u001b[1;33m\u001b[0m\u001b[1;33m\u001b[0m\u001b[0m\n\u001b[0;32m      4\u001b[0m \u001b[1;33m\u001b[0m\u001b[0m\n\u001b[0;32m      5\u001b[0m \u001b[0mplt\u001b[0m\u001b[1;33m.\u001b[0m\u001b[0mscatter\u001b[0m\u001b[1;33m(\u001b[0m\u001b[0my_test\u001b[0m\u001b[1;33m,\u001b[0m \u001b[0my_preds\u001b[0m\u001b[1;33m)\u001b[0m\u001b[1;33m\u001b[0m\u001b[1;33m\u001b[0m\u001b[0m\n",
      "\u001b[1;32m~\\Anaconda3\\lib\\site-packages\\statsmodels\\base\\model.py\u001b[0m in \u001b[0;36mpredict\u001b[1;34m(self, exog, transform, *args, **kwargs)\u001b[0m\n\u001b[0;32m    852\u001b[0m \u001b[1;33m\u001b[0m\u001b[0m\n\u001b[0;32m    853\u001b[0m         predict_results = self.model.predict(self.params, exog, *args,\n\u001b[1;32m--> 854\u001b[1;33m                                              **kwargs)\n\u001b[0m\u001b[0;32m    855\u001b[0m \u001b[1;33m\u001b[0m\u001b[0m\n\u001b[0;32m    856\u001b[0m         if exog_index is not None and not hasattr(predict_results,\n",
      "\u001b[1;32m~\\Anaconda3\\lib\\site-packages\\statsmodels\\regression\\linear_model.py\u001b[0m in \u001b[0;36mpredict\u001b[1;34m(self, params, exog)\u001b[0m\n\u001b[0;32m    343\u001b[0m             \u001b[0mexog\u001b[0m \u001b[1;33m=\u001b[0m \u001b[0mself\u001b[0m\u001b[1;33m.\u001b[0m\u001b[0mexog\u001b[0m\u001b[1;33m\u001b[0m\u001b[1;33m\u001b[0m\u001b[0m\n\u001b[0;32m    344\u001b[0m \u001b[1;33m\u001b[0m\u001b[0m\n\u001b[1;32m--> 345\u001b[1;33m         \u001b[1;32mreturn\u001b[0m \u001b[0mnp\u001b[0m\u001b[1;33m.\u001b[0m\u001b[0mdot\u001b[0m\u001b[1;33m(\u001b[0m\u001b[0mexog\u001b[0m\u001b[1;33m,\u001b[0m \u001b[0mparams\u001b[0m\u001b[1;33m)\u001b[0m\u001b[1;33m\u001b[0m\u001b[1;33m\u001b[0m\u001b[0m\n\u001b[0m\u001b[0;32m    346\u001b[0m \u001b[1;33m\u001b[0m\u001b[0m\n\u001b[0;32m    347\u001b[0m     \u001b[1;32mdef\u001b[0m \u001b[0mget_distribution\u001b[0m\u001b[1;33m(\u001b[0m\u001b[0mself\u001b[0m\u001b[1;33m,\u001b[0m \u001b[0mparams\u001b[0m\u001b[1;33m,\u001b[0m \u001b[0mscale\u001b[0m\u001b[1;33m,\u001b[0m \u001b[0mexog\u001b[0m\u001b[1;33m=\u001b[0m\u001b[1;32mNone\u001b[0m\u001b[1;33m,\u001b[0m \u001b[0mdist_class\u001b[0m\u001b[1;33m=\u001b[0m\u001b[1;32mNone\u001b[0m\u001b[1;33m)\u001b[0m\u001b[1;33m:\u001b[0m\u001b[1;33m\u001b[0m\u001b[1;33m\u001b[0m\u001b[0m\n",
      "\u001b[1;31mValueError\u001b[0m: shapes (566,11) and (10,) not aligned: 11 (dim 1) != 10 (dim 0)"
     ]
    }
   ],
   "source": [
    "y_preds = anlamli_10degiskenli_model.predict(X_test)\n",
    "\n",
    "plt.figure(dpi = 200)\n",
    "\n",
    "plt.scatter(y_test, y_preds)\n",
    "plt.plot(y_test, y_test, color=\"red\")\n",
    "plt.xlabel(\"Y Test/Real Values\")\n",
    "plt.ylabel(\"Predicted Y\")\n",
    "plt.title(\"LIFE EXPECTANCY REAL AND REDICTED VALUES\")\n",
    "plt.show()"
   ]
  },
  {
   "cell_type": "code",
   "execution_count": 52,
   "metadata": {},
   "outputs": [
    {
     "name": "stdout",
     "output_type": "stream",
     "text": [
      "Ortalama Mutlak Hata (MAE)        : 3.142005744458843\n",
      "Ortalama Kare Hata (MSE)          : 17.758340161620623\n",
      "Kök Ortalama Kare Hata (RMSE)     : 4.214064565430936\n",
      "Ortalama Mutlak Yüzde Hata (MAPE) : 4.825156383902807\n"
     ]
    }
   ],
   "source": [
    "print(\"Ortalama Mutlak Hata (MAE)        : {}\".format(mean_absolute_error(y_test, y_preds)))\n",
    "print(\"Ortalama Kare Hata (MSE)          : {}\".format(mse(y_test, y_preds)))\n",
    "print(\"Kök Ortalama Kare Hata (RMSE)     : {}\".format(rmse(y_test, y_preds)))\n",
    "print(\"Ortalama Mutlak Yüzde Hata (MAPE) : {}\".format(np.mean(np.abs((y_test - y_preds) / y_test)) * 100))\n"
   ]
  },
  {
   "cell_type": "code",
   "execution_count": 53,
   "metadata": {},
   "outputs": [
    {
     "name": "stdout",
     "output_type": "stream",
     "text": [
      "0.8313145645747545\n",
      "0.830025511192831\n",
      "0.9814070330437532\n"
     ]
    }
   ],
   "source": [
    "print (tum_degiskenli_model.rsquared)\n",
    "print (anlamli_12degiskenli_model.rsquared)\n",
    "print (anlamli_10degiskenli_model.rsquared)\n"
   ]
  },
  {
   "cell_type": "code",
   "execution_count": 54,
   "metadata": {},
   "outputs": [
    {
     "data": {
      "text/plain": [
       "Schooling                         0.000\n",
       "Income_composition_of_resources   0.000\n",
       "Adult_Mortality                   0.000\n",
       "HIV/AIDS                          0.000\n",
       "BMI                               0.000\n",
       "Diphtheria                        0.000\n",
       "Polio                             0.000\n",
       "GDP                               0.024\n",
       "percentage_expenditure            0.482\n",
       "under_five_deaths                 0.000\n",
       "dtype: float64"
      ]
     },
     "execution_count": 54,
     "metadata": {},
     "output_type": "execute_result"
    }
   ],
   "source": [
    "anlamli_10degiskenli_model.pvalues"
   ]
  },
  {
   "cell_type": "code",
   "execution_count": 55,
   "metadata": {},
   "outputs": [],
   "source": [
    "X_daha_arttirilmis_anlamli = LifeExpectancyData_num[anlamli_degerler[:5]]"
   ]
  },
  {
   "cell_type": "code",
   "execution_count": 56,
   "metadata": {},
   "outputs": [
    {
     "name": "stdout",
     "output_type": "stream",
     "text": [
      "Eğitim kümesindeki gözlem sayısı : 2260\n",
      "Test kümesindeki gözlem sayısı   : 566\n"
     ]
    }
   ],
   "source": [
    "X_train, X_test, y_train, y_test = train_test_split(X_daha_arttirilmis_anlamli, y_anlamli, test_size = 0.2, random_state = 500)\n",
    "\n",
    "print(\"Eğitim kümesindeki gözlem sayısı : {}\".format(X_train.shape[0]))\n",
    "print(\"Test kümesindeki gözlem sayısı   : {}\".format(X_test.shape[0]))"
   ]
  },
  {
   "cell_type": "code",
   "execution_count": 57,
   "metadata": {},
   "outputs": [
    {
     "data": {
      "text/html": [
       "<table class=\"simpletable\">\n",
       "<caption>OLS Regression Results</caption>\n",
       "<tr>\n",
       "  <th>Dep. Variable:</th>     <td>Life_Expectancy</td> <th>  R-squared:         </th> <td>   0.974</td> \n",
       "</tr>\n",
       "<tr>\n",
       "  <th>Model:</th>                   <td>OLS</td>       <th>  Adj. R-squared:    </th> <td>   0.974</td> \n",
       "</tr>\n",
       "<tr>\n",
       "  <th>Method:</th>             <td>Least Squares</td>  <th>  F-statistic:       </th> <td>1.709e+04</td>\n",
       "</tr>\n",
       "<tr>\n",
       "  <th>Date:</th>             <td>Thu, 02 May 2019</td> <th>  Prob (F-statistic):</th>  <td>  0.00</td>  \n",
       "</tr>\n",
       "<tr>\n",
       "  <th>Time:</th>                 <td>11:06:11</td>     <th>  Log-Likelihood:    </th> <td> -8675.2</td> \n",
       "</tr>\n",
       "<tr>\n",
       "  <th>No. Observations:</th>      <td>  2260</td>      <th>  AIC:               </th> <td>1.736e+04</td>\n",
       "</tr>\n",
       "<tr>\n",
       "  <th>Df Residuals:</th>          <td>  2255</td>      <th>  BIC:               </th> <td>1.739e+04</td>\n",
       "</tr>\n",
       "<tr>\n",
       "  <th>Df Model:</th>              <td>     5</td>      <th>                     </th>     <td> </td>    \n",
       "</tr>\n",
       "<tr>\n",
       "  <th>Covariance Type:</th>      <td>nonrobust</td>    <th>                     </th>     <td> </td>    \n",
       "</tr>\n",
       "</table>\n",
       "<table class=\"simpletable\">\n",
       "<tr>\n",
       "                 <td></td>                    <th>coef</th>     <th>std err</th>      <th>t</th>      <th>P>|t|</th>  <th>[0.025</th>    <th>0.975]</th>  \n",
       "</tr>\n",
       "<tr>\n",
       "  <th>Schooling</th>                       <td>    3.4765</td> <td>    0.110</td> <td>   31.687</td> <td> 0.000</td> <td>    3.261</td> <td>    3.692</td>\n",
       "</tr>\n",
       "<tr>\n",
       "  <th>Income_composition_of_resources</th> <td>   21.8546</td> <td>    1.924</td> <td>   11.358</td> <td> 0.000</td> <td>   18.081</td> <td>   25.628</td>\n",
       "</tr>\n",
       "<tr>\n",
       "  <th>Adult_Mortality</th>                 <td>    0.0555</td> <td>    0.002</td> <td>   27.583</td> <td> 0.000</td> <td>    0.052</td> <td>    0.059</td>\n",
       "</tr>\n",
       "<tr>\n",
       "  <th>HIV/AIDS</th>                        <td>   -0.8977</td> <td>    0.067</td> <td>  -13.475</td> <td> 0.000</td> <td>   -1.028</td> <td>   -0.767</td>\n",
       "</tr>\n",
       "<tr>\n",
       "  <th>BMI</th>                             <td>    0.1064</td> <td>    0.015</td> <td>    7.266</td> <td> 0.000</td> <td>    0.078</td> <td>    0.135</td>\n",
       "</tr>\n",
       "</table>\n",
       "<table class=\"simpletable\">\n",
       "<tr>\n",
       "  <th>Omnibus:</th>       <td>432.927</td> <th>  Durbin-Watson:     </th> <td>   1.945</td>\n",
       "</tr>\n",
       "<tr>\n",
       "  <th>Prob(Omnibus):</th> <td> 0.000</td>  <th>  Jarque-Bera (JB):  </th> <td>1480.279</td>\n",
       "</tr>\n",
       "<tr>\n",
       "  <th>Skew:</th>          <td> 0.935</td>  <th>  Prob(JB):          </th> <td>    0.00</td>\n",
       "</tr>\n",
       "<tr>\n",
       "  <th>Kurtosis:</th>      <td> 6.496</td>  <th>  Cond. No.          </th> <td>1.67e+03</td>\n",
       "</tr>\n",
       "</table><br/><br/>Warnings:<br/>[1] Standard Errors assume that the covariance matrix of the errors is correctly specified.<br/>[2] The condition number is large, 1.67e+03. This might indicate that there are<br/>strong multicollinearity or other numerical problems."
      ],
      "text/plain": [
       "<class 'statsmodels.iolib.summary.Summary'>\n",
       "\"\"\"\n",
       "                            OLS Regression Results                            \n",
       "==============================================================================\n",
       "Dep. Variable:        Life_Expectancy   R-squared:                       0.974\n",
       "Model:                            OLS   Adj. R-squared:                  0.974\n",
       "Method:                 Least Squares   F-statistic:                 1.709e+04\n",
       "Date:                Thu, 02 May 2019   Prob (F-statistic):               0.00\n",
       "Time:                        11:06:11   Log-Likelihood:                -8675.2\n",
       "No. Observations:                2260   AIC:                         1.736e+04\n",
       "Df Residuals:                    2255   BIC:                         1.739e+04\n",
       "Df Model:                           5                                         \n",
       "Covariance Type:            nonrobust                                         \n",
       "===================================================================================================\n",
       "                                      coef    std err          t      P>|t|      [0.025      0.975]\n",
       "---------------------------------------------------------------------------------------------------\n",
       "Schooling                           3.4765      0.110     31.687      0.000       3.261       3.692\n",
       "Income_composition_of_resources    21.8546      1.924     11.358      0.000      18.081      25.628\n",
       "Adult_Mortality                     0.0555      0.002     27.583      0.000       0.052       0.059\n",
       "HIV/AIDS                           -0.8977      0.067    -13.475      0.000      -1.028      -0.767\n",
       "BMI                                 0.1064      0.015      7.266      0.000       0.078       0.135\n",
       "==============================================================================\n",
       "Omnibus:                      432.927   Durbin-Watson:                   1.945\n",
       "Prob(Omnibus):                  0.000   Jarque-Bera (JB):             1480.279\n",
       "Skew:                           0.935   Prob(JB):                         0.00\n",
       "Kurtosis:                       6.496   Cond. No.                     1.67e+03\n",
       "==============================================================================\n",
       "\n",
       "Warnings:\n",
       "[1] Standard Errors assume that the covariance matrix of the errors is correctly specified.\n",
       "[2] The condition number is large, 1.67e+03. This might indicate that there are\n",
       "strong multicollinearity or other numerical problems.\n",
       "\"\"\""
      ]
     },
     "execution_count": 57,
     "metadata": {},
     "output_type": "execute_result"
    }
   ],
   "source": [
    "X_daha_arttirilmis_anlamli = sm.add_constant(X_train)\n",
    "\n",
    "anlamli_5degiskenli_model = sm.OLS(y_train, X_train).fit()\n",
    "\n",
    "anlamli_5degiskenli_model.summary()"
   ]
  },
  {
   "cell_type": "code",
   "execution_count": 58,
   "metadata": {},
   "outputs": [
    {
     "ename": "ValueError",
     "evalue": "shapes (566,6) and (5,) not aligned: 6 (dim 1) != 5 (dim 0)",
     "output_type": "error",
     "traceback": [
      "\u001b[1;31m---------------------------------------------------------------------------\u001b[0m",
      "\u001b[1;31mValueError\u001b[0m                                Traceback (most recent call last)",
      "\u001b[1;32m<ipython-input-58-4966a4e0473f>\u001b[0m in \u001b[0;36m<module>\u001b[1;34m\u001b[0m\n\u001b[0;32m      1\u001b[0m \u001b[0mX_test\u001b[0m \u001b[1;33m=\u001b[0m \u001b[0msm\u001b[0m\u001b[1;33m.\u001b[0m\u001b[0madd_constant\u001b[0m\u001b[1;33m(\u001b[0m\u001b[0mX_test\u001b[0m\u001b[1;33m)\u001b[0m\u001b[1;33m\u001b[0m\u001b[1;33m\u001b[0m\u001b[0m\n\u001b[0;32m      2\u001b[0m \u001b[1;33m\u001b[0m\u001b[0m\n\u001b[1;32m----> 3\u001b[1;33m \u001b[0my_preds\u001b[0m \u001b[1;33m=\u001b[0m \u001b[0manlamli_5degiskenli_model\u001b[0m\u001b[1;33m.\u001b[0m\u001b[0mpredict\u001b[0m\u001b[1;33m(\u001b[0m\u001b[0mX_test\u001b[0m\u001b[1;33m)\u001b[0m\u001b[1;33m\u001b[0m\u001b[1;33m\u001b[0m\u001b[0m\n\u001b[0m\u001b[0;32m      4\u001b[0m \u001b[1;33m\u001b[0m\u001b[0m\n\u001b[0;32m      5\u001b[0m \u001b[0mplt\u001b[0m\u001b[1;33m.\u001b[0m\u001b[0mfigure\u001b[0m\u001b[1;33m(\u001b[0m\u001b[0mdpi\u001b[0m \u001b[1;33m=\u001b[0m \u001b[1;36m100\u001b[0m\u001b[1;33m)\u001b[0m\u001b[1;33m\u001b[0m\u001b[1;33m\u001b[0m\u001b[0m\n",
      "\u001b[1;32m~\\Anaconda3\\lib\\site-packages\\statsmodels\\base\\model.py\u001b[0m in \u001b[0;36mpredict\u001b[1;34m(self, exog, transform, *args, **kwargs)\u001b[0m\n\u001b[0;32m    852\u001b[0m \u001b[1;33m\u001b[0m\u001b[0m\n\u001b[0;32m    853\u001b[0m         predict_results = self.model.predict(self.params, exog, *args,\n\u001b[1;32m--> 854\u001b[1;33m                                              **kwargs)\n\u001b[0m\u001b[0;32m    855\u001b[0m \u001b[1;33m\u001b[0m\u001b[0m\n\u001b[0;32m    856\u001b[0m         if exog_index is not None and not hasattr(predict_results,\n",
      "\u001b[1;32m~\\Anaconda3\\lib\\site-packages\\statsmodels\\regression\\linear_model.py\u001b[0m in \u001b[0;36mpredict\u001b[1;34m(self, params, exog)\u001b[0m\n\u001b[0;32m    343\u001b[0m             \u001b[0mexog\u001b[0m \u001b[1;33m=\u001b[0m \u001b[0mself\u001b[0m\u001b[1;33m.\u001b[0m\u001b[0mexog\u001b[0m\u001b[1;33m\u001b[0m\u001b[1;33m\u001b[0m\u001b[0m\n\u001b[0;32m    344\u001b[0m \u001b[1;33m\u001b[0m\u001b[0m\n\u001b[1;32m--> 345\u001b[1;33m         \u001b[1;32mreturn\u001b[0m \u001b[0mnp\u001b[0m\u001b[1;33m.\u001b[0m\u001b[0mdot\u001b[0m\u001b[1;33m(\u001b[0m\u001b[0mexog\u001b[0m\u001b[1;33m,\u001b[0m \u001b[0mparams\u001b[0m\u001b[1;33m)\u001b[0m\u001b[1;33m\u001b[0m\u001b[1;33m\u001b[0m\u001b[0m\n\u001b[0m\u001b[0;32m    346\u001b[0m \u001b[1;33m\u001b[0m\u001b[0m\n\u001b[0;32m    347\u001b[0m     \u001b[1;32mdef\u001b[0m \u001b[0mget_distribution\u001b[0m\u001b[1;33m(\u001b[0m\u001b[0mself\u001b[0m\u001b[1;33m,\u001b[0m \u001b[0mparams\u001b[0m\u001b[1;33m,\u001b[0m \u001b[0mscale\u001b[0m\u001b[1;33m,\u001b[0m \u001b[0mexog\u001b[0m\u001b[1;33m=\u001b[0m\u001b[1;32mNone\u001b[0m\u001b[1;33m,\u001b[0m \u001b[0mdist_class\u001b[0m\u001b[1;33m=\u001b[0m\u001b[1;32mNone\u001b[0m\u001b[1;33m)\u001b[0m\u001b[1;33m:\u001b[0m\u001b[1;33m\u001b[0m\u001b[1;33m\u001b[0m\u001b[0m\n",
      "\u001b[1;31mValueError\u001b[0m: shapes (566,6) and (5,) not aligned: 6 (dim 1) != 5 (dim 0)"
     ]
    }
   ],
   "source": [
    "X_test = sm.add_constant(X_test)\n",
    "\n",
    "y_preds = anlamli_5degiskenli_model.predict(X_test)\n",
    "\n",
    "plt.figure(dpi = 100)\n",
    "\n",
    "plt.scatter(y_test, y_preds)\n",
    "plt.plot(y_test, y_test, color=\"red\")\n",
    "plt.xlabel(\"Test Y/Real Values\")\n",
    "plt.ylabel(\"Predicted Y\")\n",
    "plt.title(\"LIFE EXPECTANCY REAL AND PREDICTED VALUES\")\n",
    "plt.show()"
   ]
  },
  {
   "cell_type": "code",
   "execution_count": 59,
   "metadata": {},
   "outputs": [
    {
     "name": "stdout",
     "output_type": "stream",
     "text": [
      "0.8313145645747545\n",
      "0.830025511192831\n",
      "0.9814070330437532\n",
      "0.9742909425066556\n"
     ]
    }
   ],
   "source": [
    "print (tum_degiskenli_model.rsquared)\n",
    "print (anlamli_12degiskenli_model.rsquared)\n",
    "print (anlamli_10degiskenli_model.rsquared)\n",
    "print (anlamli_5degiskenli_model.rsquared)"
   ]
  },
  {
   "cell_type": "code",
   "execution_count": 60,
   "metadata": {},
   "outputs": [
    {
     "data": {
      "text/html": [
       "<div>\n",
       "<style scoped>\n",
       "    .dataframe tbody tr th:only-of-type {\n",
       "        vertical-align: middle;\n",
       "    }\n",
       "\n",
       "    .dataframe tbody tr th {\n",
       "        vertical-align: top;\n",
       "    }\n",
       "\n",
       "    .dataframe thead th {\n",
       "        text-align: right;\n",
       "    }\n",
       "</style>\n",
       "<table border=\"1\" class=\"dataframe\">\n",
       "  <thead>\n",
       "    <tr style=\"text-align: right;\">\n",
       "      <th></th>\n",
       "      <th>const</th>\n",
       "      <th>Schooling</th>\n",
       "      <th>Income_composition_of_resources</th>\n",
       "      <th>Adult_Mortality</th>\n",
       "      <th>HIV/AIDS</th>\n",
       "      <th>BMI</th>\n",
       "    </tr>\n",
       "  </thead>\n",
       "  <tbody>\n",
       "    <tr>\n",
       "      <th>2041</th>\n",
       "      <td>1.000</td>\n",
       "      <td>13.400</td>\n",
       "      <td>0.843</td>\n",
       "      <td>7.000</td>\n",
       "      <td>0.100</td>\n",
       "      <td>67.700</td>\n",
       "    </tr>\n",
       "    <tr>\n",
       "      <th>228</th>\n",
       "      <td>1.000</td>\n",
       "      <td>15.500</td>\n",
       "      <td>0.787</td>\n",
       "      <td>232.000</td>\n",
       "      <td>0.100</td>\n",
       "      <td>59.900</td>\n",
       "    </tr>\n",
       "    <tr>\n",
       "      <th>1069</th>\n",
       "      <td>1.000</td>\n",
       "      <td>7.700</td>\n",
       "      <td>0.000</td>\n",
       "      <td>38.000</td>\n",
       "      <td>5.000</td>\n",
       "      <td>19.600</td>\n",
       "    </tr>\n",
       "    <tr>\n",
       "      <th>1876</th>\n",
       "      <td>1.000</td>\n",
       "      <td>7.600</td>\n",
       "      <td>0.000</td>\n",
       "      <td>45.000</td>\n",
       "      <td>4.900</td>\n",
       "      <td>16.900</td>\n",
       "    </tr>\n",
       "    <tr>\n",
       "      <th>2274</th>\n",
       "      <td>1.000</td>\n",
       "      <td>14.300</td>\n",
       "      <td>0.793</td>\n",
       "      <td>138.000</td>\n",
       "      <td>0.100</td>\n",
       "      <td>53.700</td>\n",
       "    </tr>\n",
       "  </tbody>\n",
       "</table>\n",
       "</div>"
      ],
      "text/plain": [
       "      const  Schooling  Income_composition_of_resources  Adult_Mortality  \\\n",
       "2041  1.000     13.400                            0.843            7.000   \n",
       "228   1.000     15.500                            0.787          232.000   \n",
       "1069  1.000      7.700                            0.000           38.000   \n",
       "1876  1.000      7.600                            0.000           45.000   \n",
       "2274  1.000     14.300                            0.793          138.000   \n",
       "\n",
       "      HIV/AIDS    BMI  \n",
       "2041     0.100 67.700  \n",
       "228      0.100 59.900  \n",
       "1069     5.000 19.600  \n",
       "1876     4.900 16.900  \n",
       "2274     0.100 53.700  "
      ]
     },
     "execution_count": 60,
     "metadata": {},
     "output_type": "execute_result"
    }
   ],
   "source": [
    "X_daha_arttirilmis_anlamli.head()"
   ]
  },
  {
   "cell_type": "code",
   "execution_count": 61,
   "metadata": {},
   "outputs": [
    {
     "data": {
      "image/png": "[encoded data removed]",
      "text/plain": [
       "<Figure size 900x600 with 1 Axes>"
      ]
     },
     "metadata": {},
     "output_type": "display_data"
    }
   ],
   "source": [
    "baslik_font = {'family': 'arial','color':  'darkred','weight': 'bold','size': 15 }\n",
    "eksen_font = {'family': 'arial','color':  'darkblue','weight': 'bold','size': 10 }\n",
    "plt.figure(figsize=(9,6), dpi = 100)\n",
    "\n",
    "Life_Expectancy_BMI = X_daha_arttirilmis_anlamli.BMI * 0.1064\n",
    "Life_Expectancy_Schooling = X_daha_arttirilmis_anlamli.BMI * 3.4765\n",
    "Life_Expectancy_Income_composition_of_resources = X_daha_arttirilmis_anlamli.BMI * 21.8546\n",
    "Life_Expectancy_Adult_Mortality = X_daha_arttirilmis_anlamli.BMI * 0.0555\n",
    "Life_Expectancy_HIVAIDS = X_daha_arttirilmis_anlamli.BMI * (-0.8977)\n",
    "\n",
    "\n",
    "plt.plot(X_daha_arttirilmis_anlamli.BMI, Life_Expectancy_BMI)\n",
    "plt.plot(X_daha_arttirilmis_anlamli.BMI, Life_Expectancy_Schooling)\n",
    "plt.plot(X_daha_arttirilmis_anlamli.BMI, Life_Expectancy_Income_composition_of_resources)\n",
    "plt.plot(X_daha_arttirilmis_anlamli.BMI, Life_Expectancy_Adult_Mortality)\n",
    "plt.plot(X_daha_arttirilmis_anlamli.BMI, Life_Expectancy_HIVAIDS)\n",
    "\n",
    "plt.legend([\"Life Expectancy & BMI\", \"Life Expectancy & Schooling\", \"Life Expectancy & Income_composition_of_resources\", \"Life Expectancy & Adult_Mortality\", \"Life Expectancy & HIVAIDS\"])\n",
    "plt.xlabel(\"BMI\", fontdict=eksen_font)\n",
    "plt.ylabel(\"Life Expectancy\", fontdict=eksen_font)\n",
    "plt.title(\"Relation with Life Expectancy and other variables\", fontdict=baslik_font)\n",
    "\n",
    "plt.show()"
   ]
  },
  {
   "cell_type": "code",
   "execution_count": null,
   "metadata": {},
   "outputs": [],
   "source": []
  },
  {
   "cell_type": "code",
   "execution_count": null,
   "metadata": {},
   "outputs": [],
   "source": []
  },
  {
   "cell_type": "code",
   "execution_count": null,
   "metadata": {},
   "outputs": [],
   "source": []
  },
  {
   "cell_type": "code",
   "execution_count": null,
   "metadata": {},
   "outputs": [],
   "source": []
  }
 ],
 "metadata": {
  "kernelspec": {
   "display_name": "Python 3",
   "language": "python",
   "name": "python3"
  },
  "language_info": {
   "codemirror_mode": {
    "name": "ipython",
    "version": 3
   },
   "file_extension": ".py",
   "mimetype": "text/x-python",
   "name": "python",
   "nbconvert_exporter": "python",
   "pygments_lexer": "ipython3",
   "version": "3.7.1"
  }
 },
 "nbformat": 4,
 "nbformat_minor": 2
}
