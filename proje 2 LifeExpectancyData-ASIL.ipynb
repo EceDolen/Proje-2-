{
 "cells": [
  {
   "cell_type": "code",
   "execution_count": 1,
   "metadata": {},
   "outputs": [],
   "source": [
    "import pandas as pd\n",
    "import numpy as np\n",
    "import seaborn as sns\n",
    "import matplotlib.pyplot as plt\n",
    "from sklearn import linear_model\n",
    "\n",
    "from sklearn.linear_model import LinearRegression\n",
    "from sklearn.model_selection import train_test_split\n",
    "from sklearn.metrics import mean_absolute_error\n",
    "import statsmodels.api as sm\n",
    "from statsmodels.tools.eval_measures import mse, rmse\n",
    "\n",
    "%matplotlib inline\n",
    "pd.options.display.float_format = '{:.3f}'.format\n",
    "\n",
    "import warnings\n",
    "warnings.filterwarnings(action= \"ignore\")"
   ]
  },
  {
   "cell_type": "markdown",
   "metadata": {},
   "source": [
    "#                                                  Reggression Project (2)\n",
    " \n",
    " "
   ]
  },
  {
   "cell_type": "markdown",
   "metadata": {},
   "source": [
    "## Contents\n",
    "1.  Introduction\n",
    "2.  The Aim of Analysis\n",
    "3.  General Information of the Data\n",
    "4.  Arrangements of the Data Sets\n",
    "5.  Filling of the Row Data \n",
    "6.  Data Exploration \n",
    "7.  Splitting the Data\n",
    "8.  Training the Model\n",
    "9.  Predicting the Model\n",
    "10. Evaluating the Model\n",
    "11. Conclusions"
   ]
  },
  {
   "cell_type": "markdown",
   "metadata": {},
   "source": [
    "**1. Introduction**"
   ]
  },
  {
   "cell_type": "markdown",
   "metadata": {},
   "source": [
    "The Global Health Observatory (GHO) data repository under World Health Organization (WHO) keeps track of the health status as well as many other related factors for all countries The datasets are made available to public for the purpose of health data analysis. The dataset related to life expectancy, health factors for 193 countries has been collected from the same WHO data repository website and its corresponding economic data was collected from United Nation website. Among all categories of health-related factors only those critical factors were chosen which are more representative. It has been observed that in the past 15 years , there has been a huge development in health sector resulting in improvement of human mortality rates especially in the developing nations in comparison to the past 30 years. Therefore, in this project we have considered data from year 2000-2015 for 193 countries for further analysis. The individual data files have been merged together into a single dataset. On initial visual inspection of the data showed some missing values. As the datasets were from WHO, we found no evident errors. Missing data was handled in R software by using Missmap command. The result indicated that most of the missing data was for population, Hepatitis B and GDP. The missing data were from less known countries like Vanuatu, Tonga, Togo,Cabo Verde etc. Finding all data for these countries was difficult and hence, it was decided that we exclude these countries from the final model dataset. The final merged file(final dataset) consists of 22 Columns and 2938 rows which meant 20 predicting variables. All predicting variables was then divided into several broad categories:​Immunization related factors, Mortality factors, Economical factors and Social factors."
   ]
  },
  {
   "cell_type": "markdown",
   "metadata": {},
   "source": [
    "**2. The Aim of Analysis**"
   ]
  },
  {
   "cell_type": "markdown",
   "metadata": {},
   "source": [
    "This study aims to search for the elements which effects life expectancy by using correlations with regression models."
   ]
  },
  {
   "cell_type": "markdown",
   "metadata": {},
   "source": [
    "**3. General Information of the Data**"
   ]
  },
  {
   "cell_type": "markdown",
   "metadata": {},
   "source": [
    "Country : Country\n",
    "\n",
    "Year : Year \n",
    "\n",
    "Status : Developed or Developing status\n",
    "\n",
    "Life expectancy : Life Expectancy in age\n",
    "\n",
    "Adult Mortality : Adult Mortality Rates of both sexes (probability of dying between 15 and 60 years per 1000 population)\n",
    "\n",
    "infant deaths : Number of Infant Deaths per 1000 population\n",
    "\n",
    "\n",
    "Alcohol : Alcohol, recorded per capita (15+) consumption (in litres of pure alcohol)\n",
    "\n",
    "percentage:  expenditureExpenditure on health as a percentage of Gross Domestic Product per capita(%)\n",
    "\n",
    "Hepatitis B : Hepatitis B (HepB) immunization coverage among 1-year-olds (%)\n",
    "\n",
    "Measles : Measles - number of reported cases per 1000 population\n",
    "\n",
    "BMI : Average Body Mass Index of entire population\n",
    "\n",
    "under-five deaths : Number of under-five deaths per 1000 population\n",
    "\n",
    "Polio : Polio (Pol3) immunization coverage among 1-year-olds (%)\n",
    "\n",
    "Total expenditure : General government expenditure on health as a percentage of total government expenditure (%)\n",
    "\n",
    "Diphtheria :  Diphtheria tetanus toxoid and pertussis (DTP3) immunization coverage among 1-year-olds (%)\n",
    "\n",
    "HIV/AIDS : Deaths per 1 000 live births HIV/AIDS (0-4 years)\n",
    "\n",
    "GDP : Gross Domestic Product per capita (in USD)\n",
    "\n",
    "Population : Population of the country\n",
    "\n",
    "thinness 1-19 years : Prevalence of thinness among children and adolescents for Age 10 to 19 (% )\n",
    "\n",
    "Income composition of resources : Human Development Index in terms of income composition of resources (index ranging from 0 to 1)\n",
    "\n",
    "Schooling : Number of years of Schooling(years)"
   ]
  },
  {
   "cell_type": "markdown",
   "metadata": {},
   "source": [
    "**4. Data Exploration**"
   ]
  },
  {
   "cell_type": "code",
   "execution_count": 2,
   "metadata": {
    "scrolled": false
   },
   "outputs": [
    {
     "data": {
      "text/html": [
       "<div>\n",
       "<style scoped>\n",
       "    .dataframe tbody tr th:only-of-type {\n",
       "        vertical-align: middle;\n",
       "    }\n",
       "\n",
       "    .dataframe tbody tr th {\n",
       "        vertical-align: top;\n",
       "    }\n",
       "\n",
       "    .dataframe thead th {\n",
       "        text-align: right;\n",
       "    }\n",
       "</style>\n",
       "<table border=\"1\" class=\"dataframe\">\n",
       "  <thead>\n",
       "    <tr style=\"text-align: right;\">\n",
       "      <th></th>\n",
       "      <th>Country</th>\n",
       "      <th>Year</th>\n",
       "      <th>Status</th>\n",
       "      <th>Life expectancy</th>\n",
       "      <th>Adult Mortality</th>\n",
       "      <th>infant deaths</th>\n",
       "      <th>Alcohol</th>\n",
       "      <th>percentage expenditure</th>\n",
       "      <th>Hepatitis B</th>\n",
       "      <th>Measles</th>\n",
       "      <th>...</th>\n",
       "      <th>Polio</th>\n",
       "      <th>Total expenditure</th>\n",
       "      <th>Diphtheria</th>\n",
       "      <th>HIV/AIDS</th>\n",
       "      <th>GDP</th>\n",
       "      <th>Population</th>\n",
       "      <th>thinness  1-19 years</th>\n",
       "      <th>thinness 5-9 years</th>\n",
       "      <th>Income composition of resources</th>\n",
       "      <th>Schooling</th>\n",
       "    </tr>\n",
       "  </thead>\n",
       "  <tbody>\n",
       "    <tr>\n",
       "      <th>0</th>\n",
       "      <td>Afghanistan</td>\n",
       "      <td>2015</td>\n",
       "      <td>Developing</td>\n",
       "      <td>65.000</td>\n",
       "      <td>263.000</td>\n",
       "      <td>62</td>\n",
       "      <td>0.010</td>\n",
       "      <td>71.280</td>\n",
       "      <td>65.000</td>\n",
       "      <td>1154</td>\n",
       "      <td>...</td>\n",
       "      <td>6.000</td>\n",
       "      <td>8.160</td>\n",
       "      <td>65.000</td>\n",
       "      <td>0.100</td>\n",
       "      <td>584.259</td>\n",
       "      <td>33736494.000</td>\n",
       "      <td>17.200</td>\n",
       "      <td>17.300</td>\n",
       "      <td>0.479</td>\n",
       "      <td>10.100</td>\n",
       "    </tr>\n",
       "    <tr>\n",
       "      <th>1</th>\n",
       "      <td>Afghanistan</td>\n",
       "      <td>2014</td>\n",
       "      <td>Developing</td>\n",
       "      <td>59.900</td>\n",
       "      <td>271.000</td>\n",
       "      <td>64</td>\n",
       "      <td>0.010</td>\n",
       "      <td>73.524</td>\n",
       "      <td>62.000</td>\n",
       "      <td>492</td>\n",
       "      <td>...</td>\n",
       "      <td>58.000</td>\n",
       "      <td>8.180</td>\n",
       "      <td>62.000</td>\n",
       "      <td>0.100</td>\n",
       "      <td>612.697</td>\n",
       "      <td>327582.000</td>\n",
       "      <td>17.500</td>\n",
       "      <td>17.500</td>\n",
       "      <td>0.476</td>\n",
       "      <td>10.000</td>\n",
       "    </tr>\n",
       "    <tr>\n",
       "      <th>2</th>\n",
       "      <td>Afghanistan</td>\n",
       "      <td>2013</td>\n",
       "      <td>Developing</td>\n",
       "      <td>59.900</td>\n",
       "      <td>268.000</td>\n",
       "      <td>66</td>\n",
       "      <td>0.010</td>\n",
       "      <td>73.219</td>\n",
       "      <td>64.000</td>\n",
       "      <td>430</td>\n",
       "      <td>...</td>\n",
       "      <td>62.000</td>\n",
       "      <td>8.130</td>\n",
       "      <td>64.000</td>\n",
       "      <td>0.100</td>\n",
       "      <td>631.745</td>\n",
       "      <td>31731688.000</td>\n",
       "      <td>17.700</td>\n",
       "      <td>17.700</td>\n",
       "      <td>0.470</td>\n",
       "      <td>9.900</td>\n",
       "    </tr>\n",
       "    <tr>\n",
       "      <th>3</th>\n",
       "      <td>Afghanistan</td>\n",
       "      <td>2012</td>\n",
       "      <td>Developing</td>\n",
       "      <td>59.500</td>\n",
       "      <td>272.000</td>\n",
       "      <td>69</td>\n",
       "      <td>0.010</td>\n",
       "      <td>78.184</td>\n",
       "      <td>67.000</td>\n",
       "      <td>2787</td>\n",
       "      <td>...</td>\n",
       "      <td>67.000</td>\n",
       "      <td>8.520</td>\n",
       "      <td>67.000</td>\n",
       "      <td>0.100</td>\n",
       "      <td>669.959</td>\n",
       "      <td>3696958.000</td>\n",
       "      <td>17.900</td>\n",
       "      <td>18.000</td>\n",
       "      <td>0.463</td>\n",
       "      <td>9.800</td>\n",
       "    </tr>\n",
       "    <tr>\n",
       "      <th>4</th>\n",
       "      <td>Afghanistan</td>\n",
       "      <td>2011</td>\n",
       "      <td>Developing</td>\n",
       "      <td>59.200</td>\n",
       "      <td>275.000</td>\n",
       "      <td>71</td>\n",
       "      <td>0.010</td>\n",
       "      <td>7.097</td>\n",
       "      <td>68.000</td>\n",
       "      <td>3013</td>\n",
       "      <td>...</td>\n",
       "      <td>68.000</td>\n",
       "      <td>7.870</td>\n",
       "      <td>68.000</td>\n",
       "      <td>0.100</td>\n",
       "      <td>63.537</td>\n",
       "      <td>2978599.000</td>\n",
       "      <td>18.200</td>\n",
       "      <td>18.200</td>\n",
       "      <td>0.454</td>\n",
       "      <td>9.500</td>\n",
       "    </tr>\n",
       "  </tbody>\n",
       "</table>\n",
       "<p>5 rows × 22 columns</p>\n",
       "</div>"
      ],
      "text/plain": [
       "       Country  Year      Status  Life expectancy   Adult Mortality  \\\n",
       "0  Afghanistan  2015  Developing            65.000          263.000   \n",
       "1  Afghanistan  2014  Developing            59.900          271.000   \n",
       "2  Afghanistan  2013  Developing            59.900          268.000   \n",
       "3  Afghanistan  2012  Developing            59.500          272.000   \n",
       "4  Afghanistan  2011  Developing            59.200          275.000   \n",
       "\n",
       "   infant deaths  Alcohol  percentage expenditure  Hepatitis B  Measles   \\\n",
       "0             62    0.010                  71.280       65.000      1154   \n",
       "1             64    0.010                  73.524       62.000       492   \n",
       "2             66    0.010                  73.219       64.000       430   \n",
       "3             69    0.010                  78.184       67.000      2787   \n",
       "4             71    0.010                   7.097       68.000      3013   \n",
       "\n",
       "     ...      Polio  Total expenditure  Diphtheria    HIV/AIDS     GDP  \\\n",
       "0    ...      6.000              8.160       65.000      0.100 584.259   \n",
       "1    ...     58.000              8.180       62.000      0.100 612.697   \n",
       "2    ...     62.000              8.130       64.000      0.100 631.745   \n",
       "3    ...     67.000              8.520       67.000      0.100 669.959   \n",
       "4    ...     68.000              7.870       68.000      0.100  63.537   \n",
       "\n",
       "    Population   thinness  1-19 years   thinness 5-9 years  \\\n",
       "0 33736494.000                 17.200               17.300   \n",
       "1   327582.000                 17.500               17.500   \n",
       "2 31731688.000                 17.700               17.700   \n",
       "3  3696958.000                 17.900               18.000   \n",
       "4  2978599.000                 18.200               18.200   \n",
       "\n",
       "   Income composition of resources  Schooling  \n",
       "0                            0.479     10.100  \n",
       "1                            0.476     10.000  \n",
       "2                            0.470      9.900  \n",
       "3                            0.463      9.800  \n",
       "4                            0.454      9.500  \n",
       "\n",
       "[5 rows x 22 columns]"
      ]
     },
     "execution_count": 2,
     "metadata": {},
     "output_type": "execute_result"
    }
   ],
   "source": [
    "LifeExpectancyData = pd.read_csv('data/LifeExpectancyData.csv')\n",
    "LifeExpectancyData.head()"
   ]
  },
  {
   "cell_type": "code",
   "execution_count": 3,
   "metadata": {},
   "outputs": [
    {
     "name": "stdout",
     "output_type": "stream",
     "text": [
      "<class 'pandas.core.frame.DataFrame'>\n",
      "RangeIndex: 2938 entries, 0 to 2937\n",
      "Data columns (total 22 columns):\n",
      "Country                            2938 non-null object\n",
      "Year                               2938 non-null int64\n",
      "Status                             2938 non-null object\n",
      "Life expectancy                    2928 non-null float64\n",
      "Adult Mortality                    2928 non-null float64\n",
      "infant deaths                      2938 non-null int64\n",
      "Alcohol                            2744 non-null float64\n",
      "percentage expenditure             2938 non-null float64\n",
      "Hepatitis B                        2385 non-null float64\n",
      "Measles                            2938 non-null int64\n",
      " BMI                               2904 non-null float64\n",
      "under-five deaths                  2938 non-null int64\n",
      "Polio                              2919 non-null float64\n",
      "Total expenditure                  2712 non-null float64\n",
      "Diphtheria                         2919 non-null float64\n",
      " HIV/AIDS                          2938 non-null float64\n",
      "GDP                                2490 non-null float64\n",
      "Population                         2286 non-null float64\n",
      " thinness  1-19 years              2904 non-null float64\n",
      " thinness 5-9 years                2904 non-null float64\n",
      "Income composition of resources    2771 non-null float64\n",
      "Schooling                          2775 non-null float64\n",
      "dtypes: float64(16), int64(4), object(2)\n",
      "memory usage: 505.0+ KB\n"
     ]
    }
   ],
   "source": [
    "LifeExpectancyData.info()"
   ]
  },
  {
   "cell_type": "code",
   "execution_count": 4,
   "metadata": {},
   "outputs": [
    {
     "data": {
      "text/plain": [
       "Country                              0\n",
       "Year                                 0\n",
       "Status                               0\n",
       "Life expectancy                     10\n",
       "Adult Mortality                     10\n",
       "infant deaths                        0\n",
       "Alcohol                            194\n",
       "percentage expenditure               0\n",
       "Hepatitis B                        553\n",
       "Measles                              0\n",
       " BMI                                34\n",
       "under-five deaths                    0\n",
       "Polio                               19\n",
       "Total expenditure                  226\n",
       "Diphtheria                          19\n",
       " HIV/AIDS                            0\n",
       "GDP                                448\n",
       "Population                         652\n",
       " thinness  1-19 years               34\n",
       " thinness 5-9 years                 34\n",
       "Income composition of resources    167\n",
       "Schooling                          163\n",
       "dtype: int64"
      ]
     },
     "execution_count": 4,
     "metadata": {},
     "output_type": "execute_result"
    }
   ],
   "source": [
    "LifeExpectancyData.isnull().sum()"
   ]
  },
  {
   "cell_type": "markdown",
   "metadata": {},
   "source": [
    "We have a lot of missing population values in  many countries. We alsa have GDP values from population for each countries as well. Therefore, I preferred to drop coloumn from data frame."
   ]
  },
  {
   "cell_type": "code",
   "execution_count": 5,
   "metadata": {},
   "outputs": [
    {
     "data": {
      "text/plain": [
       "Index(['Country', 'Year', 'Status', 'Life expectancy ', 'Adult Mortality',\n",
       "       'infant deaths', 'Alcohol', 'percentage expenditure', 'Hepatitis B',\n",
       "       'Measles ', ' BMI ', 'under-five deaths ', 'Polio', 'Total expenditure',\n",
       "       'Diphtheria ', ' HIV/AIDS', 'GDP', 'Population',\n",
       "       ' thinness  1-19 years', ' thinness 5-9 years',\n",
       "       'Income composition of resources', 'Schooling'],\n",
       "      dtype='object')"
      ]
     },
     "execution_count": 5,
     "metadata": {},
     "output_type": "execute_result"
    }
   ],
   "source": [
    "LifeExpectancyData.columns "
   ]
  },
  {
   "cell_type": "code",
   "execution_count": 6,
   "metadata": {},
   "outputs": [],
   "source": [
    "LifeExpectancyData.columns= ['Country', 'Year', 'Status', 'Life_Expectancy', 'Adult_Mortality',\n",
    "       'infant_deaths', 'Alcohol', 'percentage_expenditure', 'Hepatitis_B',\n",
    "       'Measles', 'BMI', 'under_five_deaths', 'Polio', 'Total_Expenditure',\n",
    "       'Diphtheria', 'HIV/AIDS', 'GDP','Population', 'thinness_1_19_years', 'thinness_5_9_years',\n",
    "       'Income_composition_of_resources', 'Schooling']"
   ]
  },
  {
   "cell_type": "code",
   "execution_count": 7,
   "metadata": {},
   "outputs": [],
   "source": [
    "bos_hucre_toplam = LifeExpectancyData.isnull().sum()\n",
    "bos_hucre_yuzde = LifeExpectancyData.isnull().sum()/LifeExpectancyData.isnull().count()\n",
    "bos_degerler = pd.concat([bos_hucre_toplam, bos_hucre_yuzde], axis=1, keys=['bos_toplam', 'bos_yuzde'])\n",
    "bos_degerler = bos_degerler.sort_values('bos_toplam', ascending=False)"
   ]
  },
  {
   "cell_type": "code",
   "execution_count": 8,
   "metadata": {},
   "outputs": [],
   "source": [
    "def bos_hucre(LifeExpectancyData):\n",
    "    bos_hucre_toplam = LifeExpectancyData.isnull().sum()\n",
    "    bos_hucre_yuzde = LifeExpectancyData.isnull().sum()/LifeExpectancyData.isnull().count()\n",
    "    bos_degerler = pd.concat([bos_hucre_toplam, bos_hucre_yuzde], axis=1, keys=['bos_toplam', 'bos_yuzde'])\n",
    "    bos_degerler = bos_degerler.sort_values('bos_toplam', ascending=False)\n",
    "    return bos_degerler[bos_degerler['bos_toplam'] > 0]"
   ]
  },
  {
   "cell_type": "code",
   "execution_count": 9,
   "metadata": {},
   "outputs": [
    {
     "data": {
      "text/plain": [
       "<matplotlib.axes._subplots.AxesSubplot at 0x26ceebcf8d0>"
      ]
     },
     "execution_count": 9,
     "metadata": {},
     "output_type": "execute_result"
    },
    {
     "data": {
      "image/png": "[encoded data removed]",
      "text/plain": [
       "<Figure size 432x288 with 2 Axes>"
      ]
     },
     "metadata": {
      "needs_background": "light"
     },
     "output_type": "display_data"
    }
   ],
   "source": [
    "sns.heatmap(LifeExpectancyData.isnull(),cmap='viridis')"
   ]
  },
  {
   "cell_type": "markdown",
   "metadata": {},
   "source": [
    "**4.a. Importing an Extarnel Data Frame**\n",
    "\n",
    "***Further steps requires extra tools to compare and to group row data for cleaning and filling Null values. Therefore, I imported another data frame with neccessary columns.**"
   ]
  },
  {
   "cell_type": "code",
   "execution_count": 10,
   "metadata": {},
   "outputs": [],
   "source": [
    "regions = pd.read_csv('./data/all.csv')"
   ]
  },
  {
   "cell_type": "code",
   "execution_count": 11,
   "metadata": {},
   "outputs": [
    {
     "data": {
      "text/html": [
       "<div>\n",
       "<style scoped>\n",
       "    .dataframe tbody tr th:only-of-type {\n",
       "        vertical-align: middle;\n",
       "    }\n",
       "\n",
       "    .dataframe tbody tr th {\n",
       "        vertical-align: top;\n",
       "    }\n",
       "\n",
       "    .dataframe thead th {\n",
       "        text-align: right;\n",
       "    }\n",
       "</style>\n",
       "<table border=\"1\" class=\"dataframe\">\n",
       "  <thead>\n",
       "    <tr style=\"text-align: right;\">\n",
       "      <th></th>\n",
       "      <th>name</th>\n",
       "      <th>alpha-2</th>\n",
       "      <th>alpha-3</th>\n",
       "      <th>country-code</th>\n",
       "      <th>iso_3166-2</th>\n",
       "      <th>region</th>\n",
       "      <th>sub-region</th>\n",
       "      <th>intermediate-region</th>\n",
       "      <th>region-code</th>\n",
       "      <th>sub-region-code</th>\n",
       "      <th>intermediate-region-code</th>\n",
       "    </tr>\n",
       "  </thead>\n",
       "  <tbody>\n",
       "    <tr>\n",
       "      <th>0</th>\n",
       "      <td>Afghanistan</td>\n",
       "      <td>AF</td>\n",
       "      <td>AFG</td>\n",
       "      <td>4</td>\n",
       "      <td>ISO 3166-2:AF</td>\n",
       "      <td>Asia</td>\n",
       "      <td>Southern Asia</td>\n",
       "      <td>NaN</td>\n",
       "      <td>142.000</td>\n",
       "      <td>34.000</td>\n",
       "      <td>nan</td>\n",
       "    </tr>\n",
       "    <tr>\n",
       "      <th>1</th>\n",
       "      <td>Åland Islands</td>\n",
       "      <td>AX</td>\n",
       "      <td>ALA</td>\n",
       "      <td>248</td>\n",
       "      <td>ISO 3166-2:AX</td>\n",
       "      <td>Europe</td>\n",
       "      <td>Northern Europe</td>\n",
       "      <td>NaN</td>\n",
       "      <td>150.000</td>\n",
       "      <td>154.000</td>\n",
       "      <td>nan</td>\n",
       "    </tr>\n",
       "    <tr>\n",
       "      <th>2</th>\n",
       "      <td>Albania</td>\n",
       "      <td>AL</td>\n",
       "      <td>ALB</td>\n",
       "      <td>8</td>\n",
       "      <td>ISO 3166-2:AL</td>\n",
       "      <td>Europe</td>\n",
       "      <td>Southern Europe</td>\n",
       "      <td>NaN</td>\n",
       "      <td>150.000</td>\n",
       "      <td>39.000</td>\n",
       "      <td>nan</td>\n",
       "    </tr>\n",
       "    <tr>\n",
       "      <th>3</th>\n",
       "      <td>Algeria</td>\n",
       "      <td>DZ</td>\n",
       "      <td>DZA</td>\n",
       "      <td>12</td>\n",
       "      <td>ISO 3166-2:DZ</td>\n",
       "      <td>Africa</td>\n",
       "      <td>Northern Africa</td>\n",
       "      <td>NaN</td>\n",
       "      <td>2.000</td>\n",
       "      <td>15.000</td>\n",
       "      <td>nan</td>\n",
       "    </tr>\n",
       "    <tr>\n",
       "      <th>4</th>\n",
       "      <td>American Samoa</td>\n",
       "      <td>AS</td>\n",
       "      <td>ASM</td>\n",
       "      <td>16</td>\n",
       "      <td>ISO 3166-2:AS</td>\n",
       "      <td>Oceania</td>\n",
       "      <td>Polynesia</td>\n",
       "      <td>NaN</td>\n",
       "      <td>9.000</td>\n",
       "      <td>61.000</td>\n",
       "      <td>nan</td>\n",
       "    </tr>\n",
       "  </tbody>\n",
       "</table>\n",
       "</div>"
      ],
      "text/plain": [
       "             name alpha-2 alpha-3  country-code     iso_3166-2   region  \\\n",
       "0     Afghanistan      AF     AFG             4  ISO 3166-2:AF     Asia   \n",
       "1   Åland Islands      AX     ALA           248  ISO 3166-2:AX   Europe   \n",
       "2         Albania      AL     ALB             8  ISO 3166-2:AL   Europe   \n",
       "3         Algeria      DZ     DZA            12  ISO 3166-2:DZ   Africa   \n",
       "4  American Samoa      AS     ASM            16  ISO 3166-2:AS  Oceania   \n",
       "\n",
       "        sub-region intermediate-region  region-code  sub-region-code  \\\n",
       "0    Southern Asia                 NaN      142.000           34.000   \n",
       "1  Northern Europe                 NaN      150.000          154.000   \n",
       "2  Southern Europe                 NaN      150.000           39.000   \n",
       "3  Northern Africa                 NaN        2.000           15.000   \n",
       "4        Polynesia                 NaN        9.000           61.000   \n",
       "\n",
       "   intermediate-region-code  \n",
       "0                       nan  \n",
       "1                       nan  \n",
       "2                       nan  \n",
       "3                       nan  \n",
       "4                       nan  "
      ]
     },
     "execution_count": 11,
     "metadata": {},
     "output_type": "execute_result"
    }
   ],
   "source": [
    "regions.head()"
   ]
  },
  {
   "cell_type": "code",
   "execution_count": 12,
   "metadata": {},
   "outputs": [
    {
     "data": {
      "text/plain": [
       "name          0\n",
       "region        1\n",
       "sub-region    1\n",
       "dtype: int64"
      ]
     },
     "execution_count": 12,
     "metadata": {},
     "output_type": "execute_result"
    }
   ],
   "source": [
    "regions[['name', 'region', 'sub-region']].isnull().sum()"
   ]
  },
  {
   "cell_type": "code",
   "execution_count": 13,
   "metadata": {},
   "outputs": [
    {
     "data": {
      "text/plain": [
       "Index(['name', 'alpha-2', 'alpha-3', 'country-code', 'iso_3166-2', 'region',\n",
       "       'sub-region', 'intermediate-region', 'region-code', 'sub-region-code',\n",
       "       'intermediate-region-code'],\n",
       "      dtype='object')"
      ]
     },
     "execution_count": 13,
     "metadata": {},
     "output_type": "execute_result"
    }
   ],
   "source": [
    "regions.columns"
   ]
  },
  {
   "cell_type": "markdown",
   "metadata": {},
   "source": [
    "**4.b. Merging two data frame in one, LifeExpectancyData_merged, will help us to fill in accurately.**"
   ]
  },
  {
   "cell_type": "code",
   "execution_count": 14,
   "metadata": {},
   "outputs": [],
   "source": [
    "LifeExpectancyData_merged = pd.merge(LifeExpectancyData, regions[['name', 'region', 'sub-region']], left_on='Country', right_on='name')"
   ]
  },
  {
   "cell_type": "code",
   "execution_count": 15,
   "metadata": {},
   "outputs": [
    {
     "data": {
      "text/html": [
       "<div>\n",
       "<style scoped>\n",
       "    .dataframe tbody tr th:only-of-type {\n",
       "        vertical-align: middle;\n",
       "    }\n",
       "\n",
       "    .dataframe tbody tr th {\n",
       "        vertical-align: top;\n",
       "    }\n",
       "\n",
       "    .dataframe thead th {\n",
       "        text-align: right;\n",
       "    }\n",
       "</style>\n",
       "<table border=\"1\" class=\"dataframe\">\n",
       "  <thead>\n",
       "    <tr style=\"text-align: right;\">\n",
       "      <th></th>\n",
       "      <th>bos_toplam</th>\n",
       "      <th>bos_yuzde</th>\n",
       "    </tr>\n",
       "  </thead>\n",
       "  <tbody>\n",
       "    <tr>\n",
       "      <th>Population</th>\n",
       "      <td>556</td>\n",
       "      <td>0.197</td>\n",
       "    </tr>\n",
       "    <tr>\n",
       "      <th>Hepatitis_B</th>\n",
       "      <td>536</td>\n",
       "      <td>0.190</td>\n",
       "    </tr>\n",
       "    <tr>\n",
       "      <th>GDP</th>\n",
       "      <td>352</td>\n",
       "      <td>0.125</td>\n",
       "    </tr>\n",
       "    <tr>\n",
       "      <th>Total_Expenditure</th>\n",
       "      <td>204</td>\n",
       "      <td>0.072</td>\n",
       "    </tr>\n",
       "    <tr>\n",
       "      <th>Alcohol</th>\n",
       "      <td>187</td>\n",
       "      <td>0.066</td>\n",
       "    </tr>\n",
       "    <tr>\n",
       "      <th>Income_composition_of_resources</th>\n",
       "      <td>87</td>\n",
       "      <td>0.031</td>\n",
       "    </tr>\n",
       "    <tr>\n",
       "      <th>Schooling</th>\n",
       "      <td>83</td>\n",
       "      <td>0.029</td>\n",
       "    </tr>\n",
       "    <tr>\n",
       "      <th>BMI</th>\n",
       "      <td>34</td>\n",
       "      <td>0.012</td>\n",
       "    </tr>\n",
       "    <tr>\n",
       "      <th>thinness_5_9_years</th>\n",
       "      <td>34</td>\n",
       "      <td>0.012</td>\n",
       "    </tr>\n",
       "    <tr>\n",
       "      <th>thinness_1_19_years</th>\n",
       "      <td>34</td>\n",
       "      <td>0.012</td>\n",
       "    </tr>\n",
       "    <tr>\n",
       "      <th>Polio</th>\n",
       "      <td>19</td>\n",
       "      <td>0.007</td>\n",
       "    </tr>\n",
       "    <tr>\n",
       "      <th>Diphtheria</th>\n",
       "      <td>19</td>\n",
       "      <td>0.007</td>\n",
       "    </tr>\n",
       "    <tr>\n",
       "      <th>Life_Expectancy</th>\n",
       "      <td>10</td>\n",
       "      <td>0.004</td>\n",
       "    </tr>\n",
       "    <tr>\n",
       "      <th>Adult_Mortality</th>\n",
       "      <td>10</td>\n",
       "      <td>0.004</td>\n",
       "    </tr>\n",
       "  </tbody>\n",
       "</table>\n",
       "</div>"
      ],
      "text/plain": [
       "                                 bos_toplam  bos_yuzde\n",
       "Population                              556      0.197\n",
       "Hepatitis_B                             536      0.190\n",
       "GDP                                     352      0.125\n",
       "Total_Expenditure                       204      0.072\n",
       "Alcohol                                 187      0.066\n",
       "Income_composition_of_resources          87      0.031\n",
       "Schooling                                83      0.029\n",
       "BMI                                      34      0.012\n",
       "thinness_5_9_years                       34      0.012\n",
       "thinness_1_19_years                      34      0.012\n",
       "Polio                                    19      0.007\n",
       "Diphtheria                               19      0.007\n",
       "Life_Expectancy                          10      0.004\n",
       "Adult_Mortality                          10      0.004"
      ]
     },
     "execution_count": 15,
     "metadata": {},
     "output_type": "execute_result"
    }
   ],
   "source": [
    "bos_hucre(LifeExpectancyData_merged)"
   ]
  },
  {
   "cell_type": "markdown",
   "metadata": {},
   "source": [
    "**5. Cleaning of the Row Data**"
   ]
  },
  {
   "cell_type": "markdown",
   "metadata": {},
   "source": [
    "There is a high number of Null values on Population column. We already have GDP values on each countries so I prefered to drop it."
   ]
  },
  {
   "cell_type": "code",
   "execution_count": 16,
   "metadata": {},
   "outputs": [],
   "source": [
    "LifeExpectancyData_merged.drop('Population', inplace=True, axis=1)"
   ]
  },
  {
   "cell_type": "code",
   "execution_count": 17,
   "metadata": {},
   "outputs": [
    {
     "data": {
      "text/plain": [
       "Index(['Country', 'Year', 'Status', 'Life_Expectancy', 'Adult_Mortality',\n",
       "       'infant_deaths', 'Alcohol', 'percentage_expenditure', 'Hepatitis_B',\n",
       "       'Measles', 'BMI', 'under_five_deaths', 'Polio', 'Total_Expenditure',\n",
       "       'Diphtheria', 'HIV/AIDS', 'GDP', 'thinness_1_19_years',\n",
       "       'thinness_5_9_years', 'Income_composition_of_resources', 'Schooling',\n",
       "       'name', 'region', 'sub-region'],\n",
       "      dtype='object')"
      ]
     },
     "execution_count": 17,
     "metadata": {},
     "output_type": "execute_result"
    }
   ],
   "source": [
    "LifeExpectancyData_merged.columns"
   ]
  },
  {
   "cell_type": "code",
   "execution_count": 18,
   "metadata": {},
   "outputs": [],
   "source": [
    "fill_list = (bos_hucre(LifeExpectancyData_merged)).index"
   ]
  },
  {
   "cell_type": "code",
   "execution_count": 19,
   "metadata": {},
   "outputs": [
    {
     "data": {
      "text/html": [
       "<div>\n",
       "<style scoped>\n",
       "    .dataframe tbody tr th:only-of-type {\n",
       "        vertical-align: middle;\n",
       "    }\n",
       "\n",
       "    .dataframe tbody tr th {\n",
       "        vertical-align: top;\n",
       "    }\n",
       "\n",
       "    .dataframe thead th {\n",
       "        text-align: right;\n",
       "    }\n",
       "</style>\n",
       "<table border=\"1\" class=\"dataframe\">\n",
       "  <thead>\n",
       "    <tr style=\"text-align: right;\">\n",
       "      <th></th>\n",
       "      <th>bos_toplam</th>\n",
       "      <th>bos_yuzde</th>\n",
       "    </tr>\n",
       "  </thead>\n",
       "  <tbody>\n",
       "    <tr>\n",
       "      <th>Hepatitis_B</th>\n",
       "      <td>536</td>\n",
       "      <td>0.190</td>\n",
       "    </tr>\n",
       "    <tr>\n",
       "      <th>GDP</th>\n",
       "      <td>352</td>\n",
       "      <td>0.125</td>\n",
       "    </tr>\n",
       "    <tr>\n",
       "      <th>Total_Expenditure</th>\n",
       "      <td>204</td>\n",
       "      <td>0.072</td>\n",
       "    </tr>\n",
       "    <tr>\n",
       "      <th>Alcohol</th>\n",
       "      <td>187</td>\n",
       "      <td>0.066</td>\n",
       "    </tr>\n",
       "    <tr>\n",
       "      <th>Income_composition_of_resources</th>\n",
       "      <td>87</td>\n",
       "      <td>0.031</td>\n",
       "    </tr>\n",
       "    <tr>\n",
       "      <th>Schooling</th>\n",
       "      <td>83</td>\n",
       "      <td>0.029</td>\n",
       "    </tr>\n",
       "    <tr>\n",
       "      <th>BMI</th>\n",
       "      <td>34</td>\n",
       "      <td>0.012</td>\n",
       "    </tr>\n",
       "    <tr>\n",
       "      <th>thinness_5_9_years</th>\n",
       "      <td>34</td>\n",
       "      <td>0.012</td>\n",
       "    </tr>\n",
       "    <tr>\n",
       "      <th>thinness_1_19_years</th>\n",
       "      <td>34</td>\n",
       "      <td>0.012</td>\n",
       "    </tr>\n",
       "    <tr>\n",
       "      <th>Polio</th>\n",
       "      <td>19</td>\n",
       "      <td>0.007</td>\n",
       "    </tr>\n",
       "    <tr>\n",
       "      <th>Diphtheria</th>\n",
       "      <td>19</td>\n",
       "      <td>0.007</td>\n",
       "    </tr>\n",
       "    <tr>\n",
       "      <th>Life_Expectancy</th>\n",
       "      <td>10</td>\n",
       "      <td>0.004</td>\n",
       "    </tr>\n",
       "    <tr>\n",
       "      <th>Adult_Mortality</th>\n",
       "      <td>10</td>\n",
       "      <td>0.004</td>\n",
       "    </tr>\n",
       "  </tbody>\n",
       "</table>\n",
       "</div>"
      ],
      "text/plain": [
       "                                 bos_toplam  bos_yuzde\n",
       "Hepatitis_B                             536      0.190\n",
       "GDP                                     352      0.125\n",
       "Total_Expenditure                       204      0.072\n",
       "Alcohol                                 187      0.066\n",
       "Income_composition_of_resources          87      0.031\n",
       "Schooling                                83      0.029\n",
       "BMI                                      34      0.012\n",
       "thinness_5_9_years                       34      0.012\n",
       "thinness_1_19_years                      34      0.012\n",
       "Polio                                    19      0.007\n",
       "Diphtheria                               19      0.007\n",
       "Life_Expectancy                          10      0.004\n",
       "Adult_Mortality                          10      0.004"
      ]
     },
     "execution_count": 19,
     "metadata": {},
     "output_type": "execute_result"
    }
   ],
   "source": [
    "bos_hucre(LifeExpectancyData_merged)"
   ]
  },
  {
   "cell_type": "markdown",
   "metadata": {},
   "source": [
    "**5. Filling of the Row Data**"
   ]
  },
  {
   "cell_type": "code",
   "execution_count": 20,
   "metadata": {},
   "outputs": [],
   "source": [
    "df_interpolate = LifeExpectancyData_merged.copy()\n",
    "\n",
    "for col in fill_list:\n",
    "    df_interpolate[col] = df_interpolate.groupby(['Country'])[col].transform(lambda x: x.interpolate(limit_direction = 'both'))"
   ]
  },
  {
   "cell_type": "code",
   "execution_count": 21,
   "metadata": {},
   "outputs": [
    {
     "data": {
      "text/html": [
       "<div>\n",
       "<style scoped>\n",
       "    .dataframe tbody tr th:only-of-type {\n",
       "        vertical-align: middle;\n",
       "    }\n",
       "\n",
       "    .dataframe tbody tr th {\n",
       "        vertical-align: top;\n",
       "    }\n",
       "\n",
       "    .dataframe thead th {\n",
       "        text-align: right;\n",
       "    }\n",
       "</style>\n",
       "<table border=\"1\" class=\"dataframe\">\n",
       "  <thead>\n",
       "    <tr style=\"text-align: right;\">\n",
       "      <th></th>\n",
       "      <th>bos_toplam</th>\n",
       "      <th>bos_yuzde</th>\n",
       "    </tr>\n",
       "  </thead>\n",
       "  <tbody>\n",
       "    <tr>\n",
       "      <th>GDP</th>\n",
       "      <td>309</td>\n",
       "      <td>0.109</td>\n",
       "    </tr>\n",
       "    <tr>\n",
       "      <th>Hepatitis_B</th>\n",
       "      <td>144</td>\n",
       "      <td>0.051</td>\n",
       "    </tr>\n",
       "    <tr>\n",
       "      <th>Income_composition_of_resources</th>\n",
       "      <td>87</td>\n",
       "      <td>0.031</td>\n",
       "    </tr>\n",
       "    <tr>\n",
       "      <th>Schooling</th>\n",
       "      <td>83</td>\n",
       "      <td>0.029</td>\n",
       "    </tr>\n",
       "    <tr>\n",
       "      <th>BMI</th>\n",
       "      <td>34</td>\n",
       "      <td>0.012</td>\n",
       "    </tr>\n",
       "    <tr>\n",
       "      <th>thinness_5_9_years</th>\n",
       "      <td>34</td>\n",
       "      <td>0.012</td>\n",
       "    </tr>\n",
       "    <tr>\n",
       "      <th>thinness_1_19_years</th>\n",
       "      <td>34</td>\n",
       "      <td>0.012</td>\n",
       "    </tr>\n",
       "    <tr>\n",
       "      <th>Alcohol</th>\n",
       "      <td>17</td>\n",
       "      <td>0.006</td>\n",
       "    </tr>\n",
       "    <tr>\n",
       "      <th>Total_Expenditure</th>\n",
       "      <td>16</td>\n",
       "      <td>0.006</td>\n",
       "    </tr>\n",
       "    <tr>\n",
       "      <th>Life_Expectancy</th>\n",
       "      <td>10</td>\n",
       "      <td>0.004</td>\n",
       "    </tr>\n",
       "    <tr>\n",
       "      <th>Adult_Mortality</th>\n",
       "      <td>10</td>\n",
       "      <td>0.004</td>\n",
       "    </tr>\n",
       "  </tbody>\n",
       "</table>\n",
       "</div>"
      ],
      "text/plain": [
       "                                 bos_toplam  bos_yuzde\n",
       "GDP                                     309      0.109\n",
       "Hepatitis_B                             144      0.051\n",
       "Income_composition_of_resources          87      0.031\n",
       "Schooling                                83      0.029\n",
       "BMI                                      34      0.012\n",
       "thinness_5_9_years                       34      0.012\n",
       "thinness_1_19_years                      34      0.012\n",
       "Alcohol                                  17      0.006\n",
       "Total_Expenditure                        16      0.006\n",
       "Life_Expectancy                          10      0.004\n",
       "Adult_Mortality                          10      0.004"
      ]
     },
     "execution_count": 21,
     "metadata": {},
     "output_type": "execute_result"
    }
   ],
   "source": [
    "bos_hucre(df_interpolate)"
   ]
  },
  {
   "cell_type": "markdown",
   "metadata": {},
   "source": [
    "****Applying Interpolate on both direction with grouping by Country, does not help on missing values of Total_Expenditure and Alcohol  as there is no information on related countries. Thus, I used interpolte method with grouping by sub-region and Year columns.***"
   ]
  },
  {
   "cell_type": "code",
   "execution_count": 22,
   "metadata": {},
   "outputs": [],
   "source": [
    "df_interpolate = LifeExpectancyData_merged.copy()\n",
    "\n",
    "for col in fill_list:\n",
    "    df_interpolate[col] = df_interpolate.groupby(['sub-region', 'Year'])[col].transform(lambda x: x.interpolate(limit_direction='both'))"
   ]
  },
  {
   "cell_type": "code",
   "execution_count": 23,
   "metadata": {},
   "outputs": [
    {
     "data": {
      "text/html": [
       "<div>\n",
       "<style scoped>\n",
       "    .dataframe tbody tr th:only-of-type {\n",
       "        vertical-align: middle;\n",
       "    }\n",
       "\n",
       "    .dataframe tbody tr th {\n",
       "        vertical-align: top;\n",
       "    }\n",
       "\n",
       "    .dataframe thead th {\n",
       "        text-align: right;\n",
       "    }\n",
       "</style>\n",
       "<table border=\"1\" class=\"dataframe\">\n",
       "  <thead>\n",
       "    <tr style=\"text-align: right;\">\n",
       "      <th></th>\n",
       "      <th>bos_toplam</th>\n",
       "      <th>bos_yuzde</th>\n",
       "    </tr>\n",
       "  </thead>\n",
       "  <tbody>\n",
       "    <tr>\n",
       "      <th>Total_Expenditure</th>\n",
       "      <td>156</td>\n",
       "      <td>0.055</td>\n",
       "    </tr>\n",
       "    <tr>\n",
       "      <th>Alcohol</th>\n",
       "      <td>133</td>\n",
       "      <td>0.047</td>\n",
       "    </tr>\n",
       "  </tbody>\n",
       "</table>\n",
       "</div>"
      ],
      "text/plain": [
       "                   bos_toplam  bos_yuzde\n",
       "Total_Expenditure         156      0.055\n",
       "Alcohol                   133      0.047"
      ]
     },
     "execution_count": 23,
     "metadata": {},
     "output_type": "execute_result"
    }
   ],
   "source": [
    "bos_hucre(df_interpolate)"
   ]
  },
  {
   "cell_type": "markdown",
   "metadata": {},
   "source": [
    "****We still have Null values on Alcohol and Total_Expenditure columns. I filled missing values by means of Countries.***"
   ]
  },
  {
   "cell_type": "code",
   "execution_count": 24,
   "metadata": {},
   "outputs": [],
   "source": [
    "for col in fill_list:\n",
    "    df_interpolate[col] = df_interpolate.groupby(['Country'])[col].transform(lambda x: x.fillna(np.round(x.mean())))"
   ]
  },
  {
   "cell_type": "code",
   "execution_count": 25,
   "metadata": {},
   "outputs": [
    {
     "data": {
      "text/html": [
       "<div>\n",
       "<style scoped>\n",
       "    .dataframe tbody tr th:only-of-type {\n",
       "        vertical-align: middle;\n",
       "    }\n",
       "\n",
       "    .dataframe tbody tr th {\n",
       "        vertical-align: top;\n",
       "    }\n",
       "\n",
       "    .dataframe thead th {\n",
       "        text-align: right;\n",
       "    }\n",
       "</style>\n",
       "<table border=\"1\" class=\"dataframe\">\n",
       "  <thead>\n",
       "    <tr style=\"text-align: right;\">\n",
       "      <th></th>\n",
       "      <th>bos_toplam</th>\n",
       "      <th>bos_yuzde</th>\n",
       "    </tr>\n",
       "  </thead>\n",
       "  <tbody>\n",
       "  </tbody>\n",
       "</table>\n",
       "</div>"
      ],
      "text/plain": [
       "Empty DataFrame\n",
       "Columns: [bos_toplam, bos_yuzde]\n",
       "Index: []"
      ]
     },
     "execution_count": 25,
     "metadata": {},
     "output_type": "execute_result"
    }
   ],
   "source": [
    "bos_hucre(df_interpolate)"
   ]
  },
  {
   "cell_type": "markdown",
   "metadata": {},
   "source": [
    "**8.Training the Model**"
   ]
  },
  {
   "cell_type": "code",
   "execution_count": 26,
   "metadata": {},
   "outputs": [],
   "source": [
    "LifeExpectancyData_num = df_interpolate._get_numeric_data() "
   ]
  },
  {
   "cell_type": "code",
   "execution_count": 27,
   "metadata": {},
   "outputs": [
    {
     "data": {
      "text/plain": [
       "Index(['Schooling', 'Income_composition_of_resources', 'Adult_Mortality',\n",
       "       'HIV/AIDS', 'BMI', 'Diphtheria', 'thinness_1_19_years', 'Polio',\n",
       "       'thinness_5_9_years', 'GDP', 'Alcohol', 'percentage_expenditure',\n",
       "       'Hepatitis_B', 'under_five_deaths', 'Total_Expenditure',\n",
       "       'infant_deaths', 'Year', 'Measles'],\n",
       "      dtype='object')"
      ]
     },
     "execution_count": 27,
     "metadata": {},
     "output_type": "execute_result"
    }
   ],
   "source": [
    "corr_matrix = LifeExpectancyData_num.corr()\n",
    "corr_list = corr_matrix.Life_Expectancy.abs().sort_values(ascending=False).index[1:]\n",
    "corr_list"
   ]
  },
  {
   "cell_type": "code",
   "execution_count": 28,
   "metadata": {
    "scrolled": true
   },
   "outputs": [],
   "source": [
    "y_allValues = LifeExpectancyData_num['Life_Expectancy']\n",
    "X_allValues = LifeExpectancyData_num[corr_list]"
   ]
  },
  {
   "cell_type": "code",
   "execution_count": 29,
   "metadata": {},
   "outputs": [
    {
     "name": "stdout",
     "output_type": "stream",
     "text": [
      "Eğitim kümesindeki gözlem sayısı : 2260\n",
      "Test kümesindeki gözlem sayısı   : 566\n"
     ]
    }
   ],
   "source": [
    "X_train, X_test, y_train, y_test = train_test_split(X_allValues, y_allValues, test_size = 0.2, random_state = 500)\n",
    "\n",
    "print(\"Eğitim kümesindeki gözlem sayısı : {}\".format(X_train.shape[0]))\n",
    "print(\"Test kümesindeki gözlem sayısı   : {}\".format(X_test.shape[0]))"
   ]
  },
  {
   "cell_type": "code",
   "execution_count": 30,
   "metadata": {},
   "outputs": [
    {
     "data": {
      "text/html": [
       "<table class=\"simpletable\">\n",
       "<caption>OLS Regression Results</caption>\n",
       "<tr>\n",
       "  <th>Dep. Variable:</th>     <td>Life_Expectancy</td> <th>  R-squared:         </th> <td>   0.834</td> \n",
       "</tr>\n",
       "<tr>\n",
       "  <th>Model:</th>                   <td>OLS</td>       <th>  Adj. R-squared:    </th> <td>   0.833</td> \n",
       "</tr>\n",
       "<tr>\n",
       "  <th>Method:</th>             <td>Least Squares</td>  <th>  F-statistic:       </th> <td>   626.1</td> \n",
       "</tr>\n",
       "<tr>\n",
       "  <th>Date:</th>             <td>Tue, 30 Apr 2019</td> <th>  Prob (F-statistic):</th>  <td>  0.00</td>  \n",
       "</tr>\n",
       "<tr>\n",
       "  <th>Time:</th>                 <td>11:36:27</td>     <th>  Log-Likelihood:    </th> <td> -6238.8</td> \n",
       "</tr>\n",
       "<tr>\n",
       "  <th>No. Observations:</th>      <td>  2260</td>      <th>  AIC:               </th> <td>1.252e+04</td>\n",
       "</tr>\n",
       "<tr>\n",
       "  <th>Df Residuals:</th>          <td>  2241</td>      <th>  BIC:               </th> <td>1.262e+04</td>\n",
       "</tr>\n",
       "<tr>\n",
       "  <th>Df Model:</th>              <td>    18</td>      <th>                     </th>     <td> </td>    \n",
       "</tr>\n",
       "<tr>\n",
       "  <th>Covariance Type:</th>      <td>nonrobust</td>    <th>                     </th>     <td> </td>    \n",
       "</tr>\n",
       "</table>\n",
       "<table class=\"simpletable\">\n",
       "<tr>\n",
       "                 <td></td>                    <th>coef</th>     <th>std err</th>      <th>t</th>      <th>P>|t|</th>  <th>[0.025</th>    <th>0.975]</th>  \n",
       "</tr>\n",
       "<tr>\n",
       "  <th>const</th>                           <td>  145.4647</td> <td>   37.885</td> <td>    3.840</td> <td> 0.000</td> <td>   71.172</td> <td>  219.758</td>\n",
       "</tr>\n",
       "<tr>\n",
       "  <th>Schooling</th>                       <td>    0.7583</td> <td>    0.046</td> <td>   16.528</td> <td> 0.000</td> <td>    0.668</td> <td>    0.848</td>\n",
       "</tr>\n",
       "<tr>\n",
       "  <th>Income_composition_of_resources</th> <td>    7.3585</td> <td>    0.687</td> <td>   10.716</td> <td> 0.000</td> <td>    6.012</td> <td>    8.705</td>\n",
       "</tr>\n",
       "<tr>\n",
       "  <th>Adult_Mortality</th>                 <td>   -0.0171</td> <td>    0.001</td> <td>  -18.641</td> <td> 0.000</td> <td>   -0.019</td> <td>   -0.015</td>\n",
       "</tr>\n",
       "<tr>\n",
       "  <th>HIV/AIDS</th>                        <td>   -0.5340</td> <td>    0.023</td> <td>  -22.784</td> <td> 0.000</td> <td>   -0.580</td> <td>   -0.488</td>\n",
       "</tr>\n",
       "<tr>\n",
       "  <th>BMI</th>                             <td>    0.0410</td> <td>    0.005</td> <td>    7.487</td> <td> 0.000</td> <td>    0.030</td> <td>    0.052</td>\n",
       "</tr>\n",
       "<tr>\n",
       "  <th>Diphtheria</th>                      <td>    0.0312</td> <td>    0.005</td> <td>    5.995</td> <td> 0.000</td> <td>    0.021</td> <td>    0.041</td>\n",
       "</tr>\n",
       "<tr>\n",
       "  <th>thinness_1_19_years</th>             <td>   -0.0667</td> <td>    0.052</td> <td>   -1.270</td> <td> 0.204</td> <td>   -0.170</td> <td>    0.036</td>\n",
       "</tr>\n",
       "<tr>\n",
       "  <th>Polio</th>                           <td>    0.0268</td> <td>    0.005</td> <td>    5.363</td> <td> 0.000</td> <td>    0.017</td> <td>    0.037</td>\n",
       "</tr>\n",
       "<tr>\n",
       "  <th>thinness_5_9_years</th>              <td>   -0.0028</td> <td>    0.052</td> <td>   -0.055</td> <td> 0.956</td> <td>   -0.104</td> <td>    0.098</td>\n",
       "</tr>\n",
       "<tr>\n",
       "  <th>GDP</th>                             <td> 2.543e-05</td> <td> 1.12e-05</td> <td>    2.268</td> <td> 0.023</td> <td> 3.44e-06</td> <td> 4.74e-05</td>\n",
       "</tr>\n",
       "<tr>\n",
       "  <th>Alcohol</th>                         <td>    0.0398</td> <td>    0.026</td> <td>    1.501</td> <td> 0.134</td> <td>   -0.012</td> <td>    0.092</td>\n",
       "</tr>\n",
       "<tr>\n",
       "  <th>percentage_expenditure</th>          <td>    0.0002</td> <td> 7.58e-05</td> <td>    2.967</td> <td> 0.003</td> <td> 7.62e-05</td> <td>    0.000</td>\n",
       "</tr>\n",
       "<tr>\n",
       "  <th>Hepatitis_B</th>                     <td>   -0.0044</td> <td>    0.004</td> <td>   -1.109</td> <td> 0.268</td> <td>   -0.012</td> <td>    0.003</td>\n",
       "</tr>\n",
       "<tr>\n",
       "  <th>under_five_deaths</th>               <td>   -0.0672</td> <td>    0.006</td> <td>  -10.499</td> <td> 0.000</td> <td>   -0.080</td> <td>   -0.055</td>\n",
       "</tr>\n",
       "<tr>\n",
       "  <th>Total_Expenditure</th>               <td>    0.0371</td> <td>    0.035</td> <td>    1.057</td> <td> 0.290</td> <td>   -0.032</td> <td>    0.106</td>\n",
       "</tr>\n",
       "<tr>\n",
       "  <th>infant_deaths</th>                   <td>    0.0901</td> <td>    0.009</td> <td>   10.404</td> <td> 0.000</td> <td>    0.073</td> <td>    0.107</td>\n",
       "</tr>\n",
       "<tr>\n",
       "  <th>Year</th>                            <td>   -0.0461</td> <td>    0.019</td> <td>   -2.434</td> <td> 0.015</td> <td>   -0.083</td> <td>   -0.009</td>\n",
       "</tr>\n",
       "<tr>\n",
       "  <th>Measles</th>                         <td>-1.388e-05</td> <td> 9.18e-06</td> <td>   -1.513</td> <td> 0.130</td> <td>-3.19e-05</td> <td> 4.11e-06</td>\n",
       "</tr>\n",
       "</table>\n",
       "<table class=\"simpletable\">\n",
       "<tr>\n",
       "  <th>Omnibus:</th>       <td>124.186</td> <th>  Durbin-Watson:     </th> <td>   1.969</td> \n",
       "</tr>\n",
       "<tr>\n",
       "  <th>Prob(Omnibus):</th> <td> 0.000</td>  <th>  Jarque-Bera (JB):  </th> <td> 483.456</td> \n",
       "</tr>\n",
       "<tr>\n",
       "  <th>Skew:</th>          <td>-0.040</td>  <th>  Prob(JB):          </th> <td>1.04e-105</td>\n",
       "</tr>\n",
       "<tr>\n",
       "  <th>Kurtosis:</th>      <td> 5.264</td>  <th>  Cond. No.          </th> <td>7.62e+06</td> \n",
       "</tr>\n",
       "</table><br/><br/>Warnings:<br/>[1] Standard Errors assume that the covariance matrix of the errors is correctly specified.<br/>[2] The condition number is large, 7.62e+06. This might indicate that there are<br/>strong multicollinearity or other numerical problems."
      ],
      "text/plain": [
       "<class 'statsmodels.iolib.summary.Summary'>\n",
       "\"\"\"\n",
       "                            OLS Regression Results                            \n",
       "==============================================================================\n",
       "Dep. Variable:        Life_Expectancy   R-squared:                       0.834\n",
       "Model:                            OLS   Adj. R-squared:                  0.833\n",
       "Method:                 Least Squares   F-statistic:                     626.1\n",
       "Date:                Tue, 30 Apr 2019   Prob (F-statistic):               0.00\n",
       "Time:                        11:36:27   Log-Likelihood:                -6238.8\n",
       "No. Observations:                2260   AIC:                         1.252e+04\n",
       "Df Residuals:                    2241   BIC:                         1.262e+04\n",
       "Df Model:                          18                                         \n",
       "Covariance Type:            nonrobust                                         \n",
       "===================================================================================================\n",
       "                                      coef    std err          t      P>|t|      [0.025      0.975]\n",
       "---------------------------------------------------------------------------------------------------\n",
       "const                             145.4647     37.885      3.840      0.000      71.172     219.758\n",
       "Schooling                           0.7583      0.046     16.528      0.000       0.668       0.848\n",
       "Income_composition_of_resources     7.3585      0.687     10.716      0.000       6.012       8.705\n",
       "Adult_Mortality                    -0.0171      0.001    -18.641      0.000      -0.019      -0.015\n",
       "HIV/AIDS                           -0.5340      0.023    -22.784      0.000      -0.580      -0.488\n",
       "BMI                                 0.0410      0.005      7.487      0.000       0.030       0.052\n",
       "Diphtheria                          0.0312      0.005      5.995      0.000       0.021       0.041\n",
       "thinness_1_19_years                -0.0667      0.052     -1.270      0.204      -0.170       0.036\n",
       "Polio                               0.0268      0.005      5.363      0.000       0.017       0.037\n",
       "thinness_5_9_years                 -0.0028      0.052     -0.055      0.956      -0.104       0.098\n",
       "GDP                              2.543e-05   1.12e-05      2.268      0.023    3.44e-06    4.74e-05\n",
       "Alcohol                             0.0398      0.026      1.501      0.134      -0.012       0.092\n",
       "percentage_expenditure              0.0002   7.58e-05      2.967      0.003    7.62e-05       0.000\n",
       "Hepatitis_B                        -0.0044      0.004     -1.109      0.268      -0.012       0.003\n",
       "under_five_deaths                  -0.0672      0.006    -10.499      0.000      -0.080      -0.055\n",
       "Total_Expenditure                   0.0371      0.035      1.057      0.290      -0.032       0.106\n",
       "infant_deaths                       0.0901      0.009     10.404      0.000       0.073       0.107\n",
       "Year                               -0.0461      0.019     -2.434      0.015      -0.083      -0.009\n",
       "Measles                         -1.388e-05   9.18e-06     -1.513      0.130   -3.19e-05    4.11e-06\n",
       "==============================================================================\n",
       "Omnibus:                      124.186   Durbin-Watson:                   1.969\n",
       "Prob(Omnibus):                  0.000   Jarque-Bera (JB):              483.456\n",
       "Skew:                          -0.040   Prob(JB):                    1.04e-105\n",
       "Kurtosis:                       5.264   Cond. No.                     7.62e+06\n",
       "==============================================================================\n",
       "\n",
       "Warnings:\n",
       "[1] Standard Errors assume that the covariance matrix of the errors is correctly specified.\n",
       "[2] The condition number is large, 7.62e+06. This might indicate that there are\n",
       "strong multicollinearity or other numerical problems.\n",
       "\"\"\""
      ]
     },
     "execution_count": 30,
     "metadata": {},
     "output_type": "execute_result"
    }
   ],
   "source": [
    "X_train = sm.add_constant(X_train)\n",
    "\n",
    "tum_degiskenli_model = sm.OLS(y_train, X_train).fit()\n",
    "\n",
    "tum_degiskenli_model.summary()"
   ]
  },
  {
   "cell_type": "code",
   "execution_count": 31,
   "metadata": {},
   "outputs": [
    {
     "data": {
      "image/png": "[encoded data removed]",
      "text/plain": [
       "<Figure size 600x400 with 1 Axes>"
      ]
     },
     "metadata": {
      "needs_background": "light"
     },
     "output_type": "display_data"
    }
   ],
   "source": [
    "X_test = sm.add_constant(X_test)\n",
    "\n",
    "y_preds = tum_degiskenli_model.predict(X_test)\n",
    "\n",
    "plt.figure(dpi = 100)\n",
    "\n",
    "plt.scatter(y_test, y_preds)\n",
    "plt.plot(y_test, y_test, color=\"red\")\n",
    "plt.xlabel(\"Gerçek Değerler\")\n",
    "plt.ylabel(\"Tahmin edilen Değerler\")\n",
    "plt.title(\"Life Expectancy: Gerçek ve tahmin edilen değerler\")\n",
    "plt.show()"
   ]
  },
  {
   "cell_type": "code",
   "execution_count": 32,
   "metadata": {},
   "outputs": [
    {
     "name": "stdout",
     "output_type": "stream",
     "text": [
      "Ortalama Mutlak Hata (MAE)        : 3.1368814854561715\n",
      "Ortalama Kare Hata (MSE)          : 17.422056097737922\n",
      "Kök Ortalama Kare Hata (RMSE)     : 4.17397365800719\n",
      "Ortalama Mutlak Yüzde Hata (MAPE) : 4.827061352168725\n"
     ]
    }
   ],
   "source": [
    "print(\"Ortalama Mutlak Hata (MAE)        : {}\".format(mean_absolute_error(y_test, y_preds)))\n",
    "print(\"Ortalama Kare Hata (MSE)          : {}\".format(mse(y_test, y_preds)))\n",
    "print(\"Kök Ortalama Kare Hata (RMSE)     : {}\".format(rmse(y_test, y_preds)))\n",
    "print(\"Ortalama Mutlak Yüzde Hata (MAPE) : {}\".format(np.mean(np.abs((y_test - y_preds) / y_test)) * 100))"
   ]
  },
  {
   "cell_type": "code",
   "execution_count": 33,
   "metadata": {},
   "outputs": [
    {
     "data": {
      "text/plain": [
       "19"
      ]
     },
     "execution_count": 33,
     "metadata": {},
     "output_type": "execute_result"
    }
   ],
   "source": [
    "len(tum_degiskenli_model.pvalues)"
   ]
  },
  {
   "cell_type": "code",
   "execution_count": 34,
   "metadata": {},
   "outputs": [
    {
     "data": {
      "text/plain": [
       "['const',\n",
       " 'Schooling',\n",
       " 'Income_composition_of_resources',\n",
       " 'Adult_Mortality',\n",
       " 'HIV/AIDS',\n",
       " 'BMI',\n",
       " 'Diphtheria',\n",
       " 'Polio',\n",
       " 'GDP',\n",
       " 'percentage_expenditure',\n",
       " 'under_five_deaths',\n",
       " 'infant_deaths',\n",
       " 'Year']"
      ]
     },
     "execution_count": 34,
     "metadata": {},
     "output_type": "execute_result"
    }
   ],
   "source": [
    "pDegeri = tum_degiskenli_model.pvalues\n",
    "anlamli_degerler = list(pDegeri[pDegeri<= 0.05].index)\n",
    "anlamli_degerler"
   ]
  },
  {
   "cell_type": "code",
   "execution_count": 35,
   "metadata": {},
   "outputs": [],
   "source": [
    "anlamli_degerler= anlamli_degerler[1:]"
   ]
  },
  {
   "cell_type": "code",
   "execution_count": 36,
   "metadata": {},
   "outputs": [
    {
     "data": {
      "text/plain": [
       "12"
      ]
     },
     "execution_count": 36,
     "metadata": {},
     "output_type": "execute_result"
    }
   ],
   "source": [
    "len(anlamli_degerler)"
   ]
  },
  {
   "cell_type": "code",
   "execution_count": 37,
   "metadata": {},
   "outputs": [],
   "source": [
    "y_anlamli = LifeExpectancyData_num['Life_Expectancy'] \n",
    "X_anlamli = LifeExpectancyData_num[anlamli_degerler] "
   ]
  },
  {
   "cell_type": "code",
   "execution_count": 38,
   "metadata": {},
   "outputs": [
    {
     "name": "stdout",
     "output_type": "stream",
     "text": [
      "Eğitim kümesindeki gözlem sayısı : 2260\n",
      "Test kümesindeki gözlem sayısı   : 566\n"
     ]
    }
   ],
   "source": [
    "X_train, X_test, y_train, y_test = train_test_split(X_anlamli, y_anlamli, test_size = 0.2, random_state = 500)\n",
    "\n",
    "print(\"Eğitim kümesindeki gözlem sayısı : {}\".format(X_train.shape[0]))\n",
    "print(\"Test kümesindeki gözlem sayısı   : {}\".format(X_test.shape[0]))"
   ]
  },
  {
   "cell_type": "code",
   "execution_count": 39,
   "metadata": {},
   "outputs": [
    {
     "data": {
      "text/html": [
       "<table class=\"simpletable\">\n",
       "<caption>OLS Regression Results</caption>\n",
       "<tr>\n",
       "  <th>Dep. Variable:</th>     <td>Life_Expectancy</td> <th>  R-squared:         </th> <td>   0.828</td> \n",
       "</tr>\n",
       "<tr>\n",
       "  <th>Model:</th>                   <td>OLS</td>       <th>  Adj. R-squared:    </th> <td>   0.827</td> \n",
       "</tr>\n",
       "<tr>\n",
       "  <th>Method:</th>             <td>Least Squares</td>  <th>  F-statistic:       </th> <td>   1128.</td> \n",
       "</tr>\n",
       "<tr>\n",
       "  <th>Date:</th>             <td>Tue, 30 Apr 2019</td> <th>  Prob (F-statistic):</th>  <td>  0.00</td>  \n",
       "</tr>\n",
       "<tr>\n",
       "  <th>Time:</th>                 <td>11:36:28</td>     <th>  Log-Likelihood:    </th> <td> -7864.4</td> \n",
       "</tr>\n",
       "<tr>\n",
       "  <th>No. Observations:</th>      <td>  2826</td>      <th>  AIC:               </th> <td>1.575e+04</td>\n",
       "</tr>\n",
       "<tr>\n",
       "  <th>Df Residuals:</th>          <td>  2813</td>      <th>  BIC:               </th> <td>1.583e+04</td>\n",
       "</tr>\n",
       "<tr>\n",
       "  <th>Df Model:</th>              <td>    12</td>      <th>                     </th>     <td> </td>    \n",
       "</tr>\n",
       "<tr>\n",
       "  <th>Covariance Type:</th>      <td>nonrobust</td>    <th>                     </th>     <td> </td>    \n",
       "</tr>\n",
       "</table>\n",
       "<table class=\"simpletable\">\n",
       "<tr>\n",
       "                 <td></td>                    <th>coef</th>     <th>std err</th>      <th>t</th>      <th>P>|t|</th>  <th>[0.025</th>    <th>0.975]</th>  \n",
       "</tr>\n",
       "<tr>\n",
       "  <th>const</th>                           <td>  151.6324</td> <td>   33.500</td> <td>    4.526</td> <td> 0.000</td> <td>   85.945</td> <td>  217.320</td>\n",
       "</tr>\n",
       "<tr>\n",
       "  <th>Schooling</th>                       <td>    0.7940</td> <td>    0.040</td> <td>   20.056</td> <td> 0.000</td> <td>    0.716</td> <td>    0.872</td>\n",
       "</tr>\n",
       "<tr>\n",
       "  <th>Income_composition_of_resources</th> <td>    7.8277</td> <td>    0.635</td> <td>   12.334</td> <td> 0.000</td> <td>    6.583</td> <td>    9.072</td>\n",
       "</tr>\n",
       "<tr>\n",
       "  <th>Adult_Mortality</th>                 <td>   -0.0173</td> <td>    0.001</td> <td>  -20.940</td> <td> 0.000</td> <td>   -0.019</td> <td>   -0.016</td>\n",
       "</tr>\n",
       "<tr>\n",
       "  <th>HIV/AIDS</th>                        <td>   -0.5335</td> <td>    0.021</td> <td>  -25.588</td> <td> 0.000</td> <td>   -0.574</td> <td>   -0.493</td>\n",
       "</tr>\n",
       "<tr>\n",
       "  <th>BMI</th>                             <td>    0.0443</td> <td>    0.005</td> <td>    9.725</td> <td> 0.000</td> <td>    0.035</td> <td>    0.053</td>\n",
       "</tr>\n",
       "<tr>\n",
       "  <th>Diphtheria</th>                      <td>    0.0299</td> <td>    0.004</td> <td>    6.649</td> <td> 0.000</td> <td>    0.021</td> <td>    0.039</td>\n",
       "</tr>\n",
       "<tr>\n",
       "  <th>Polio</th>                           <td>    0.0239</td> <td>    0.004</td> <td>    5.403</td> <td> 0.000</td> <td>    0.015</td> <td>    0.033</td>\n",
       "</tr>\n",
       "<tr>\n",
       "  <th>GDP</th>                             <td> 2.806e-05</td> <td> 1.05e-05</td> <td>    2.683</td> <td> 0.007</td> <td> 7.55e-06</td> <td> 4.86e-05</td>\n",
       "</tr>\n",
       "<tr>\n",
       "  <th>percentage_expenditure</th>          <td>    0.0002</td> <td>    7e-05</td> <td>    3.487</td> <td> 0.000</td> <td>    0.000</td> <td>    0.000</td>\n",
       "</tr>\n",
       "<tr>\n",
       "  <th>under_five_deaths</th>               <td>   -0.0643</td> <td>    0.006</td> <td>  -10.990</td> <td> 0.000</td> <td>   -0.076</td> <td>   -0.053</td>\n",
       "</tr>\n",
       "<tr>\n",
       "  <th>infant_deaths</th>                   <td>    0.0848</td> <td>    0.008</td> <td>   10.704</td> <td> 0.000</td> <td>    0.069</td> <td>    0.100</td>\n",
       "</tr>\n",
       "<tr>\n",
       "  <th>Year</th>                            <td>   -0.0496</td> <td>    0.017</td> <td>   -2.963</td> <td> 0.003</td> <td>   -0.082</td> <td>   -0.017</td>\n",
       "</tr>\n",
       "</table>\n",
       "<table class=\"simpletable\">\n",
       "<tr>\n",
       "  <th>Omnibus:</th>       <td>159.442</td> <th>  Durbin-Watson:     </th> <td>   0.685</td> \n",
       "</tr>\n",
       "<tr>\n",
       "  <th>Prob(Omnibus):</th> <td> 0.000</td>  <th>  Jarque-Bera (JB):  </th> <td> 641.423</td> \n",
       "</tr>\n",
       "<tr>\n",
       "  <th>Skew:</th>          <td> 0.047</td>  <th>  Prob(JB):          </th> <td>5.21e-140</td>\n",
       "</tr>\n",
       "<tr>\n",
       "  <th>Kurtosis:</th>      <td> 5.332</td>  <th>  Cond. No.          </th> <td>7.28e+06</td> \n",
       "</tr>\n",
       "</table><br/><br/>Warnings:<br/>[1] Standard Errors assume that the covariance matrix of the errors is correctly specified.<br/>[2] The condition number is large, 7.28e+06. This might indicate that there are<br/>strong multicollinearity or other numerical problems."
      ],
      "text/plain": [
       "<class 'statsmodels.iolib.summary.Summary'>\n",
       "\"\"\"\n",
       "                            OLS Regression Results                            \n",
       "==============================================================================\n",
       "Dep. Variable:        Life_Expectancy   R-squared:                       0.828\n",
       "Model:                            OLS   Adj. R-squared:                  0.827\n",
       "Method:                 Least Squares   F-statistic:                     1128.\n",
       "Date:                Tue, 30 Apr 2019   Prob (F-statistic):               0.00\n",
       "Time:                        11:36:28   Log-Likelihood:                -7864.4\n",
       "No. Observations:                2826   AIC:                         1.575e+04\n",
       "Df Residuals:                    2813   BIC:                         1.583e+04\n",
       "Df Model:                          12                                         \n",
       "Covariance Type:            nonrobust                                         \n",
       "===================================================================================================\n",
       "                                      coef    std err          t      P>|t|      [0.025      0.975]\n",
       "---------------------------------------------------------------------------------------------------\n",
       "const                             151.6324     33.500      4.526      0.000      85.945     217.320\n",
       "Schooling                           0.7940      0.040     20.056      0.000       0.716       0.872\n",
       "Income_composition_of_resources     7.8277      0.635     12.334      0.000       6.583       9.072\n",
       "Adult_Mortality                    -0.0173      0.001    -20.940      0.000      -0.019      -0.016\n",
       "HIV/AIDS                           -0.5335      0.021    -25.588      0.000      -0.574      -0.493\n",
       "BMI                                 0.0443      0.005      9.725      0.000       0.035       0.053\n",
       "Diphtheria                          0.0299      0.004      6.649      0.000       0.021       0.039\n",
       "Polio                               0.0239      0.004      5.403      0.000       0.015       0.033\n",
       "GDP                              2.806e-05   1.05e-05      2.683      0.007    7.55e-06    4.86e-05\n",
       "percentage_expenditure              0.0002      7e-05      3.487      0.000       0.000       0.000\n",
       "under_five_deaths                  -0.0643      0.006    -10.990      0.000      -0.076      -0.053\n",
       "infant_deaths                       0.0848      0.008     10.704      0.000       0.069       0.100\n",
       "Year                               -0.0496      0.017     -2.963      0.003      -0.082      -0.017\n",
       "==============================================================================\n",
       "Omnibus:                      159.442   Durbin-Watson:                   0.685\n",
       "Prob(Omnibus):                  0.000   Jarque-Bera (JB):              641.423\n",
       "Skew:                           0.047   Prob(JB):                    5.21e-140\n",
       "Kurtosis:                       5.332   Cond. No.                     7.28e+06\n",
       "==============================================================================\n",
       "\n",
       "Warnings:\n",
       "[1] Standard Errors assume that the covariance matrix of the errors is correctly specified.\n",
       "[2] The condition number is large, 7.28e+06. This might indicate that there are\n",
       "strong multicollinearity or other numerical problems.\n",
       "\"\"\""
      ]
     },
     "execution_count": 39,
     "metadata": {},
     "output_type": "execute_result"
    }
   ],
   "source": [
    "X_anlamli = sm.add_constant(X_anlamli)\n",
    "anlamli_12degiskenli_model = sm.OLS(y_anlamli, X_anlamli).fit()\n",
    "anlamli_12degiskenli_model.summary()"
   ]
  },
  {
   "cell_type": "code",
   "execution_count": 40,
   "metadata": {},
   "outputs": [
    {
     "data": {
      "image/png": "[encoded data removed]",
      "text/plain": [
       "<Figure size 600x400 with 1 Axes>"
      ]
     },
     "metadata": {
      "needs_background": "light"
     },
     "output_type": "display_data"
    }
   ],
   "source": [
    "X_test = sm.add_constant(X_test)\n",
    "\n",
    "y_preds = anlamli_12degiskenli_model.predict(X_test)\n",
    "\n",
    "plt.figure(dpi = 100)\n",
    "\n",
    "plt.scatter(y_test, y_preds)\n",
    "plt.plot(y_test, y_test, color=\"red\")\n",
    "plt.xlabel(\"Gerçek Değerler\")\n",
    "plt.ylabel(\"Tahmin edilen Değerler\")\n",
    "plt.title(\"SalePrice: Gerçek ve tahmin edilen değerler\")\n",
    "plt.show()"
   ]
  },
  {
   "cell_type": "code",
   "execution_count": 41,
   "metadata": {},
   "outputs": [
    {
     "name": "stdout",
     "output_type": "stream",
     "text": [
      "0.834128773882979\n",
      "0.827936654182605\n"
     ]
    }
   ],
   "source": [
    "print (tum_degiskenli_model.rsquared)\n",
    "print (anlamli_12degiskenli_model.rsquared) \n"
   ]
  },
  {
   "cell_type": "code",
   "execution_count": 42,
   "metadata": {},
   "outputs": [
    {
     "data": {
      "text/plain": [
       "const                             0.000\n",
       "Schooling                         0.000\n",
       "Income_composition_of_resources   0.000\n",
       "Adult_Mortality                   0.000\n",
       "HIV/AIDS                          0.000\n",
       "BMI                               0.000\n",
       "Diphtheria                        0.000\n",
       "Polio                             0.000\n",
       "GDP                               0.007\n",
       "percentage_expenditure            0.000\n",
       "under_five_deaths                 0.000\n",
       "infant_deaths                     0.000\n",
       "Year                              0.003\n",
       "dtype: float64"
      ]
     },
     "execution_count": 42,
     "metadata": {},
     "output_type": "execute_result"
    }
   ],
   "source": [
    "anlamli_12degiskenli_model.pvalues"
   ]
  },
  {
   "cell_type": "code",
   "execution_count": 43,
   "metadata": {},
   "outputs": [
    {
     "data": {
      "text/plain": [
       "['Schooling',\n",
       " 'Income_composition_of_resources',\n",
       " 'Adult_Mortality',\n",
       " 'HIV/AIDS',\n",
       " 'BMI',\n",
       " 'Diphtheria',\n",
       " 'Polio',\n",
       " 'GDP',\n",
       " 'percentage_expenditure',\n",
       " 'under_five_deaths',\n",
       " 'infant_deaths',\n",
       " 'Year']"
      ]
     },
     "execution_count": 43,
     "metadata": {},
     "output_type": "execute_result"
    }
   ],
   "source": [
    "anlamli_degerler"
   ]
  },
  {
   "cell_type": "markdown",
   "metadata": {},
   "source": [
    "anlamli_degerler listesinde artik sabit olmadigi icin devam edebiliriz."
   ]
  },
  {
   "cell_type": "code",
   "execution_count": 45,
   "metadata": {},
   "outputs": [],
   "source": [
    "X_arttirilmis_anlamli = LifeExpectancyData_num[anlamli_degerler[:10]]\n"
   ]
  },
  {
   "cell_type": "code",
   "execution_count": 46,
   "metadata": {},
   "outputs": [
    {
     "data": {
      "text/plain": [
       "10"
      ]
     },
     "execution_count": 46,
     "metadata": {},
     "output_type": "execute_result"
    }
   ],
   "source": [
    "len(anlamli_degerler[:10])"
   ]
  },
  {
   "cell_type": "code",
   "execution_count": 47,
   "metadata": {},
   "outputs": [
    {
     "name": "stdout",
     "output_type": "stream",
     "text": [
      "Eğitim kümesindeki gözlem sayısı : 2260\n",
      "Test kümesindeki gözlem sayısı   : 566\n"
     ]
    }
   ],
   "source": [
    "X_train, X_test, y_train, y_test = train_test_split(X_arttirilmis_anlamli, y_anlamli, test_size = 0.2, random_state = 500)\n",
    "\n",
    "print(\"Eğitim kümesindeki gözlem sayısı : {}\".format(X_train.shape[0]))\n",
    "print(\"Test kümesindeki gözlem sayısı   : {}\".format(X_test.shape[0]))"
   ]
  },
  {
   "cell_type": "code",
   "execution_count": 48,
   "metadata": {},
   "outputs": [
    {
     "data": {
      "text/html": [
       "<table class=\"simpletable\">\n",
       "<caption>OLS Regression Results</caption>\n",
       "<tr>\n",
       "  <th>Dep. Variable:</th>     <td>Life_Expectancy</td> <th>  R-squared:         </th> <td>   0.982</td> \n",
       "</tr>\n",
       "<tr>\n",
       "  <th>Model:</th>                   <td>OLS</td>       <th>  Adj. R-squared:    </th> <td>   0.982</td> \n",
       "</tr>\n",
       "<tr>\n",
       "  <th>Method:</th>             <td>Least Squares</td>  <th>  F-statistic:       </th> <td>1.552e+04</td>\n",
       "</tr>\n",
       "<tr>\n",
       "  <th>Date:</th>             <td>Tue, 30 Apr 2019</td> <th>  Prob (F-statistic):</th>  <td>  0.00</td>  \n",
       "</tr>\n",
       "<tr>\n",
       "  <th>Time:</th>                 <td>11:37:06</td>     <th>  Log-Likelihood:    </th> <td> -10327.</td> \n",
       "</tr>\n",
       "<tr>\n",
       "  <th>No. Observations:</th>      <td>  2826</td>      <th>  AIC:               </th> <td>2.067e+04</td>\n",
       "</tr>\n",
       "<tr>\n",
       "  <th>Df Residuals:</th>          <td>  2816</td>      <th>  BIC:               </th> <td>2.073e+04</td>\n",
       "</tr>\n",
       "<tr>\n",
       "  <th>Df Model:</th>              <td>    10</td>      <th>                     </th>     <td> </td>    \n",
       "</tr>\n",
       "<tr>\n",
       "  <th>Covariance Type:</th>      <td>nonrobust</td>    <th>                     </th>     <td> </td>    \n",
       "</tr>\n",
       "</table>\n",
       "<table class=\"simpletable\">\n",
       "<tr>\n",
       "                 <td></td>                    <th>coef</th>     <th>std err</th>      <th>t</th>      <th>P>|t|</th>  <th>[0.025</th>    <th>0.975]</th>  \n",
       "</tr>\n",
       "<tr>\n",
       "  <th>Schooling</th>                       <td>    2.2807</td> <td>    0.089</td> <td>   25.579</td> <td> 0.000</td> <td>    2.106</td> <td>    2.456</td>\n",
       "</tr>\n",
       "<tr>\n",
       "  <th>Income_composition_of_resources</th> <td>   15.3804</td> <td>    1.493</td> <td>   10.305</td> <td> 0.000</td> <td>   12.454</td> <td>   18.307</td>\n",
       "</tr>\n",
       "<tr>\n",
       "  <th>Adult_Mortality</th>                 <td>    0.0346</td> <td>    0.002</td> <td>   21.255</td> <td> 0.000</td> <td>    0.031</td> <td>    0.038</td>\n",
       "</tr>\n",
       "<tr>\n",
       "  <th>HIV/AIDS</th>                        <td>   -0.6814</td> <td>    0.049</td> <td>  -13.843</td> <td> 0.000</td> <td>   -0.778</td> <td>   -0.585</td>\n",
       "</tr>\n",
       "<tr>\n",
       "  <th>BMI</th>                             <td>    0.0913</td> <td>    0.011</td> <td>    8.435</td> <td> 0.000</td> <td>    0.070</td> <td>    0.112</td>\n",
       "</tr>\n",
       "<tr>\n",
       "  <th>Diphtheria</th>                      <td>    0.1347</td> <td>    0.010</td> <td>   12.895</td> <td> 0.000</td> <td>    0.114</td> <td>    0.155</td>\n",
       "</tr>\n",
       "<tr>\n",
       "  <th>Polio</th>                           <td>    0.1392</td> <td>    0.010</td> <td>   13.529</td> <td> 0.000</td> <td>    0.119</td> <td>    0.159</td>\n",
       "</tr>\n",
       "<tr>\n",
       "  <th>GDP</th>                             <td>-4.898e-05</td> <td> 2.48e-05</td> <td>   -1.973</td> <td> 0.049</td> <td>-9.77e-05</td> <td>-2.93e-07</td>\n",
       "</tr>\n",
       "<tr>\n",
       "  <th>percentage_expenditure</th>          <td> 8.408e-05</td> <td>    0.000</td> <td>    0.506</td> <td> 0.613</td> <td>   -0.000</td> <td>    0.000</td>\n",
       "</tr>\n",
       "<tr>\n",
       "  <th>under_five_deaths</th>               <td>    0.0113</td> <td>    0.001</td> <td>   10.289</td> <td> 0.000</td> <td>    0.009</td> <td>    0.013</td>\n",
       "</tr>\n",
       "</table>\n",
       "<table class=\"simpletable\">\n",
       "<tr>\n",
       "  <th>Omnibus:</th>       <td>331.455</td> <th>  Durbin-Watson:     </th> <td>   0.685</td> \n",
       "</tr>\n",
       "<tr>\n",
       "  <th>Prob(Omnibus):</th> <td> 0.000</td>  <th>  Jarque-Bera (JB):  </th> <td> 593.254</td> \n",
       "</tr>\n",
       "<tr>\n",
       "  <th>Skew:</th>          <td> 0.776</td>  <th>  Prob(JB):          </th> <td>1.50e-129</td>\n",
       "</tr>\n",
       "<tr>\n",
       "  <th>Kurtosis:</th>      <td> 4.621</td>  <th>  Cond. No.          </th> <td>1.36e+05</td> \n",
       "</tr>\n",
       "</table><br/><br/>Warnings:<br/>[1] Standard Errors assume that the covariance matrix of the errors is correctly specified.<br/>[2] The condition number is large, 1.36e+05. This might indicate that there are<br/>strong multicollinearity or other numerical problems."
      ],
      "text/plain": [
       "<class 'statsmodels.iolib.summary.Summary'>\n",
       "\"\"\"\n",
       "                            OLS Regression Results                            \n",
       "==============================================================================\n",
       "Dep. Variable:        Life_Expectancy   R-squared:                       0.982\n",
       "Model:                            OLS   Adj. R-squared:                  0.982\n",
       "Method:                 Least Squares   F-statistic:                 1.552e+04\n",
       "Date:                Tue, 30 Apr 2019   Prob (F-statistic):               0.00\n",
       "Time:                        11:37:06   Log-Likelihood:                -10327.\n",
       "No. Observations:                2826   AIC:                         2.067e+04\n",
       "Df Residuals:                    2816   BIC:                         2.073e+04\n",
       "Df Model:                          10                                         \n",
       "Covariance Type:            nonrobust                                         \n",
       "===================================================================================================\n",
       "                                      coef    std err          t      P>|t|      [0.025      0.975]\n",
       "---------------------------------------------------------------------------------------------------\n",
       "Schooling                           2.2807      0.089     25.579      0.000       2.106       2.456\n",
       "Income_composition_of_resources    15.3804      1.493     10.305      0.000      12.454      18.307\n",
       "Adult_Mortality                     0.0346      0.002     21.255      0.000       0.031       0.038\n",
       "HIV/AIDS                           -0.6814      0.049    -13.843      0.000      -0.778      -0.585\n",
       "BMI                                 0.0913      0.011      8.435      0.000       0.070       0.112\n",
       "Diphtheria                          0.1347      0.010     12.895      0.000       0.114       0.155\n",
       "Polio                               0.1392      0.010     13.529      0.000       0.119       0.159\n",
       "GDP                             -4.898e-05   2.48e-05     -1.973      0.049   -9.77e-05   -2.93e-07\n",
       "percentage_expenditure           8.408e-05      0.000      0.506      0.613      -0.000       0.000\n",
       "under_five_deaths                   0.0113      0.001     10.289      0.000       0.009       0.013\n",
       "==============================================================================\n",
       "Omnibus:                      331.455   Durbin-Watson:                   0.685\n",
       "Prob(Omnibus):                  0.000   Jarque-Bera (JB):              593.254\n",
       "Skew:                           0.776   Prob(JB):                    1.50e-129\n",
       "Kurtosis:                       4.621   Cond. No.                     1.36e+05\n",
       "==============================================================================\n",
       "\n",
       "Warnings:\n",
       "[1] Standard Errors assume that the covariance matrix of the errors is correctly specified.\n",
       "[2] The condition number is large, 1.36e+05. This might indicate that there are\n",
       "strong multicollinearity or other numerical problems.\n",
       "\"\"\""
      ]
     },
     "execution_count": 48,
     "metadata": {},
     "output_type": "execute_result"
    }
   ],
   "source": [
    "X_artilirmis_anlamli = sm.add_constant(X_arttirilmis_anlamli)\n",
    "\n",
    "anlamli_10degiskenli_model = sm.OLS(y_anlamli, X_arttirilmis_anlamli).fit()\n",
    "\n",
    "anlamli_10degiskenli_model.summary()"
   ]
  },
  {
   "cell_type": "code",
   "execution_count": 49,
   "metadata": {},
   "outputs": [
    {
     "name": "stdout",
     "output_type": "stream",
     "text": [
      "Ortalama Mutlak Hata (MAE)        : 3.126973852322395\n",
      "Ortalama Kare Hata (MSE)          : 17.460090130435983\n",
      "Kök Ortalama Kare Hata (RMSE)     : 4.178527268121626\n",
      "Ortalama Mutlak Yüzde Hata (MAPE) : 4.8044693525479385\n"
     ]
    }
   ],
   "source": [
    "print(\"Ortalama Mutlak Hata (MAE)        : {}\".format(mean_absolute_error(y_test, y_preds)))\n",
    "print(\"Ortalama Kare Hata (MSE)          : {}\".format(mse(y_test, y_preds)))\n",
    "print(\"Kök Ortalama Kare Hata (RMSE)     : {}\".format(rmse(y_test, y_preds)))\n",
    "print(\"Ortalama Mutlak Yüzde Hata (MAPE) : {}\".format(np.mean(np.abs((y_test - y_preds) / y_test)) * 100))\n"
   ]
  },
  {
   "cell_type": "code",
   "execution_count": 50,
   "metadata": {},
   "outputs": [
    {
     "name": "stdout",
     "output_type": "stream",
     "text": [
      "0.834128773882979\n",
      "0.827936654182605\n",
      "0.9821827194575035\n"
     ]
    }
   ],
   "source": [
    "print (tum_degiskenli_model.rsquared)\n",
    "print (anlamli_12degiskenli_model.rsquared)\n",
    "print (anlamli_10degiskenli_model.rsquared)\n"
   ]
  },
  {
   "cell_type": "code",
   "execution_count": 51,
   "metadata": {},
   "outputs": [
    {
     "data": {
      "text/plain": [
       "Schooling                         0.000\n",
       "Income_composition_of_resources   0.000\n",
       "Adult_Mortality                   0.000\n",
       "HIV/AIDS                          0.000\n",
       "BMI                               0.000\n",
       "Diphtheria                        0.000\n",
       "Polio                             0.000\n",
       "GDP                               0.049\n",
       "percentage_expenditure            0.613\n",
       "under_five_deaths                 0.000\n",
       "dtype: float64"
      ]
     },
     "execution_count": 51,
     "metadata": {},
     "output_type": "execute_result"
    }
   ],
   "source": [
    "anlamli_10degiskenli_model.pvalues"
   ]
  },
  {
   "cell_type": "code",
   "execution_count": 52,
   "metadata": {},
   "outputs": [],
   "source": [
    "X_daha_arttirilmis_anlamli = LifeExpectancyData_num[anlamli_degerler[:5]]"
   ]
  },
  {
   "cell_type": "code",
   "execution_count": 53,
   "metadata": {},
   "outputs": [
    {
     "name": "stdout",
     "output_type": "stream",
     "text": [
      "Eğitim kümesindeki gözlem sayısı : 2260\n",
      "Test kümesindeki gözlem sayısı   : 566\n"
     ]
    }
   ],
   "source": [
    "X_train, X_test, y_train, y_test = train_test_split(X_daha_arttirilmis_anlamli, y_anlamli, test_size = 0.2, random_state = 500)\n",
    "\n",
    "print(\"Eğitim kümesindeki gözlem sayısı : {}\".format(X_train.shape[0]))\n",
    "print(\"Test kümesindeki gözlem sayısı   : {}\".format(X_test.shape[0]))"
   ]
  },
  {
   "cell_type": "code",
   "execution_count": 54,
   "metadata": {},
   "outputs": [
    {
     "data": {
      "text/html": [
       "<table class=\"simpletable\">\n",
       "<caption>OLS Regression Results</caption>\n",
       "<tr>\n",
       "  <th>Dep. Variable:</th>     <td>Life_Expectancy</td> <th>  R-squared:         </th> <td>   0.798</td> \n",
       "</tr>\n",
       "<tr>\n",
       "  <th>Model:</th>                   <td>OLS</td>       <th>  Adj. R-squared:    </th> <td>   0.798</td> \n",
       "</tr>\n",
       "<tr>\n",
       "  <th>Method:</th>             <td>Least Squares</td>  <th>  F-statistic:       </th> <td>   2232.</td> \n",
       "</tr>\n",
       "<tr>\n",
       "  <th>Date:</th>             <td>Tue, 30 Apr 2019</td> <th>  Prob (F-statistic):</th>  <td>  0.00</td>  \n",
       "</tr>\n",
       "<tr>\n",
       "  <th>Time:</th>                 <td>11:37:07</td>     <th>  Log-Likelihood:    </th> <td> -8088.9</td> \n",
       "</tr>\n",
       "<tr>\n",
       "  <th>No. Observations:</th>      <td>  2826</td>      <th>  AIC:               </th> <td>1.619e+04</td>\n",
       "</tr>\n",
       "<tr>\n",
       "  <th>Df Residuals:</th>          <td>  2820</td>      <th>  BIC:               </th> <td>1.623e+04</td>\n",
       "</tr>\n",
       "<tr>\n",
       "  <th>Df Model:</th>              <td>     5</td>      <th>                     </th>     <td> </td>    \n",
       "</tr>\n",
       "<tr>\n",
       "  <th>Covariance Type:</th>      <td>nonrobust</td>    <th>                     </th>     <td> </td>    \n",
       "</tr>\n",
       "</table>\n",
       "<table class=\"simpletable\">\n",
       "<tr>\n",
       "                 <td></td>                    <th>coef</th>     <th>std err</th>      <th>t</th>      <th>P>|t|</th>  <th>[0.025</th>    <th>0.975]</th>  \n",
       "</tr>\n",
       "<tr>\n",
       "  <th>const</th>                           <td>   53.6794</td> <td>    0.412</td> <td>  130.431</td> <td> 0.000</td> <td>   52.872</td> <td>   54.486</td>\n",
       "</tr>\n",
       "<tr>\n",
       "  <th>Schooling</th>                       <td>    0.9497</td> <td>    0.042</td> <td>   22.787</td> <td> 0.000</td> <td>    0.868</td> <td>    1.031</td>\n",
       "</tr>\n",
       "<tr>\n",
       "  <th>Income_composition_of_resources</th> <td>    9.9564</td> <td>    0.666</td> <td>   14.958</td> <td> 0.000</td> <td>    8.651</td> <td>   11.262</td>\n",
       "</tr>\n",
       "<tr>\n",
       "  <th>Adult_Mortality</th>                 <td>   -0.0189</td> <td>    0.001</td> <td>  -21.399</td> <td> 0.000</td> <td>   -0.021</td> <td>   -0.017</td>\n",
       "</tr>\n",
       "<tr>\n",
       "  <th>HIV/AIDS</th>                        <td>   -0.5552</td> <td>    0.022</td> <td>  -24.952</td> <td> 0.000</td> <td>   -0.599</td> <td>   -0.512</td>\n",
       "</tr>\n",
       "<tr>\n",
       "  <th>BMI</th>                             <td>    0.0504</td> <td>    0.005</td> <td>   10.388</td> <td> 0.000</td> <td>    0.041</td> <td>    0.060</td>\n",
       "</tr>\n",
       "</table>\n",
       "<table class=\"simpletable\">\n",
       "<tr>\n",
       "  <th>Omnibus:</th>       <td>230.041</td> <th>  Durbin-Watson:     </th> <td>   0.582</td> \n",
       "</tr>\n",
       "<tr>\n",
       "  <th>Prob(Omnibus):</th> <td> 0.000</td>  <th>  Jarque-Bera (JB):  </th> <td>1283.588</td> \n",
       "</tr>\n",
       "<tr>\n",
       "  <th>Skew:</th>          <td> 0.125</td>  <th>  Prob(JB):          </th> <td>1.87e-279</td>\n",
       "</tr>\n",
       "<tr>\n",
       "  <th>Kurtosis:</th>      <td> 6.292</td>  <th>  Cond. No.          </th> <td>1.73e+03</td> \n",
       "</tr>\n",
       "</table><br/><br/>Warnings:<br/>[1] Standard Errors assume that the covariance matrix of the errors is correctly specified.<br/>[2] The condition number is large, 1.73e+03. This might indicate that there are<br/>strong multicollinearity or other numerical problems."
      ],
      "text/plain": [
       "<class 'statsmodels.iolib.summary.Summary'>\n",
       "\"\"\"\n",
       "                            OLS Regression Results                            \n",
       "==============================================================================\n",
       "Dep. Variable:        Life_Expectancy   R-squared:                       0.798\n",
       "Model:                            OLS   Adj. R-squared:                  0.798\n",
       "Method:                 Least Squares   F-statistic:                     2232.\n",
       "Date:                Tue, 30 Apr 2019   Prob (F-statistic):               0.00\n",
       "Time:                        11:37:07   Log-Likelihood:                -8088.9\n",
       "No. Observations:                2826   AIC:                         1.619e+04\n",
       "Df Residuals:                    2820   BIC:                         1.623e+04\n",
       "Df Model:                           5                                         \n",
       "Covariance Type:            nonrobust                                         \n",
       "===================================================================================================\n",
       "                                      coef    std err          t      P>|t|      [0.025      0.975]\n",
       "---------------------------------------------------------------------------------------------------\n",
       "const                              53.6794      0.412    130.431      0.000      52.872      54.486\n",
       "Schooling                           0.9497      0.042     22.787      0.000       0.868       1.031\n",
       "Income_composition_of_resources     9.9564      0.666     14.958      0.000       8.651      11.262\n",
       "Adult_Mortality                    -0.0189      0.001    -21.399      0.000      -0.021      -0.017\n",
       "HIV/AIDS                           -0.5552      0.022    -24.952      0.000      -0.599      -0.512\n",
       "BMI                                 0.0504      0.005     10.388      0.000       0.041       0.060\n",
       "==============================================================================\n",
       "Omnibus:                      230.041   Durbin-Watson:                   0.582\n",
       "Prob(Omnibus):                  0.000   Jarque-Bera (JB):             1283.588\n",
       "Skew:                           0.125   Prob(JB):                    1.87e-279\n",
       "Kurtosis:                       6.292   Cond. No.                     1.73e+03\n",
       "==============================================================================\n",
       "\n",
       "Warnings:\n",
       "[1] Standard Errors assume that the covariance matrix of the errors is correctly specified.\n",
       "[2] The condition number is large, 1.73e+03. This might indicate that there are\n",
       "strong multicollinearity or other numerical problems.\n",
       "\"\"\""
      ]
     },
     "execution_count": 54,
     "metadata": {},
     "output_type": "execute_result"
    }
   ],
   "source": [
    "X_daha_arttirilmis_anlamli = sm.add_constant(X_daha_arttirilmis_anlamli)\n",
    "\n",
    "anlamli_5degiskenli_model = sm.OLS(y_anlamli, X_daha_arttirilmis_anlamli).fit()\n",
    "\n",
    "anlamli_5degiskenli_model.summary()"
   ]
  },
  {
   "cell_type": "code",
   "execution_count": 55,
   "metadata": {},
   "outputs": [
    {
     "data": {
      "image/png": "[encoded data removed]",
      "text/plain": [
       "<Figure size 600x400 with 1 Axes>"
      ]
     },
     "metadata": {
      "needs_background": "light"
     },
     "output_type": "display_data"
    }
   ],
   "source": [
    "X_test = sm.add_constant(X_test)\n",
    "\n",
    "y_preds = anlamli_5degiskenli_model.predict(X_test)\n",
    "\n",
    "plt.figure(dpi = 100)\n",
    "\n",
    "plt.scatter(y_test, y_preds)\n",
    "plt.plot(y_test, y_test, color=\"red\")\n",
    "plt.xlabel(\"Gerçek Değerler\")\n",
    "plt.ylabel(\"Tahmin edilen Değerler\")\n",
    "plt.title(\"SalePrice: Gerçek ve tahmin edilen değerler\")\n",
    "plt.show()"
   ]
  },
  {
   "cell_type": "code",
   "execution_count": 56,
   "metadata": {},
   "outputs": [
    {
     "name": "stdout",
     "output_type": "stream",
     "text": [
      "0.834128773882979\n",
      "0.827936654182605\n",
      "0.9821827194575035\n",
      "0.7983029265963225\n"
     ]
    }
   ],
   "source": [
    "print (tum_degiskenli_model.rsquared)\n",
    "print (anlamli_12degiskenli_model.rsquared)\n",
    "print (anlamli_10degiskenli_model.rsquared)\n",
    "print (anlamli_5degiskenli_model.rsquared)"
   ]
  },
  {
   "cell_type": "code",
   "execution_count": null,
   "metadata": {},
   "outputs": [],
   "source": []
  },
  {
   "cell_type": "code",
   "execution_count": null,
   "metadata": {},
   "outputs": [],
   "source": []
  }
 ],
 "metadata": {
  "kernelspec": {
   "display_name": "Python 3",
   "language": "python",
   "name": "python3"
  },
  "language_info": {
   "codemirror_mode": {
    "name": "ipython",
    "version": 3
   },
   "file_extension": ".py",
   "mimetype": "text/x-python",
   "name": "python",
   "nbconvert_exporter": "python",
   "pygments_lexer": "ipython3",
   "version": "3.7.1"
  }
 },
 "nbformat": 4,
 "nbformat_minor": 2
}
