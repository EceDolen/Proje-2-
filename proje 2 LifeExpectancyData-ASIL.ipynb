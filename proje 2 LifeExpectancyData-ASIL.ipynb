{
 "cells": [
  {
   "cell_type": "code",
   "execution_count": 1,
   "metadata": {},
   "outputs": [],
   "source": [
    "import pandas as pd\n",
    "import numpy as np\n",
    "import seaborn as sns\n",
    "import matplotlib.pyplot as plt\n",
    "from sklearn import linear_model\n",
    "\n",
    "from sklearn.linear_model import LinearRegression\n",
    "from sklearn.model_selection import train_test_split\n",
    "from sklearn.metrics import mean_absolute_error\n",
    "import statsmodels.api as sm\n",
    "from statsmodels.tools.eval_measures import mse, rmse\n",
    "\n",
    "%matplotlib inline\n",
    "pd.options.display.float_format = '{:.3f}'.format\n",
    "\n",
    "import warnings\n",
    "warnings.filterwarnings(action= \"ignore\")"
   ]
  },
  {
   "cell_type": "markdown",
   "metadata": {},
   "source": [
    "#                                                  Reggression Project (2)\n",
    " \n",
    " "
   ]
  },
  {
   "cell_type": "markdown",
   "metadata": {},
   "source": [
    "## Contents\n",
    "1.  Introduction\n",
    "2.  The Aim of Analysis\n",
    "3.  General Information of the Data\n",
    "4.  Arrangements of the Data Sets\n",
    "5.  Filling of the Row Data \n",
    "6.  Data Exploration \n",
    "7.  Splitting the Data\n",
    "8.  Training the Model\n",
    "9.  Predicting the Model\n",
    "10. Evaluating the Model\n",
    "11. Conclusions"
   ]
  },
  {
   "cell_type": "markdown",
   "metadata": {},
   "source": [
    "**1. Introduction**"
   ]
  },
  {
   "cell_type": "markdown",
   "metadata": {},
   "source": [
    "The Global Health Observatory (GHO) data repository under World Health Organization (WHO) keeps track of the health status as well as many other related factors for all countries The datasets are made available to public for the purpose of health data analysis. The dataset related to life expectancy, health factors for 193 countries has been collected from the same WHO data repository website and its corresponding economic data was collected from United Nation website. Among all categories of health-related factors only those critical factors were chosen which are more representative. It has been observed that in the past 15 years , there has been a huge development in health sector resulting in improvement of human mortality rates especially in the developing nations in comparison to the past 30 years. Therefore, in this project we have considered data from year 2000-2015 for 193 countries for further analysis. The individual data files have been merged together into a single dataset. On initial visual inspection of the data showed some missing values. As the datasets were from WHO, we found no evident errors. Missing data was handled in R software by using Missmap command. The result indicated that most of the missing data was for population, Hepatitis B and GDP. The missing data were from less known countries like Vanuatu, Tonga, Togo,Cabo Verde etc. Finding all data for these countries was difficult and hence, it was decided that we exclude these countries from the final model dataset. The final merged file(final dataset) consists of 22 Columns and 2938 rows which meant 20 predicting variables. All predicting variables was then divided into several broad categories:​Immunization related factors, Mortality factors, Economical factors and Social factors."
   ]
  },
  {
   "cell_type": "markdown",
   "metadata": {},
   "source": [
    "**2. The Aim of Analysis**"
   ]
  },
  {
   "cell_type": "markdown",
   "metadata": {},
   "source": [
    "This study aims to search for the elements which effects life expectancy by using correlations with regression models."
   ]
  },
  {
   "cell_type": "markdown",
   "metadata": {},
   "source": [
    "**3. General Information of the Data**"
   ]
  },
  {
   "cell_type": "markdown",
   "metadata": {},
   "source": [
    "Country : Country\n",
    "\n",
    "Year : Year \n",
    "\n",
    "Status : Developed or Developing status\n",
    "\n",
    "Life expectancy : Life Expectancy in age\n",
    "\n",
    "Adult Mortality : Adult Mortality Rates of both sexes (probability of dying between 15 and 60 years per 1000 population)\n",
    "\n",
    "infant deaths : Number of Infant Deaths per 1000 population\n",
    "\n",
    "\n",
    "Alcohol : Alcohol, recorded per capita (15+) consumption (in litres of pure alcohol)\n",
    "\n",
    "percentage:  expenditureExpenditure on health as a percentage of Gross Domestic Product per capita(%)\n",
    "\n",
    "Hepatitis B : Hepatitis B (HepB) immunization coverage among 1-year-olds (%)\n",
    "\n",
    "Measles : Measles - number of reported cases per 1000 population\n",
    "\n",
    "BMI : Average Body Mass Index of entire population\n",
    "\n",
    "under-five deaths : Number of under-five deaths per 1000 population\n",
    "\n",
    "Polio : Polio (Pol3) immunization coverage among 1-year-olds (%)\n",
    "\n",
    "Total expenditure : General government expenditure on health as a percentage of total government expenditure (%)\n",
    "\n",
    "Diphtheria :  Diphtheria tetanus toxoid and pertussis (DTP3) immunization coverage among 1-year-olds (%)\n",
    "\n",
    "HIV/AIDS : Deaths per 1 000 live births HIV/AIDS (0-4 years)\n",
    "\n",
    "GDP : Gross Domestic Product per capita (in USD)\n",
    "\n",
    "Population : Population of the country\n",
    "\n",
    "thinness 1-19 years : Prevalence of thinness among children and adolescents for Age 10 to 19 (% )\n",
    "\n",
    "Income composition of resources : Human Development Index in terms of income composition of resources (index ranging from 0 to 1)\n",
    "\n",
    "Schooling : Number of years of Schooling(years)"
   ]
  },
  {
   "cell_type": "markdown",
   "metadata": {},
   "source": [
    "**4. Data Exploration**"
   ]
  },
  {
   "cell_type": "code",
   "execution_count": 2,
   "metadata": {
    "scrolled": false
   },
   "outputs": [
    {
     "data": {
      "text/html": [
       "<div>\n",
       "<style scoped>\n",
       "    .dataframe tbody tr th:only-of-type {\n",
       "        vertical-align: middle;\n",
       "    }\n",
       "\n",
       "    .dataframe tbody tr th {\n",
       "        vertical-align: top;\n",
       "    }\n",
       "\n",
       "    .dataframe thead th {\n",
       "        text-align: right;\n",
       "    }\n",
       "</style>\n",
       "<table border=\"1\" class=\"dataframe\">\n",
       "  <thead>\n",
       "    <tr style=\"text-align: right;\">\n",
       "      <th></th>\n",
       "      <th>Country</th>\n",
       "      <th>Year</th>\n",
       "      <th>Status</th>\n",
       "      <th>Life expectancy</th>\n",
       "      <th>Adult Mortality</th>\n",
       "      <th>infant deaths</th>\n",
       "      <th>Alcohol</th>\n",
       "      <th>percentage expenditure</th>\n",
       "      <th>Hepatitis B</th>\n",
       "      <th>Measles</th>\n",
       "      <th>...</th>\n",
       "      <th>Polio</th>\n",
       "      <th>Total expenditure</th>\n",
       "      <th>Diphtheria</th>\n",
       "      <th>HIV/AIDS</th>\n",
       "      <th>GDP</th>\n",
       "      <th>Population</th>\n",
       "      <th>thinness  1-19 years</th>\n",
       "      <th>thinness 5-9 years</th>\n",
       "      <th>Income composition of resources</th>\n",
       "      <th>Schooling</th>\n",
       "    </tr>\n",
       "  </thead>\n",
       "  <tbody>\n",
       "    <tr>\n",
       "      <th>0</th>\n",
       "      <td>Afghanistan</td>\n",
       "      <td>2015</td>\n",
       "      <td>Developing</td>\n",
       "      <td>65.000</td>\n",
       "      <td>263.000</td>\n",
       "      <td>62</td>\n",
       "      <td>0.010</td>\n",
       "      <td>71.280</td>\n",
       "      <td>65.000</td>\n",
       "      <td>1154</td>\n",
       "      <td>...</td>\n",
       "      <td>6.000</td>\n",
       "      <td>8.160</td>\n",
       "      <td>65.000</td>\n",
       "      <td>0.100</td>\n",
       "      <td>584.259</td>\n",
       "      <td>33736494.000</td>\n",
       "      <td>17.200</td>\n",
       "      <td>17.300</td>\n",
       "      <td>0.479</td>\n",
       "      <td>10.100</td>\n",
       "    </tr>\n",
       "    <tr>\n",
       "      <th>1</th>\n",
       "      <td>Afghanistan</td>\n",
       "      <td>2014</td>\n",
       "      <td>Developing</td>\n",
       "      <td>59.900</td>\n",
       "      <td>271.000</td>\n",
       "      <td>64</td>\n",
       "      <td>0.010</td>\n",
       "      <td>73.524</td>\n",
       "      <td>62.000</td>\n",
       "      <td>492</td>\n",
       "      <td>...</td>\n",
       "      <td>58.000</td>\n",
       "      <td>8.180</td>\n",
       "      <td>62.000</td>\n",
       "      <td>0.100</td>\n",
       "      <td>612.697</td>\n",
       "      <td>327582.000</td>\n",
       "      <td>17.500</td>\n",
       "      <td>17.500</td>\n",
       "      <td>0.476</td>\n",
       "      <td>10.000</td>\n",
       "    </tr>\n",
       "    <tr>\n",
       "      <th>2</th>\n",
       "      <td>Afghanistan</td>\n",
       "      <td>2013</td>\n",
       "      <td>Developing</td>\n",
       "      <td>59.900</td>\n",
       "      <td>268.000</td>\n",
       "      <td>66</td>\n",
       "      <td>0.010</td>\n",
       "      <td>73.219</td>\n",
       "      <td>64.000</td>\n",
       "      <td>430</td>\n",
       "      <td>...</td>\n",
       "      <td>62.000</td>\n",
       "      <td>8.130</td>\n",
       "      <td>64.000</td>\n",
       "      <td>0.100</td>\n",
       "      <td>631.745</td>\n",
       "      <td>31731688.000</td>\n",
       "      <td>17.700</td>\n",
       "      <td>17.700</td>\n",
       "      <td>0.470</td>\n",
       "      <td>9.900</td>\n",
       "    </tr>\n",
       "    <tr>\n",
       "      <th>3</th>\n",
       "      <td>Afghanistan</td>\n",
       "      <td>2012</td>\n",
       "      <td>Developing</td>\n",
       "      <td>59.500</td>\n",
       "      <td>272.000</td>\n",
       "      <td>69</td>\n",
       "      <td>0.010</td>\n",
       "      <td>78.184</td>\n",
       "      <td>67.000</td>\n",
       "      <td>2787</td>\n",
       "      <td>...</td>\n",
       "      <td>67.000</td>\n",
       "      <td>8.520</td>\n",
       "      <td>67.000</td>\n",
       "      <td>0.100</td>\n",
       "      <td>669.959</td>\n",
       "      <td>3696958.000</td>\n",
       "      <td>17.900</td>\n",
       "      <td>18.000</td>\n",
       "      <td>0.463</td>\n",
       "      <td>9.800</td>\n",
       "    </tr>\n",
       "    <tr>\n",
       "      <th>4</th>\n",
       "      <td>Afghanistan</td>\n",
       "      <td>2011</td>\n",
       "      <td>Developing</td>\n",
       "      <td>59.200</td>\n",
       "      <td>275.000</td>\n",
       "      <td>71</td>\n",
       "      <td>0.010</td>\n",
       "      <td>7.097</td>\n",
       "      <td>68.000</td>\n",
       "      <td>3013</td>\n",
       "      <td>...</td>\n",
       "      <td>68.000</td>\n",
       "      <td>7.870</td>\n",
       "      <td>68.000</td>\n",
       "      <td>0.100</td>\n",
       "      <td>63.537</td>\n",
       "      <td>2978599.000</td>\n",
       "      <td>18.200</td>\n",
       "      <td>18.200</td>\n",
       "      <td>0.454</td>\n",
       "      <td>9.500</td>\n",
       "    </tr>\n",
       "  </tbody>\n",
       "</table>\n",
       "<p>5 rows × 22 columns</p>\n",
       "</div>"
      ],
      "text/plain": [
       "       Country  Year      Status  Life expectancy   Adult Mortality  \\\n",
       "0  Afghanistan  2015  Developing            65.000          263.000   \n",
       "1  Afghanistan  2014  Developing            59.900          271.000   \n",
       "2  Afghanistan  2013  Developing            59.900          268.000   \n",
       "3  Afghanistan  2012  Developing            59.500          272.000   \n",
       "4  Afghanistan  2011  Developing            59.200          275.000   \n",
       "\n",
       "   infant deaths  Alcohol  percentage expenditure  Hepatitis B  Measles   \\\n",
       "0             62    0.010                  71.280       65.000      1154   \n",
       "1             64    0.010                  73.524       62.000       492   \n",
       "2             66    0.010                  73.219       64.000       430   \n",
       "3             69    0.010                  78.184       67.000      2787   \n",
       "4             71    0.010                   7.097       68.000      3013   \n",
       "\n",
       "     ...      Polio  Total expenditure  Diphtheria    HIV/AIDS     GDP  \\\n",
       "0    ...      6.000              8.160       65.000      0.100 584.259   \n",
       "1    ...     58.000              8.180       62.000      0.100 612.697   \n",
       "2    ...     62.000              8.130       64.000      0.100 631.745   \n",
       "3    ...     67.000              8.520       67.000      0.100 669.959   \n",
       "4    ...     68.000              7.870       68.000      0.100  63.537   \n",
       "\n",
       "    Population   thinness  1-19 years   thinness 5-9 years  \\\n",
       "0 33736494.000                 17.200               17.300   \n",
       "1   327582.000                 17.500               17.500   \n",
       "2 31731688.000                 17.700               17.700   \n",
       "3  3696958.000                 17.900               18.000   \n",
       "4  2978599.000                 18.200               18.200   \n",
       "\n",
       "   Income composition of resources  Schooling  \n",
       "0                            0.479     10.100  \n",
       "1                            0.476     10.000  \n",
       "2                            0.470      9.900  \n",
       "3                            0.463      9.800  \n",
       "4                            0.454      9.500  \n",
       "\n",
       "[5 rows x 22 columns]"
      ]
     },
     "execution_count": 2,
     "metadata": {},
     "output_type": "execute_result"
    }
   ],
   "source": [
    "LifeExpectancyData = pd.read_csv('data/LifeExpectancyData.csv')\n",
    "LifeExpectancyData.head()"
   ]
  },
  {
   "cell_type": "code",
   "execution_count": 3,
   "metadata": {},
   "outputs": [
    {
     "name": "stdout",
     "output_type": "stream",
     "text": [
      "<class 'pandas.core.frame.DataFrame'>\n",
      "RangeIndex: 2938 entries, 0 to 2937\n",
      "Data columns (total 22 columns):\n",
      "Country                            2938 non-null object\n",
      "Year                               2938 non-null int64\n",
      "Status                             2938 non-null object\n",
      "Life expectancy                    2928 non-null float64\n",
      "Adult Mortality                    2928 non-null float64\n",
      "infant deaths                      2938 non-null int64\n",
      "Alcohol                            2744 non-null float64\n",
      "percentage expenditure             2938 non-null float64\n",
      "Hepatitis B                        2385 non-null float64\n",
      "Measles                            2938 non-null int64\n",
      " BMI                               2904 non-null float64\n",
      "under-five deaths                  2938 non-null int64\n",
      "Polio                              2919 non-null float64\n",
      "Total expenditure                  2712 non-null float64\n",
      "Diphtheria                         2919 non-null float64\n",
      " HIV/AIDS                          2938 non-null float64\n",
      "GDP                                2490 non-null float64\n",
      "Population                         2286 non-null float64\n",
      " thinness  1-19 years              2904 non-null float64\n",
      " thinness 5-9 years                2904 non-null float64\n",
      "Income composition of resources    2771 non-null float64\n",
      "Schooling                          2775 non-null float64\n",
      "dtypes: float64(16), int64(4), object(2)\n",
      "memory usage: 505.0+ KB\n"
     ]
    }
   ],
   "source": [
    "LifeExpectancyData.info()"
   ]
  },
  {
   "cell_type": "code",
   "execution_count": 4,
   "metadata": {},
   "outputs": [
    {
     "data": {
      "text/plain": [
       "Country                              0\n",
       "Year                                 0\n",
       "Status                               0\n",
       "Life expectancy                     10\n",
       "Adult Mortality                     10\n",
       "infant deaths                        0\n",
       "Alcohol                            194\n",
       "percentage expenditure               0\n",
       "Hepatitis B                        553\n",
       "Measles                              0\n",
       " BMI                                34\n",
       "under-five deaths                    0\n",
       "Polio                               19\n",
       "Total expenditure                  226\n",
       "Diphtheria                          19\n",
       " HIV/AIDS                            0\n",
       "GDP                                448\n",
       "Population                         652\n",
       " thinness  1-19 years               34\n",
       " thinness 5-9 years                 34\n",
       "Income composition of resources    167\n",
       "Schooling                          163\n",
       "dtype: int64"
      ]
     },
     "execution_count": 4,
     "metadata": {},
     "output_type": "execute_result"
    }
   ],
   "source": [
    "LifeExpectancyData.isnull().sum()"
   ]
  },
  {
   "cell_type": "markdown",
   "metadata": {},
   "source": [
    "We have a lot of missing population values in  many countries. We alsa have GDP values from population for each countries as well. Therefore, I preferred to drop coloumn from data frame."
   ]
  },
  {
   "cell_type": "code",
   "execution_count": 5,
   "metadata": {},
   "outputs": [
    {
     "data": {
      "text/plain": [
       "Index(['Country', 'Year', 'Status', 'Life expectancy ', 'Adult Mortality',\n",
       "       'infant deaths', 'Alcohol', 'percentage expenditure', 'Hepatitis B',\n",
       "       'Measles ', ' BMI ', 'under-five deaths ', 'Polio', 'Total expenditure',\n",
       "       'Diphtheria ', ' HIV/AIDS', 'GDP', 'Population',\n",
       "       ' thinness  1-19 years', ' thinness 5-9 years',\n",
       "       'Income composition of resources', 'Schooling'],\n",
       "      dtype='object')"
      ]
     },
     "execution_count": 5,
     "metadata": {},
     "output_type": "execute_result"
    }
   ],
   "source": [
    "LifeExpectancyData.columns "
   ]
  },
  {
   "cell_type": "code",
   "execution_count": 6,
   "metadata": {},
   "outputs": [],
   "source": [
    "LifeExpectancyData.columns= ['Country', 'Year', 'Status', 'Life_Expectancy', 'Adult_Mortality',\n",
    "       'infant_deaths', 'Alcohol', 'percentage_expenditure', 'Hepatitis_B',\n",
    "       'Measles', 'BMI', 'under_five_deaths', 'Polio', 'Total_Expenditure',\n",
    "       'Diphtheria', 'HIV/AIDS', 'GDP','Population', 'thinness_1_19_years', 'thinness_5_9_years',\n",
    "       'Income_composition_of_resources', 'Schooling']"
   ]
  },
  {
   "cell_type": "code",
   "execution_count": 7,
   "metadata": {},
   "outputs": [],
   "source": [
    "bos_hucre_toplam = LifeExpectancyData.isnull().sum()\n",
    "bos_hucre_yuzde = LifeExpectancyData.isnull().sum()/LifeExpectancyData.isnull().count()\n",
    "bos_degerler = pd.concat([bos_hucre_toplam, bos_hucre_yuzde], axis=1, keys=['bos_toplam', 'bos_yuzde'])\n",
    "bos_degerler = bos_degerler.sort_values('bos_toplam', ascending=False)"
   ]
  },
  {
   "cell_type": "code",
   "execution_count": 8,
   "metadata": {},
   "outputs": [],
   "source": [
    "def bos_hucre(LifeExpectancyData):\n",
    "    bos_hucre_toplam = LifeExpectancyData.isnull().sum()\n",
    "    bos_hucre_yuzde = LifeExpectancyData.isnull().sum()/LifeExpectancyData.isnull().count()\n",
    "    bos_degerler = pd.concat([bos_hucre_toplam, bos_hucre_yuzde], axis=1, keys=['bos_toplam', 'bos_yuzde'])\n",
    "    bos_degerler = bos_degerler.sort_values('bos_toplam', ascending=False)\n",
    "    return bos_degerler[bos_degerler['bos_toplam'] > 0]"
   ]
  },
  {
   "cell_type": "code",
   "execution_count": 9,
   "metadata": {},
   "outputs": [
    {
     "data": {
      "text/plain": [
       "<matplotlib.axes._subplots.AxesSubplot at 0x29236021828>"
      ]
     },
     "execution_count": 9,
     "metadata": {},
     "output_type": "execute_result"
    },
    {
     "data": {
      "image/png": "[encoded data removed]",
      "text/plain": [
       "<Figure size 432x288 with 2 Axes>"
      ]
     },
     "metadata": {
      "needs_background": "light"
     },
     "output_type": "display_data"
    }
   ],
   "source": [
    "sns.heatmap(LifeExpectancyData.isnull(),cmap='viridis')"
   ]
  },
  {
   "cell_type": "markdown",
   "metadata": {},
   "source": [
    "**4.a. Importing an Extarnel Data Frame**\n",
    "\n",
    "***Further steps requires extra tools to compare and to group row data for cleaning and filling Null values. Therefore, I imported another data frame with neccessary columns.**"
   ]
  },
  {
   "cell_type": "code",
   "execution_count": 10,
   "metadata": {},
   "outputs": [],
   "source": [
    "regions = pd.read_csv('./data/all.csv')"
   ]
  },
  {
   "cell_type": "code",
   "execution_count": 11,
   "metadata": {},
   "outputs": [
    {
     "data": {
      "text/html": [
       "<div>\n",
       "<style scoped>\n",
       "    .dataframe tbody tr th:only-of-type {\n",
       "        vertical-align: middle;\n",
       "    }\n",
       "\n",
       "    .dataframe tbody tr th {\n",
       "        vertical-align: top;\n",
       "    }\n",
       "\n",
       "    .dataframe thead th {\n",
       "        text-align: right;\n",
       "    }\n",
       "</style>\n",
       "<table border=\"1\" class=\"dataframe\">\n",
       "  <thead>\n",
       "    <tr style=\"text-align: right;\">\n",
       "      <th></th>\n",
       "      <th>name</th>\n",
       "      <th>alpha-2</th>\n",
       "      <th>alpha-3</th>\n",
       "      <th>country-code</th>\n",
       "      <th>iso_3166-2</th>\n",
       "      <th>region</th>\n",
       "      <th>sub-region</th>\n",
       "      <th>intermediate-region</th>\n",
       "      <th>region-code</th>\n",
       "      <th>sub-region-code</th>\n",
       "      <th>intermediate-region-code</th>\n",
       "    </tr>\n",
       "  </thead>\n",
       "  <tbody>\n",
       "    <tr>\n",
       "      <th>0</th>\n",
       "      <td>Afghanistan</td>\n",
       "      <td>AF</td>\n",
       "      <td>AFG</td>\n",
       "      <td>4</td>\n",
       "      <td>ISO 3166-2:AF</td>\n",
       "      <td>Asia</td>\n",
       "      <td>Southern Asia</td>\n",
       "      <td>NaN</td>\n",
       "      <td>142.000</td>\n",
       "      <td>34.000</td>\n",
       "      <td>nan</td>\n",
       "    </tr>\n",
       "    <tr>\n",
       "      <th>1</th>\n",
       "      <td>Åland Islands</td>\n",
       "      <td>AX</td>\n",
       "      <td>ALA</td>\n",
       "      <td>248</td>\n",
       "      <td>ISO 3166-2:AX</td>\n",
       "      <td>Europe</td>\n",
       "      <td>Northern Europe</td>\n",
       "      <td>NaN</td>\n",
       "      <td>150.000</td>\n",
       "      <td>154.000</td>\n",
       "      <td>nan</td>\n",
       "    </tr>\n",
       "    <tr>\n",
       "      <th>2</th>\n",
       "      <td>Albania</td>\n",
       "      <td>AL</td>\n",
       "      <td>ALB</td>\n",
       "      <td>8</td>\n",
       "      <td>ISO 3166-2:AL</td>\n",
       "      <td>Europe</td>\n",
       "      <td>Southern Europe</td>\n",
       "      <td>NaN</td>\n",
       "      <td>150.000</td>\n",
       "      <td>39.000</td>\n",
       "      <td>nan</td>\n",
       "    </tr>\n",
       "    <tr>\n",
       "      <th>3</th>\n",
       "      <td>Algeria</td>\n",
       "      <td>DZ</td>\n",
       "      <td>DZA</td>\n",
       "      <td>12</td>\n",
       "      <td>ISO 3166-2:DZ</td>\n",
       "      <td>Africa</td>\n",
       "      <td>Northern Africa</td>\n",
       "      <td>NaN</td>\n",
       "      <td>2.000</td>\n",
       "      <td>15.000</td>\n",
       "      <td>nan</td>\n",
       "    </tr>\n",
       "    <tr>\n",
       "      <th>4</th>\n",
       "      <td>American Samoa</td>\n",
       "      <td>AS</td>\n",
       "      <td>ASM</td>\n",
       "      <td>16</td>\n",
       "      <td>ISO 3166-2:AS</td>\n",
       "      <td>Oceania</td>\n",
       "      <td>Polynesia</td>\n",
       "      <td>NaN</td>\n",
       "      <td>9.000</td>\n",
       "      <td>61.000</td>\n",
       "      <td>nan</td>\n",
       "    </tr>\n",
       "  </tbody>\n",
       "</table>\n",
       "</div>"
      ],
      "text/plain": [
       "             name alpha-2 alpha-3  country-code     iso_3166-2   region  \\\n",
       "0     Afghanistan      AF     AFG             4  ISO 3166-2:AF     Asia   \n",
       "1   Åland Islands      AX     ALA           248  ISO 3166-2:AX   Europe   \n",
       "2         Albania      AL     ALB             8  ISO 3166-2:AL   Europe   \n",
       "3         Algeria      DZ     DZA            12  ISO 3166-2:DZ   Africa   \n",
       "4  American Samoa      AS     ASM            16  ISO 3166-2:AS  Oceania   \n",
       "\n",
       "        sub-region intermediate-region  region-code  sub-region-code  \\\n",
       "0    Southern Asia                 NaN      142.000           34.000   \n",
       "1  Northern Europe                 NaN      150.000          154.000   \n",
       "2  Southern Europe                 NaN      150.000           39.000   \n",
       "3  Northern Africa                 NaN        2.000           15.000   \n",
       "4        Polynesia                 NaN        9.000           61.000   \n",
       "\n",
       "   intermediate-region-code  \n",
       "0                       nan  \n",
       "1                       nan  \n",
       "2                       nan  \n",
       "3                       nan  \n",
       "4                       nan  "
      ]
     },
     "execution_count": 11,
     "metadata": {},
     "output_type": "execute_result"
    }
   ],
   "source": [
    "regions.head()"
   ]
  },
  {
   "cell_type": "code",
   "execution_count": 12,
   "metadata": {},
   "outputs": [
    {
     "data": {
      "text/plain": [
       "name          0\n",
       "region        1\n",
       "sub-region    1\n",
       "dtype: int64"
      ]
     },
     "execution_count": 12,
     "metadata": {},
     "output_type": "execute_result"
    }
   ],
   "source": [
    "regions[['name', 'region', 'sub-region']].isnull().sum()"
   ]
  },
  {
   "cell_type": "code",
   "execution_count": 13,
   "metadata": {},
   "outputs": [
    {
     "data": {
      "text/plain": [
       "Index(['name', 'alpha-2', 'alpha-3', 'country-code', 'iso_3166-2', 'region',\n",
       "       'sub-region', 'intermediate-region', 'region-code', 'sub-region-code',\n",
       "       'intermediate-region-code'],\n",
       "      dtype='object')"
      ]
     },
     "execution_count": 13,
     "metadata": {},
     "output_type": "execute_result"
    }
   ],
   "source": [
    "regions.columns"
   ]
  },
  {
   "cell_type": "markdown",
   "metadata": {},
   "source": [
    "**4.b. Merging two data frame in one, LifeExpectancyData_merged, will help us to fill in accurately.**"
   ]
  },
  {
   "cell_type": "code",
   "execution_count": 14,
   "metadata": {},
   "outputs": [],
   "source": [
    "LifeExpectancyData_merged = pd.merge(LifeExpectancyData, regions[['name', 'region', 'sub-region']], left_on='Country', right_on='name')"
   ]
  },
  {
   "cell_type": "code",
   "execution_count": 15,
   "metadata": {
    "scrolled": true
   },
   "outputs": [
    {
     "data": {
      "text/html": [
       "<div>\n",
       "<style scoped>\n",
       "    .dataframe tbody tr th:only-of-type {\n",
       "        vertical-align: middle;\n",
       "    }\n",
       "\n",
       "    .dataframe tbody tr th {\n",
       "        vertical-align: top;\n",
       "    }\n",
       "\n",
       "    .dataframe thead th {\n",
       "        text-align: right;\n",
       "    }\n",
       "</style>\n",
       "<table border=\"1\" class=\"dataframe\">\n",
       "  <thead>\n",
       "    <tr style=\"text-align: right;\">\n",
       "      <th></th>\n",
       "      <th>bos_toplam</th>\n",
       "      <th>bos_yuzde</th>\n",
       "    </tr>\n",
       "  </thead>\n",
       "  <tbody>\n",
       "    <tr>\n",
       "      <th>Population</th>\n",
       "      <td>556</td>\n",
       "      <td>0.197</td>\n",
       "    </tr>\n",
       "    <tr>\n",
       "      <th>Hepatitis_B</th>\n",
       "      <td>536</td>\n",
       "      <td>0.190</td>\n",
       "    </tr>\n",
       "    <tr>\n",
       "      <th>GDP</th>\n",
       "      <td>352</td>\n",
       "      <td>0.125</td>\n",
       "    </tr>\n",
       "    <tr>\n",
       "      <th>Total_Expenditure</th>\n",
       "      <td>204</td>\n",
       "      <td>0.072</td>\n",
       "    </tr>\n",
       "    <tr>\n",
       "      <th>Alcohol</th>\n",
       "      <td>187</td>\n",
       "      <td>0.066</td>\n",
       "    </tr>\n",
       "    <tr>\n",
       "      <th>Income_composition_of_resources</th>\n",
       "      <td>87</td>\n",
       "      <td>0.031</td>\n",
       "    </tr>\n",
       "    <tr>\n",
       "      <th>Schooling</th>\n",
       "      <td>83</td>\n",
       "      <td>0.029</td>\n",
       "    </tr>\n",
       "    <tr>\n",
       "      <th>BMI</th>\n",
       "      <td>34</td>\n",
       "      <td>0.012</td>\n",
       "    </tr>\n",
       "    <tr>\n",
       "      <th>thinness_5_9_years</th>\n",
       "      <td>34</td>\n",
       "      <td>0.012</td>\n",
       "    </tr>\n",
       "    <tr>\n",
       "      <th>thinness_1_19_years</th>\n",
       "      <td>34</td>\n",
       "      <td>0.012</td>\n",
       "    </tr>\n",
       "    <tr>\n",
       "      <th>Polio</th>\n",
       "      <td>19</td>\n",
       "      <td>0.007</td>\n",
       "    </tr>\n",
       "    <tr>\n",
       "      <th>Diphtheria</th>\n",
       "      <td>19</td>\n",
       "      <td>0.007</td>\n",
       "    </tr>\n",
       "    <tr>\n",
       "      <th>Life_Expectancy</th>\n",
       "      <td>10</td>\n",
       "      <td>0.004</td>\n",
       "    </tr>\n",
       "    <tr>\n",
       "      <th>Adult_Mortality</th>\n",
       "      <td>10</td>\n",
       "      <td>0.004</td>\n",
       "    </tr>\n",
       "  </tbody>\n",
       "</table>\n",
       "</div>"
      ],
      "text/plain": [
       "                                 bos_toplam  bos_yuzde\n",
       "Population                              556      0.197\n",
       "Hepatitis_B                             536      0.190\n",
       "GDP                                     352      0.125\n",
       "Total_Expenditure                       204      0.072\n",
       "Alcohol                                 187      0.066\n",
       "Income_composition_of_resources          87      0.031\n",
       "Schooling                                83      0.029\n",
       "BMI                                      34      0.012\n",
       "thinness_5_9_years                       34      0.012\n",
       "thinness_1_19_years                      34      0.012\n",
       "Polio                                    19      0.007\n",
       "Diphtheria                               19      0.007\n",
       "Life_Expectancy                          10      0.004\n",
       "Adult_Mortality                          10      0.004"
      ]
     },
     "execution_count": 15,
     "metadata": {},
     "output_type": "execute_result"
    }
   ],
   "source": [
    "bos_hucre(LifeExpectancyData_merged)"
   ]
  },
  {
   "cell_type": "code",
   "execution_count": 16,
   "metadata": {
    "scrolled": true
   },
   "outputs": [
    {
     "data": {
      "text/html": [
       "<div>\n",
       "<style scoped>\n",
       "    .dataframe tbody tr th:only-of-type {\n",
       "        vertical-align: middle;\n",
       "    }\n",
       "\n",
       "    .dataframe tbody tr th {\n",
       "        vertical-align: top;\n",
       "    }\n",
       "\n",
       "    .dataframe thead th {\n",
       "        text-align: right;\n",
       "    }\n",
       "</style>\n",
       "<table border=\"1\" class=\"dataframe\">\n",
       "  <thead>\n",
       "    <tr style=\"text-align: right;\">\n",
       "      <th></th>\n",
       "      <th>Country</th>\n",
       "      <th>Year</th>\n",
       "      <th>Status</th>\n",
       "      <th>Life_Expectancy</th>\n",
       "      <th>Adult_Mortality</th>\n",
       "      <th>infant_deaths</th>\n",
       "      <th>Alcohol</th>\n",
       "      <th>percentage_expenditure</th>\n",
       "      <th>Hepatitis_B</th>\n",
       "      <th>Measles</th>\n",
       "      <th>...</th>\n",
       "      <th>HIV/AIDS</th>\n",
       "      <th>GDP</th>\n",
       "      <th>Population</th>\n",
       "      <th>thinness_1_19_years</th>\n",
       "      <th>thinness_5_9_years</th>\n",
       "      <th>Income_composition_of_resources</th>\n",
       "      <th>Schooling</th>\n",
       "      <th>name</th>\n",
       "      <th>region</th>\n",
       "      <th>sub-region</th>\n",
       "    </tr>\n",
       "  </thead>\n",
       "  <tbody>\n",
       "    <tr>\n",
       "      <th>0</th>\n",
       "      <td>Afghanistan</td>\n",
       "      <td>2015</td>\n",
       "      <td>Developing</td>\n",
       "      <td>65.000</td>\n",
       "      <td>263.000</td>\n",
       "      <td>62</td>\n",
       "      <td>0.010</td>\n",
       "      <td>71.280</td>\n",
       "      <td>65.000</td>\n",
       "      <td>1154</td>\n",
       "      <td>...</td>\n",
       "      <td>0.100</td>\n",
       "      <td>584.259</td>\n",
       "      <td>33736494.000</td>\n",
       "      <td>17.200</td>\n",
       "      <td>17.300</td>\n",
       "      <td>0.479</td>\n",
       "      <td>10.100</td>\n",
       "      <td>Afghanistan</td>\n",
       "      <td>Asia</td>\n",
       "      <td>Southern Asia</td>\n",
       "    </tr>\n",
       "    <tr>\n",
       "      <th>1</th>\n",
       "      <td>Afghanistan</td>\n",
       "      <td>2014</td>\n",
       "      <td>Developing</td>\n",
       "      <td>59.900</td>\n",
       "      <td>271.000</td>\n",
       "      <td>64</td>\n",
       "      <td>0.010</td>\n",
       "      <td>73.524</td>\n",
       "      <td>62.000</td>\n",
       "      <td>492</td>\n",
       "      <td>...</td>\n",
       "      <td>0.100</td>\n",
       "      <td>612.697</td>\n",
       "      <td>327582.000</td>\n",
       "      <td>17.500</td>\n",
       "      <td>17.500</td>\n",
       "      <td>0.476</td>\n",
       "      <td>10.000</td>\n",
       "      <td>Afghanistan</td>\n",
       "      <td>Asia</td>\n",
       "      <td>Southern Asia</td>\n",
       "    </tr>\n",
       "    <tr>\n",
       "      <th>2</th>\n",
       "      <td>Afghanistan</td>\n",
       "      <td>2013</td>\n",
       "      <td>Developing</td>\n",
       "      <td>59.900</td>\n",
       "      <td>268.000</td>\n",
       "      <td>66</td>\n",
       "      <td>0.010</td>\n",
       "      <td>73.219</td>\n",
       "      <td>64.000</td>\n",
       "      <td>430</td>\n",
       "      <td>...</td>\n",
       "      <td>0.100</td>\n",
       "      <td>631.745</td>\n",
       "      <td>31731688.000</td>\n",
       "      <td>17.700</td>\n",
       "      <td>17.700</td>\n",
       "      <td>0.470</td>\n",
       "      <td>9.900</td>\n",
       "      <td>Afghanistan</td>\n",
       "      <td>Asia</td>\n",
       "      <td>Southern Asia</td>\n",
       "    </tr>\n",
       "    <tr>\n",
       "      <th>3</th>\n",
       "      <td>Afghanistan</td>\n",
       "      <td>2012</td>\n",
       "      <td>Developing</td>\n",
       "      <td>59.500</td>\n",
       "      <td>272.000</td>\n",
       "      <td>69</td>\n",
       "      <td>0.010</td>\n",
       "      <td>78.184</td>\n",
       "      <td>67.000</td>\n",
       "      <td>2787</td>\n",
       "      <td>...</td>\n",
       "      <td>0.100</td>\n",
       "      <td>669.959</td>\n",
       "      <td>3696958.000</td>\n",
       "      <td>17.900</td>\n",
       "      <td>18.000</td>\n",
       "      <td>0.463</td>\n",
       "      <td>9.800</td>\n",
       "      <td>Afghanistan</td>\n",
       "      <td>Asia</td>\n",
       "      <td>Southern Asia</td>\n",
       "    </tr>\n",
       "    <tr>\n",
       "      <th>4</th>\n",
       "      <td>Afghanistan</td>\n",
       "      <td>2011</td>\n",
       "      <td>Developing</td>\n",
       "      <td>59.200</td>\n",
       "      <td>275.000</td>\n",
       "      <td>71</td>\n",
       "      <td>0.010</td>\n",
       "      <td>7.097</td>\n",
       "      <td>68.000</td>\n",
       "      <td>3013</td>\n",
       "      <td>...</td>\n",
       "      <td>0.100</td>\n",
       "      <td>63.537</td>\n",
       "      <td>2978599.000</td>\n",
       "      <td>18.200</td>\n",
       "      <td>18.200</td>\n",
       "      <td>0.454</td>\n",
       "      <td>9.500</td>\n",
       "      <td>Afghanistan</td>\n",
       "      <td>Asia</td>\n",
       "      <td>Southern Asia</td>\n",
       "    </tr>\n",
       "  </tbody>\n",
       "</table>\n",
       "<p>5 rows × 25 columns</p>\n",
       "</div>"
      ],
      "text/plain": [
       "       Country  Year      Status  Life_Expectancy  Adult_Mortality  \\\n",
       "0  Afghanistan  2015  Developing           65.000          263.000   \n",
       "1  Afghanistan  2014  Developing           59.900          271.000   \n",
       "2  Afghanistan  2013  Developing           59.900          268.000   \n",
       "3  Afghanistan  2012  Developing           59.500          272.000   \n",
       "4  Afghanistan  2011  Developing           59.200          275.000   \n",
       "\n",
       "   infant_deaths  Alcohol  percentage_expenditure  Hepatitis_B  Measles  \\\n",
       "0             62    0.010                  71.280       65.000     1154   \n",
       "1             64    0.010                  73.524       62.000      492   \n",
       "2             66    0.010                  73.219       64.000      430   \n",
       "3             69    0.010                  78.184       67.000     2787   \n",
       "4             71    0.010                   7.097       68.000     3013   \n",
       "\n",
       "       ...        HIV/AIDS     GDP   Population  thinness_1_19_years  \\\n",
       "0      ...           0.100 584.259 33736494.000               17.200   \n",
       "1      ...           0.100 612.697   327582.000               17.500   \n",
       "2      ...           0.100 631.745 31731688.000               17.700   \n",
       "3      ...           0.100 669.959  3696958.000               17.900   \n",
       "4      ...           0.100  63.537  2978599.000               18.200   \n",
       "\n",
       "   thinness_5_9_years  Income_composition_of_resources  Schooling  \\\n",
       "0              17.300                            0.479     10.100   \n",
       "1              17.500                            0.476     10.000   \n",
       "2              17.700                            0.470      9.900   \n",
       "3              18.000                            0.463      9.800   \n",
       "4              18.200                            0.454      9.500   \n",
       "\n",
       "          name  region     sub-region  \n",
       "0  Afghanistan    Asia  Southern Asia  \n",
       "1  Afghanistan    Asia  Southern Asia  \n",
       "2  Afghanistan    Asia  Southern Asia  \n",
       "3  Afghanistan    Asia  Southern Asia  \n",
       "4  Afghanistan    Asia  Southern Asia  \n",
       "\n",
       "[5 rows x 25 columns]"
      ]
     },
     "execution_count": 16,
     "metadata": {},
     "output_type": "execute_result"
    }
   ],
   "source": [
    "LifeExpectancyData_merged.head()"
   ]
  },
  {
   "cell_type": "markdown",
   "metadata": {},
   "source": [
    "**5. Cleaning of the Row Data**"
   ]
  },
  {
   "cell_type": "markdown",
   "metadata": {},
   "source": [
    "There is a high number of Null values on Population column. We already have GDP values on each countries so I prefered to drop it."
   ]
  },
  {
   "cell_type": "code",
   "execution_count": 17,
   "metadata": {},
   "outputs": [],
   "source": [
    "LifeExpectancyData_merged.drop('Population', inplace=True, axis=1)"
   ]
  },
  {
   "cell_type": "code",
   "execution_count": 18,
   "metadata": {},
   "outputs": [
    {
     "data": {
      "text/plain": [
       "Index(['Country', 'Year', 'Status', 'Life_Expectancy', 'Adult_Mortality',\n",
       "       'infant_deaths', 'Alcohol', 'percentage_expenditure', 'Hepatitis_B',\n",
       "       'Measles', 'BMI', 'under_five_deaths', 'Polio', 'Total_Expenditure',\n",
       "       'Diphtheria', 'HIV/AIDS', 'GDP', 'thinness_1_19_years',\n",
       "       'thinness_5_9_years', 'Income_composition_of_resources', 'Schooling',\n",
       "       'name', 'region', 'sub-region'],\n",
       "      dtype='object')"
      ]
     },
     "execution_count": 18,
     "metadata": {},
     "output_type": "execute_result"
    }
   ],
   "source": [
    "LifeExpectancyData_merged.columns"
   ]
  },
  {
   "cell_type": "code",
   "execution_count": 19,
   "metadata": {},
   "outputs": [],
   "source": [
    "fill_list = (bos_hucre(LifeExpectancyData_merged)).index"
   ]
  },
  {
   "cell_type": "code",
   "execution_count": 20,
   "metadata": {},
   "outputs": [
    {
     "data": {
      "text/html": [
       "<div>\n",
       "<style scoped>\n",
       "    .dataframe tbody tr th:only-of-type {\n",
       "        vertical-align: middle;\n",
       "    }\n",
       "\n",
       "    .dataframe tbody tr th {\n",
       "        vertical-align: top;\n",
       "    }\n",
       "\n",
       "    .dataframe thead th {\n",
       "        text-align: right;\n",
       "    }\n",
       "</style>\n",
       "<table border=\"1\" class=\"dataframe\">\n",
       "  <thead>\n",
       "    <tr style=\"text-align: right;\">\n",
       "      <th></th>\n",
       "      <th>bos_toplam</th>\n",
       "      <th>bos_yuzde</th>\n",
       "    </tr>\n",
       "  </thead>\n",
       "  <tbody>\n",
       "    <tr>\n",
       "      <th>Hepatitis_B</th>\n",
       "      <td>536</td>\n",
       "      <td>0.190</td>\n",
       "    </tr>\n",
       "    <tr>\n",
       "      <th>GDP</th>\n",
       "      <td>352</td>\n",
       "      <td>0.125</td>\n",
       "    </tr>\n",
       "    <tr>\n",
       "      <th>Total_Expenditure</th>\n",
       "      <td>204</td>\n",
       "      <td>0.072</td>\n",
       "    </tr>\n",
       "    <tr>\n",
       "      <th>Alcohol</th>\n",
       "      <td>187</td>\n",
       "      <td>0.066</td>\n",
       "    </tr>\n",
       "    <tr>\n",
       "      <th>Income_composition_of_resources</th>\n",
       "      <td>87</td>\n",
       "      <td>0.031</td>\n",
       "    </tr>\n",
       "    <tr>\n",
       "      <th>Schooling</th>\n",
       "      <td>83</td>\n",
       "      <td>0.029</td>\n",
       "    </tr>\n",
       "    <tr>\n",
       "      <th>BMI</th>\n",
       "      <td>34</td>\n",
       "      <td>0.012</td>\n",
       "    </tr>\n",
       "    <tr>\n",
       "      <th>thinness_5_9_years</th>\n",
       "      <td>34</td>\n",
       "      <td>0.012</td>\n",
       "    </tr>\n",
       "    <tr>\n",
       "      <th>thinness_1_19_years</th>\n",
       "      <td>34</td>\n",
       "      <td>0.012</td>\n",
       "    </tr>\n",
       "    <tr>\n",
       "      <th>Polio</th>\n",
       "      <td>19</td>\n",
       "      <td>0.007</td>\n",
       "    </tr>\n",
       "    <tr>\n",
       "      <th>Diphtheria</th>\n",
       "      <td>19</td>\n",
       "      <td>0.007</td>\n",
       "    </tr>\n",
       "    <tr>\n",
       "      <th>Life_Expectancy</th>\n",
       "      <td>10</td>\n",
       "      <td>0.004</td>\n",
       "    </tr>\n",
       "    <tr>\n",
       "      <th>Adult_Mortality</th>\n",
       "      <td>10</td>\n",
       "      <td>0.004</td>\n",
       "    </tr>\n",
       "  </tbody>\n",
       "</table>\n",
       "</div>"
      ],
      "text/plain": [
       "                                 bos_toplam  bos_yuzde\n",
       "Hepatitis_B                             536      0.190\n",
       "GDP                                     352      0.125\n",
       "Total_Expenditure                       204      0.072\n",
       "Alcohol                                 187      0.066\n",
       "Income_composition_of_resources          87      0.031\n",
       "Schooling                                83      0.029\n",
       "BMI                                      34      0.012\n",
       "thinness_5_9_years                       34      0.012\n",
       "thinness_1_19_years                      34      0.012\n",
       "Polio                                    19      0.007\n",
       "Diphtheria                               19      0.007\n",
       "Life_Expectancy                          10      0.004\n",
       "Adult_Mortality                          10      0.004"
      ]
     },
     "execution_count": 20,
     "metadata": {},
     "output_type": "execute_result"
    }
   ],
   "source": [
    "bos_hucre(LifeExpectancyData_merged)"
   ]
  },
  {
   "cell_type": "markdown",
   "metadata": {},
   "source": [
    "**5. Filling of the Row Data**"
   ]
  },
  {
   "cell_type": "code",
   "execution_count": 21,
   "metadata": {},
   "outputs": [],
   "source": [
    "df_interpolate = LifeExpectancyData_merged.copy()\n",
    "\n",
    "for col in fill_list:\n",
    "    df_interpolate[col] = df_interpolate.groupby(['Country'])[col].transform(lambda x: x.interpolate(limit_direction = 'both'))"
   ]
  },
  {
   "cell_type": "code",
   "execution_count": 22,
   "metadata": {},
   "outputs": [
    {
     "data": {
      "text/html": [
       "<div>\n",
       "<style scoped>\n",
       "    .dataframe tbody tr th:only-of-type {\n",
       "        vertical-align: middle;\n",
       "    }\n",
       "\n",
       "    .dataframe tbody tr th {\n",
       "        vertical-align: top;\n",
       "    }\n",
       "\n",
       "    .dataframe thead th {\n",
       "        text-align: right;\n",
       "    }\n",
       "</style>\n",
       "<table border=\"1\" class=\"dataframe\">\n",
       "  <thead>\n",
       "    <tr style=\"text-align: right;\">\n",
       "      <th></th>\n",
       "      <th>bos_toplam</th>\n",
       "      <th>bos_yuzde</th>\n",
       "    </tr>\n",
       "  </thead>\n",
       "  <tbody>\n",
       "    <tr>\n",
       "      <th>GDP</th>\n",
       "      <td>309</td>\n",
       "      <td>0.109</td>\n",
       "    </tr>\n",
       "    <tr>\n",
       "      <th>Hepatitis_B</th>\n",
       "      <td>144</td>\n",
       "      <td>0.051</td>\n",
       "    </tr>\n",
       "    <tr>\n",
       "      <th>Income_composition_of_resources</th>\n",
       "      <td>87</td>\n",
       "      <td>0.031</td>\n",
       "    </tr>\n",
       "    <tr>\n",
       "      <th>Schooling</th>\n",
       "      <td>83</td>\n",
       "      <td>0.029</td>\n",
       "    </tr>\n",
       "    <tr>\n",
       "      <th>BMI</th>\n",
       "      <td>34</td>\n",
       "      <td>0.012</td>\n",
       "    </tr>\n",
       "    <tr>\n",
       "      <th>thinness_5_9_years</th>\n",
       "      <td>34</td>\n",
       "      <td>0.012</td>\n",
       "    </tr>\n",
       "    <tr>\n",
       "      <th>thinness_1_19_years</th>\n",
       "      <td>34</td>\n",
       "      <td>0.012</td>\n",
       "    </tr>\n",
       "    <tr>\n",
       "      <th>Alcohol</th>\n",
       "      <td>17</td>\n",
       "      <td>0.006</td>\n",
       "    </tr>\n",
       "    <tr>\n",
       "      <th>Total_Expenditure</th>\n",
       "      <td>16</td>\n",
       "      <td>0.006</td>\n",
       "    </tr>\n",
       "    <tr>\n",
       "      <th>Life_Expectancy</th>\n",
       "      <td>10</td>\n",
       "      <td>0.004</td>\n",
       "    </tr>\n",
       "    <tr>\n",
       "      <th>Adult_Mortality</th>\n",
       "      <td>10</td>\n",
       "      <td>0.004</td>\n",
       "    </tr>\n",
       "  </tbody>\n",
       "</table>\n",
       "</div>"
      ],
      "text/plain": [
       "                                 bos_toplam  bos_yuzde\n",
       "GDP                                     309      0.109\n",
       "Hepatitis_B                             144      0.051\n",
       "Income_composition_of_resources          87      0.031\n",
       "Schooling                                83      0.029\n",
       "BMI                                      34      0.012\n",
       "thinness_5_9_years                       34      0.012\n",
       "thinness_1_19_years                      34      0.012\n",
       "Alcohol                                  17      0.006\n",
       "Total_Expenditure                        16      0.006\n",
       "Life_Expectancy                          10      0.004\n",
       "Adult_Mortality                          10      0.004"
      ]
     },
     "execution_count": 22,
     "metadata": {},
     "output_type": "execute_result"
    }
   ],
   "source": [
    "bos_hucre(df_interpolate)"
   ]
  },
  {
   "cell_type": "markdown",
   "metadata": {},
   "source": [
    "****Applying Interpolate on both direction with grouping by Country, does not help on missing values of Total_Expenditure and Alcohol  as there is no information on related countries. Thus, I used interpolte method with grouping by sub-region and Year columns.***"
   ]
  },
  {
   "cell_type": "code",
   "execution_count": 23,
   "metadata": {},
   "outputs": [],
   "source": [
    "for col in fill_list:\n",
    "    df_interpolate[col] = df_interpolate.groupby(['sub-region', 'Year'])[col].transform(lambda x: x.interpolate(limit_direction='both'))"
   ]
  },
  {
   "cell_type": "code",
   "execution_count": 24,
   "metadata": {},
   "outputs": [
    {
     "data": {
      "text/html": [
       "<div>\n",
       "<style scoped>\n",
       "    .dataframe tbody tr th:only-of-type {\n",
       "        vertical-align: middle;\n",
       "    }\n",
       "\n",
       "    .dataframe tbody tr th {\n",
       "        vertical-align: top;\n",
       "    }\n",
       "\n",
       "    .dataframe thead th {\n",
       "        text-align: right;\n",
       "    }\n",
       "</style>\n",
       "<table border=\"1\" class=\"dataframe\">\n",
       "  <thead>\n",
       "    <tr style=\"text-align: right;\">\n",
       "      <th></th>\n",
       "      <th>bos_toplam</th>\n",
       "      <th>bos_yuzde</th>\n",
       "    </tr>\n",
       "  </thead>\n",
       "  <tbody>\n",
       "  </tbody>\n",
       "</table>\n",
       "</div>"
      ],
      "text/plain": [
       "Empty DataFrame\n",
       "Columns: [bos_toplam, bos_yuzde]\n",
       "Index: []"
      ]
     },
     "execution_count": 24,
     "metadata": {},
     "output_type": "execute_result"
    }
   ],
   "source": [
    "bos_hucre(df_interpolate)"
   ]
  },
  {
   "cell_type": "markdown",
   "metadata": {},
   "source": [
    "**8.Training the Model**"
   ]
  },
  {
   "cell_type": "code",
   "execution_count": 25,
   "metadata": {},
   "outputs": [],
   "source": [
    "LifeExpectancyData_num = df_interpolate._get_numeric_data() "
   ]
  },
  {
   "cell_type": "code",
   "execution_count": 26,
   "metadata": {},
   "outputs": [
    {
     "data": {
      "text/plain": [
       "Index(['Schooling', 'Income_composition_of_resources', 'Adult_Mortality',\n",
       "       'HIV/AIDS', 'BMI', 'Diphtheria', 'thinness_1_19_years',\n",
       "       'thinness_5_9_years', 'Polio', 'GDP', 'Alcohol',\n",
       "       'percentage_expenditure', 'Hepatitis_B', 'Total_Expenditure',\n",
       "       'under_five_deaths', 'infant_deaths', 'Year', 'Measles'],\n",
       "      dtype='object')"
      ]
     },
     "execution_count": 26,
     "metadata": {},
     "output_type": "execute_result"
    }
   ],
   "source": [
    "corr_matrix = LifeExpectancyData_num.corr()\n",
    "corr_list = corr_matrix.Life_Expectancy.abs().sort_values(ascending=False).index[1:]\n",
    "corr_list"
   ]
  },
  {
   "cell_type": "code",
   "execution_count": 27,
   "metadata": {
    "scrolled": true
   },
   "outputs": [],
   "source": [
    "y_allValues = LifeExpectancyData_num['Life_Expectancy']\n",
    "X_allValues = LifeExpectancyData_num[corr_list]"
   ]
  },
  {
   "cell_type": "code",
   "execution_count": 28,
   "metadata": {},
   "outputs": [
    {
     "name": "stdout",
     "output_type": "stream",
     "text": [
      "Eğitim kümesindeki gözlem sayısı : 2260\n",
      "Test kümesindeki gözlem sayısı   : 566\n"
     ]
    }
   ],
   "source": [
    "X_train, X_test, y_train, y_test = train_test_split(X_allValues, y_allValues, test_size = 0.2, random_state = 500)\n",
    "\n",
    "print(\"Eğitim kümesindeki gözlem sayısı : {}\".format(X_train.shape[0]))\n",
    "print(\"Test kümesindeki gözlem sayısı   : {}\".format(X_test.shape[0]))"
   ]
  },
  {
   "cell_type": "code",
   "execution_count": 29,
   "metadata": {},
   "outputs": [
    {
     "data": {
      "text/html": [
       "<table class=\"simpletable\">\n",
       "<caption>OLS Regression Results</caption>\n",
       "<tr>\n",
       "  <th>Dep. Variable:</th>     <td>Life_Expectancy</td> <th>  R-squared:         </th> <td>   0.831</td> \n",
       "</tr>\n",
       "<tr>\n",
       "  <th>Model:</th>                   <td>OLS</td>       <th>  Adj. R-squared:    </th> <td>   0.830</td> \n",
       "</tr>\n",
       "<tr>\n",
       "  <th>Method:</th>             <td>Least Squares</td>  <th>  F-statistic:       </th> <td>   613.6</td> \n",
       "</tr>\n",
       "<tr>\n",
       "  <th>Date:</th>             <td>Wed, 01 May 2019</td> <th>  Prob (F-statistic):</th>  <td>  0.00</td>  \n",
       "</tr>\n",
       "<tr>\n",
       "  <th>Time:</th>                 <td>23:23:36</td>     <th>  Log-Likelihood:    </th> <td> -6257.8</td> \n",
       "</tr>\n",
       "<tr>\n",
       "  <th>No. Observations:</th>      <td>  2260</td>      <th>  AIC:               </th> <td>1.255e+04</td>\n",
       "</tr>\n",
       "<tr>\n",
       "  <th>Df Residuals:</th>          <td>  2241</td>      <th>  BIC:               </th> <td>1.266e+04</td>\n",
       "</tr>\n",
       "<tr>\n",
       "  <th>Df Model:</th>              <td>    18</td>      <th>                     </th>     <td> </td>    \n",
       "</tr>\n",
       "<tr>\n",
       "  <th>Covariance Type:</th>      <td>nonrobust</td>    <th>                     </th>     <td> </td>    \n",
       "</tr>\n",
       "</table>\n",
       "<table class=\"simpletable\">\n",
       "<tr>\n",
       "                 <td></td>                    <th>coef</th>     <th>std err</th>      <th>t</th>      <th>P>|t|</th>  <th>[0.025</th>    <th>0.975]</th>  \n",
       "</tr>\n",
       "<tr>\n",
       "  <th>const</th>                           <td>  146.6938</td> <td>   39.098</td> <td>    3.752</td> <td> 0.000</td> <td>   70.021</td> <td>  223.366</td>\n",
       "</tr>\n",
       "<tr>\n",
       "  <th>Schooling</th>                       <td>    0.7519</td> <td>    0.047</td> <td>   16.167</td> <td> 0.000</td> <td>    0.661</td> <td>    0.843</td>\n",
       "</tr>\n",
       "<tr>\n",
       "  <th>Income_composition_of_resources</th> <td>    7.4097</td> <td>    0.693</td> <td>   10.699</td> <td> 0.000</td> <td>    6.052</td> <td>    8.768</td>\n",
       "</tr>\n",
       "<tr>\n",
       "  <th>Adult_Mortality</th>                 <td>   -0.0172</td> <td>    0.001</td> <td>  -18.633</td> <td> 0.000</td> <td>   -0.019</td> <td>   -0.015</td>\n",
       "</tr>\n",
       "<tr>\n",
       "  <th>HIV/AIDS</th>                        <td>   -0.5359</td> <td>    0.024</td> <td>  -22.697</td> <td> 0.000</td> <td>   -0.582</td> <td>   -0.490</td>\n",
       "</tr>\n",
       "<tr>\n",
       "  <th>BMI</th>                             <td>    0.0425</td> <td>    0.006</td> <td>    7.702</td> <td> 0.000</td> <td>    0.032</td> <td>    0.053</td>\n",
       "</tr>\n",
       "<tr>\n",
       "  <th>Diphtheria</th>                      <td>    0.0256</td> <td>    0.005</td> <td>    4.812</td> <td> 0.000</td> <td>    0.015</td> <td>    0.036</td>\n",
       "</tr>\n",
       "<tr>\n",
       "  <th>thinness_1_19_years</th>             <td>   -0.0700</td> <td>    0.053</td> <td>   -1.321</td> <td> 0.187</td> <td>   -0.174</td> <td>    0.034</td>\n",
       "</tr>\n",
       "<tr>\n",
       "  <th>thinness_5_9_years</th>              <td>   -0.0004</td> <td>    0.052</td> <td>   -0.007</td> <td> 0.994</td> <td>   -0.103</td> <td>    0.102</td>\n",
       "</tr>\n",
       "<tr>\n",
       "  <th>Polio</th>                           <td>    0.0229</td> <td>    0.005</td> <td>    4.561</td> <td> 0.000</td> <td>    0.013</td> <td>    0.033</td>\n",
       "</tr>\n",
       "<tr>\n",
       "  <th>GDP</th>                             <td> 2.635e-05</td> <td> 1.13e-05</td> <td>    2.326</td> <td> 0.020</td> <td> 4.13e-06</td> <td> 4.86e-05</td>\n",
       "</tr>\n",
       "<tr>\n",
       "  <th>Alcohol</th>                         <td>    0.0430</td> <td>    0.026</td> <td>    1.633</td> <td> 0.103</td> <td>   -0.009</td> <td>    0.095</td>\n",
       "</tr>\n",
       "<tr>\n",
       "  <th>percentage_expenditure</th>          <td>    0.0002</td> <td> 7.65e-05</td> <td>    2.928</td> <td> 0.003</td> <td>  7.4e-05</td> <td>    0.000</td>\n",
       "</tr>\n",
       "<tr>\n",
       "  <th>Hepatitis_B</th>                     <td>   -0.0008</td> <td>    0.004</td> <td>   -0.225</td> <td> 0.822</td> <td>   -0.008</td> <td>    0.006</td>\n",
       "</tr>\n",
       "<tr>\n",
       "  <th>Total_Expenditure</th>               <td>    0.0345</td> <td>    0.035</td> <td>    0.993</td> <td> 0.321</td> <td>   -0.034</td> <td>    0.103</td>\n",
       "</tr>\n",
       "<tr>\n",
       "  <th>under_five_deaths</th>               <td>   -0.0699</td> <td>    0.006</td> <td>  -10.891</td> <td> 0.000</td> <td>   -0.083</td> <td>   -0.057</td>\n",
       "</tr>\n",
       "<tr>\n",
       "  <th>infant_deaths</th>                   <td>    0.0937</td> <td>    0.009</td> <td>   10.779</td> <td> 0.000</td> <td>    0.077</td> <td>    0.111</td>\n",
       "</tr>\n",
       "<tr>\n",
       "  <th>Year</th>                            <td>   -0.0465</td> <td>    0.020</td> <td>   -2.376</td> <td> 0.018</td> <td>   -0.085</td> <td>   -0.008</td>\n",
       "</tr>\n",
       "<tr>\n",
       "  <th>Measles</th>                         <td>-1.442e-05</td> <td> 9.25e-06</td> <td>   -1.558</td> <td> 0.119</td> <td>-3.26e-05</td> <td> 3.73e-06</td>\n",
       "</tr>\n",
       "</table>\n",
       "<table class=\"simpletable\">\n",
       "<tr>\n",
       "  <th>Omnibus:</th>       <td>146.101</td> <th>  Durbin-Watson:     </th> <td>   1.969</td> \n",
       "</tr>\n",
       "<tr>\n",
       "  <th>Prob(Omnibus):</th> <td> 0.000</td>  <th>  Jarque-Bera (JB):  </th> <td> 665.175</td> \n",
       "</tr>\n",
       "<tr>\n",
       "  <th>Skew:</th>          <td> 0.026</td>  <th>  Prob(JB):          </th> <td>3.62e-145</td>\n",
       "</tr>\n",
       "<tr>\n",
       "  <th>Kurtosis:</th>      <td> 5.657</td>  <th>  Cond. No.          </th> <td>7.79e+06</td> \n",
       "</tr>\n",
       "</table><br/><br/>Warnings:<br/>[1] Standard Errors assume that the covariance matrix of the errors is correctly specified.<br/>[2] The condition number is large, 7.79e+06. This might indicate that there are<br/>strong multicollinearity or other numerical problems."
      ],
      "text/plain": [
       "<class 'statsmodels.iolib.summary.Summary'>\n",
       "\"\"\"\n",
       "                            OLS Regression Results                            \n",
       "==============================================================================\n",
       "Dep. Variable:        Life_Expectancy   R-squared:                       0.831\n",
       "Model:                            OLS   Adj. R-squared:                  0.830\n",
       "Method:                 Least Squares   F-statistic:                     613.6\n",
       "Date:                Wed, 01 May 2019   Prob (F-statistic):               0.00\n",
       "Time:                        23:23:36   Log-Likelihood:                -6257.8\n",
       "No. Observations:                2260   AIC:                         1.255e+04\n",
       "Df Residuals:                    2241   BIC:                         1.266e+04\n",
       "Df Model:                          18                                         \n",
       "Covariance Type:            nonrobust                                         \n",
       "===================================================================================================\n",
       "                                      coef    std err          t      P>|t|      [0.025      0.975]\n",
       "---------------------------------------------------------------------------------------------------\n",
       "const                             146.6938     39.098      3.752      0.000      70.021     223.366\n",
       "Schooling                           0.7519      0.047     16.167      0.000       0.661       0.843\n",
       "Income_composition_of_resources     7.4097      0.693     10.699      0.000       6.052       8.768\n",
       "Adult_Mortality                    -0.0172      0.001    -18.633      0.000      -0.019      -0.015\n",
       "HIV/AIDS                           -0.5359      0.024    -22.697      0.000      -0.582      -0.490\n",
       "BMI                                 0.0425      0.006      7.702      0.000       0.032       0.053\n",
       "Diphtheria                          0.0256      0.005      4.812      0.000       0.015       0.036\n",
       "thinness_1_19_years                -0.0700      0.053     -1.321      0.187      -0.174       0.034\n",
       "thinness_5_9_years                 -0.0004      0.052     -0.007      0.994      -0.103       0.102\n",
       "Polio                               0.0229      0.005      4.561      0.000       0.013       0.033\n",
       "GDP                              2.635e-05   1.13e-05      2.326      0.020    4.13e-06    4.86e-05\n",
       "Alcohol                             0.0430      0.026      1.633      0.103      -0.009       0.095\n",
       "percentage_expenditure              0.0002   7.65e-05      2.928      0.003     7.4e-05       0.000\n",
       "Hepatitis_B                        -0.0008      0.004     -0.225      0.822      -0.008       0.006\n",
       "Total_Expenditure                   0.0345      0.035      0.993      0.321      -0.034       0.103\n",
       "under_five_deaths                  -0.0699      0.006    -10.891      0.000      -0.083      -0.057\n",
       "infant_deaths                       0.0937      0.009     10.779      0.000       0.077       0.111\n",
       "Year                               -0.0465      0.020     -2.376      0.018      -0.085      -0.008\n",
       "Measles                         -1.442e-05   9.25e-06     -1.558      0.119   -3.26e-05    3.73e-06\n",
       "==============================================================================\n",
       "Omnibus:                      146.101   Durbin-Watson:                   1.969\n",
       "Prob(Omnibus):                  0.000   Jarque-Bera (JB):              665.175\n",
       "Skew:                           0.026   Prob(JB):                    3.62e-145\n",
       "Kurtosis:                       5.657   Cond. No.                     7.79e+06\n",
       "==============================================================================\n",
       "\n",
       "Warnings:\n",
       "[1] Standard Errors assume that the covariance matrix of the errors is correctly specified.\n",
       "[2] The condition number is large, 7.79e+06. This might indicate that there are\n",
       "strong multicollinearity or other numerical problems.\n",
       "\"\"\""
      ]
     },
     "execution_count": 29,
     "metadata": {},
     "output_type": "execute_result"
    }
   ],
   "source": [
    "X_train = sm.add_constant(X_train)\n",
    "\n",
    "tum_degiskenli_model = sm.OLS(y_train, X_train).fit()\n",
    "\n",
    "tum_degiskenli_model.summary()"
   ]
  },
  {
   "cell_type": "code",
   "execution_count": 30,
   "metadata": {},
   "outputs": [],
   "source": [
    "from matplotlib import style\n",
    "style.use('fivethirtyeight')"
   ]
  },
  {
   "cell_type": "code",
   "execution_count": 31,
   "metadata": {},
   "outputs": [
    {
     "data": {
      "image/png": "[encoded data removed]",
      "text/plain": [
       "<Figure size 600x400 with 1 Axes>"
      ]
     },
     "metadata": {},
     "output_type": "display_data"
    }
   ],
   "source": [
    "X_test = sm.add_constant(X_test)\n",
    "\n",
    "y_preds = tum_degiskenli_model.predict(X_test)\n",
    "\n",
    "plt.figure(dpi = 100)\n",
    "\n",
    "plt.scatter(y_test, y_preds)\n",
    "plt.plot(y_test, y_test, color=\"red\")\n",
    "plt.xlabel(\"Y Test/Real Values\")\n",
    "plt.ylabel(\"Predicted Y\")\n",
    "plt.title(\"LIFE EXPECTANCY REAL AND REDICTED VALUES\")\n",
    "plt.show()"
   ]
  },
  {
   "cell_type": "code",
   "execution_count": 32,
   "metadata": {},
   "outputs": [
    {
     "name": "stdout",
     "output_type": "stream",
     "text": [
      "Ortalama Mutlak Hata (MAE)        : 3.139625766498209\n",
      "Ortalama Kare Hata (MSE)          : 17.682203150094185\n",
      "Kök Ortalama Kare Hata (RMSE)     : 4.205021183073182\n",
      "Ortalama Mutlak Yüzde Hata (MAPE) : 4.835593873167138\n"
     ]
    }
   ],
   "source": [
    "print(\"Ortalama Mutlak Hata (MAE)        : {}\".format(mean_absolute_error(y_test, y_preds)))\n",
    "print(\"Ortalama Kare Hata (MSE)          : {}\".format(mse(y_test, y_preds)))\n",
    "print(\"Kök Ortalama Kare Hata (RMSE)     : {}\".format(rmse(y_test, y_preds)))\n",
    "print(\"Ortalama Mutlak Yüzde Hata (MAPE) : {}\".format(np.mean(np.abs((y_test - y_preds) / y_test)) * 100))"
   ]
  },
  {
   "cell_type": "code",
   "execution_count": 33,
   "metadata": {},
   "outputs": [
    {
     "data": {
      "text/plain": [
       "19"
      ]
     },
     "execution_count": 33,
     "metadata": {},
     "output_type": "execute_result"
    }
   ],
   "source": [
    "len(tum_degiskenli_model.pvalues)"
   ]
  },
  {
   "cell_type": "code",
   "execution_count": 34,
   "metadata": {},
   "outputs": [
    {
     "data": {
      "text/plain": [
       "['const',\n",
       " 'Schooling',\n",
       " 'Income_composition_of_resources',\n",
       " 'Adult_Mortality',\n",
       " 'HIV/AIDS',\n",
       " 'BMI',\n",
       " 'Diphtheria',\n",
       " 'Polio',\n",
       " 'GDP',\n",
       " 'percentage_expenditure',\n",
       " 'under_five_deaths',\n",
       " 'infant_deaths',\n",
       " 'Year']"
      ]
     },
     "execution_count": 34,
     "metadata": {},
     "output_type": "execute_result"
    }
   ],
   "source": [
    "pDegeri = tum_degiskenli_model.pvalues\n",
    "anlamli_degerler = list(pDegeri[pDegeri<= 0.05].index)\n",
    "anlamli_degerler"
   ]
  },
  {
   "cell_type": "code",
   "execution_count": 35,
   "metadata": {},
   "outputs": [],
   "source": [
    "anlamli_degerler= anlamli_degerler[1:]"
   ]
  },
  {
   "cell_type": "code",
   "execution_count": 36,
   "metadata": {},
   "outputs": [
    {
     "data": {
      "text/plain": [
       "12"
      ]
     },
     "execution_count": 36,
     "metadata": {},
     "output_type": "execute_result"
    }
   ],
   "source": [
    "len(anlamli_degerler)"
   ]
  },
  {
   "cell_type": "code",
   "execution_count": 37,
   "metadata": {},
   "outputs": [],
   "source": [
    "y_anlamli = LifeExpectancyData_num['Life_Expectancy'] \n",
    "X_anlamli = LifeExpectancyData_num[anlamli_degerler] "
   ]
  },
  {
   "cell_type": "code",
   "execution_count": 38,
   "metadata": {},
   "outputs": [
    {
     "name": "stdout",
     "output_type": "stream",
     "text": [
      "Eğitim kümesindeki gözlem sayısı : 2260\n",
      "Test kümesindeki gözlem sayısı   : 566\n"
     ]
    }
   ],
   "source": [
    "X_train, X_test, y_train, y_test = train_test_split(X_anlamli, y_anlamli, test_size = 0.2, random_state = 500)\n",
    "\n",
    "print(\"Eğitim kümesindeki gözlem sayısı : {}\".format(X_train.shape[0]))\n",
    "print(\"Test kümesindeki gözlem sayısı   : {}\".format(X_test.shape[0]))"
   ]
  },
  {
   "cell_type": "code",
   "execution_count": 39,
   "metadata": {},
   "outputs": [
    {
     "data": {
      "text/html": [
       "<table class=\"simpletable\">\n",
       "<caption>OLS Regression Results</caption>\n",
       "<tr>\n",
       "  <th>Dep. Variable:</th>     <td>Life_Expectancy</td> <th>  R-squared:         </th> <td>   0.830</td> \n",
       "</tr>\n",
       "<tr>\n",
       "  <th>Model:</th>                   <td>OLS</td>       <th>  Adj. R-squared:    </th> <td>   0.829</td> \n",
       "</tr>\n",
       "<tr>\n",
       "  <th>Method:</th>             <td>Least Squares</td>  <th>  F-statistic:       </th> <td>   914.4</td> \n",
       "</tr>\n",
       "<tr>\n",
       "  <th>Date:</th>             <td>Wed, 01 May 2019</td> <th>  Prob (F-statistic):</th>  <td>  0.00</td>  \n",
       "</tr>\n",
       "<tr>\n",
       "  <th>Time:</th>                 <td>23:23:36</td>     <th>  Log-Likelihood:    </th> <td> -6266.4</td> \n",
       "</tr>\n",
       "<tr>\n",
       "  <th>No. Observations:</th>      <td>  2260</td>      <th>  AIC:               </th> <td>1.256e+04</td>\n",
       "</tr>\n",
       "<tr>\n",
       "  <th>Df Residuals:</th>          <td>  2247</td>      <th>  BIC:               </th> <td>1.263e+04</td>\n",
       "</tr>\n",
       "<tr>\n",
       "  <th>Df Model:</th>              <td>    12</td>      <th>                     </th>     <td> </td>    \n",
       "</tr>\n",
       "<tr>\n",
       "  <th>Covariance Type:</th>      <td>nonrobust</td>    <th>                     </th>     <td> </td>    \n",
       "</tr>\n",
       "</table>\n",
       "<table class=\"simpletable\">\n",
       "<tr>\n",
       "                 <td></td>                    <th>coef</th>     <th>std err</th>      <th>t</th>      <th>P>|t|</th>  <th>[0.025</th>    <th>0.975]</th>  \n",
       "</tr>\n",
       "<tr>\n",
       "  <th>const</th>                           <td>  165.6685</td> <td>   37.177</td> <td>    4.456</td> <td> 0.000</td> <td>   92.763</td> <td>  238.574</td>\n",
       "</tr>\n",
       "<tr>\n",
       "  <th>Schooling</th>                       <td>    0.7975</td> <td>    0.044</td> <td>   18.098</td> <td> 0.000</td> <td>    0.711</td> <td>    0.884</td>\n",
       "</tr>\n",
       "<tr>\n",
       "  <th>Income_composition_of_resources</th> <td>    7.6033</td> <td>    0.691</td> <td>   11.005</td> <td> 0.000</td> <td>    6.248</td> <td>    8.958</td>\n",
       "</tr>\n",
       "<tr>\n",
       "  <th>Adult_Mortality</th>                 <td>   -0.0170</td> <td>    0.001</td> <td>  -18.560</td> <td> 0.000</td> <td>   -0.019</td> <td>   -0.015</td>\n",
       "</tr>\n",
       "<tr>\n",
       "  <th>HIV/AIDS</th>                        <td>   -0.5402</td> <td>    0.023</td> <td>  -23.015</td> <td> 0.000</td> <td>   -0.586</td> <td>   -0.494</td>\n",
       "</tr>\n",
       "<tr>\n",
       "  <th>BMI</th>                             <td>    0.0494</td> <td>    0.005</td> <td>    9.616</td> <td> 0.000</td> <td>    0.039</td> <td>    0.059</td>\n",
       "</tr>\n",
       "<tr>\n",
       "  <th>Diphtheria</th>                      <td>    0.0255</td> <td>    0.005</td> <td>    5.109</td> <td> 0.000</td> <td>    0.016</td> <td>    0.035</td>\n",
       "</tr>\n",
       "<tr>\n",
       "  <th>Polio</th>                           <td>    0.0224</td> <td>    0.005</td> <td>    4.489</td> <td> 0.000</td> <td>    0.013</td> <td>    0.032</td>\n",
       "</tr>\n",
       "<tr>\n",
       "  <th>GDP</th>                             <td> 2.488e-05</td> <td> 1.13e-05</td> <td>    2.197</td> <td> 0.028</td> <td> 2.67e-06</td> <td> 4.71e-05</td>\n",
       "</tr>\n",
       "<tr>\n",
       "  <th>percentage_expenditure</th>          <td>    0.0003</td> <td>  7.6e-05</td> <td>    3.392</td> <td> 0.001</td> <td>    0.000</td> <td>    0.000</td>\n",
       "</tr>\n",
       "<tr>\n",
       "  <th>under_five_deaths</th>               <td>   -0.0674</td> <td>    0.006</td> <td>  -10.694</td> <td> 0.000</td> <td>   -0.080</td> <td>   -0.055</td>\n",
       "</tr>\n",
       "<tr>\n",
       "  <th>infant_deaths</th>                   <td>    0.0887</td> <td>    0.009</td> <td>   10.399</td> <td> 0.000</td> <td>    0.072</td> <td>    0.105</td>\n",
       "</tr>\n",
       "<tr>\n",
       "  <th>Year</th>                            <td>   -0.0564</td> <td>    0.019</td> <td>   -3.036</td> <td> 0.002</td> <td>   -0.093</td> <td>   -0.020</td>\n",
       "</tr>\n",
       "</table>\n",
       "<table class=\"simpletable\">\n",
       "<tr>\n",
       "  <th>Omnibus:</th>       <td>158.909</td> <th>  Durbin-Watson:     </th> <td>   1.962</td> \n",
       "</tr>\n",
       "<tr>\n",
       "  <th>Prob(Omnibus):</th> <td> 0.000</td>  <th>  Jarque-Bera (JB):  </th> <td> 748.807</td> \n",
       "</tr>\n",
       "<tr>\n",
       "  <th>Skew:</th>          <td> 0.111</td>  <th>  Prob(JB):          </th> <td>2.50e-163</td>\n",
       "</tr>\n",
       "<tr>\n",
       "  <th>Kurtosis:</th>      <td> 5.811</td>  <th>  Cond. No.          </th> <td>7.39e+06</td> \n",
       "</tr>\n",
       "</table><br/><br/>Warnings:<br/>[1] Standard Errors assume that the covariance matrix of the errors is correctly specified.<br/>[2] The condition number is large, 7.39e+06. This might indicate that there are<br/>strong multicollinearity or other numerical problems."
      ],
      "text/plain": [
       "<class 'statsmodels.iolib.summary.Summary'>\n",
       "\"\"\"\n",
       "                            OLS Regression Results                            \n",
       "==============================================================================\n",
       "Dep. Variable:        Life_Expectancy   R-squared:                       0.830\n",
       "Model:                            OLS   Adj. R-squared:                  0.829\n",
       "Method:                 Least Squares   F-statistic:                     914.4\n",
       "Date:                Wed, 01 May 2019   Prob (F-statistic):               0.00\n",
       "Time:                        23:23:36   Log-Likelihood:                -6266.4\n",
       "No. Observations:                2260   AIC:                         1.256e+04\n",
       "Df Residuals:                    2247   BIC:                         1.263e+04\n",
       "Df Model:                          12                                         \n",
       "Covariance Type:            nonrobust                                         \n",
       "===================================================================================================\n",
       "                                      coef    std err          t      P>|t|      [0.025      0.975]\n",
       "---------------------------------------------------------------------------------------------------\n",
       "const                             165.6685     37.177      4.456      0.000      92.763     238.574\n",
       "Schooling                           0.7975      0.044     18.098      0.000       0.711       0.884\n",
       "Income_composition_of_resources     7.6033      0.691     11.005      0.000       6.248       8.958\n",
       "Adult_Mortality                    -0.0170      0.001    -18.560      0.000      -0.019      -0.015\n",
       "HIV/AIDS                           -0.5402      0.023    -23.015      0.000      -0.586      -0.494\n",
       "BMI                                 0.0494      0.005      9.616      0.000       0.039       0.059\n",
       "Diphtheria                          0.0255      0.005      5.109      0.000       0.016       0.035\n",
       "Polio                               0.0224      0.005      4.489      0.000       0.013       0.032\n",
       "GDP                              2.488e-05   1.13e-05      2.197      0.028    2.67e-06    4.71e-05\n",
       "percentage_expenditure              0.0003    7.6e-05      3.392      0.001       0.000       0.000\n",
       "under_five_deaths                  -0.0674      0.006    -10.694      0.000      -0.080      -0.055\n",
       "infant_deaths                       0.0887      0.009     10.399      0.000       0.072       0.105\n",
       "Year                               -0.0564      0.019     -3.036      0.002      -0.093      -0.020\n",
       "==============================================================================\n",
       "Omnibus:                      158.909   Durbin-Watson:                   1.962\n",
       "Prob(Omnibus):                  0.000   Jarque-Bera (JB):              748.807\n",
       "Skew:                           0.111   Prob(JB):                    2.50e-163\n",
       "Kurtosis:                       5.811   Cond. No.                     7.39e+06\n",
       "==============================================================================\n",
       "\n",
       "Warnings:\n",
       "[1] Standard Errors assume that the covariance matrix of the errors is correctly specified.\n",
       "[2] The condition number is large, 7.39e+06. This might indicate that there are\n",
       "strong multicollinearity or other numerical problems.\n",
       "\"\"\""
      ]
     },
     "execution_count": 39,
     "metadata": {},
     "output_type": "execute_result"
    }
   ],
   "source": [
    "X_train = sm.add_constant(X_train)\n",
    "\n",
    "anlamli_12degiskenli_model = sm.OLS(y_train, X_train).fit()\n",
    "anlamli_12degiskenli_model.summary()"
   ]
  },
  {
   "cell_type": "code",
   "execution_count": 40,
   "metadata": {},
   "outputs": [
    {
     "data": {
      "image/png": "[encoded data removed]",
      "text/plain": [
       "<Figure size 600x400 with 1 Axes>"
      ]
     },
     "metadata": {},
     "output_type": "display_data"
    }
   ],
   "source": [
    "X_test = sm.add_constant(X_test)\n",
    "\n",
    "y_preds = anlamli_12degiskenli_model.predict(X_test)\n",
    "\n",
    "plt.figure(dpi = 100)\n",
    "\n",
    "plt.scatter(y_test, y_preds)\n",
    "plt.plot(y_test, y_test, color=\"red\")\n",
    "plt.xlabel(\"Y Test/Real Values\")\n",
    "plt.ylabel(\"Predicted Y\")\n",
    "plt.title(\"LIFE EXPECTANCY REAL AND PREDICTED VALUES\")\n",
    "plt.show()"
   ]
  },
  {
   "cell_type": "code",
   "execution_count": 41,
   "metadata": {},
   "outputs": [
    {
     "name": "stdout",
     "output_type": "stream",
     "text": [
      "0.8313145645747545\n",
      "0.830025511192831\n"
     ]
    }
   ],
   "source": [
    "print (tum_degiskenli_model.rsquared)\n",
    "print (anlamli_12degiskenli_model.rsquared) \n"
   ]
  },
  {
   "cell_type": "code",
   "execution_count": 42,
   "metadata": {},
   "outputs": [
    {
     "data": {
      "text/plain": [
       "const                             0.000\n",
       "Schooling                         0.000\n",
       "Income_composition_of_resources   0.000\n",
       "Adult_Mortality                   0.000\n",
       "HIV/AIDS                          0.000\n",
       "BMI                               0.000\n",
       "Diphtheria                        0.000\n",
       "Polio                             0.000\n",
       "GDP                               0.028\n",
       "percentage_expenditure            0.001\n",
       "under_five_deaths                 0.000\n",
       "infant_deaths                     0.000\n",
       "Year                              0.002\n",
       "dtype: float64"
      ]
     },
     "execution_count": 42,
     "metadata": {},
     "output_type": "execute_result"
    }
   ],
   "source": [
    "anlamli_12degiskenli_model.pvalues"
   ]
  },
  {
   "cell_type": "code",
   "execution_count": 43,
   "metadata": {},
   "outputs": [
    {
     "data": {
      "text/plain": [
       "['Schooling',\n",
       " 'Income_composition_of_resources',\n",
       " 'Adult_Mortality',\n",
       " 'HIV/AIDS',\n",
       " 'BMI',\n",
       " 'Diphtheria',\n",
       " 'Polio',\n",
       " 'GDP',\n",
       " 'percentage_expenditure',\n",
       " 'under_five_deaths',\n",
       " 'infant_deaths',\n",
       " 'Year']"
      ]
     },
     "execution_count": 43,
     "metadata": {},
     "output_type": "execute_result"
    }
   ],
   "source": [
    "anlamli_degerler"
   ]
  },
  {
   "cell_type": "markdown",
   "metadata": {},
   "source": [
    "anlamli_degerler listesinde artik sabit olmadigi icin devam edebiliriz."
   ]
  },
  {
   "cell_type": "code",
   "execution_count": 44,
   "metadata": {},
   "outputs": [],
   "source": [
    "X_arttirilmis_anlamli = LifeExpectancyData_num[anlamli_degerler[:10]]\n"
   ]
  },
  {
   "cell_type": "code",
   "execution_count": 45,
   "metadata": {},
   "outputs": [
    {
     "data": {
      "text/plain": [
       "10"
      ]
     },
     "execution_count": 45,
     "metadata": {},
     "output_type": "execute_result"
    }
   ],
   "source": [
    "len(anlamli_degerler[:10])"
   ]
  },
  {
   "cell_type": "code",
   "execution_count": 46,
   "metadata": {},
   "outputs": [
    {
     "name": "stdout",
     "output_type": "stream",
     "text": [
      "Eğitim kümesindeki gözlem sayısı : 2260\n",
      "Test kümesindeki gözlem sayısı   : 566\n"
     ]
    }
   ],
   "source": [
    "X_train, X_test, y_train, y_test = train_test_split(X_arttirilmis_anlamli, y_anlamli, test_size = 0.2, random_state = 500)\n",
    "\n",
    "print(\"Eğitim kümesindeki gözlem sayısı : {}\".format(X_train.shape[0]))\n",
    "print(\"Test kümesindeki gözlem sayısı   : {}\".format(X_test.shape[0]))"
   ]
  },
  {
   "cell_type": "code",
   "execution_count": 47,
   "metadata": {},
   "outputs": [
    {
     "data": {
      "text/html": [
       "<table class=\"simpletable\">\n",
       "<caption>OLS Regression Results</caption>\n",
       "<tr>\n",
       "  <th>Dep. Variable:</th>     <td>Life_Expectancy</td> <th>  R-squared:         </th> <td>   0.981</td> \n",
       "</tr>\n",
       "<tr>\n",
       "  <th>Model:</th>                   <td>OLS</td>       <th>  Adj. R-squared:    </th> <td>   0.981</td> \n",
       "</tr>\n",
       "<tr>\n",
       "  <th>Method:</th>             <td>Least Squares</td>  <th>  F-statistic:       </th> <td>1.486e+04</td>\n",
       "</tr>\n",
       "<tr>\n",
       "  <th>Date:</th>             <td>Wed, 01 May 2019</td> <th>  Prob (F-statistic):</th>  <td>  0.00</td>  \n",
       "</tr>\n",
       "<tr>\n",
       "  <th>Time:</th>                 <td>23:23:37</td>     <th>  Log-Likelihood:    </th> <td> -10387.</td> \n",
       "</tr>\n",
       "<tr>\n",
       "  <th>No. Observations:</th>      <td>  2826</td>      <th>  AIC:               </th> <td>2.079e+04</td>\n",
       "</tr>\n",
       "<tr>\n",
       "  <th>Df Residuals:</th>          <td>  2816</td>      <th>  BIC:               </th> <td>2.085e+04</td>\n",
       "</tr>\n",
       "<tr>\n",
       "  <th>Df Model:</th>              <td>    10</td>      <th>                     </th>     <td> </td>    \n",
       "</tr>\n",
       "<tr>\n",
       "  <th>Covariance Type:</th>      <td>nonrobust</td>    <th>                     </th>     <td> </td>    \n",
       "</tr>\n",
       "</table>\n",
       "<table class=\"simpletable\">\n",
       "<tr>\n",
       "                 <td></td>                    <th>coef</th>     <th>std err</th>      <th>t</th>      <th>P>|t|</th>  <th>[0.025</th>    <th>0.975]</th>  \n",
       "</tr>\n",
       "<tr>\n",
       "  <th>Schooling</th>                       <td>    2.3109</td> <td>    0.092</td> <td>   25.254</td> <td> 0.000</td> <td>    2.131</td> <td>    2.490</td>\n",
       "</tr>\n",
       "<tr>\n",
       "  <th>Income_composition_of_resources</th> <td>   15.7849</td> <td>    1.525</td> <td>   10.350</td> <td> 0.000</td> <td>   12.794</td> <td>   18.776</td>\n",
       "</tr>\n",
       "<tr>\n",
       "  <th>Adult_Mortality</th>                 <td>    0.0359</td> <td>    0.002</td> <td>   21.609</td> <td> 0.000</td> <td>    0.033</td> <td>    0.039</td>\n",
       "</tr>\n",
       "<tr>\n",
       "  <th>HIV/AIDS</th>                        <td>   -0.6964</td> <td>    0.050</td> <td>  -13.854</td> <td> 0.000</td> <td>   -0.795</td> <td>   -0.598</td>\n",
       "</tr>\n",
       "<tr>\n",
       "  <th>BMI</th>                             <td>    0.1001</td> <td>    0.011</td> <td>    9.073</td> <td> 0.000</td> <td>    0.078</td> <td>    0.122</td>\n",
       "</tr>\n",
       "<tr>\n",
       "  <th>Diphtheria</th>                      <td>    0.1246</td> <td>    0.011</td> <td>   11.606</td> <td> 0.000</td> <td>    0.104</td> <td>    0.146</td>\n",
       "</tr>\n",
       "<tr>\n",
       "  <th>Polio</th>                           <td>    0.1359</td> <td>    0.011</td> <td>   12.920</td> <td> 0.000</td> <td>    0.115</td> <td>    0.157</td>\n",
       "</tr>\n",
       "<tr>\n",
       "  <th>GDP</th>                             <td>-5.731e-05</td> <td> 2.54e-05</td> <td>   -2.255</td> <td> 0.024</td> <td>   -0.000</td> <td>-7.47e-06</td>\n",
       "</tr>\n",
       "<tr>\n",
       "  <th>percentage_expenditure</th>          <td>    0.0001</td> <td>    0.000</td> <td>    0.703</td> <td> 0.482</td> <td>   -0.000</td> <td>    0.000</td>\n",
       "</tr>\n",
       "<tr>\n",
       "  <th>under_five_deaths</th>               <td>    0.0113</td> <td>    0.001</td> <td>   10.079</td> <td> 0.000</td> <td>    0.009</td> <td>    0.014</td>\n",
       "</tr>\n",
       "</table>\n",
       "<table class=\"simpletable\">\n",
       "<tr>\n",
       "  <th>Omnibus:</th>       <td>539.163</td> <th>  Durbin-Watson:     </th> <td>   0.657</td>\n",
       "</tr>\n",
       "<tr>\n",
       "  <th>Prob(Omnibus):</th> <td> 0.000</td>  <th>  Jarque-Bera (JB):  </th> <td>1645.105</td>\n",
       "</tr>\n",
       "<tr>\n",
       "  <th>Skew:</th>          <td> 0.972</td>  <th>  Prob(JB):          </th> <td>    0.00</td>\n",
       "</tr>\n",
       "<tr>\n",
       "  <th>Kurtosis:</th>      <td> 6.192</td>  <th>  Cond. No.          </th> <td>1.36e+05</td>\n",
       "</tr>\n",
       "</table><br/><br/>Warnings:<br/>[1] Standard Errors assume that the covariance matrix of the errors is correctly specified.<br/>[2] The condition number is large, 1.36e+05. This might indicate that there are<br/>strong multicollinearity or other numerical problems."
      ],
      "text/plain": [
       "<class 'statsmodels.iolib.summary.Summary'>\n",
       "\"\"\"\n",
       "                            OLS Regression Results                            \n",
       "==============================================================================\n",
       "Dep. Variable:        Life_Expectancy   R-squared:                       0.981\n",
       "Model:                            OLS   Adj. R-squared:                  0.981\n",
       "Method:                 Least Squares   F-statistic:                 1.486e+04\n",
       "Date:                Wed, 01 May 2019   Prob (F-statistic):               0.00\n",
       "Time:                        23:23:37   Log-Likelihood:                -10387.\n",
       "No. Observations:                2826   AIC:                         2.079e+04\n",
       "Df Residuals:                    2816   BIC:                         2.085e+04\n",
       "Df Model:                          10                                         \n",
       "Covariance Type:            nonrobust                                         \n",
       "===================================================================================================\n",
       "                                      coef    std err          t      P>|t|      [0.025      0.975]\n",
       "---------------------------------------------------------------------------------------------------\n",
       "Schooling                           2.3109      0.092     25.254      0.000       2.131       2.490\n",
       "Income_composition_of_resources    15.7849      1.525     10.350      0.000      12.794      18.776\n",
       "Adult_Mortality                     0.0359      0.002     21.609      0.000       0.033       0.039\n",
       "HIV/AIDS                           -0.6964      0.050    -13.854      0.000      -0.795      -0.598\n",
       "BMI                                 0.1001      0.011      9.073      0.000       0.078       0.122\n",
       "Diphtheria                          0.1246      0.011     11.606      0.000       0.104       0.146\n",
       "Polio                               0.1359      0.011     12.920      0.000       0.115       0.157\n",
       "GDP                             -5.731e-05   2.54e-05     -2.255      0.024      -0.000   -7.47e-06\n",
       "percentage_expenditure              0.0001      0.000      0.703      0.482      -0.000       0.000\n",
       "under_five_deaths                   0.0113      0.001     10.079      0.000       0.009       0.014\n",
       "==============================================================================\n",
       "Omnibus:                      539.163   Durbin-Watson:                   0.657\n",
       "Prob(Omnibus):                  0.000   Jarque-Bera (JB):             1645.105\n",
       "Skew:                           0.972   Prob(JB):                         0.00\n",
       "Kurtosis:                       6.192   Cond. No.                     1.36e+05\n",
       "==============================================================================\n",
       "\n",
       "Warnings:\n",
       "[1] Standard Errors assume that the covariance matrix of the errors is correctly specified.\n",
       "[2] The condition number is large, 1.36e+05. This might indicate that there are\n",
       "strong multicollinearity or other numerical problems.\n",
       "\"\"\""
      ]
     },
     "execution_count": 47,
     "metadata": {},
     "output_type": "execute_result"
    }
   ],
   "source": [
    "X_artilirmis_anlamli = sm.add_constant(X_arttirilmis_anlamli)\n",
    "\n",
    "anlamli_10degiskenli_model = sm.OLS(y_anlamli, X_arttirilmis_anlamli).fit()\n",
    "\n",
    "anlamli_10degiskenli_model.summary()"
   ]
  },
  {
   "cell_type": "code",
   "execution_count": 48,
   "metadata": {},
   "outputs": [],
   "source": [
    "X_test = sm.add_constant(X_test)"
   ]
  },
  {
   "cell_type": "code",
   "execution_count": 49,
   "metadata": {},
   "outputs": [
    {
     "ename": "ValueError",
     "evalue": "shapes (566,11) and (10,) not aligned: 11 (dim 1) != 10 (dim 0)",
     "output_type": "error",
     "traceback": [
      "\u001b[1;31m---------------------------------------------------------------------------\u001b[0m",
      "\u001b[1;31mValueError\u001b[0m                                Traceback (most recent call last)",
      "\u001b[1;32m<ipython-input-49-db93db8979a5>\u001b[0m in \u001b[0;36m<module>\u001b[1;34m\u001b[0m\n\u001b[1;32m----> 1\u001b[1;33m \u001b[0my_preds\u001b[0m \u001b[1;33m=\u001b[0m \u001b[0manlamli_10degiskenli_model\u001b[0m\u001b[1;33m.\u001b[0m\u001b[0mpredict\u001b[0m\u001b[1;33m(\u001b[0m\u001b[0mX_test\u001b[0m\u001b[1;33m)\u001b[0m\u001b[1;33m\u001b[0m\u001b[1;33m\u001b[0m\u001b[0m\n\u001b[0m\u001b[0;32m      2\u001b[0m \u001b[1;33m\u001b[0m\u001b[0m\n\u001b[0;32m      3\u001b[0m \u001b[0mplt\u001b[0m\u001b[1;33m.\u001b[0m\u001b[0mfigure\u001b[0m\u001b[1;33m(\u001b[0m\u001b[0mdpi\u001b[0m \u001b[1;33m=\u001b[0m \u001b[1;36m200\u001b[0m\u001b[1;33m)\u001b[0m\u001b[1;33m\u001b[0m\u001b[1;33m\u001b[0m\u001b[0m\n\u001b[0;32m      4\u001b[0m \u001b[1;33m\u001b[0m\u001b[0m\n\u001b[0;32m      5\u001b[0m \u001b[0mplt\u001b[0m\u001b[1;33m.\u001b[0m\u001b[0mscatter\u001b[0m\u001b[1;33m(\u001b[0m\u001b[0my_test\u001b[0m\u001b[1;33m,\u001b[0m \u001b[0my_preds\u001b[0m\u001b[1;33m)\u001b[0m\u001b[1;33m\u001b[0m\u001b[1;33m\u001b[0m\u001b[0m\n",
      "\u001b[1;32m~\\Anaconda3\\lib\\site-packages\\statsmodels\\base\\model.py\u001b[0m in \u001b[0;36mpredict\u001b[1;34m(self, exog, transform, *args, **kwargs)\u001b[0m\n\u001b[0;32m    852\u001b[0m \u001b[1;33m\u001b[0m\u001b[0m\n\u001b[0;32m    853\u001b[0m         predict_results = self.model.predict(self.params, exog, *args,\n\u001b[1;32m--> 854\u001b[1;33m                                              **kwargs)\n\u001b[0m\u001b[0;32m    855\u001b[0m \u001b[1;33m\u001b[0m\u001b[0m\n\u001b[0;32m    856\u001b[0m         if exog_index is not None and not hasattr(predict_results,\n",
      "\u001b[1;32m~\\Anaconda3\\lib\\site-packages\\statsmodels\\regression\\linear_model.py\u001b[0m in \u001b[0;36mpredict\u001b[1;34m(self, params, exog)\u001b[0m\n\u001b[0;32m    343\u001b[0m             \u001b[0mexog\u001b[0m \u001b[1;33m=\u001b[0m \u001b[0mself\u001b[0m\u001b[1;33m.\u001b[0m\u001b[0mexog\u001b[0m\u001b[1;33m\u001b[0m\u001b[1;33m\u001b[0m\u001b[0m\n\u001b[0;32m    344\u001b[0m \u001b[1;33m\u001b[0m\u001b[0m\n\u001b[1;32m--> 345\u001b[1;33m         \u001b[1;32mreturn\u001b[0m \u001b[0mnp\u001b[0m\u001b[1;33m.\u001b[0m\u001b[0mdot\u001b[0m\u001b[1;33m(\u001b[0m\u001b[0mexog\u001b[0m\u001b[1;33m,\u001b[0m \u001b[0mparams\u001b[0m\u001b[1;33m)\u001b[0m\u001b[1;33m\u001b[0m\u001b[1;33m\u001b[0m\u001b[0m\n\u001b[0m\u001b[0;32m    346\u001b[0m \u001b[1;33m\u001b[0m\u001b[0m\n\u001b[0;32m    347\u001b[0m     \u001b[1;32mdef\u001b[0m \u001b[0mget_distribution\u001b[0m\u001b[1;33m(\u001b[0m\u001b[0mself\u001b[0m\u001b[1;33m,\u001b[0m \u001b[0mparams\u001b[0m\u001b[1;33m,\u001b[0m \u001b[0mscale\u001b[0m\u001b[1;33m,\u001b[0m \u001b[0mexog\u001b[0m\u001b[1;33m=\u001b[0m\u001b[1;32mNone\u001b[0m\u001b[1;33m,\u001b[0m \u001b[0mdist_class\u001b[0m\u001b[1;33m=\u001b[0m\u001b[1;32mNone\u001b[0m\u001b[1;33m)\u001b[0m\u001b[1;33m:\u001b[0m\u001b[1;33m\u001b[0m\u001b[1;33m\u001b[0m\u001b[0m\n",
      "\u001b[1;31mValueError\u001b[0m: shapes (566,11) and (10,) not aligned: 11 (dim 1) != 10 (dim 0)"
     ]
    }
   ],
   "source": [
    "y_preds = anlamli_10degiskenli_model.predict(X_test)\n",
    "\n",
    "plt.figure(dpi = 200)\n",
    "\n",
    "plt.scatter(y_test, y_preds)\n",
    "plt.plot(y_test, y_test, color=\"red\")\n",
    "plt.xlabel(\"Y Test/Real Values\")\n",
    "plt.ylabel(\"Predicted Y\")\n",
    "plt.title(\"LIFE EXPECTANCY REAL AND REDICTED VALUES\")\n",
    "plt.show()"
   ]
  },
  {
   "cell_type": "code",
   "execution_count": 50,
   "metadata": {},
   "outputs": [
    {
     "name": "stdout",
     "output_type": "stream",
     "text": [
      "Ortalama Mutlak Hata (MAE)        : 3.142005744458843\n",
      "Ortalama Kare Hata (MSE)          : 17.758340161620623\n",
      "Kök Ortalama Kare Hata (RMSE)     : 4.214064565430936\n",
      "Ortalama Mutlak Yüzde Hata (MAPE) : 4.825156383902807\n"
     ]
    }
   ],
   "source": [
    "print(\"Ortalama Mutlak Hata (MAE)        : {}\".format(mean_absolute_error(y_test, y_preds)))\n",
    "print(\"Ortalama Kare Hata (MSE)          : {}\".format(mse(y_test, y_preds)))\n",
    "print(\"Kök Ortalama Kare Hata (RMSE)     : {}\".format(rmse(y_test, y_preds)))\n",
    "print(\"Ortalama Mutlak Yüzde Hata (MAPE) : {}\".format(np.mean(np.abs((y_test - y_preds) / y_test)) * 100))\n"
   ]
  },
  {
   "cell_type": "code",
   "execution_count": 51,
   "metadata": {},
   "outputs": [
    {
     "name": "stdout",
     "output_type": "stream",
     "text": [
      "0.8313145645747545\n",
      "0.830025511192831\n",
      "0.9814070330437532\n"
     ]
    }
   ],
   "source": [
    "print (tum_degiskenli_model.rsquared)\n",
    "print (anlamli_12degiskenli_model.rsquared)\n",
    "print (anlamli_10degiskenli_model.rsquared)\n"
   ]
  },
  {
   "cell_type": "code",
   "execution_count": 52,
   "metadata": {},
   "outputs": [
    {
     "data": {
      "text/plain": [
       "Schooling                         0.000\n",
       "Income_composition_of_resources   0.000\n",
       "Adult_Mortality                   0.000\n",
       "HIV/AIDS                          0.000\n",
       "BMI                               0.000\n",
       "Diphtheria                        0.000\n",
       "Polio                             0.000\n",
       "GDP                               0.024\n",
       "percentage_expenditure            0.482\n",
       "under_five_deaths                 0.000\n",
       "dtype: float64"
      ]
     },
     "execution_count": 52,
     "metadata": {},
     "output_type": "execute_result"
    }
   ],
   "source": [
    "anlamli_10degiskenli_model.pvalues"
   ]
  },
  {
   "cell_type": "code",
   "execution_count": 53,
   "metadata": {},
   "outputs": [],
   "source": [
    "X_daha_arttirilmis_anlamli = LifeExpectancyData_num[anlamli_degerler[:5]]"
   ]
  },
  {
   "cell_type": "code",
   "execution_count": 54,
   "metadata": {},
   "outputs": [
    {
     "name": "stdout",
     "output_type": "stream",
     "text": [
      "Eğitim kümesindeki gözlem sayısı : 2260\n",
      "Test kümesindeki gözlem sayısı   : 566\n"
     ]
    }
   ],
   "source": [
    "X_train, X_test, y_train, y_test = train_test_split(X_daha_arttirilmis_anlamli, y_anlamli, test_size = 0.2, random_state = 500)\n",
    "\n",
    "print(\"Eğitim kümesindeki gözlem sayısı : {}\".format(X_train.shape[0]))\n",
    "print(\"Test kümesindeki gözlem sayısı   : {}\".format(X_test.shape[0]))"
   ]
  },
  {
   "cell_type": "code",
   "execution_count": 55,
   "metadata": {},
   "outputs": [
    {
     "data": {
      "text/html": [
       "<table class=\"simpletable\">\n",
       "<caption>OLS Regression Results</caption>\n",
       "<tr>\n",
       "  <th>Dep. Variable:</th>     <td>Life_Expectancy</td> <th>  R-squared:         </th> <td>   0.974</td> \n",
       "</tr>\n",
       "<tr>\n",
       "  <th>Model:</th>                   <td>OLS</td>       <th>  Adj. R-squared:    </th> <td>   0.974</td> \n",
       "</tr>\n",
       "<tr>\n",
       "  <th>Method:</th>             <td>Least Squares</td>  <th>  F-statistic:       </th> <td>1.709e+04</td>\n",
       "</tr>\n",
       "<tr>\n",
       "  <th>Date:</th>             <td>Wed, 01 May 2019</td> <th>  Prob (F-statistic):</th>  <td>  0.00</td>  \n",
       "</tr>\n",
       "<tr>\n",
       "  <th>Time:</th>                 <td>23:24:17</td>     <th>  Log-Likelihood:    </th> <td> -8675.2</td> \n",
       "</tr>\n",
       "<tr>\n",
       "  <th>No. Observations:</th>      <td>  2260</td>      <th>  AIC:               </th> <td>1.736e+04</td>\n",
       "</tr>\n",
       "<tr>\n",
       "  <th>Df Residuals:</th>          <td>  2255</td>      <th>  BIC:               </th> <td>1.739e+04</td>\n",
       "</tr>\n",
       "<tr>\n",
       "  <th>Df Model:</th>              <td>     5</td>      <th>                     </th>     <td> </td>    \n",
       "</tr>\n",
       "<tr>\n",
       "  <th>Covariance Type:</th>      <td>nonrobust</td>    <th>                     </th>     <td> </td>    \n",
       "</tr>\n",
       "</table>\n",
       "<table class=\"simpletable\">\n",
       "<tr>\n",
       "                 <td></td>                    <th>coef</th>     <th>std err</th>      <th>t</th>      <th>P>|t|</th>  <th>[0.025</th>    <th>0.975]</th>  \n",
       "</tr>\n",
       "<tr>\n",
       "  <th>Schooling</th>                       <td>    3.4765</td> <td>    0.110</td> <td>   31.687</td> <td> 0.000</td> <td>    3.261</td> <td>    3.692</td>\n",
       "</tr>\n",
       "<tr>\n",
       "  <th>Income_composition_of_resources</th> <td>   21.8546</td> <td>    1.924</td> <td>   11.358</td> <td> 0.000</td> <td>   18.081</td> <td>   25.628</td>\n",
       "</tr>\n",
       "<tr>\n",
       "  <th>Adult_Mortality</th>                 <td>    0.0555</td> <td>    0.002</td> <td>   27.583</td> <td> 0.000</td> <td>    0.052</td> <td>    0.059</td>\n",
       "</tr>\n",
       "<tr>\n",
       "  <th>HIV/AIDS</th>                        <td>   -0.8977</td> <td>    0.067</td> <td>  -13.475</td> <td> 0.000</td> <td>   -1.028</td> <td>   -0.767</td>\n",
       "</tr>\n",
       "<tr>\n",
       "  <th>BMI</th>                             <td>    0.1064</td> <td>    0.015</td> <td>    7.266</td> <td> 0.000</td> <td>    0.078</td> <td>    0.135</td>\n",
       "</tr>\n",
       "</table>\n",
       "<table class=\"simpletable\">\n",
       "<tr>\n",
       "  <th>Omnibus:</th>       <td>432.927</td> <th>  Durbin-Watson:     </th> <td>   1.945</td>\n",
       "</tr>\n",
       "<tr>\n",
       "  <th>Prob(Omnibus):</th> <td> 0.000</td>  <th>  Jarque-Bera (JB):  </th> <td>1480.279</td>\n",
       "</tr>\n",
       "<tr>\n",
       "  <th>Skew:</th>          <td> 0.935</td>  <th>  Prob(JB):          </th> <td>    0.00</td>\n",
       "</tr>\n",
       "<tr>\n",
       "  <th>Kurtosis:</th>      <td> 6.496</td>  <th>  Cond. No.          </th> <td>1.67e+03</td>\n",
       "</tr>\n",
       "</table><br/><br/>Warnings:<br/>[1] Standard Errors assume that the covariance matrix of the errors is correctly specified.<br/>[2] The condition number is large, 1.67e+03. This might indicate that there are<br/>strong multicollinearity or other numerical problems."
      ],
      "text/plain": [
       "<class 'statsmodels.iolib.summary.Summary'>\n",
       "\"\"\"\n",
       "                            OLS Regression Results                            \n",
       "==============================================================================\n",
       "Dep. Variable:        Life_Expectancy   R-squared:                       0.974\n",
       "Model:                            OLS   Adj. R-squared:                  0.974\n",
       "Method:                 Least Squares   F-statistic:                 1.709e+04\n",
       "Date:                Wed, 01 May 2019   Prob (F-statistic):               0.00\n",
       "Time:                        23:24:17   Log-Likelihood:                -8675.2\n",
       "No. Observations:                2260   AIC:                         1.736e+04\n",
       "Df Residuals:                    2255   BIC:                         1.739e+04\n",
       "Df Model:                           5                                         \n",
       "Covariance Type:            nonrobust                                         \n",
       "===================================================================================================\n",
       "                                      coef    std err          t      P>|t|      [0.025      0.975]\n",
       "---------------------------------------------------------------------------------------------------\n",
       "Schooling                           3.4765      0.110     31.687      0.000       3.261       3.692\n",
       "Income_composition_of_resources    21.8546      1.924     11.358      0.000      18.081      25.628\n",
       "Adult_Mortality                     0.0555      0.002     27.583      0.000       0.052       0.059\n",
       "HIV/AIDS                           -0.8977      0.067    -13.475      0.000      -1.028      -0.767\n",
       "BMI                                 0.1064      0.015      7.266      0.000       0.078       0.135\n",
       "==============================================================================\n",
       "Omnibus:                      432.927   Durbin-Watson:                   1.945\n",
       "Prob(Omnibus):                  0.000   Jarque-Bera (JB):             1480.279\n",
       "Skew:                           0.935   Prob(JB):                         0.00\n",
       "Kurtosis:                       6.496   Cond. No.                     1.67e+03\n",
       "==============================================================================\n",
       "\n",
       "Warnings:\n",
       "[1] Standard Errors assume that the covariance matrix of the errors is correctly specified.\n",
       "[2] The condition number is large, 1.67e+03. This might indicate that there are\n",
       "strong multicollinearity or other numerical problems.\n",
       "\"\"\""
      ]
     },
     "execution_count": 55,
     "metadata": {},
     "output_type": "execute_result"
    }
   ],
   "source": [
    "X_daha_arttirilmis_anlamli = sm.add_constant(X_train)\n",
    "\n",
    "anlamli_5degiskenli_model = sm.OLS(y_train, X_train).fit()\n",
    "\n",
    "anlamli_5degiskenli_model.summary()"
   ]
  },
  {
   "cell_type": "code",
   "execution_count": 56,
   "metadata": {},
   "outputs": [
    {
     "ename": "ValueError",
     "evalue": "shapes (566,6) and (5,) not aligned: 6 (dim 1) != 5 (dim 0)",
     "output_type": "error",
     "traceback": [
      "\u001b[1;31m---------------------------------------------------------------------------\u001b[0m",
      "\u001b[1;31mValueError\u001b[0m                                Traceback (most recent call last)",
      "\u001b[1;32m<ipython-input-56-4966a4e0473f>\u001b[0m in \u001b[0;36m<module>\u001b[1;34m\u001b[0m\n\u001b[0;32m      1\u001b[0m \u001b[0mX_test\u001b[0m \u001b[1;33m=\u001b[0m \u001b[0msm\u001b[0m\u001b[1;33m.\u001b[0m\u001b[0madd_constant\u001b[0m\u001b[1;33m(\u001b[0m\u001b[0mX_test\u001b[0m\u001b[1;33m)\u001b[0m\u001b[1;33m\u001b[0m\u001b[1;33m\u001b[0m\u001b[0m\n\u001b[0;32m      2\u001b[0m \u001b[1;33m\u001b[0m\u001b[0m\n\u001b[1;32m----> 3\u001b[1;33m \u001b[0my_preds\u001b[0m \u001b[1;33m=\u001b[0m \u001b[0manlamli_5degiskenli_model\u001b[0m\u001b[1;33m.\u001b[0m\u001b[0mpredict\u001b[0m\u001b[1;33m(\u001b[0m\u001b[0mX_test\u001b[0m\u001b[1;33m)\u001b[0m\u001b[1;33m\u001b[0m\u001b[1;33m\u001b[0m\u001b[0m\n\u001b[0m\u001b[0;32m      4\u001b[0m \u001b[1;33m\u001b[0m\u001b[0m\n\u001b[0;32m      5\u001b[0m \u001b[0mplt\u001b[0m\u001b[1;33m.\u001b[0m\u001b[0mfigure\u001b[0m\u001b[1;33m(\u001b[0m\u001b[0mdpi\u001b[0m \u001b[1;33m=\u001b[0m \u001b[1;36m100\u001b[0m\u001b[1;33m)\u001b[0m\u001b[1;33m\u001b[0m\u001b[1;33m\u001b[0m\u001b[0m\n",
      "\u001b[1;32m~\\Anaconda3\\lib\\site-packages\\statsmodels\\base\\model.py\u001b[0m in \u001b[0;36mpredict\u001b[1;34m(self, exog, transform, *args, **kwargs)\u001b[0m\n\u001b[0;32m    852\u001b[0m \u001b[1;33m\u001b[0m\u001b[0m\n\u001b[0;32m    853\u001b[0m         predict_results = self.model.predict(self.params, exog, *args,\n\u001b[1;32m--> 854\u001b[1;33m                                              **kwargs)\n\u001b[0m\u001b[0;32m    855\u001b[0m \u001b[1;33m\u001b[0m\u001b[0m\n\u001b[0;32m    856\u001b[0m         if exog_index is not None and not hasattr(predict_results,\n",
      "\u001b[1;32m~\\Anaconda3\\lib\\site-packages\\statsmodels\\regression\\linear_model.py\u001b[0m in \u001b[0;36mpredict\u001b[1;34m(self, params, exog)\u001b[0m\n\u001b[0;32m    343\u001b[0m             \u001b[0mexog\u001b[0m \u001b[1;33m=\u001b[0m \u001b[0mself\u001b[0m\u001b[1;33m.\u001b[0m\u001b[0mexog\u001b[0m\u001b[1;33m\u001b[0m\u001b[1;33m\u001b[0m\u001b[0m\n\u001b[0;32m    344\u001b[0m \u001b[1;33m\u001b[0m\u001b[0m\n\u001b[1;32m--> 345\u001b[1;33m         \u001b[1;32mreturn\u001b[0m \u001b[0mnp\u001b[0m\u001b[1;33m.\u001b[0m\u001b[0mdot\u001b[0m\u001b[1;33m(\u001b[0m\u001b[0mexog\u001b[0m\u001b[1;33m,\u001b[0m \u001b[0mparams\u001b[0m\u001b[1;33m)\u001b[0m\u001b[1;33m\u001b[0m\u001b[1;33m\u001b[0m\u001b[0m\n\u001b[0m\u001b[0;32m    346\u001b[0m \u001b[1;33m\u001b[0m\u001b[0m\n\u001b[0;32m    347\u001b[0m     \u001b[1;32mdef\u001b[0m \u001b[0mget_distribution\u001b[0m\u001b[1;33m(\u001b[0m\u001b[0mself\u001b[0m\u001b[1;33m,\u001b[0m \u001b[0mparams\u001b[0m\u001b[1;33m,\u001b[0m \u001b[0mscale\u001b[0m\u001b[1;33m,\u001b[0m \u001b[0mexog\u001b[0m\u001b[1;33m=\u001b[0m\u001b[1;32mNone\u001b[0m\u001b[1;33m,\u001b[0m \u001b[0mdist_class\u001b[0m\u001b[1;33m=\u001b[0m\u001b[1;32mNone\u001b[0m\u001b[1;33m)\u001b[0m\u001b[1;33m:\u001b[0m\u001b[1;33m\u001b[0m\u001b[1;33m\u001b[0m\u001b[0m\n",
      "\u001b[1;31mValueError\u001b[0m: shapes (566,6) and (5,) not aligned: 6 (dim 1) != 5 (dim 0)"
     ]
    }
   ],
   "source": [
    "X_test = sm.add_constant(X_test)\n",
    "\n",
    "y_preds = anlamli_5degiskenli_model.predict(X_test)\n",
    "\n",
    "plt.figure(dpi = 100)\n",
    "\n",
    "plt.scatter(y_test, y_preds)\n",
    "plt.plot(y_test, y_test, color=\"red\")\n",
    "plt.xlabel(\"Test Y/Real Values\")\n",
    "plt.ylabel(\"Predicted Y\")\n",
    "plt.title(\"LIFE EXPECTANCY REAL AND PREDICTED VALUES\")\n",
    "plt.show()"
   ]
  },
  {
   "cell_type": "code",
   "execution_count": 57,
   "metadata": {},
   "outputs": [
    {
     "name": "stdout",
     "output_type": "stream",
     "text": [
      "0.8313145645747545\n",
      "0.830025511192831\n",
      "0.9814070330437532\n",
      "0.9742909425066556\n"
     ]
    }
   ],
   "source": [
    "print (tum_degiskenli_model.rsquared)\n",
    "print (anlamli_12degiskenli_model.rsquared)\n",
    "print (anlamli_10degiskenli_model.rsquared)\n",
    "print (anlamli_5degiskenli_model.rsquared)"
   ]
  },
  {
   "cell_type": "code",
   "execution_count": 58,
   "metadata": {},
   "outputs": [
    {
     "data": {
      "text/html": [
       "<div>\n",
       "<style scoped>\n",
       "    .dataframe tbody tr th:only-of-type {\n",
       "        vertical-align: middle;\n",
       "    }\n",
       "\n",
       "    .dataframe tbody tr th {\n",
       "        vertical-align: top;\n",
       "    }\n",
       "\n",
       "    .dataframe thead th {\n",
       "        text-align: right;\n",
       "    }\n",
       "</style>\n",
       "<table border=\"1\" class=\"dataframe\">\n",
       "  <thead>\n",
       "    <tr style=\"text-align: right;\">\n",
       "      <th></th>\n",
       "      <th>const</th>\n",
       "      <th>Schooling</th>\n",
       "      <th>Income_composition_of_resources</th>\n",
       "      <th>Adult_Mortality</th>\n",
       "      <th>HIV/AIDS</th>\n",
       "      <th>BMI</th>\n",
       "    </tr>\n",
       "  </thead>\n",
       "  <tbody>\n",
       "    <tr>\n",
       "      <th>2041</th>\n",
       "      <td>1.000</td>\n",
       "      <td>13.400</td>\n",
       "      <td>0.843</td>\n",
       "      <td>7.000</td>\n",
       "      <td>0.100</td>\n",
       "      <td>67.700</td>\n",
       "    </tr>\n",
       "    <tr>\n",
       "      <th>228</th>\n",
       "      <td>1.000</td>\n",
       "      <td>15.500</td>\n",
       "      <td>0.787</td>\n",
       "      <td>232.000</td>\n",
       "      <td>0.100</td>\n",
       "      <td>59.900</td>\n",
       "    </tr>\n",
       "    <tr>\n",
       "      <th>1069</th>\n",
       "      <td>1.000</td>\n",
       "      <td>7.700</td>\n",
       "      <td>0.000</td>\n",
       "      <td>38.000</td>\n",
       "      <td>5.000</td>\n",
       "      <td>19.600</td>\n",
       "    </tr>\n",
       "    <tr>\n",
       "      <th>1876</th>\n",
       "      <td>1.000</td>\n",
       "      <td>7.600</td>\n",
       "      <td>0.000</td>\n",
       "      <td>45.000</td>\n",
       "      <td>4.900</td>\n",
       "      <td>16.900</td>\n",
       "    </tr>\n",
       "    <tr>\n",
       "      <th>2274</th>\n",
       "      <td>1.000</td>\n",
       "      <td>14.300</td>\n",
       "      <td>0.793</td>\n",
       "      <td>138.000</td>\n",
       "      <td>0.100</td>\n",
       "      <td>53.700</td>\n",
       "    </tr>\n",
       "  </tbody>\n",
       "</table>\n",
       "</div>"
      ],
      "text/plain": [
       "      const  Schooling  Income_composition_of_resources  Adult_Mortality  \\\n",
       "2041  1.000     13.400                            0.843            7.000   \n",
       "228   1.000     15.500                            0.787          232.000   \n",
       "1069  1.000      7.700                            0.000           38.000   \n",
       "1876  1.000      7.600                            0.000           45.000   \n",
       "2274  1.000     14.300                            0.793          138.000   \n",
       "\n",
       "      HIV/AIDS    BMI  \n",
       "2041     0.100 67.700  \n",
       "228      0.100 59.900  \n",
       "1069     5.000 19.600  \n",
       "1876     4.900 16.900  \n",
       "2274     0.100 53.700  "
      ]
     },
     "execution_count": 58,
     "metadata": {},
     "output_type": "execute_result"
    }
   ],
   "source": [
    "X_daha_arttirilmis_anlamli.head()"
   ]
  },
  {
   "cell_type": "code",
   "execution_count": 59,
   "metadata": {},
   "outputs": [
    {
     "data": {
      "image/png": "[encoded data removed]",
      "text/plain": [
       "<Figure size 900x600 with 1 Axes>"
      ]
     },
     "metadata": {},
     "output_type": "display_data"
    }
   ],
   "source": [
    "baslik_font = {'family': 'arial','color':  'darkred','weight': 'bold','size': 15 }\n",
    "eksen_font = {'family': 'arial','color':  'darkblue','weight': 'bold','size': 10 }\n",
    "plt.figure(figsize=(9,6), dpi = 100)\n",
    "\n",
    "Life_Expectancy_BMI = X_daha_arttirilmis_anlamli.BMI * 0.1064\n",
    "Life_Expectancy_Schooling = X_daha_arttirilmis_anlamli.BMI * 3.4765\n",
    "Life_Expectancy_Income_composition_of_resources = X_daha_arttirilmis_anlamli.BMI * 21.8546\n",
    "Life_Expectancy_Adult_Mortality = X_daha_arttirilmis_anlamli.BMI * 0.0555\n",
    "Life_Expectancy_HIVAIDS = X_daha_arttirilmis_anlamli.BMI * (-0.8977)\n",
    "\n",
    "\n",
    "plt.plot(X_daha_arttirilmis_anlamli.BMI, Life_Expectancy_BMI)\n",
    "plt.plot(X_daha_arttirilmis_anlamli.BMI, Life_Expectancy_Schooling)\n",
    "plt.plot(X_daha_arttirilmis_anlamli.BMI, Life_Expectancy_Income_composition_of_resources)\n",
    "plt.plot(X_daha_arttirilmis_anlamli.BMI, Life_Expectancy_Adult_Mortality)\n",
    "plt.plot(X_daha_arttirilmis_anlamli.BMI, Life_Expectancy_HIVAIDS)\n",
    "\n",
    "plt.legend([\"Life Expectancy & BMI\", \"Life Expectancy & Schooling\", \"Life Expectancy & Income_composition_of_resources\", \"Life Expectancy & Adult_Mortality\", \"Life Expectancy & HIVAIDS\"])\n",
    "plt.xlabel(\"BMI\", fontdict=eksen_font)\n",
    "plt.ylabel(\"Life Expectancy\", fontdict=eksen_font)\n",
    "plt.title(\"Relation with Life Expectancy and other variables\", fontdict=baslik_font)\n",
    "\n",
    "plt.show()"
   ]
  },
  {
   "cell_type": "code",
   "execution_count": null,
   "metadata": {},
   "outputs": [],
   "source": []
  },
  {
   "cell_type": "code",
   "execution_count": null,
   "metadata": {},
   "outputs": [],
   "source": []
  },
  {
   "cell_type": "code",
   "execution_count": null,
   "metadata": {},
   "outputs": [],
   "source": []
  },
  {
   "cell_type": "code",
   "execution_count": null,
   "metadata": {},
   "outputs": [],
   "source": []
  }
 ],
 "metadata": {
  "kernelspec": {
   "display_name": "Python 3",
   "language": "python",
   "name": "python3"
  },
  "language_info": {
   "codemirror_mode": {
    "name": "ipython",
    "version": 3
   },
   "file_extension": ".py",
   "mimetype": "text/x-python",
   "name": "python",
   "nbconvert_exporter": "python",
   "pygments_lexer": "ipython3",
   "version": "3.7.1"
  }
 },
 "nbformat": 4,
 "nbformat_minor": 2
}
