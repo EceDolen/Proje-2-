{
 "cells": [
  {
   "cell_type": "code",
   "execution_count": 1,
   "metadata": {},
   "outputs": [],
   "source": [
    "import pandas as pd\n",
    "import numpy as np\n",
    "import seaborn as sns\n",
    "import matplotlib.pyplot as plt\n",
    "from sklearn import linear_model as lm\n",
    "import statsmodels.api as sm\n",
    "\n",
    "from sklearn.linear_model import LinearRegression\n",
    "from sklearn.model_selection import train_test_split\n",
    "from sklearn.metrics import mean_absolute_error\n",
    "\n",
    "from statsmodels.tools.eval_measures import mse, rmse\n",
    "\n",
    "%matplotlib inline\n",
    "pd.options.display.float_format = '{:.3f}'.format\n",
    "\n",
    "import warnings\n",
    "warnings.filterwarnings(action= \"ignore\")"
   ]
  },
  {
   "cell_type": "code",
   "execution_count": 2,
   "metadata": {},
   "outputs": [],
   "source": [
    "from matplotlib import style\n",
    "style.use('fivethirtyeight')"
   ]
  },
  {
   "cell_type": "markdown",
   "metadata": {},
   "source": [
    "#                                                  Reggression Project (2)\n",
    " \n",
    " "
   ]
  },
  {
   "cell_type": "markdown",
   "metadata": {},
   "source": [
    "## Contents\n",
    "1.  Introduction\n",
    "2.  The Aim of Analysis\n",
    "3.  General Information of the Data\n",
    "4.  Arrangements of the Data Sets\n",
    "5.  Filling of the Row Data \n",
    "6.  Data Exploration \n",
    "7.  Splitting the Data\n",
    "8.  Training the Model\n",
    "9.  Predicting the Model\n",
    "10. Evaluating the Model\n",
    "11. Conclusions"
   ]
  },
  {
   "cell_type": "markdown",
   "metadata": {},
   "source": [
    "**1. Introduction**"
   ]
  },
  {
   "cell_type": "markdown",
   "metadata": {},
   "source": [
    "The Global Health Observatory (GHO) data repository under World Health Organization (WHO) keeps track of the health status as well as many other related factors for all countries The datasets are made available to public for the purpose of health data analysis. The dataset related to life expectancy, health factors for 193 countries has been collected from the same WHO data repository website and its corresponding economic data was collected from United Nation website. Among all categories of health-related factors only those critical factors were chosen which are more representative. It has been observed that in the past 15 years , there has been a huge development in health sector resulting in improvement of human mortality rates especially in the developing nations in comparison to the past 30 years. Therefore, in this project we have considered data from year 2000-2015 for 193 countries for further analysis. The individual data files have been merged together into a single dataset. On initial visual inspection of the data showed some missing values. As the datasets were from WHO, we found no evident errors. Missing data was handled in R software by using Missmap command. The result indicated that most of the missing data was for population, Hepatitis B and GDP. The missing data were from less known countries like Vanuatu, Tonga, Togo,Cabo Verde etc. Finding all data for these countries was difficult and hence, it was decided that we exclude these countries from the final model dataset. The final merged file(final dataset) consists of 22 Columns and 2938 rows which meant 20 predicting variables. All predicting variables was then divided into several broad categories:​Immunization related factors, Mortality factors, Economical factors and Social factors."
   ]
  },
  {
   "cell_type": "markdown",
   "metadata": {},
   "source": [
    "**2. The Aim of Analysis**"
   ]
  },
  {
   "cell_type": "markdown",
   "metadata": {},
   "source": [
    "This study aims to search for the elements which effects life expectancy by using correlations with regression models."
   ]
  },
  {
   "cell_type": "markdown",
   "metadata": {},
   "source": [
    "**3. General Information of the Data**"
   ]
  },
  {
   "cell_type": "markdown",
   "metadata": {},
   "source": [
    "Country : Country\n",
    "\n",
    "Year : Year \n",
    "\n",
    "Status : Developed or Developing status\n",
    "\n",
    "Life expectancy : Life Expectancy in age\n",
    "\n",
    "Adult Mortality : Adult Mortality Rates of both sexes (probability of dying between 15 and 60 years per 1000 population)\n",
    "\n",
    "infant deaths : Number of Infant Deaths per 1000 population\n",
    "\n",
    "\n",
    "Alcohol : Alcohol, recorded per capita (15+) consumption (in litres of pure alcohol)\n",
    "\n",
    "percentage:  expenditureExpenditure on health as a percentage of Gross Domestic Product per capita(%)\n",
    "\n",
    "Hepatitis B : Hepatitis B (HepB) immunization coverage among 1-year-olds (%)\n",
    "\n",
    "Measles : Measles - number of reported cases per 1000 population\n",
    "\n",
    "BMI : Average Body Mass Index of entire population\n",
    "\n",
    "under-five deaths : Number of under-five deaths per 1000 population\n",
    "\n",
    "Polio : Polio (Pol3) immunization coverage among 1-year-olds (%)\n",
    "\n",
    "Total expenditure : General government expenditure on health as a percentage of total government expenditure (%)\n",
    "\n",
    "Diphtheria :  Diphtheria tetanus toxoid and pertussis (DTP3) immunization coverage among 1-year-olds (%)\n",
    "\n",
    "HIV/AIDS : Deaths per 1 000 live births HIV/AIDS (0-4 years)\n",
    "\n",
    "GDP : Gross Domestic Product per capita (in USD)\n",
    "\n",
    "Population : Population of the country\n",
    "\n",
    "thinness 1-19 years : Prevalence of thinness among children and adolescents for Age 10 to 19 (% )\n",
    "\n",
    "Income composition of resources : Human Development Index in terms of income composition of resources (index ranging from 0 to 1)\n",
    "\n",
    "Schooling : Number of years of Schooling(years)"
   ]
  },
  {
   "cell_type": "markdown",
   "metadata": {},
   "source": [
    "**4. Data Exploration**"
   ]
  },
  {
   "cell_type": "code",
   "execution_count": 3,
   "metadata": {
    "scrolled": false
   },
   "outputs": [
    {
     "data": {
      "text/html": [
       "<div>\n",
       "<style scoped>\n",
       "    .dataframe tbody tr th:only-of-type {\n",
       "        vertical-align: middle;\n",
       "    }\n",
       "\n",
       "    .dataframe tbody tr th {\n",
       "        vertical-align: top;\n",
       "    }\n",
       "\n",
       "    .dataframe thead th {\n",
       "        text-align: right;\n",
       "    }\n",
       "</style>\n",
       "<table border=\"1\" class=\"dataframe\">\n",
       "  <thead>\n",
       "    <tr style=\"text-align: right;\">\n",
       "      <th></th>\n",
       "      <th>Country</th>\n",
       "      <th>Year</th>\n",
       "      <th>Status</th>\n",
       "      <th>Life expectancy</th>\n",
       "      <th>Adult Mortality</th>\n",
       "      <th>infant deaths</th>\n",
       "      <th>Alcohol</th>\n",
       "      <th>percentage expenditure</th>\n",
       "      <th>Hepatitis B</th>\n",
       "      <th>Measles</th>\n",
       "      <th>...</th>\n",
       "      <th>Polio</th>\n",
       "      <th>Total expenditure</th>\n",
       "      <th>Diphtheria</th>\n",
       "      <th>HIV/AIDS</th>\n",
       "      <th>GDP</th>\n",
       "      <th>Population</th>\n",
       "      <th>thinness  1-19 years</th>\n",
       "      <th>thinness 5-9 years</th>\n",
       "      <th>Income composition of resources</th>\n",
       "      <th>Schooling</th>\n",
       "    </tr>\n",
       "  </thead>\n",
       "  <tbody>\n",
       "    <tr>\n",
       "      <th>0</th>\n",
       "      <td>Afghanistan</td>\n",
       "      <td>2015</td>\n",
       "      <td>Developing</td>\n",
       "      <td>65.000</td>\n",
       "      <td>263.000</td>\n",
       "      <td>62</td>\n",
       "      <td>0.010</td>\n",
       "      <td>71.280</td>\n",
       "      <td>65.000</td>\n",
       "      <td>1154</td>\n",
       "      <td>...</td>\n",
       "      <td>6.000</td>\n",
       "      <td>8.160</td>\n",
       "      <td>65.000</td>\n",
       "      <td>0.100</td>\n",
       "      <td>584.259</td>\n",
       "      <td>33736494.000</td>\n",
       "      <td>17.200</td>\n",
       "      <td>17.300</td>\n",
       "      <td>0.479</td>\n",
       "      <td>10.100</td>\n",
       "    </tr>\n",
       "    <tr>\n",
       "      <th>1</th>\n",
       "      <td>Afghanistan</td>\n",
       "      <td>2014</td>\n",
       "      <td>Developing</td>\n",
       "      <td>59.900</td>\n",
       "      <td>271.000</td>\n",
       "      <td>64</td>\n",
       "      <td>0.010</td>\n",
       "      <td>73.524</td>\n",
       "      <td>62.000</td>\n",
       "      <td>492</td>\n",
       "      <td>...</td>\n",
       "      <td>58.000</td>\n",
       "      <td>8.180</td>\n",
       "      <td>62.000</td>\n",
       "      <td>0.100</td>\n",
       "      <td>612.697</td>\n",
       "      <td>327582.000</td>\n",
       "      <td>17.500</td>\n",
       "      <td>17.500</td>\n",
       "      <td>0.476</td>\n",
       "      <td>10.000</td>\n",
       "    </tr>\n",
       "    <tr>\n",
       "      <th>2</th>\n",
       "      <td>Afghanistan</td>\n",
       "      <td>2013</td>\n",
       "      <td>Developing</td>\n",
       "      <td>59.900</td>\n",
       "      <td>268.000</td>\n",
       "      <td>66</td>\n",
       "      <td>0.010</td>\n",
       "      <td>73.219</td>\n",
       "      <td>64.000</td>\n",
       "      <td>430</td>\n",
       "      <td>...</td>\n",
       "      <td>62.000</td>\n",
       "      <td>8.130</td>\n",
       "      <td>64.000</td>\n",
       "      <td>0.100</td>\n",
       "      <td>631.745</td>\n",
       "      <td>31731688.000</td>\n",
       "      <td>17.700</td>\n",
       "      <td>17.700</td>\n",
       "      <td>0.470</td>\n",
       "      <td>9.900</td>\n",
       "    </tr>\n",
       "    <tr>\n",
       "      <th>3</th>\n",
       "      <td>Afghanistan</td>\n",
       "      <td>2012</td>\n",
       "      <td>Developing</td>\n",
       "      <td>59.500</td>\n",
       "      <td>272.000</td>\n",
       "      <td>69</td>\n",
       "      <td>0.010</td>\n",
       "      <td>78.184</td>\n",
       "      <td>67.000</td>\n",
       "      <td>2787</td>\n",
       "      <td>...</td>\n",
       "      <td>67.000</td>\n",
       "      <td>8.520</td>\n",
       "      <td>67.000</td>\n",
       "      <td>0.100</td>\n",
       "      <td>669.959</td>\n",
       "      <td>3696958.000</td>\n",
       "      <td>17.900</td>\n",
       "      <td>18.000</td>\n",
       "      <td>0.463</td>\n",
       "      <td>9.800</td>\n",
       "    </tr>\n",
       "    <tr>\n",
       "      <th>4</th>\n",
       "      <td>Afghanistan</td>\n",
       "      <td>2011</td>\n",
       "      <td>Developing</td>\n",
       "      <td>59.200</td>\n",
       "      <td>275.000</td>\n",
       "      <td>71</td>\n",
       "      <td>0.010</td>\n",
       "      <td>7.097</td>\n",
       "      <td>68.000</td>\n",
       "      <td>3013</td>\n",
       "      <td>...</td>\n",
       "      <td>68.000</td>\n",
       "      <td>7.870</td>\n",
       "      <td>68.000</td>\n",
       "      <td>0.100</td>\n",
       "      <td>63.537</td>\n",
       "      <td>2978599.000</td>\n",
       "      <td>18.200</td>\n",
       "      <td>18.200</td>\n",
       "      <td>0.454</td>\n",
       "      <td>9.500</td>\n",
       "    </tr>\n",
       "  </tbody>\n",
       "</table>\n",
       "<p>5 rows × 22 columns</p>\n",
       "</div>"
      ],
      "text/plain": [
       "       Country  Year      Status  Life expectancy   Adult Mortality  \\\n",
       "0  Afghanistan  2015  Developing            65.000          263.000   \n",
       "1  Afghanistan  2014  Developing            59.900          271.000   \n",
       "2  Afghanistan  2013  Developing            59.900          268.000   \n",
       "3  Afghanistan  2012  Developing            59.500          272.000   \n",
       "4  Afghanistan  2011  Developing            59.200          275.000   \n",
       "\n",
       "   infant deaths  Alcohol  percentage expenditure  Hepatitis B  Measles   \\\n",
       "0             62    0.010                  71.280       65.000      1154   \n",
       "1             64    0.010                  73.524       62.000       492   \n",
       "2             66    0.010                  73.219       64.000       430   \n",
       "3             69    0.010                  78.184       67.000      2787   \n",
       "4             71    0.010                   7.097       68.000      3013   \n",
       "\n",
       "     ...      Polio  Total expenditure  Diphtheria    HIV/AIDS     GDP  \\\n",
       "0    ...      6.000              8.160       65.000      0.100 584.259   \n",
       "1    ...     58.000              8.180       62.000      0.100 612.697   \n",
       "2    ...     62.000              8.130       64.000      0.100 631.745   \n",
       "3    ...     67.000              8.520       67.000      0.100 669.959   \n",
       "4    ...     68.000              7.870       68.000      0.100  63.537   \n",
       "\n",
       "    Population   thinness  1-19 years   thinness 5-9 years  \\\n",
       "0 33736494.000                 17.200               17.300   \n",
       "1   327582.000                 17.500               17.500   \n",
       "2 31731688.000                 17.700               17.700   \n",
       "3  3696958.000                 17.900               18.000   \n",
       "4  2978599.000                 18.200               18.200   \n",
       "\n",
       "   Income composition of resources  Schooling  \n",
       "0                            0.479     10.100  \n",
       "1                            0.476     10.000  \n",
       "2                            0.470      9.900  \n",
       "3                            0.463      9.800  \n",
       "4                            0.454      9.500  \n",
       "\n",
       "[5 rows x 22 columns]"
      ]
     },
     "execution_count": 3,
     "metadata": {},
     "output_type": "execute_result"
    }
   ],
   "source": [
    "LifeExpectancyData = pd.read_csv('data/LifeExpectancyData.csv')\n",
    "LifeExpectancyData.head()"
   ]
  },
  {
   "cell_type": "code",
   "execution_count": 4,
   "metadata": {},
   "outputs": [
    {
     "name": "stdout",
     "output_type": "stream",
     "text": [
      "<class 'pandas.core.frame.DataFrame'>\n",
      "RangeIndex: 2938 entries, 0 to 2937\n",
      "Data columns (total 22 columns):\n",
      "Country                            2938 non-null object\n",
      "Year                               2938 non-null int64\n",
      "Status                             2938 non-null object\n",
      "Life expectancy                    2928 non-null float64\n",
      "Adult Mortality                    2928 non-null float64\n",
      "infant deaths                      2938 non-null int64\n",
      "Alcohol                            2744 non-null float64\n",
      "percentage expenditure             2938 non-null float64\n",
      "Hepatitis B                        2385 non-null float64\n",
      "Measles                            2938 non-null int64\n",
      " BMI                               2904 non-null float64\n",
      "under-five deaths                  2938 non-null int64\n",
      "Polio                              2919 non-null float64\n",
      "Total expenditure                  2712 non-null float64\n",
      "Diphtheria                         2919 non-null float64\n",
      " HIV/AIDS                          2938 non-null float64\n",
      "GDP                                2490 non-null float64\n",
      "Population                         2286 non-null float64\n",
      " thinness  1-19 years              2904 non-null float64\n",
      " thinness 5-9 years                2904 non-null float64\n",
      "Income composition of resources    2771 non-null float64\n",
      "Schooling                          2775 non-null float64\n",
      "dtypes: float64(16), int64(4), object(2)\n",
      "memory usage: 505.0+ KB\n"
     ]
    }
   ],
   "source": [
    "LifeExpectancyData.info()"
   ]
  },
  {
   "cell_type": "code",
   "execution_count": 5,
   "metadata": {},
   "outputs": [
    {
     "data": {
      "text/plain": [
       "Country                              0\n",
       "Year                                 0\n",
       "Status                               0\n",
       "Life expectancy                     10\n",
       "Adult Mortality                     10\n",
       "infant deaths                        0\n",
       "Alcohol                            194\n",
       "percentage expenditure               0\n",
       "Hepatitis B                        553\n",
       "Measles                              0\n",
       " BMI                                34\n",
       "under-five deaths                    0\n",
       "Polio                               19\n",
       "Total expenditure                  226\n",
       "Diphtheria                          19\n",
       " HIV/AIDS                            0\n",
       "GDP                                448\n",
       "Population                         652\n",
       " thinness  1-19 years               34\n",
       " thinness 5-9 years                 34\n",
       "Income composition of resources    167\n",
       "Schooling                          163\n",
       "dtype: int64"
      ]
     },
     "execution_count": 5,
     "metadata": {},
     "output_type": "execute_result"
    }
   ],
   "source": [
    "LifeExpectancyData.isnull().sum()"
   ]
  },
  {
   "cell_type": "markdown",
   "metadata": {},
   "source": [
    "We have a lot of missing population values in  many countries. We alsa have GDP values from population for each countries as well. Therefore, I preferred to drop coloumn from data frame."
   ]
  },
  {
   "cell_type": "code",
   "execution_count": 6,
   "metadata": {},
   "outputs": [
    {
     "data": {
      "text/plain": [
       "Index(['Country', 'Year', 'Status', 'Life expectancy ', 'Adult Mortality',\n",
       "       'infant deaths', 'Alcohol', 'percentage expenditure', 'Hepatitis B',\n",
       "       'Measles ', ' BMI ', 'under-five deaths ', 'Polio', 'Total expenditure',\n",
       "       'Diphtheria ', ' HIV/AIDS', 'GDP', 'Population',\n",
       "       ' thinness  1-19 years', ' thinness 5-9 years',\n",
       "       'Income composition of resources', 'Schooling'],\n",
       "      dtype='object')"
      ]
     },
     "execution_count": 6,
     "metadata": {},
     "output_type": "execute_result"
    }
   ],
   "source": [
    "LifeExpectancyData.columns "
   ]
  },
  {
   "cell_type": "code",
   "execution_count": 7,
   "metadata": {},
   "outputs": [],
   "source": [
    "LifeExpectancyData.columns= ['Country', 'Year', 'Status', 'Life_Expectancy', 'Adult_Mortality',\n",
    "       'infant_deaths', 'Alcohol', 'percentage_expenditure', 'Hepatitis_B',\n",
    "       'Measles', 'BMI', 'under_five_deaths', 'Polio', 'Total_Expenditure',\n",
    "       'Diphtheria', 'HIV/AIDS', 'GDP','Population', 'thinness_1_19_years', 'thinness_5_9_years',\n",
    "       'Income_composition_of_resources', 'Schooling']"
   ]
  },
  {
   "cell_type": "code",
   "execution_count": 8,
   "metadata": {},
   "outputs": [],
   "source": [
    "bos_hucre_toplam = LifeExpectancyData.isnull().sum()\n",
    "bos_hucre_yuzde = LifeExpectancyData.isnull().sum()/LifeExpectancyData.isnull().count()\n",
    "bos_degerler = pd.concat([bos_hucre_toplam, bos_hucre_yuzde], axis=1, keys=['bos_toplam', 'bos_yuzde'])\n",
    "bos_degerler = bos_degerler.sort_values('bos_toplam', ascending=False)"
   ]
  },
  {
   "cell_type": "code",
   "execution_count": 9,
   "metadata": {},
   "outputs": [],
   "source": [
    "def bos_hucre(LifeExpectancyData):\n",
    "    bos_hucre_toplam = LifeExpectancyData.isnull().sum()\n",
    "    bos_hucre_yuzde = LifeExpectancyData.isnull().sum()/LifeExpectancyData.isnull().count()\n",
    "    bos_degerler = pd.concat([bos_hucre_toplam, bos_hucre_yuzde], axis=1, keys=['bos_toplam', 'bos_yuzde'])\n",
    "    bos_degerler = bos_degerler.sort_values('bos_toplam', ascending=False)\n",
    "    return bos_degerler[bos_degerler['bos_toplam'] > 0]"
   ]
  },
  {
   "cell_type": "code",
   "execution_count": 10,
   "metadata": {},
   "outputs": [
    {
     "data": {
      "text/plain": [
       "<matplotlib.axes._subplots.AxesSubplot at 0x28639c486a0>"
      ]
     },
     "execution_count": 10,
     "metadata": {},
     "output_type": "execute_result"
    },
    {
     "data": {
      "image/png": "[encoded data removed]",
      "text/plain": [
       "<Figure size 432x288 with 2 Axes>"
      ]
     },
     "metadata": {},
     "output_type": "display_data"
    }
   ],
   "source": [
    "sns.heatmap(LifeExpectancyData.isnull(),cmap='viridis')"
   ]
  },
  {
   "cell_type": "markdown",
   "metadata": {},
   "source": [
    "**4.a. Importing an Extarnel Data Frame**\n",
    "\n",
    "***Further steps requires extra tools to compare and to group row data for cleaning and filling Null values. Therefore, I imported another data frame with neccessary columns.**"
   ]
  },
  {
   "cell_type": "code",
   "execution_count": 11,
   "metadata": {},
   "outputs": [],
   "source": [
    "regions = pd.read_csv('./data/all.csv')"
   ]
  },
  {
   "cell_type": "code",
   "execution_count": 12,
   "metadata": {},
   "outputs": [
    {
     "data": {
      "text/html": [
       "<div>\n",
       "<style scoped>\n",
       "    .dataframe tbody tr th:only-of-type {\n",
       "        vertical-align: middle;\n",
       "    }\n",
       "\n",
       "    .dataframe tbody tr th {\n",
       "        vertical-align: top;\n",
       "    }\n",
       "\n",
       "    .dataframe thead th {\n",
       "        text-align: right;\n",
       "    }\n",
       "</style>\n",
       "<table border=\"1\" class=\"dataframe\">\n",
       "  <thead>\n",
       "    <tr style=\"text-align: right;\">\n",
       "      <th></th>\n",
       "      <th>name</th>\n",
       "      <th>alpha-2</th>\n",
       "      <th>alpha-3</th>\n",
       "      <th>country-code</th>\n",
       "      <th>iso_3166-2</th>\n",
       "      <th>region</th>\n",
       "      <th>sub-region</th>\n",
       "      <th>intermediate-region</th>\n",
       "      <th>region-code</th>\n",
       "      <th>sub-region-code</th>\n",
       "      <th>intermediate-region-code</th>\n",
       "    </tr>\n",
       "  </thead>\n",
       "  <tbody>\n",
       "    <tr>\n",
       "      <th>0</th>\n",
       "      <td>Afghanistan</td>\n",
       "      <td>AF</td>\n",
       "      <td>AFG</td>\n",
       "      <td>4</td>\n",
       "      <td>ISO 3166-2:AF</td>\n",
       "      <td>Asia</td>\n",
       "      <td>Southern Asia</td>\n",
       "      <td>NaN</td>\n",
       "      <td>142.000</td>\n",
       "      <td>34.000</td>\n",
       "      <td>nan</td>\n",
       "    </tr>\n",
       "    <tr>\n",
       "      <th>1</th>\n",
       "      <td>Åland Islands</td>\n",
       "      <td>AX</td>\n",
       "      <td>ALA</td>\n",
       "      <td>248</td>\n",
       "      <td>ISO 3166-2:AX</td>\n",
       "      <td>Europe</td>\n",
       "      <td>Northern Europe</td>\n",
       "      <td>NaN</td>\n",
       "      <td>150.000</td>\n",
       "      <td>154.000</td>\n",
       "      <td>nan</td>\n",
       "    </tr>\n",
       "    <tr>\n",
       "      <th>2</th>\n",
       "      <td>Albania</td>\n",
       "      <td>AL</td>\n",
       "      <td>ALB</td>\n",
       "      <td>8</td>\n",
       "      <td>ISO 3166-2:AL</td>\n",
       "      <td>Europe</td>\n",
       "      <td>Southern Europe</td>\n",
       "      <td>NaN</td>\n",
       "      <td>150.000</td>\n",
       "      <td>39.000</td>\n",
       "      <td>nan</td>\n",
       "    </tr>\n",
       "    <tr>\n",
       "      <th>3</th>\n",
       "      <td>Algeria</td>\n",
       "      <td>DZ</td>\n",
       "      <td>DZA</td>\n",
       "      <td>12</td>\n",
       "      <td>ISO 3166-2:DZ</td>\n",
       "      <td>Africa</td>\n",
       "      <td>Northern Africa</td>\n",
       "      <td>NaN</td>\n",
       "      <td>2.000</td>\n",
       "      <td>15.000</td>\n",
       "      <td>nan</td>\n",
       "    </tr>\n",
       "    <tr>\n",
       "      <th>4</th>\n",
       "      <td>American Samoa</td>\n",
       "      <td>AS</td>\n",
       "      <td>ASM</td>\n",
       "      <td>16</td>\n",
       "      <td>ISO 3166-2:AS</td>\n",
       "      <td>Oceania</td>\n",
       "      <td>Polynesia</td>\n",
       "      <td>NaN</td>\n",
       "      <td>9.000</td>\n",
       "      <td>61.000</td>\n",
       "      <td>nan</td>\n",
       "    </tr>\n",
       "  </tbody>\n",
       "</table>\n",
       "</div>"
      ],
      "text/plain": [
       "             name alpha-2 alpha-3  country-code     iso_3166-2   region  \\\n",
       "0     Afghanistan      AF     AFG             4  ISO 3166-2:AF     Asia   \n",
       "1   Åland Islands      AX     ALA           248  ISO 3166-2:AX   Europe   \n",
       "2         Albania      AL     ALB             8  ISO 3166-2:AL   Europe   \n",
       "3         Algeria      DZ     DZA            12  ISO 3166-2:DZ   Africa   \n",
       "4  American Samoa      AS     ASM            16  ISO 3166-2:AS  Oceania   \n",
       "\n",
       "        sub-region intermediate-region  region-code  sub-region-code  \\\n",
       "0    Southern Asia                 NaN      142.000           34.000   \n",
       "1  Northern Europe                 NaN      150.000          154.000   \n",
       "2  Southern Europe                 NaN      150.000           39.000   \n",
       "3  Northern Africa                 NaN        2.000           15.000   \n",
       "4        Polynesia                 NaN        9.000           61.000   \n",
       "\n",
       "   intermediate-region-code  \n",
       "0                       nan  \n",
       "1                       nan  \n",
       "2                       nan  \n",
       "3                       nan  \n",
       "4                       nan  "
      ]
     },
     "execution_count": 12,
     "metadata": {},
     "output_type": "execute_result"
    }
   ],
   "source": [
    "regions.head()"
   ]
  },
  {
   "cell_type": "code",
   "execution_count": 13,
   "metadata": {},
   "outputs": [
    {
     "data": {
      "text/plain": [
       "name          0\n",
       "region        1\n",
       "sub-region    1\n",
       "dtype: int64"
      ]
     },
     "execution_count": 13,
     "metadata": {},
     "output_type": "execute_result"
    }
   ],
   "source": [
    "regions[['name', 'region', 'sub-region']].isnull().sum()"
   ]
  },
  {
   "cell_type": "code",
   "execution_count": 14,
   "metadata": {},
   "outputs": [
    {
     "data": {
      "text/plain": [
       "Index(['name', 'alpha-2', 'alpha-3', 'country-code', 'iso_3166-2', 'region',\n",
       "       'sub-region', 'intermediate-region', 'region-code', 'sub-region-code',\n",
       "       'intermediate-region-code'],\n",
       "      dtype='object')"
      ]
     },
     "execution_count": 14,
     "metadata": {},
     "output_type": "execute_result"
    }
   ],
   "source": [
    "regions.columns"
   ]
  },
  {
   "cell_type": "markdown",
   "metadata": {},
   "source": [
    "**4.b. Merging two data frame in one, LifeExpectancyData_merged, will help us to fill in accurately.**"
   ]
  },
  {
   "cell_type": "code",
   "execution_count": 15,
   "metadata": {},
   "outputs": [],
   "source": [
    "LifeExpectancyData_merged = pd.merge(LifeExpectancyData, regions[['name', 'region', 'sub-region']], left_on='Country', right_on='name')"
   ]
  },
  {
   "cell_type": "code",
   "execution_count": 16,
   "metadata": {
    "scrolled": true
   },
   "outputs": [
    {
     "data": {
      "text/html": [
       "<div>\n",
       "<style scoped>\n",
       "    .dataframe tbody tr th:only-of-type {\n",
       "        vertical-align: middle;\n",
       "    }\n",
       "\n",
       "    .dataframe tbody tr th {\n",
       "        vertical-align: top;\n",
       "    }\n",
       "\n",
       "    .dataframe thead th {\n",
       "        text-align: right;\n",
       "    }\n",
       "</style>\n",
       "<table border=\"1\" class=\"dataframe\">\n",
       "  <thead>\n",
       "    <tr style=\"text-align: right;\">\n",
       "      <th></th>\n",
       "      <th>bos_toplam</th>\n",
       "      <th>bos_yuzde</th>\n",
       "    </tr>\n",
       "  </thead>\n",
       "  <tbody>\n",
       "    <tr>\n",
       "      <th>Population</th>\n",
       "      <td>556</td>\n",
       "      <td>0.197</td>\n",
       "    </tr>\n",
       "    <tr>\n",
       "      <th>Hepatitis_B</th>\n",
       "      <td>536</td>\n",
       "      <td>0.190</td>\n",
       "    </tr>\n",
       "    <tr>\n",
       "      <th>GDP</th>\n",
       "      <td>352</td>\n",
       "      <td>0.125</td>\n",
       "    </tr>\n",
       "    <tr>\n",
       "      <th>Total_Expenditure</th>\n",
       "      <td>204</td>\n",
       "      <td>0.072</td>\n",
       "    </tr>\n",
       "    <tr>\n",
       "      <th>Alcohol</th>\n",
       "      <td>187</td>\n",
       "      <td>0.066</td>\n",
       "    </tr>\n",
       "    <tr>\n",
       "      <th>Income_composition_of_resources</th>\n",
       "      <td>87</td>\n",
       "      <td>0.031</td>\n",
       "    </tr>\n",
       "    <tr>\n",
       "      <th>Schooling</th>\n",
       "      <td>83</td>\n",
       "      <td>0.029</td>\n",
       "    </tr>\n",
       "    <tr>\n",
       "      <th>BMI</th>\n",
       "      <td>34</td>\n",
       "      <td>0.012</td>\n",
       "    </tr>\n",
       "    <tr>\n",
       "      <th>thinness_5_9_years</th>\n",
       "      <td>34</td>\n",
       "      <td>0.012</td>\n",
       "    </tr>\n",
       "    <tr>\n",
       "      <th>thinness_1_19_years</th>\n",
       "      <td>34</td>\n",
       "      <td>0.012</td>\n",
       "    </tr>\n",
       "    <tr>\n",
       "      <th>Polio</th>\n",
       "      <td>19</td>\n",
       "      <td>0.007</td>\n",
       "    </tr>\n",
       "    <tr>\n",
       "      <th>Diphtheria</th>\n",
       "      <td>19</td>\n",
       "      <td>0.007</td>\n",
       "    </tr>\n",
       "    <tr>\n",
       "      <th>Life_Expectancy</th>\n",
       "      <td>10</td>\n",
       "      <td>0.004</td>\n",
       "    </tr>\n",
       "    <tr>\n",
       "      <th>Adult_Mortality</th>\n",
       "      <td>10</td>\n",
       "      <td>0.004</td>\n",
       "    </tr>\n",
       "  </tbody>\n",
       "</table>\n",
       "</div>"
      ],
      "text/plain": [
       "                                 bos_toplam  bos_yuzde\n",
       "Population                              556      0.197\n",
       "Hepatitis_B                             536      0.190\n",
       "GDP                                     352      0.125\n",
       "Total_Expenditure                       204      0.072\n",
       "Alcohol                                 187      0.066\n",
       "Income_composition_of_resources          87      0.031\n",
       "Schooling                                83      0.029\n",
       "BMI                                      34      0.012\n",
       "thinness_5_9_years                       34      0.012\n",
       "thinness_1_19_years                      34      0.012\n",
       "Polio                                    19      0.007\n",
       "Diphtheria                               19      0.007\n",
       "Life_Expectancy                          10      0.004\n",
       "Adult_Mortality                          10      0.004"
      ]
     },
     "execution_count": 16,
     "metadata": {},
     "output_type": "execute_result"
    }
   ],
   "source": [
    "bos_hucre(LifeExpectancyData_merged)"
   ]
  },
  {
   "cell_type": "code",
   "execution_count": 17,
   "metadata": {
    "scrolled": true
   },
   "outputs": [
    {
     "data": {
      "text/html": [
       "<div>\n",
       "<style scoped>\n",
       "    .dataframe tbody tr th:only-of-type {\n",
       "        vertical-align: middle;\n",
       "    }\n",
       "\n",
       "    .dataframe tbody tr th {\n",
       "        vertical-align: top;\n",
       "    }\n",
       "\n",
       "    .dataframe thead th {\n",
       "        text-align: right;\n",
       "    }\n",
       "</style>\n",
       "<table border=\"1\" class=\"dataframe\">\n",
       "  <thead>\n",
       "    <tr style=\"text-align: right;\">\n",
       "      <th></th>\n",
       "      <th>Country</th>\n",
       "      <th>Year</th>\n",
       "      <th>Status</th>\n",
       "      <th>Life_Expectancy</th>\n",
       "      <th>Adult_Mortality</th>\n",
       "      <th>infant_deaths</th>\n",
       "      <th>Alcohol</th>\n",
       "      <th>percentage_expenditure</th>\n",
       "      <th>Hepatitis_B</th>\n",
       "      <th>Measles</th>\n",
       "      <th>...</th>\n",
       "      <th>HIV/AIDS</th>\n",
       "      <th>GDP</th>\n",
       "      <th>Population</th>\n",
       "      <th>thinness_1_19_years</th>\n",
       "      <th>thinness_5_9_years</th>\n",
       "      <th>Income_composition_of_resources</th>\n",
       "      <th>Schooling</th>\n",
       "      <th>name</th>\n",
       "      <th>region</th>\n",
       "      <th>sub-region</th>\n",
       "    </tr>\n",
       "  </thead>\n",
       "  <tbody>\n",
       "    <tr>\n",
       "      <th>0</th>\n",
       "      <td>Afghanistan</td>\n",
       "      <td>2015</td>\n",
       "      <td>Developing</td>\n",
       "      <td>65.000</td>\n",
       "      <td>263.000</td>\n",
       "      <td>62</td>\n",
       "      <td>0.010</td>\n",
       "      <td>71.280</td>\n",
       "      <td>65.000</td>\n",
       "      <td>1154</td>\n",
       "      <td>...</td>\n",
       "      <td>0.100</td>\n",
       "      <td>584.259</td>\n",
       "      <td>33736494.000</td>\n",
       "      <td>17.200</td>\n",
       "      <td>17.300</td>\n",
       "      <td>0.479</td>\n",
       "      <td>10.100</td>\n",
       "      <td>Afghanistan</td>\n",
       "      <td>Asia</td>\n",
       "      <td>Southern Asia</td>\n",
       "    </tr>\n",
       "    <tr>\n",
       "      <th>1</th>\n",
       "      <td>Afghanistan</td>\n",
       "      <td>2014</td>\n",
       "      <td>Developing</td>\n",
       "      <td>59.900</td>\n",
       "      <td>271.000</td>\n",
       "      <td>64</td>\n",
       "      <td>0.010</td>\n",
       "      <td>73.524</td>\n",
       "      <td>62.000</td>\n",
       "      <td>492</td>\n",
       "      <td>...</td>\n",
       "      <td>0.100</td>\n",
       "      <td>612.697</td>\n",
       "      <td>327582.000</td>\n",
       "      <td>17.500</td>\n",
       "      <td>17.500</td>\n",
       "      <td>0.476</td>\n",
       "      <td>10.000</td>\n",
       "      <td>Afghanistan</td>\n",
       "      <td>Asia</td>\n",
       "      <td>Southern Asia</td>\n",
       "    </tr>\n",
       "    <tr>\n",
       "      <th>2</th>\n",
       "      <td>Afghanistan</td>\n",
       "      <td>2013</td>\n",
       "      <td>Developing</td>\n",
       "      <td>59.900</td>\n",
       "      <td>268.000</td>\n",
       "      <td>66</td>\n",
       "      <td>0.010</td>\n",
       "      <td>73.219</td>\n",
       "      <td>64.000</td>\n",
       "      <td>430</td>\n",
       "      <td>...</td>\n",
       "      <td>0.100</td>\n",
       "      <td>631.745</td>\n",
       "      <td>31731688.000</td>\n",
       "      <td>17.700</td>\n",
       "      <td>17.700</td>\n",
       "      <td>0.470</td>\n",
       "      <td>9.900</td>\n",
       "      <td>Afghanistan</td>\n",
       "      <td>Asia</td>\n",
       "      <td>Southern Asia</td>\n",
       "    </tr>\n",
       "    <tr>\n",
       "      <th>3</th>\n",
       "      <td>Afghanistan</td>\n",
       "      <td>2012</td>\n",
       "      <td>Developing</td>\n",
       "      <td>59.500</td>\n",
       "      <td>272.000</td>\n",
       "      <td>69</td>\n",
       "      <td>0.010</td>\n",
       "      <td>78.184</td>\n",
       "      <td>67.000</td>\n",
       "      <td>2787</td>\n",
       "      <td>...</td>\n",
       "      <td>0.100</td>\n",
       "      <td>669.959</td>\n",
       "      <td>3696958.000</td>\n",
       "      <td>17.900</td>\n",
       "      <td>18.000</td>\n",
       "      <td>0.463</td>\n",
       "      <td>9.800</td>\n",
       "      <td>Afghanistan</td>\n",
       "      <td>Asia</td>\n",
       "      <td>Southern Asia</td>\n",
       "    </tr>\n",
       "    <tr>\n",
       "      <th>4</th>\n",
       "      <td>Afghanistan</td>\n",
       "      <td>2011</td>\n",
       "      <td>Developing</td>\n",
       "      <td>59.200</td>\n",
       "      <td>275.000</td>\n",
       "      <td>71</td>\n",
       "      <td>0.010</td>\n",
       "      <td>7.097</td>\n",
       "      <td>68.000</td>\n",
       "      <td>3013</td>\n",
       "      <td>...</td>\n",
       "      <td>0.100</td>\n",
       "      <td>63.537</td>\n",
       "      <td>2978599.000</td>\n",
       "      <td>18.200</td>\n",
       "      <td>18.200</td>\n",
       "      <td>0.454</td>\n",
       "      <td>9.500</td>\n",
       "      <td>Afghanistan</td>\n",
       "      <td>Asia</td>\n",
       "      <td>Southern Asia</td>\n",
       "    </tr>\n",
       "  </tbody>\n",
       "</table>\n",
       "<p>5 rows × 25 columns</p>\n",
       "</div>"
      ],
      "text/plain": [
       "       Country  Year      Status  Life_Expectancy  Adult_Mortality  \\\n",
       "0  Afghanistan  2015  Developing           65.000          263.000   \n",
       "1  Afghanistan  2014  Developing           59.900          271.000   \n",
       "2  Afghanistan  2013  Developing           59.900          268.000   \n",
       "3  Afghanistan  2012  Developing           59.500          272.000   \n",
       "4  Afghanistan  2011  Developing           59.200          275.000   \n",
       "\n",
       "   infant_deaths  Alcohol  percentage_expenditure  Hepatitis_B  Measles  \\\n",
       "0             62    0.010                  71.280       65.000     1154   \n",
       "1             64    0.010                  73.524       62.000      492   \n",
       "2             66    0.010                  73.219       64.000      430   \n",
       "3             69    0.010                  78.184       67.000     2787   \n",
       "4             71    0.010                   7.097       68.000     3013   \n",
       "\n",
       "       ...        HIV/AIDS     GDP   Population  thinness_1_19_years  \\\n",
       "0      ...           0.100 584.259 33736494.000               17.200   \n",
       "1      ...           0.100 612.697   327582.000               17.500   \n",
       "2      ...           0.100 631.745 31731688.000               17.700   \n",
       "3      ...           0.100 669.959  3696958.000               17.900   \n",
       "4      ...           0.100  63.537  2978599.000               18.200   \n",
       "\n",
       "   thinness_5_9_years  Income_composition_of_resources  Schooling  \\\n",
       "0              17.300                            0.479     10.100   \n",
       "1              17.500                            0.476     10.000   \n",
       "2              17.700                            0.470      9.900   \n",
       "3              18.000                            0.463      9.800   \n",
       "4              18.200                            0.454      9.500   \n",
       "\n",
       "          name  region     sub-region  \n",
       "0  Afghanistan    Asia  Southern Asia  \n",
       "1  Afghanistan    Asia  Southern Asia  \n",
       "2  Afghanistan    Asia  Southern Asia  \n",
       "3  Afghanistan    Asia  Southern Asia  \n",
       "4  Afghanistan    Asia  Southern Asia  \n",
       "\n",
       "[5 rows x 25 columns]"
      ]
     },
     "execution_count": 17,
     "metadata": {},
     "output_type": "execute_result"
    }
   ],
   "source": [
    "LifeExpectancyData_merged.head()"
   ]
  },
  {
   "cell_type": "markdown",
   "metadata": {},
   "source": [
    "**5. Cleaning of the Row Data**"
   ]
  },
  {
   "cell_type": "markdown",
   "metadata": {},
   "source": [
    "There is a high number of Null values on Population column. We already have GDP values on each countries so I prefered to drop it."
   ]
  },
  {
   "cell_type": "code",
   "execution_count": 18,
   "metadata": {},
   "outputs": [],
   "source": [
    "LifeExpectancyData_merged.drop('Population', inplace=True, axis=1)"
   ]
  },
  {
   "cell_type": "code",
   "execution_count": 19,
   "metadata": {},
   "outputs": [
    {
     "data": {
      "text/plain": [
       "Index(['Country', 'Year', 'Status', 'Life_Expectancy', 'Adult_Mortality',\n",
       "       'infant_deaths', 'Alcohol', 'percentage_expenditure', 'Hepatitis_B',\n",
       "       'Measles', 'BMI', 'under_five_deaths', 'Polio', 'Total_Expenditure',\n",
       "       'Diphtheria', 'HIV/AIDS', 'GDP', 'thinness_1_19_years',\n",
       "       'thinness_5_9_years', 'Income_composition_of_resources', 'Schooling',\n",
       "       'name', 'region', 'sub-region'],\n",
       "      dtype='object')"
      ]
     },
     "execution_count": 19,
     "metadata": {},
     "output_type": "execute_result"
    }
   ],
   "source": [
    "LifeExpectancyData_merged.columns"
   ]
  },
  {
   "cell_type": "code",
   "execution_count": 20,
   "metadata": {},
   "outputs": [],
   "source": [
    "fill_list = (bos_hucre(LifeExpectancyData_merged)).index"
   ]
  },
  {
   "cell_type": "code",
   "execution_count": 21,
   "metadata": {},
   "outputs": [
    {
     "data": {
      "text/html": [
       "<div>\n",
       "<style scoped>\n",
       "    .dataframe tbody tr th:only-of-type {\n",
       "        vertical-align: middle;\n",
       "    }\n",
       "\n",
       "    .dataframe tbody tr th {\n",
       "        vertical-align: top;\n",
       "    }\n",
       "\n",
       "    .dataframe thead th {\n",
       "        text-align: right;\n",
       "    }\n",
       "</style>\n",
       "<table border=\"1\" class=\"dataframe\">\n",
       "  <thead>\n",
       "    <tr style=\"text-align: right;\">\n",
       "      <th></th>\n",
       "      <th>bos_toplam</th>\n",
       "      <th>bos_yuzde</th>\n",
       "    </tr>\n",
       "  </thead>\n",
       "  <tbody>\n",
       "    <tr>\n",
       "      <th>Hepatitis_B</th>\n",
       "      <td>536</td>\n",
       "      <td>0.190</td>\n",
       "    </tr>\n",
       "    <tr>\n",
       "      <th>GDP</th>\n",
       "      <td>352</td>\n",
       "      <td>0.125</td>\n",
       "    </tr>\n",
       "    <tr>\n",
       "      <th>Total_Expenditure</th>\n",
       "      <td>204</td>\n",
       "      <td>0.072</td>\n",
       "    </tr>\n",
       "    <tr>\n",
       "      <th>Alcohol</th>\n",
       "      <td>187</td>\n",
       "      <td>0.066</td>\n",
       "    </tr>\n",
       "    <tr>\n",
       "      <th>Income_composition_of_resources</th>\n",
       "      <td>87</td>\n",
       "      <td>0.031</td>\n",
       "    </tr>\n",
       "    <tr>\n",
       "      <th>Schooling</th>\n",
       "      <td>83</td>\n",
       "      <td>0.029</td>\n",
       "    </tr>\n",
       "    <tr>\n",
       "      <th>BMI</th>\n",
       "      <td>34</td>\n",
       "      <td>0.012</td>\n",
       "    </tr>\n",
       "    <tr>\n",
       "      <th>thinness_5_9_years</th>\n",
       "      <td>34</td>\n",
       "      <td>0.012</td>\n",
       "    </tr>\n",
       "    <tr>\n",
       "      <th>thinness_1_19_years</th>\n",
       "      <td>34</td>\n",
       "      <td>0.012</td>\n",
       "    </tr>\n",
       "    <tr>\n",
       "      <th>Polio</th>\n",
       "      <td>19</td>\n",
       "      <td>0.007</td>\n",
       "    </tr>\n",
       "    <tr>\n",
       "      <th>Diphtheria</th>\n",
       "      <td>19</td>\n",
       "      <td>0.007</td>\n",
       "    </tr>\n",
       "    <tr>\n",
       "      <th>Life_Expectancy</th>\n",
       "      <td>10</td>\n",
       "      <td>0.004</td>\n",
       "    </tr>\n",
       "    <tr>\n",
       "      <th>Adult_Mortality</th>\n",
       "      <td>10</td>\n",
       "      <td>0.004</td>\n",
       "    </tr>\n",
       "  </tbody>\n",
       "</table>\n",
       "</div>"
      ],
      "text/plain": [
       "                                 bos_toplam  bos_yuzde\n",
       "Hepatitis_B                             536      0.190\n",
       "GDP                                     352      0.125\n",
       "Total_Expenditure                       204      0.072\n",
       "Alcohol                                 187      0.066\n",
       "Income_composition_of_resources          87      0.031\n",
       "Schooling                                83      0.029\n",
       "BMI                                      34      0.012\n",
       "thinness_5_9_years                       34      0.012\n",
       "thinness_1_19_years                      34      0.012\n",
       "Polio                                    19      0.007\n",
       "Diphtheria                               19      0.007\n",
       "Life_Expectancy                          10      0.004\n",
       "Adult_Mortality                          10      0.004"
      ]
     },
     "execution_count": 21,
     "metadata": {},
     "output_type": "execute_result"
    }
   ],
   "source": [
    "bos_hucre(LifeExpectancyData_merged)"
   ]
  },
  {
   "cell_type": "markdown",
   "metadata": {},
   "source": [
    "**5. Filling of the Row Data**"
   ]
  },
  {
   "cell_type": "code",
   "execution_count": 22,
   "metadata": {},
   "outputs": [],
   "source": [
    "df_interpolate = LifeExpectancyData_merged.copy()\n",
    "\n",
    "for col in fill_list:\n",
    "    df_interpolate[col] = df_interpolate.groupby(['Country'])[col].transform(lambda x: x.interpolate(limit_direction = 'both'))"
   ]
  },
  {
   "cell_type": "code",
   "execution_count": 23,
   "metadata": {},
   "outputs": [
    {
     "data": {
      "text/html": [
       "<div>\n",
       "<style scoped>\n",
       "    .dataframe tbody tr th:only-of-type {\n",
       "        vertical-align: middle;\n",
       "    }\n",
       "\n",
       "    .dataframe tbody tr th {\n",
       "        vertical-align: top;\n",
       "    }\n",
       "\n",
       "    .dataframe thead th {\n",
       "        text-align: right;\n",
       "    }\n",
       "</style>\n",
       "<table border=\"1\" class=\"dataframe\">\n",
       "  <thead>\n",
       "    <tr style=\"text-align: right;\">\n",
       "      <th></th>\n",
       "      <th>bos_toplam</th>\n",
       "      <th>bos_yuzde</th>\n",
       "    </tr>\n",
       "  </thead>\n",
       "  <tbody>\n",
       "    <tr>\n",
       "      <th>GDP</th>\n",
       "      <td>309</td>\n",
       "      <td>0.109</td>\n",
       "    </tr>\n",
       "    <tr>\n",
       "      <th>Hepatitis_B</th>\n",
       "      <td>144</td>\n",
       "      <td>0.051</td>\n",
       "    </tr>\n",
       "    <tr>\n",
       "      <th>Income_composition_of_resources</th>\n",
       "      <td>87</td>\n",
       "      <td>0.031</td>\n",
       "    </tr>\n",
       "    <tr>\n",
       "      <th>Schooling</th>\n",
       "      <td>83</td>\n",
       "      <td>0.029</td>\n",
       "    </tr>\n",
       "    <tr>\n",
       "      <th>BMI</th>\n",
       "      <td>34</td>\n",
       "      <td>0.012</td>\n",
       "    </tr>\n",
       "    <tr>\n",
       "      <th>thinness_5_9_years</th>\n",
       "      <td>34</td>\n",
       "      <td>0.012</td>\n",
       "    </tr>\n",
       "    <tr>\n",
       "      <th>thinness_1_19_years</th>\n",
       "      <td>34</td>\n",
       "      <td>0.012</td>\n",
       "    </tr>\n",
       "    <tr>\n",
       "      <th>Alcohol</th>\n",
       "      <td>17</td>\n",
       "      <td>0.006</td>\n",
       "    </tr>\n",
       "    <tr>\n",
       "      <th>Total_Expenditure</th>\n",
       "      <td>16</td>\n",
       "      <td>0.006</td>\n",
       "    </tr>\n",
       "    <tr>\n",
       "      <th>Life_Expectancy</th>\n",
       "      <td>10</td>\n",
       "      <td>0.004</td>\n",
       "    </tr>\n",
       "    <tr>\n",
       "      <th>Adult_Mortality</th>\n",
       "      <td>10</td>\n",
       "      <td>0.004</td>\n",
       "    </tr>\n",
       "  </tbody>\n",
       "</table>\n",
       "</div>"
      ],
      "text/plain": [
       "                                 bos_toplam  bos_yuzde\n",
       "GDP                                     309      0.109\n",
       "Hepatitis_B                             144      0.051\n",
       "Income_composition_of_resources          87      0.031\n",
       "Schooling                                83      0.029\n",
       "BMI                                      34      0.012\n",
       "thinness_5_9_years                       34      0.012\n",
       "thinness_1_19_years                      34      0.012\n",
       "Alcohol                                  17      0.006\n",
       "Total_Expenditure                        16      0.006\n",
       "Life_Expectancy                          10      0.004\n",
       "Adult_Mortality                          10      0.004"
      ]
     },
     "execution_count": 23,
     "metadata": {},
     "output_type": "execute_result"
    }
   ],
   "source": [
    "bos_hucre(df_interpolate)"
   ]
  },
  {
   "cell_type": "markdown",
   "metadata": {},
   "source": [
    "****Applying Interpolate on both direction with grouping by Country, does not help on missing values of Total_Expenditure and Alcohol  as there is no information on related countries. Thus, I used interpolte method with grouping by sub-region and Year columns.***"
   ]
  },
  {
   "cell_type": "code",
   "execution_count": 24,
   "metadata": {},
   "outputs": [],
   "source": [
    "for col in fill_list:\n",
    "    df_interpolate[col] = df_interpolate.groupby(['sub-region', 'Year'])[col].transform(lambda x: x.interpolate(limit_direction='both'))"
   ]
  },
  {
   "cell_type": "code",
   "execution_count": 25,
   "metadata": {},
   "outputs": [
    {
     "data": {
      "text/html": [
       "<div>\n",
       "<style scoped>\n",
       "    .dataframe tbody tr th:only-of-type {\n",
       "        vertical-align: middle;\n",
       "    }\n",
       "\n",
       "    .dataframe tbody tr th {\n",
       "        vertical-align: top;\n",
       "    }\n",
       "\n",
       "    .dataframe thead th {\n",
       "        text-align: right;\n",
       "    }\n",
       "</style>\n",
       "<table border=\"1\" class=\"dataframe\">\n",
       "  <thead>\n",
       "    <tr style=\"text-align: right;\">\n",
       "      <th></th>\n",
       "      <th>bos_toplam</th>\n",
       "      <th>bos_yuzde</th>\n",
       "    </tr>\n",
       "  </thead>\n",
       "  <tbody>\n",
       "  </tbody>\n",
       "</table>\n",
       "</div>"
      ],
      "text/plain": [
       "Empty DataFrame\n",
       "Columns: [bos_toplam, bos_yuzde]\n",
       "Index: []"
      ]
     },
     "execution_count": 25,
     "metadata": {},
     "output_type": "execute_result"
    }
   ],
   "source": [
    "bos_hucre(df_interpolate)"
   ]
  },
  {
   "cell_type": "markdown",
   "metadata": {},
   "source": [
    "**8.Training the Model**"
   ]
  },
  {
   "cell_type": "code",
   "execution_count": 26,
   "metadata": {},
   "outputs": [],
   "source": [
    "LifeExpectancyData_num = df_interpolate._get_numeric_data() "
   ]
  },
  {
   "cell_type": "code",
   "execution_count": 27,
   "metadata": {
    "scrolled": true
   },
   "outputs": [
    {
     "data": {
      "text/plain": [
       "Index(['Schooling', 'Income_composition_of_resources', 'Adult_Mortality',\n",
       "       'HIV/AIDS', 'BMI', 'Diphtheria', 'thinness_1_19_years',\n",
       "       'thinness_5_9_years', 'Polio', 'GDP', 'Alcohol',\n",
       "       'percentage_expenditure', 'Hepatitis_B', 'Total_Expenditure',\n",
       "       'under_five_deaths', 'infant_deaths', 'Year', 'Measles'],\n",
       "      dtype='object')"
      ]
     },
     "execution_count": 27,
     "metadata": {},
     "output_type": "execute_result"
    }
   ],
   "source": [
    "corr_matrix = LifeExpectancyData_num.corr()\n",
    "corr_list = corr_matrix.Life_Expectancy.abs().sort_values(ascending=False).index[1:]\n",
    "corr_list"
   ]
  },
  {
   "cell_type": "code",
   "execution_count": 28,
   "metadata": {},
   "outputs": [
    {
     "data": {
      "text/plain": [
       "Text(0.5, 1.0, 'Correlation Matrix')"
      ]
     },
     "execution_count": 28,
     "metadata": {},
     "output_type": "execute_result"
    },
    {
     "data": {
      "image/png": "[encoded data removed]",
      "text/plain": [
       "<Figure size 720x576 with 2 Axes>"
      ]
     },
     "metadata": {},
     "output_type": "display_data"
    }
   ],
   "source": [
    "plt.figure(figsize=(10,8))\n",
    "sns.heatmap(corr_matrix, cmap='bwr')\n",
    "plt.title('Correlation Matrix')"
   ]
  },
  {
   "cell_type": "markdown",
   "metadata": {},
   "source": [
    "Chart shows that High correlations on Life Expectancy are with 'Adult_Mortality', 'HIV/AIDS', 'thinness_5_9_years', 'thinness_1_19_years','Income_composition_of_resources', 'Schooling' variables."
   ]
  },
  {
   "cell_type": "code",
   "execution_count": 29,
   "metadata": {
    "scrolled": true
   },
   "outputs": [],
   "source": [
    "y_allValues = LifeExpectancyData_num['Life_Expectancy']\n",
    "X_allValues = LifeExpectancyData_num[corr_list]"
   ]
  },
  {
   "cell_type": "code",
   "execution_count": 30,
   "metadata": {},
   "outputs": [
    {
     "name": "stdout",
     "output_type": "stream",
     "text": [
      "Eğitim kümesindeki gözlem sayısı : 2260\n",
      "Test kümesindeki gözlem sayısı   : 566\n"
     ]
    }
   ],
   "source": [
    "X_train, X_test, y_train, y_test = train_test_split(X_allValues, y_allValues, test_size = 0.2, random_state = 0)\n",
    "\n",
    "print(\"Eğitim kümesindeki gözlem sayısı : {}\".format(X_train.shape[0]))\n",
    "print(\"Test kümesindeki gözlem sayısı   : {}\".format(X_test.shape[0]))"
   ]
  },
  {
   "cell_type": "markdown",
   "metadata": {},
   "source": [
    "We're splitting the data in two, so out of 100 rows, 80 rows will go into the training set, and 20 rows will go into the testing set."
   ]
  },
  {
   "cell_type": "code",
   "execution_count": 31,
   "metadata": {},
   "outputs": [
    {
     "data": {
      "text/html": [
       "<table class=\"simpletable\">\n",
       "<caption>OLS Regression Results</caption>\n",
       "<tr>\n",
       "  <th>Dep. Variable:</th>     <td>Life_Expectancy</td> <th>  R-squared:         </th> <td>   0.825</td> \n",
       "</tr>\n",
       "<tr>\n",
       "  <th>Model:</th>                   <td>OLS</td>       <th>  Adj. R-squared:    </th> <td>   0.823</td> \n",
       "</tr>\n",
       "<tr>\n",
       "  <th>Method:</th>             <td>Least Squares</td>  <th>  F-statistic:       </th> <td>   585.1</td> \n",
       "</tr>\n",
       "<tr>\n",
       "  <th>Date:</th>             <td>Sun, 05 May 2019</td> <th>  Prob (F-statistic):</th>  <td>  0.00</td>  \n",
       "</tr>\n",
       "<tr>\n",
       "  <th>Time:</th>                 <td>22:31:36</td>     <th>  Log-Likelihood:    </th> <td> -6297.3</td> \n",
       "</tr>\n",
       "<tr>\n",
       "  <th>No. Observations:</th>      <td>  2260</td>      <th>  AIC:               </th> <td>1.263e+04</td>\n",
       "</tr>\n",
       "<tr>\n",
       "  <th>Df Residuals:</th>          <td>  2241</td>      <th>  BIC:               </th> <td>1.274e+04</td>\n",
       "</tr>\n",
       "<tr>\n",
       "  <th>Df Model:</th>              <td>    18</td>      <th>                     </th>     <td> </td>    \n",
       "</tr>\n",
       "<tr>\n",
       "  <th>Covariance Type:</th>      <td>nonrobust</td>    <th>                     </th>     <td> </td>    \n",
       "</tr>\n",
       "</table>\n",
       "<table class=\"simpletable\">\n",
       "<tr>\n",
       "                 <td></td>                    <th>coef</th>     <th>std err</th>      <th>t</th>      <th>P>|t|</th>  <th>[0.025</th>    <th>0.975]</th>  \n",
       "</tr>\n",
       "<tr>\n",
       "  <th>const</th>                           <td>  172.3087</td> <td>   39.540</td> <td>    4.358</td> <td> 0.000</td> <td>   94.770</td> <td>  249.848</td>\n",
       "</tr>\n",
       "<tr>\n",
       "  <th>Schooling</th>                       <td>    0.7155</td> <td>    0.047</td> <td>   15.120</td> <td> 0.000</td> <td>    0.623</td> <td>    0.808</td>\n",
       "</tr>\n",
       "<tr>\n",
       "  <th>Income_composition_of_resources</th> <td>    8.5581</td> <td>    0.729</td> <td>   11.735</td> <td> 0.000</td> <td>    7.128</td> <td>    9.988</td>\n",
       "</tr>\n",
       "<tr>\n",
       "  <th>Adult_Mortality</th>                 <td>   -0.0169</td> <td>    0.001</td> <td>  -18.017</td> <td> 0.000</td> <td>   -0.019</td> <td>   -0.015</td>\n",
       "</tr>\n",
       "<tr>\n",
       "  <th>HIV/AIDS</th>                        <td>   -0.5600</td> <td>    0.024</td> <td>  -23.020</td> <td> 0.000</td> <td>   -0.608</td> <td>   -0.512</td>\n",
       "</tr>\n",
       "<tr>\n",
       "  <th>BMI</th>                             <td>    0.0403</td> <td>    0.005</td> <td>    7.416</td> <td> 0.000</td> <td>    0.030</td> <td>    0.051</td>\n",
       "</tr>\n",
       "<tr>\n",
       "  <th>Diphtheria</th>                      <td>    0.0230</td> <td>    0.005</td> <td>    4.325</td> <td> 0.000</td> <td>    0.013</td> <td>    0.033</td>\n",
       "</tr>\n",
       "<tr>\n",
       "  <th>thinness_1_19_years</th>             <td>   -0.0828</td> <td>    0.054</td> <td>   -1.528</td> <td> 0.127</td> <td>   -0.189</td> <td>    0.023</td>\n",
       "</tr>\n",
       "<tr>\n",
       "  <th>thinness_5_9_years</th>              <td>    0.0131</td> <td>    0.053</td> <td>    0.246</td> <td> 0.806</td> <td>   -0.091</td> <td>    0.118</td>\n",
       "</tr>\n",
       "<tr>\n",
       "  <th>Polio</th>                           <td>    0.0215</td> <td>    0.005</td> <td>    4.339</td> <td> 0.000</td> <td>    0.012</td> <td>    0.031</td>\n",
       "</tr>\n",
       "<tr>\n",
       "  <th>GDP</th>                             <td> 2.453e-05</td> <td> 1.22e-05</td> <td>    2.011</td> <td> 0.044</td> <td> 6.15e-07</td> <td> 4.84e-05</td>\n",
       "</tr>\n",
       "<tr>\n",
       "  <th>Alcohol</th>                         <td>    0.0396</td> <td>    0.027</td> <td>    1.469</td> <td> 0.142</td> <td>   -0.013</td> <td>    0.092</td>\n",
       "</tr>\n",
       "<tr>\n",
       "  <th>percentage_expenditure</th>          <td>    0.0002</td> <td> 8.17e-05</td> <td>    3.047</td> <td> 0.002</td> <td> 8.86e-05</td> <td>    0.000</td>\n",
       "</tr>\n",
       "<tr>\n",
       "  <th>Hepatitis_B</th>                     <td>    0.0003</td> <td>    0.004</td> <td>    0.086</td> <td> 0.931</td> <td>   -0.007</td> <td>    0.007</td>\n",
       "</tr>\n",
       "<tr>\n",
       "  <th>Total_Expenditure</th>               <td>    0.0339</td> <td>    0.035</td> <td>    0.957</td> <td> 0.339</td> <td>   -0.036</td> <td>    0.103</td>\n",
       "</tr>\n",
       "<tr>\n",
       "  <th>under_five_deaths</th>               <td>   -0.0633</td> <td>    0.007</td> <td>   -9.504</td> <td> 0.000</td> <td>   -0.076</td> <td>   -0.050</td>\n",
       "</tr>\n",
       "<tr>\n",
       "  <th>infant_deaths</th>                   <td>    0.0849</td> <td>    0.009</td> <td>    9.464</td> <td> 0.000</td> <td>    0.067</td> <td>    0.102</td>\n",
       "</tr>\n",
       "<tr>\n",
       "  <th>Year</th>                            <td>   -0.0592</td> <td>    0.020</td> <td>   -2.994</td> <td> 0.003</td> <td>   -0.098</td> <td>   -0.020</td>\n",
       "</tr>\n",
       "<tr>\n",
       "  <th>Measles</th>                         <td>-1.392e-05</td> <td>    1e-05</td> <td>   -1.387</td> <td> 0.166</td> <td>-3.36e-05</td> <td> 5.77e-06</td>\n",
       "</tr>\n",
       "</table>\n",
       "<table class=\"simpletable\">\n",
       "<tr>\n",
       "  <th>Omnibus:</th>       <td>153.315</td> <th>  Durbin-Watson:     </th> <td>   1.906</td> \n",
       "</tr>\n",
       "<tr>\n",
       "  <th>Prob(Omnibus):</th> <td> 0.000</td>  <th>  Jarque-Bera (JB):  </th> <td> 703.653</td> \n",
       "</tr>\n",
       "<tr>\n",
       "  <th>Skew:</th>          <td> 0.099</td>  <th>  Prob(JB):          </th> <td>1.60e-153</td>\n",
       "</tr>\n",
       "<tr>\n",
       "  <th>Kurtosis:</th>      <td> 5.726</td>  <th>  Cond. No.          </th> <td>7.57e+06</td> \n",
       "</tr>\n",
       "</table><br/><br/>Warnings:<br/>[1] Standard Errors assume that the covariance matrix of the errors is correctly specified.<br/>[2] The condition number is large, 7.57e+06. This might indicate that there are<br/>strong multicollinearity or other numerical problems."
      ],
      "text/plain": [
       "<class 'statsmodels.iolib.summary.Summary'>\n",
       "\"\"\"\n",
       "                            OLS Regression Results                            \n",
       "==============================================================================\n",
       "Dep. Variable:        Life_Expectancy   R-squared:                       0.825\n",
       "Model:                            OLS   Adj. R-squared:                  0.823\n",
       "Method:                 Least Squares   F-statistic:                     585.1\n",
       "Date:                Sun, 05 May 2019   Prob (F-statistic):               0.00\n",
       "Time:                        22:31:36   Log-Likelihood:                -6297.3\n",
       "No. Observations:                2260   AIC:                         1.263e+04\n",
       "Df Residuals:                    2241   BIC:                         1.274e+04\n",
       "Df Model:                          18                                         \n",
       "Covariance Type:            nonrobust                                         \n",
       "===================================================================================================\n",
       "                                      coef    std err          t      P>|t|      [0.025      0.975]\n",
       "---------------------------------------------------------------------------------------------------\n",
       "const                             172.3087     39.540      4.358      0.000      94.770     249.848\n",
       "Schooling                           0.7155      0.047     15.120      0.000       0.623       0.808\n",
       "Income_composition_of_resources     8.5581      0.729     11.735      0.000       7.128       9.988\n",
       "Adult_Mortality                    -0.0169      0.001    -18.017      0.000      -0.019      -0.015\n",
       "HIV/AIDS                           -0.5600      0.024    -23.020      0.000      -0.608      -0.512\n",
       "BMI                                 0.0403      0.005      7.416      0.000       0.030       0.051\n",
       "Diphtheria                          0.0230      0.005      4.325      0.000       0.013       0.033\n",
       "thinness_1_19_years                -0.0828      0.054     -1.528      0.127      -0.189       0.023\n",
       "thinness_5_9_years                  0.0131      0.053      0.246      0.806      -0.091       0.118\n",
       "Polio                               0.0215      0.005      4.339      0.000       0.012       0.031\n",
       "GDP                              2.453e-05   1.22e-05      2.011      0.044    6.15e-07    4.84e-05\n",
       "Alcohol                             0.0396      0.027      1.469      0.142      -0.013       0.092\n",
       "percentage_expenditure              0.0002   8.17e-05      3.047      0.002    8.86e-05       0.000\n",
       "Hepatitis_B                         0.0003      0.004      0.086      0.931      -0.007       0.007\n",
       "Total_Expenditure                   0.0339      0.035      0.957      0.339      -0.036       0.103\n",
       "under_five_deaths                  -0.0633      0.007     -9.504      0.000      -0.076      -0.050\n",
       "infant_deaths                       0.0849      0.009      9.464      0.000       0.067       0.102\n",
       "Year                               -0.0592      0.020     -2.994      0.003      -0.098      -0.020\n",
       "Measles                         -1.392e-05      1e-05     -1.387      0.166   -3.36e-05    5.77e-06\n",
       "==============================================================================\n",
       "Omnibus:                      153.315   Durbin-Watson:                   1.906\n",
       "Prob(Omnibus):                  0.000   Jarque-Bera (JB):              703.653\n",
       "Skew:                           0.099   Prob(JB):                    1.60e-153\n",
       "Kurtosis:                       5.726   Cond. No.                     7.57e+06\n",
       "==============================================================================\n",
       "\n",
       "Warnings:\n",
       "[1] Standard Errors assume that the covariance matrix of the errors is correctly specified.\n",
       "[2] The condition number is large, 7.57e+06. This might indicate that there are\n",
       "strong multicollinearity or other numerical problems.\n",
       "\"\"\""
      ]
     },
     "execution_count": 31,
     "metadata": {},
     "output_type": "execute_result"
    }
   ],
   "source": [
    "X_train = sm.add_constant(X_train)\n",
    "\n",
    "tum_degiskenli_model = sm.OLS(y_train, X_train).fit()\n",
    "\n",
    "tum_degiskenli_model.summary()"
   ]
  },
  {
   "cell_type": "markdown",
   "metadata": {},
   "source": [
    "## ***A new model with 12 variables based on P values***"
   ]
  },
  {
   "cell_type": "code",
   "execution_count": 32,
   "metadata": {},
   "outputs": [
    {
     "data": {
      "text/plain": [
       "19"
      ]
     },
     "execution_count": 32,
     "metadata": {},
     "output_type": "execute_result"
    }
   ],
   "source": [
    "len(tum_degiskenli_model.pvalues)"
   ]
  },
  {
   "cell_type": "code",
   "execution_count": 33,
   "metadata": {},
   "outputs": [
    {
     "data": {
      "text/plain": [
       "['const',\n",
       " 'Schooling',\n",
       " 'Income_composition_of_resources',\n",
       " 'Adult_Mortality',\n",
       " 'HIV/AIDS',\n",
       " 'BMI',\n",
       " 'Diphtheria',\n",
       " 'Polio',\n",
       " 'GDP',\n",
       " 'percentage_expenditure',\n",
       " 'under_five_deaths',\n",
       " 'infant_deaths',\n",
       " 'Year']"
      ]
     },
     "execution_count": 33,
     "metadata": {},
     "output_type": "execute_result"
    }
   ],
   "source": [
    "pDegeri = tum_degiskenli_model.pvalues\n",
    "anlamli_degerler = list(pDegeri[pDegeri<= 0.05].index)\n",
    "anlamli_degerler"
   ]
  },
  {
   "cell_type": "code",
   "execution_count": 34,
   "metadata": {},
   "outputs": [],
   "source": [
    "anlamli_degerler= anlamli_degerler[1:]"
   ]
  },
  {
   "cell_type": "code",
   "execution_count": 35,
   "metadata": {},
   "outputs": [
    {
     "data": {
      "text/plain": [
       "12"
      ]
     },
     "execution_count": 35,
     "metadata": {},
     "output_type": "execute_result"
    }
   ],
   "source": [
    "len(anlamli_degerler)"
   ]
  },
  {
   "cell_type": "code",
   "execution_count": 36,
   "metadata": {},
   "outputs": [],
   "source": [
    "y_anlamli = LifeExpectancyData_num['Life_Expectancy'] \n",
    "X_anlamli = LifeExpectancyData_num[anlamli_degerler] "
   ]
  },
  {
   "cell_type": "code",
   "execution_count": 37,
   "metadata": {},
   "outputs": [
    {
     "name": "stdout",
     "output_type": "stream",
     "text": [
      "Eğitim kümesindeki gözlem sayısı : 2260\n",
      "Test kümesindeki gözlem sayısı   : 566\n"
     ]
    }
   ],
   "source": [
    "X_train, X_test, y_train, y_test = train_test_split(X_anlamli, y_anlamli, test_size = 0.2, random_state = 500)\n",
    "\n",
    "print(\"Eğitim kümesindeki gözlem sayısı : {}\".format(X_train.shape[0]))\n",
    "print(\"Test kümesindeki gözlem sayısı   : {}\".format(X_test.shape[0]))"
   ]
  },
  {
   "cell_type": "code",
   "execution_count": 38,
   "metadata": {},
   "outputs": [
    {
     "data": {
      "text/html": [
       "<table class=\"simpletable\">\n",
       "<caption>OLS Regression Results</caption>\n",
       "<tr>\n",
       "  <th>Dep. Variable:</th>     <td>Life_Expectancy</td> <th>  R-squared:         </th> <td>   0.830</td> \n",
       "</tr>\n",
       "<tr>\n",
       "  <th>Model:</th>                   <td>OLS</td>       <th>  Adj. R-squared:    </th> <td>   0.829</td> \n",
       "</tr>\n",
       "<tr>\n",
       "  <th>Method:</th>             <td>Least Squares</td>  <th>  F-statistic:       </th> <td>   914.4</td> \n",
       "</tr>\n",
       "<tr>\n",
       "  <th>Date:</th>             <td>Sun, 05 May 2019</td> <th>  Prob (F-statistic):</th>  <td>  0.00</td>  \n",
       "</tr>\n",
       "<tr>\n",
       "  <th>Time:</th>                 <td>22:31:37</td>     <th>  Log-Likelihood:    </th> <td> -6266.4</td> \n",
       "</tr>\n",
       "<tr>\n",
       "  <th>No. Observations:</th>      <td>  2260</td>      <th>  AIC:               </th> <td>1.256e+04</td>\n",
       "</tr>\n",
       "<tr>\n",
       "  <th>Df Residuals:</th>          <td>  2247</td>      <th>  BIC:               </th> <td>1.263e+04</td>\n",
       "</tr>\n",
       "<tr>\n",
       "  <th>Df Model:</th>              <td>    12</td>      <th>                     </th>     <td> </td>    \n",
       "</tr>\n",
       "<tr>\n",
       "  <th>Covariance Type:</th>      <td>nonrobust</td>    <th>                     </th>     <td> </td>    \n",
       "</tr>\n",
       "</table>\n",
       "<table class=\"simpletable\">\n",
       "<tr>\n",
       "                 <td></td>                    <th>coef</th>     <th>std err</th>      <th>t</th>      <th>P>|t|</th>  <th>[0.025</th>    <th>0.975]</th>  \n",
       "</tr>\n",
       "<tr>\n",
       "  <th>const</th>                           <td>  165.6685</td> <td>   37.177</td> <td>    4.456</td> <td> 0.000</td> <td>   92.763</td> <td>  238.574</td>\n",
       "</tr>\n",
       "<tr>\n",
       "  <th>Schooling</th>                       <td>    0.7975</td> <td>    0.044</td> <td>   18.098</td> <td> 0.000</td> <td>    0.711</td> <td>    0.884</td>\n",
       "</tr>\n",
       "<tr>\n",
       "  <th>Income_composition_of_resources</th> <td>    7.6033</td> <td>    0.691</td> <td>   11.005</td> <td> 0.000</td> <td>    6.248</td> <td>    8.958</td>\n",
       "</tr>\n",
       "<tr>\n",
       "  <th>Adult_Mortality</th>                 <td>   -0.0170</td> <td>    0.001</td> <td>  -18.560</td> <td> 0.000</td> <td>   -0.019</td> <td>   -0.015</td>\n",
       "</tr>\n",
       "<tr>\n",
       "  <th>HIV/AIDS</th>                        <td>   -0.5402</td> <td>    0.023</td> <td>  -23.015</td> <td> 0.000</td> <td>   -0.586</td> <td>   -0.494</td>\n",
       "</tr>\n",
       "<tr>\n",
       "  <th>BMI</th>                             <td>    0.0494</td> <td>    0.005</td> <td>    9.616</td> <td> 0.000</td> <td>    0.039</td> <td>    0.059</td>\n",
       "</tr>\n",
       "<tr>\n",
       "  <th>Diphtheria</th>                      <td>    0.0255</td> <td>    0.005</td> <td>    5.109</td> <td> 0.000</td> <td>    0.016</td> <td>    0.035</td>\n",
       "</tr>\n",
       "<tr>\n",
       "  <th>Polio</th>                           <td>    0.0224</td> <td>    0.005</td> <td>    4.489</td> <td> 0.000</td> <td>    0.013</td> <td>    0.032</td>\n",
       "</tr>\n",
       "<tr>\n",
       "  <th>GDP</th>                             <td> 2.488e-05</td> <td> 1.13e-05</td> <td>    2.197</td> <td> 0.028</td> <td> 2.67e-06</td> <td> 4.71e-05</td>\n",
       "</tr>\n",
       "<tr>\n",
       "  <th>percentage_expenditure</th>          <td>    0.0003</td> <td>  7.6e-05</td> <td>    3.392</td> <td> 0.001</td> <td>    0.000</td> <td>    0.000</td>\n",
       "</tr>\n",
       "<tr>\n",
       "  <th>under_five_deaths</th>               <td>   -0.0674</td> <td>    0.006</td> <td>  -10.694</td> <td> 0.000</td> <td>   -0.080</td> <td>   -0.055</td>\n",
       "</tr>\n",
       "<tr>\n",
       "  <th>infant_deaths</th>                   <td>    0.0887</td> <td>    0.009</td> <td>   10.399</td> <td> 0.000</td> <td>    0.072</td> <td>    0.105</td>\n",
       "</tr>\n",
       "<tr>\n",
       "  <th>Year</th>                            <td>   -0.0564</td> <td>    0.019</td> <td>   -3.036</td> <td> 0.002</td> <td>   -0.093</td> <td>   -0.020</td>\n",
       "</tr>\n",
       "</table>\n",
       "<table class=\"simpletable\">\n",
       "<tr>\n",
       "  <th>Omnibus:</th>       <td>158.909</td> <th>  Durbin-Watson:     </th> <td>   1.962</td> \n",
       "</tr>\n",
       "<tr>\n",
       "  <th>Prob(Omnibus):</th> <td> 0.000</td>  <th>  Jarque-Bera (JB):  </th> <td> 748.807</td> \n",
       "</tr>\n",
       "<tr>\n",
       "  <th>Skew:</th>          <td> 0.111</td>  <th>  Prob(JB):          </th> <td>2.50e-163</td>\n",
       "</tr>\n",
       "<tr>\n",
       "  <th>Kurtosis:</th>      <td> 5.811</td>  <th>  Cond. No.          </th> <td>7.39e+06</td> \n",
       "</tr>\n",
       "</table><br/><br/>Warnings:<br/>[1] Standard Errors assume that the covariance matrix of the errors is correctly specified.<br/>[2] The condition number is large, 7.39e+06. This might indicate that there are<br/>strong multicollinearity or other numerical problems."
      ],
      "text/plain": [
       "<class 'statsmodels.iolib.summary.Summary'>\n",
       "\"\"\"\n",
       "                            OLS Regression Results                            \n",
       "==============================================================================\n",
       "Dep. Variable:        Life_Expectancy   R-squared:                       0.830\n",
       "Model:                            OLS   Adj. R-squared:                  0.829\n",
       "Method:                 Least Squares   F-statistic:                     914.4\n",
       "Date:                Sun, 05 May 2019   Prob (F-statistic):               0.00\n",
       "Time:                        22:31:37   Log-Likelihood:                -6266.4\n",
       "No. Observations:                2260   AIC:                         1.256e+04\n",
       "Df Residuals:                    2247   BIC:                         1.263e+04\n",
       "Df Model:                          12                                         \n",
       "Covariance Type:            nonrobust                                         \n",
       "===================================================================================================\n",
       "                                      coef    std err          t      P>|t|      [0.025      0.975]\n",
       "---------------------------------------------------------------------------------------------------\n",
       "const                             165.6685     37.177      4.456      0.000      92.763     238.574\n",
       "Schooling                           0.7975      0.044     18.098      0.000       0.711       0.884\n",
       "Income_composition_of_resources     7.6033      0.691     11.005      0.000       6.248       8.958\n",
       "Adult_Mortality                    -0.0170      0.001    -18.560      0.000      -0.019      -0.015\n",
       "HIV/AIDS                           -0.5402      0.023    -23.015      0.000      -0.586      -0.494\n",
       "BMI                                 0.0494      0.005      9.616      0.000       0.039       0.059\n",
       "Diphtheria                          0.0255      0.005      5.109      0.000       0.016       0.035\n",
       "Polio                               0.0224      0.005      4.489      0.000       0.013       0.032\n",
       "GDP                              2.488e-05   1.13e-05      2.197      0.028    2.67e-06    4.71e-05\n",
       "percentage_expenditure              0.0003    7.6e-05      3.392      0.001       0.000       0.000\n",
       "under_five_deaths                  -0.0674      0.006    -10.694      0.000      -0.080      -0.055\n",
       "infant_deaths                       0.0887      0.009     10.399      0.000       0.072       0.105\n",
       "Year                               -0.0564      0.019     -3.036      0.002      -0.093      -0.020\n",
       "==============================================================================\n",
       "Omnibus:                      158.909   Durbin-Watson:                   1.962\n",
       "Prob(Omnibus):                  0.000   Jarque-Bera (JB):              748.807\n",
       "Skew:                           0.111   Prob(JB):                    2.50e-163\n",
       "Kurtosis:                       5.811   Cond. No.                     7.39e+06\n",
       "==============================================================================\n",
       "\n",
       "Warnings:\n",
       "[1] Standard Errors assume that the covariance matrix of the errors is correctly specified.\n",
       "[2] The condition number is large, 7.39e+06. This might indicate that there are\n",
       "strong multicollinearity or other numerical problems.\n",
       "\"\"\""
      ]
     },
     "execution_count": 38,
     "metadata": {},
     "output_type": "execute_result"
    }
   ],
   "source": [
    "X_train = sm.add_constant(X_train)\n",
    "\n",
    "anlamli_12degiskenli_model = sm.OLS(y_train, X_train).fit()\n",
    "anlamli_12degiskenli_model.summary()"
   ]
  },
  {
   "cell_type": "code",
   "execution_count": 39,
   "metadata": {},
   "outputs": [
    {
     "name": "stdout",
     "output_type": "stream",
     "text": [
      "0.8245554799847754\n",
      "0.830025511192831\n"
     ]
    }
   ],
   "source": [
    "print (tum_degiskenli_model.rsquared)\n",
    "print (anlamli_12degiskenli_model.rsquared) \n"
   ]
  },
  {
   "cell_type": "code",
   "execution_count": 40,
   "metadata": {},
   "outputs": [
    {
     "data": {
      "text/plain": [
       "const                             0.000\n",
       "Schooling                         0.000\n",
       "Income_composition_of_resources   0.000\n",
       "Adult_Mortality                   0.000\n",
       "HIV/AIDS                          0.000\n",
       "BMI                               0.000\n",
       "Diphtheria                        0.000\n",
       "Polio                             0.000\n",
       "GDP                               0.028\n",
       "percentage_expenditure            0.001\n",
       "under_five_deaths                 0.000\n",
       "infant_deaths                     0.000\n",
       "Year                              0.002\n",
       "dtype: float64"
      ]
     },
     "execution_count": 40,
     "metadata": {},
     "output_type": "execute_result"
    }
   ],
   "source": [
    "anlamli_12degiskenli_model.pvalues"
   ]
  },
  {
   "cell_type": "markdown",
   "metadata": {},
   "source": [
    "## ***A new model with 10 variables based on P values***"
   ]
  },
  {
   "cell_type": "code",
   "execution_count": 41,
   "metadata": {},
   "outputs": [
    {
     "data": {
      "text/plain": [
       "['const',\n",
       " 'Schooling',\n",
       " 'Income_composition_of_resources',\n",
       " 'Adult_Mortality',\n",
       " 'HIV/AIDS',\n",
       " 'BMI',\n",
       " 'Diphtheria',\n",
       " 'Polio',\n",
       " 'percentage_expenditure',\n",
       " 'under_five_deaths',\n",
       " 'infant_deaths']"
      ]
     },
     "execution_count": 41,
     "metadata": {},
     "output_type": "execute_result"
    }
   ],
   "source": [
    "pDegeri = anlamli_12degiskenli_model.pvalues\n",
    "anlamli_degerler = list(pDegeri[pDegeri<= 0.002].index)\n",
    "anlamli_degerler"
   ]
  },
  {
   "cell_type": "code",
   "execution_count": 42,
   "metadata": {},
   "outputs": [
    {
     "data": {
      "text/plain": [
       "10"
      ]
     },
     "execution_count": 42,
     "metadata": {},
     "output_type": "execute_result"
    }
   ],
   "source": [
    "len(anlamli_degerler[1:])"
   ]
  },
  {
   "cell_type": "code",
   "execution_count": 43,
   "metadata": {},
   "outputs": [],
   "source": [
    "X_arttirilmis_anlamli = LifeExpectancyData_num[anlamli_degerler[1:]]"
   ]
  },
  {
   "cell_type": "code",
   "execution_count": 44,
   "metadata": {},
   "outputs": [
    {
     "name": "stdout",
     "output_type": "stream",
     "text": [
      "Eğitim kümesindeki gözlem sayısı : 2260\n",
      "Test kümesindeki gözlem sayısı   : 566\n"
     ]
    }
   ],
   "source": [
    "X_train, X_test, y_train, y_test = train_test_split(X_arttirilmis_anlamli, y_anlamli, test_size = 0.2, random_state = 500)\n",
    "\n",
    "print(\"Eğitim kümesindeki gözlem sayısı : {}\".format(X_train.shape[0]))\n",
    "print(\"Test kümesindeki gözlem sayısı   : {}\".format(X_test.shape[0]))"
   ]
  },
  {
   "cell_type": "code",
   "execution_count": 45,
   "metadata": {},
   "outputs": [
    {
     "data": {
      "text/html": [
       "<table class=\"simpletable\">\n",
       "<caption>OLS Regression Results</caption>\n",
       "<tr>\n",
       "  <th>Dep. Variable:</th>     <td>Life_Expectancy</td> <th>  R-squared:         </th> <td>   0.981</td> \n",
       "</tr>\n",
       "<tr>\n",
       "  <th>Model:</th>                   <td>OLS</td>       <th>  Adj. R-squared:    </th> <td>   0.981</td> \n",
       "</tr>\n",
       "<tr>\n",
       "  <th>Method:</th>             <td>Least Squares</td>  <th>  F-statistic:       </th> <td>1.491e+04</td>\n",
       "</tr>\n",
       "<tr>\n",
       "  <th>Date:</th>             <td>Sun, 05 May 2019</td> <th>  Prob (F-statistic):</th>  <td>  0.00</td>  \n",
       "</tr>\n",
       "<tr>\n",
       "  <th>Time:</th>                 <td>22:31:37</td>     <th>  Log-Likelihood:    </th> <td> -10382.</td> \n",
       "</tr>\n",
       "<tr>\n",
       "  <th>No. Observations:</th>      <td>  2826</td>      <th>  AIC:               </th> <td>2.078e+04</td>\n",
       "</tr>\n",
       "<tr>\n",
       "  <th>Df Residuals:</th>          <td>  2816</td>      <th>  BIC:               </th> <td>2.084e+04</td>\n",
       "</tr>\n",
       "<tr>\n",
       "  <th>Df Model:</th>              <td>    10</td>      <th>                     </th>     <td> </td>    \n",
       "</tr>\n",
       "<tr>\n",
       "  <th>Covariance Type:</th>      <td>nonrobust</td>    <th>                     </th>     <td> </td>    \n",
       "</tr>\n",
       "</table>\n",
       "<table class=\"simpletable\">\n",
       "<tr>\n",
       "                 <td></td>                    <th>coef</th>     <th>std err</th>      <th>t</th>      <th>P>|t|</th>  <th>[0.025</th>    <th>0.975]</th>  \n",
       "</tr>\n",
       "<tr>\n",
       "  <th>Schooling</th>                       <td>    2.2916</td> <td>    0.092</td> <td>   25.032</td> <td> 0.000</td> <td>    2.112</td> <td>    2.471</td>\n",
       "</tr>\n",
       "<tr>\n",
       "  <th>Income_composition_of_resources</th> <td>   15.7979</td> <td>    1.516</td> <td>   10.419</td> <td> 0.000</td> <td>   12.825</td> <td>   18.771</td>\n",
       "</tr>\n",
       "<tr>\n",
       "  <th>Adult_Mortality</th>                 <td>    0.0353</td> <td>    0.002</td> <td>   21.161</td> <td> 0.000</td> <td>    0.032</td> <td>    0.039</td>\n",
       "</tr>\n",
       "<tr>\n",
       "  <th>HIV/AIDS</th>                        <td>   -0.7103</td> <td>    0.050</td> <td>  -14.126</td> <td> 0.000</td> <td>   -0.809</td> <td>   -0.612</td>\n",
       "</tr>\n",
       "<tr>\n",
       "  <th>BMI</th>                             <td>    0.0973</td> <td>    0.011</td> <td>    8.836</td> <td> 0.000</td> <td>    0.076</td> <td>    0.119</td>\n",
       "</tr>\n",
       "<tr>\n",
       "  <th>Diphtheria</th>                      <td>    0.1276</td> <td>    0.011</td> <td>   11.871</td> <td> 0.000</td> <td>    0.106</td> <td>    0.149</td>\n",
       "</tr>\n",
       "<tr>\n",
       "  <th>Polio</th>                           <td>    0.1360</td> <td>    0.011</td> <td>   12.951</td> <td> 0.000</td> <td>    0.115</td> <td>    0.157</td>\n",
       "</tr>\n",
       "<tr>\n",
       "  <th>percentage_expenditure</th>          <td>   -0.0002</td> <td> 9.65e-05</td> <td>   -2.199</td> <td> 0.028</td> <td>   -0.000</td> <td> -2.3e-05</td>\n",
       "</tr>\n",
       "<tr>\n",
       "  <th>under_five_deaths</th>               <td>    0.0641</td> <td>    0.014</td> <td>    4.584</td> <td> 0.000</td> <td>    0.037</td> <td>    0.091</td>\n",
       "</tr>\n",
       "<tr>\n",
       "  <th>infant_deaths</th>                   <td>   -0.0718</td> <td>    0.019</td> <td>   -3.782</td> <td> 0.000</td> <td>   -0.109</td> <td>   -0.035</td>\n",
       "</tr>\n",
       "</table>\n",
       "<table class=\"simpletable\">\n",
       "<tr>\n",
       "  <th>Omnibus:</th>       <td>544.002</td> <th>  Durbin-Watson:     </th> <td>   0.662</td>\n",
       "</tr>\n",
       "<tr>\n",
       "  <th>Prob(Omnibus):</th> <td> 0.000</td>  <th>  Jarque-Bera (JB):  </th> <td>1685.773</td>\n",
       "</tr>\n",
       "<tr>\n",
       "  <th>Skew:</th>          <td> 0.976</td>  <th>  Prob(JB):          </th> <td>    0.00</td>\n",
       "</tr>\n",
       "<tr>\n",
       "  <th>Kurtosis:</th>      <td> 6.242</td>  <th>  Cond. No.          </th> <td>1.83e+04</td>\n",
       "</tr>\n",
       "</table><br/><br/>Warnings:<br/>[1] Standard Errors assume that the covariance matrix of the errors is correctly specified.<br/>[2] The condition number is large, 1.83e+04. This might indicate that there are<br/>strong multicollinearity or other numerical problems."
      ],
      "text/plain": [
       "<class 'statsmodels.iolib.summary.Summary'>\n",
       "\"\"\"\n",
       "                            OLS Regression Results                            \n",
       "==============================================================================\n",
       "Dep. Variable:        Life_Expectancy   R-squared:                       0.981\n",
       "Model:                            OLS   Adj. R-squared:                  0.981\n",
       "Method:                 Least Squares   F-statistic:                 1.491e+04\n",
       "Date:                Sun, 05 May 2019   Prob (F-statistic):               0.00\n",
       "Time:                        22:31:37   Log-Likelihood:                -10382.\n",
       "No. Observations:                2826   AIC:                         2.078e+04\n",
       "Df Residuals:                    2816   BIC:                         2.084e+04\n",
       "Df Model:                          10                                         \n",
       "Covariance Type:            nonrobust                                         \n",
       "===================================================================================================\n",
       "                                      coef    std err          t      P>|t|      [0.025      0.975]\n",
       "---------------------------------------------------------------------------------------------------\n",
       "Schooling                           2.2916      0.092     25.032      0.000       2.112       2.471\n",
       "Income_composition_of_resources    15.7979      1.516     10.419      0.000      12.825      18.771\n",
       "Adult_Mortality                     0.0353      0.002     21.161      0.000       0.032       0.039\n",
       "HIV/AIDS                           -0.7103      0.050    -14.126      0.000      -0.809      -0.612\n",
       "BMI                                 0.0973      0.011      8.836      0.000       0.076       0.119\n",
       "Diphtheria                          0.1276      0.011     11.871      0.000       0.106       0.149\n",
       "Polio                               0.1360      0.011     12.951      0.000       0.115       0.157\n",
       "percentage_expenditure             -0.0002   9.65e-05     -2.199      0.028      -0.000    -2.3e-05\n",
       "under_five_deaths                   0.0641      0.014      4.584      0.000       0.037       0.091\n",
       "infant_deaths                      -0.0718      0.019     -3.782      0.000      -0.109      -0.035\n",
       "==============================================================================\n",
       "Omnibus:                      544.002   Durbin-Watson:                   0.662\n",
       "Prob(Omnibus):                  0.000   Jarque-Bera (JB):             1685.773\n",
       "Skew:                           0.976   Prob(JB):                         0.00\n",
       "Kurtosis:                       6.242   Cond. No.                     1.83e+04\n",
       "==============================================================================\n",
       "\n",
       "Warnings:\n",
       "[1] Standard Errors assume that the covariance matrix of the errors is correctly specified.\n",
       "[2] The condition number is large, 1.83e+04. This might indicate that there are\n",
       "strong multicollinearity or other numerical problems.\n",
       "\"\"\""
      ]
     },
     "execution_count": 45,
     "metadata": {},
     "output_type": "execute_result"
    }
   ],
   "source": [
    "X_artilirmis_anlamli = sm.add_constant(X_arttirilmis_anlamli)\n",
    "\n",
    "anlamli_10degiskenli_model = sm.OLS(y_anlamli, X_arttirilmis_anlamli).fit()\n",
    "\n",
    "anlamli_10degiskenli_model.summary()"
   ]
  },
  {
   "cell_type": "code",
   "execution_count": 46,
   "metadata": {},
   "outputs": [
    {
     "name": "stdout",
     "output_type": "stream",
     "text": [
      "0.8245554799847754\n",
      "0.830025511192831\n",
      "0.981467581192156\n"
     ]
    }
   ],
   "source": [
    "print (tum_degiskenli_model.rsquared)\n",
    "print (anlamli_12degiskenli_model.rsquared)\n",
    "print (anlamli_10degiskenli_model.rsquared)\n"
   ]
  },
  {
   "cell_type": "code",
   "execution_count": 47,
   "metadata": {},
   "outputs": [
    {
     "data": {
      "text/plain": [
       "Schooling                         0.000\n",
       "Income_composition_of_resources   0.000\n",
       "Adult_Mortality                   0.000\n",
       "HIV/AIDS                          0.000\n",
       "BMI                               0.000\n",
       "Diphtheria                        0.000\n",
       "Polio                             0.000\n",
       "percentage_expenditure            0.028\n",
       "under_five_deaths                 0.000\n",
       "infant_deaths                     0.000\n",
       "dtype: float64"
      ]
     },
     "execution_count": 47,
     "metadata": {},
     "output_type": "execute_result"
    }
   ],
   "source": [
    "anlamli_10degiskenli_model.pvalues"
   ]
  },
  {
   "cell_type": "markdown",
   "metadata": {},
   "source": [
    "## ***A new model with 9 variables based on P values***"
   ]
  },
  {
   "cell_type": "code",
   "execution_count": 77,
   "metadata": {},
   "outputs": [
    {
     "data": {
      "text/plain": [
       "['Schooling',\n",
       " 'Income_composition_of_resources',\n",
       " 'Adult_Mortality',\n",
       " 'HIV/AIDS',\n",
       " 'BMI',\n",
       " 'Diphtheria',\n",
       " 'Polio',\n",
       " 'under_five_deaths',\n",
       " 'infant_deaths']"
      ]
     },
     "execution_count": 77,
     "metadata": {},
     "output_type": "execute_result"
    }
   ],
   "source": [
    "pDegeri = anlamli_10degiskenli_model.pvalues\n",
    "anlamli_degerler = list(pDegeri[pDegeri<= 0.002].index)\n",
    "anlamli_degerler"
   ]
  },
  {
   "cell_type": "code",
   "execution_count": 78,
   "metadata": {},
   "outputs": [
    {
     "data": {
      "text/plain": [
       "9"
      ]
     },
     "execution_count": 78,
     "metadata": {},
     "output_type": "execute_result"
    }
   ],
   "source": [
    "len(anlamli_degerler)"
   ]
  },
  {
   "cell_type": "code",
   "execution_count": 79,
   "metadata": {},
   "outputs": [],
   "source": [
    "X_9degiskenli_anlamli = LifeExpectancyData_num[anlamli_degerler]"
   ]
  },
  {
   "cell_type": "code",
   "execution_count": 80,
   "metadata": {},
   "outputs": [
    {
     "name": "stdout",
     "output_type": "stream",
     "text": [
      "Eğitim kümesindeki gözlem sayısı : 2260\n",
      "Test kümesindeki gözlem sayısı   : 566\n"
     ]
    }
   ],
   "source": [
    "X_train, X_test, y_train, y_test = train_test_split(X_9degiskenli_anlamli, y_anlamli, test_size = 0.2, random_state = 500)\n",
    "\n",
    "print(\"Eğitim kümesindeki gözlem sayısı : {}\".format(X_train.shape[0]))\n",
    "print(\"Test kümesindeki gözlem sayısı   : {}\".format(X_test.shape[0]))"
   ]
  },
  {
   "cell_type": "code",
   "execution_count": 81,
   "metadata": {},
   "outputs": [
    {
     "data": {
      "text/html": [
       "<table class=\"simpletable\">\n",
       "<caption>OLS Regression Results</caption>\n",
       "<tr>\n",
       "  <th>Dep. Variable:</th>     <td>Life_Expectancy</td> <th>  R-squared:         </th> <td>   0.982</td> \n",
       "</tr>\n",
       "<tr>\n",
       "  <th>Model:</th>                   <td>OLS</td>       <th>  Adj. R-squared:    </th> <td>   0.982</td> \n",
       "</tr>\n",
       "<tr>\n",
       "  <th>Method:</th>             <td>Least Squares</td>  <th>  F-statistic:       </th> <td>1.367e+04</td>\n",
       "</tr>\n",
       "<tr>\n",
       "  <th>Date:</th>             <td>Sun, 05 May 2019</td> <th>  Prob (F-statistic):</th>  <td>  0.00</td>  \n",
       "</tr>\n",
       "<tr>\n",
       "  <th>Time:</th>                 <td>22:36:17</td>     <th>  Log-Likelihood:    </th> <td> -8270.1</td> \n",
       "</tr>\n",
       "<tr>\n",
       "  <th>No. Observations:</th>      <td>  2260</td>      <th>  AIC:               </th> <td>1.656e+04</td>\n",
       "</tr>\n",
       "<tr>\n",
       "  <th>Df Residuals:</th>          <td>  2251</td>      <th>  BIC:               </th> <td>1.661e+04</td>\n",
       "</tr>\n",
       "<tr>\n",
       "  <th>Df Model:</th>              <td>     9</td>      <th>                     </th>     <td> </td>    \n",
       "</tr>\n",
       "<tr>\n",
       "  <th>Covariance Type:</th>      <td>nonrobust</td>    <th>                     </th>     <td> </td>    \n",
       "</tr>\n",
       "</table>\n",
       "<table class=\"simpletable\">\n",
       "<tr>\n",
       "                 <td></td>                    <th>coef</th>     <th>std err</th>      <th>t</th>      <th>P>|t|</th>  <th>[0.025</th>    <th>0.975]</th>  \n",
       "</tr>\n",
       "<tr>\n",
       "  <th>Schooling</th>                       <td>    2.3001</td> <td>    0.100</td> <td>   23.007</td> <td> 0.000</td> <td>    2.104</td> <td>    2.496</td>\n",
       "</tr>\n",
       "<tr>\n",
       "  <th>Income_composition_of_resources</th> <td>   13.5527</td> <td>    1.639</td> <td>    8.271</td> <td> 0.000</td> <td>   10.339</td> <td>   16.766</td>\n",
       "</tr>\n",
       "<tr>\n",
       "  <th>Adult_Mortality</th>                 <td>    0.0348</td> <td>    0.002</td> <td>   19.137</td> <td> 0.000</td> <td>    0.031</td> <td>    0.038</td>\n",
       "</tr>\n",
       "<tr>\n",
       "  <th>HIV/AIDS</th>                        <td>   -0.7089</td> <td>    0.056</td> <td>  -12.600</td> <td> 0.000</td> <td>   -0.819</td> <td>   -0.599</td>\n",
       "</tr>\n",
       "<tr>\n",
       "  <th>BMI</th>                             <td>    0.0989</td> <td>    0.012</td> <td>    7.984</td> <td> 0.000</td> <td>    0.075</td> <td>    0.123</td>\n",
       "</tr>\n",
       "<tr>\n",
       "  <th>Diphtheria</th>                      <td>    0.1302</td> <td>    0.012</td> <td>   11.032</td> <td> 0.000</td> <td>    0.107</td> <td>    0.153</td>\n",
       "</tr>\n",
       "<tr>\n",
       "  <th>Polio</th>                           <td>    0.1470</td> <td>    0.012</td> <td>   12.562</td> <td> 0.000</td> <td>    0.124</td> <td>    0.170</td>\n",
       "</tr>\n",
       "<tr>\n",
       "  <th>under_five_deaths</th>               <td>    0.0609</td> <td>    0.015</td> <td>    4.064</td> <td> 0.000</td> <td>    0.032</td> <td>    0.090</td>\n",
       "</tr>\n",
       "<tr>\n",
       "  <th>infant_deaths</th>                   <td>   -0.0666</td> <td>    0.020</td> <td>   -3.274</td> <td> 0.001</td> <td>   -0.107</td> <td>   -0.027</td>\n",
       "</tr>\n",
       "</table>\n",
       "<table class=\"simpletable\">\n",
       "<tr>\n",
       "  <th>Omnibus:</th>       <td>409.481</td> <th>  Durbin-Watson:     </th> <td>   1.943</td> \n",
       "</tr>\n",
       "<tr>\n",
       "  <th>Prob(Omnibus):</th> <td> 0.000</td>  <th>  Jarque-Bera (JB):  </th> <td>1252.425</td> \n",
       "</tr>\n",
       "<tr>\n",
       "  <th>Skew:</th>          <td> 0.920</td>  <th>  Prob(JB):          </th> <td>1.10e-272</td>\n",
       "</tr>\n",
       "<tr>\n",
       "  <th>Kurtosis:</th>      <td> 6.149</td>  <th>  Cond. No.          </th> <td>2.00e+03</td> \n",
       "</tr>\n",
       "</table><br/><br/>Warnings:<br/>[1] Standard Errors assume that the covariance matrix of the errors is correctly specified.<br/>[2] The condition number is large,  2e+03. This might indicate that there are<br/>strong multicollinearity or other numerical problems."
      ],
      "text/plain": [
       "<class 'statsmodels.iolib.summary.Summary'>\n",
       "\"\"\"\n",
       "                            OLS Regression Results                            \n",
       "==============================================================================\n",
       "Dep. Variable:        Life_Expectancy   R-squared:                       0.982\n",
       "Model:                            OLS   Adj. R-squared:                  0.982\n",
       "Method:                 Least Squares   F-statistic:                 1.367e+04\n",
       "Date:                Sun, 05 May 2019   Prob (F-statistic):               0.00\n",
       "Time:                        22:36:17   Log-Likelihood:                -8270.1\n",
       "No. Observations:                2260   AIC:                         1.656e+04\n",
       "Df Residuals:                    2251   BIC:                         1.661e+04\n",
       "Df Model:                           9                                         \n",
       "Covariance Type:            nonrobust                                         \n",
       "===================================================================================================\n",
       "                                      coef    std err          t      P>|t|      [0.025      0.975]\n",
       "---------------------------------------------------------------------------------------------------\n",
       "Schooling                           2.3001      0.100     23.007      0.000       2.104       2.496\n",
       "Income_composition_of_resources    13.5527      1.639      8.271      0.000      10.339      16.766\n",
       "Adult_Mortality                     0.0348      0.002     19.137      0.000       0.031       0.038\n",
       "HIV/AIDS                           -0.7089      0.056    -12.600      0.000      -0.819      -0.599\n",
       "BMI                                 0.0989      0.012      7.984      0.000       0.075       0.123\n",
       "Diphtheria                          0.1302      0.012     11.032      0.000       0.107       0.153\n",
       "Polio                               0.1470      0.012     12.562      0.000       0.124       0.170\n",
       "under_five_deaths                   0.0609      0.015      4.064      0.000       0.032       0.090\n",
       "infant_deaths                      -0.0666      0.020     -3.274      0.001      -0.107      -0.027\n",
       "==============================================================================\n",
       "Omnibus:                      409.481   Durbin-Watson:                   1.943\n",
       "Prob(Omnibus):                  0.000   Jarque-Bera (JB):             1252.425\n",
       "Skew:                           0.920   Prob(JB):                    1.10e-272\n",
       "Kurtosis:                       6.149   Cond. No.                     2.00e+03\n",
       "==============================================================================\n",
       "\n",
       "Warnings:\n",
       "[1] Standard Errors assume that the covariance matrix of the errors is correctly specified.\n",
       "[2] The condition number is large,  2e+03. This might indicate that there are\n",
       "strong multicollinearity or other numerical problems.\n",
       "\"\"\""
      ]
     },
     "execution_count": 81,
     "metadata": {},
     "output_type": "execute_result"
    }
   ],
   "source": [
    "X_9degiskenli_anlamli = sm.add_constant(X_train)\n",
    "\n",
    "anlamli_9degiskenli_model = sm.OLS(y_train, X_train).fit()\n",
    "\n",
    "anlamli_9degiskenli_model.summary()"
   ]
  },
  {
   "cell_type": "code",
   "execution_count": 82,
   "metadata": {},
   "outputs": [
    {
     "name": "stdout",
     "output_type": "stream",
     "text": [
      "0.8245554799847754\n",
      "0.830025511192831\n",
      "0.981467581192156\n",
      "0.982036539178629\n"
     ]
    }
   ],
   "source": [
    "print (tum_degiskenli_model.rsquared)\n",
    "print (anlamli_12degiskenli_model.rsquared)\n",
    "print (anlamli_10degiskenli_model.rsquared)\n",
    "print (anlamli_9degiskenli_model.rsquared)"
   ]
  },
  {
   "cell_type": "code",
   "execution_count": 83,
   "metadata": {},
   "outputs": [
    {
     "data": {
      "text/html": [
       "<div>\n",
       "<style scoped>\n",
       "    .dataframe tbody tr th:only-of-type {\n",
       "        vertical-align: middle;\n",
       "    }\n",
       "\n",
       "    .dataframe tbody tr th {\n",
       "        vertical-align: top;\n",
       "    }\n",
       "\n",
       "    .dataframe thead th {\n",
       "        text-align: right;\n",
       "    }\n",
       "</style>\n",
       "<table border=\"1\" class=\"dataframe\">\n",
       "  <thead>\n",
       "    <tr style=\"text-align: right;\">\n",
       "      <th></th>\n",
       "      <th>const</th>\n",
       "      <th>Schooling</th>\n",
       "      <th>Income_composition_of_resources</th>\n",
       "      <th>Adult_Mortality</th>\n",
       "      <th>HIV/AIDS</th>\n",
       "      <th>BMI</th>\n",
       "      <th>Diphtheria</th>\n",
       "      <th>Polio</th>\n",
       "      <th>under_five_deaths</th>\n",
       "      <th>infant_deaths</th>\n",
       "    </tr>\n",
       "  </thead>\n",
       "  <tbody>\n",
       "    <tr>\n",
       "      <th>2041</th>\n",
       "      <td>1.000</td>\n",
       "      <td>13.400</td>\n",
       "      <td>0.843</td>\n",
       "      <td>7.000</td>\n",
       "      <td>0.100</td>\n",
       "      <td>67.700</td>\n",
       "      <td>97.000</td>\n",
       "      <td>99.000</td>\n",
       "      <td>0</td>\n",
       "      <td>0</td>\n",
       "    </tr>\n",
       "    <tr>\n",
       "      <th>228</th>\n",
       "      <td>1.000</td>\n",
       "      <td>15.500</td>\n",
       "      <td>0.787</td>\n",
       "      <td>232.000</td>\n",
       "      <td>0.100</td>\n",
       "      <td>59.900</td>\n",
       "      <td>98.000</td>\n",
       "      <td>98.000</td>\n",
       "      <td>1</td>\n",
       "      <td>0</td>\n",
       "    </tr>\n",
       "    <tr>\n",
       "      <th>1069</th>\n",
       "      <td>1.000</td>\n",
       "      <td>7.700</td>\n",
       "      <td>0.000</td>\n",
       "      <td>38.000</td>\n",
       "      <td>5.000</td>\n",
       "      <td>19.600</td>\n",
       "      <td>64.000</td>\n",
       "      <td>69.000</td>\n",
       "      <td>8</td>\n",
       "      <td>5</td>\n",
       "    </tr>\n",
       "    <tr>\n",
       "      <th>1876</th>\n",
       "      <td>1.000</td>\n",
       "      <td>7.600</td>\n",
       "      <td>0.000</td>\n",
       "      <td>45.000</td>\n",
       "      <td>4.900</td>\n",
       "      <td>16.900</td>\n",
       "      <td>29.000</td>\n",
       "      <td>31.000</td>\n",
       "      <td>943</td>\n",
       "      <td>576</td>\n",
       "    </tr>\n",
       "    <tr>\n",
       "      <th>2274</th>\n",
       "      <td>1.000</td>\n",
       "      <td>14.300</td>\n",
       "      <td>0.793</td>\n",
       "      <td>138.000</td>\n",
       "      <td>0.100</td>\n",
       "      <td>53.700</td>\n",
       "      <td>99.000</td>\n",
       "      <td>99.000</td>\n",
       "      <td>0</td>\n",
       "      <td>0</td>\n",
       "    </tr>\n",
       "  </tbody>\n",
       "</table>\n",
       "</div>"
      ],
      "text/plain": [
       "      const  Schooling  Income_composition_of_resources  Adult_Mortality  \\\n",
       "2041  1.000     13.400                            0.843            7.000   \n",
       "228   1.000     15.500                            0.787          232.000   \n",
       "1069  1.000      7.700                            0.000           38.000   \n",
       "1876  1.000      7.600                            0.000           45.000   \n",
       "2274  1.000     14.300                            0.793          138.000   \n",
       "\n",
       "      HIV/AIDS    BMI  Diphtheria  Polio  under_five_deaths  infant_deaths  \n",
       "2041     0.100 67.700      97.000 99.000                  0              0  \n",
       "228      0.100 59.900      98.000 98.000                  1              0  \n",
       "1069     5.000 19.600      64.000 69.000                  8              5  \n",
       "1876     4.900 16.900      29.000 31.000                943            576  \n",
       "2274     0.100 53.700      99.000 99.000                  0              0  "
      ]
     },
     "execution_count": 83,
     "metadata": {},
     "output_type": "execute_result"
    }
   ],
   "source": [
    "X_9degiskenli_anlamli.head()"
   ]
  },
  {
   "cell_type": "markdown",
   "metadata": {},
   "source": [
    "## ***A new model with 8 variables based on P values***"
   ]
  },
  {
   "cell_type": "code",
   "execution_count": 84,
   "metadata": {},
   "outputs": [
    {
     "data": {
      "text/plain": [
       "Schooling                         0.000\n",
       "Income_composition_of_resources   0.000\n",
       "Adult_Mortality                   0.000\n",
       "HIV/AIDS                          0.000\n",
       "BMI                               0.000\n",
       "Diphtheria                        0.000\n",
       "Polio                             0.000\n",
       "under_five_deaths                 0.000\n",
       "infant_deaths                     0.001\n",
       "dtype: float64"
      ]
     },
     "execution_count": 84,
     "metadata": {},
     "output_type": "execute_result"
    }
   ],
   "source": [
    "anlamli_9degiskenli_model.pvalues"
   ]
  },
  {
   "cell_type": "code",
   "execution_count": 91,
   "metadata": {},
   "outputs": [
    {
     "data": {
      "text/plain": [
       "['Schooling',\n",
       " 'Income_composition_of_resources',\n",
       " 'Adult_Mortality',\n",
       " 'HIV/AIDS',\n",
       " 'BMI',\n",
       " 'Diphtheria',\n",
       " 'Polio',\n",
       " 'under_five_deaths']"
      ]
     },
     "execution_count": 91,
     "metadata": {},
     "output_type": "execute_result"
    }
   ],
   "source": [
    "pDegeri = anlamli_9degiskenli_model.pvalues\n",
    "anlamli_degerler = list(pDegeri[pDegeri<= 0.001].index)\n",
    "anlamli_degerler"
   ]
  },
  {
   "cell_type": "code",
   "execution_count": 92,
   "metadata": {},
   "outputs": [],
   "source": [
    "X_8degiskenli_anlamli = LifeExpectancyData_num[anlamli_degerler]"
   ]
  },
  {
   "cell_type": "code",
   "execution_count": 93,
   "metadata": {},
   "outputs": [
    {
     "name": "stdout",
     "output_type": "stream",
     "text": [
      "Eğitim kümesindeki gözlem sayısı : 2260\n",
      "Test kümesindeki gözlem sayısı   : 566\n"
     ]
    }
   ],
   "source": [
    "X_train, X_test, y_train, y_test = train_test_split(X_8degiskenli_anlamli, y_anlamli, test_size = 0.2, random_state = 500)\n",
    "\n",
    "print(\"Eğitim kümesindeki gözlem sayısı : {}\".format(X_train.shape[0]))\n",
    "print(\"Test kümesindeki gözlem sayısı   : {}\".format(X_test.shape[0]))"
   ]
  },
  {
   "cell_type": "code",
   "execution_count": 94,
   "metadata": {},
   "outputs": [
    {
     "data": {
      "text/html": [
       "<table class=\"simpletable\">\n",
       "<caption>OLS Regression Results</caption>\n",
       "<tr>\n",
       "  <th>Dep. Variable:</th>     <td>Life_Expectancy</td> <th>  R-squared:         </th> <td>   0.982</td> \n",
       "</tr>\n",
       "<tr>\n",
       "  <th>Model:</th>                   <td>OLS</td>       <th>  Adj. R-squared:    </th> <td>   0.982</td> \n",
       "</tr>\n",
       "<tr>\n",
       "  <th>Method:</th>             <td>Least Squares</td>  <th>  F-statistic:       </th> <td>1.531e+04</td>\n",
       "</tr>\n",
       "<tr>\n",
       "  <th>Date:</th>             <td>Sun, 05 May 2019</td> <th>  Prob (F-statistic):</th>  <td>  0.00</td>  \n",
       "</tr>\n",
       "<tr>\n",
       "  <th>Time:</th>                 <td>22:38:32</td>     <th>  Log-Likelihood:    </th> <td> -8275.5</td> \n",
       "</tr>\n",
       "<tr>\n",
       "  <th>No. Observations:</th>      <td>  2260</td>      <th>  AIC:               </th> <td>1.657e+04</td>\n",
       "</tr>\n",
       "<tr>\n",
       "  <th>Df Residuals:</th>          <td>  2252</td>      <th>  BIC:               </th> <td>1.661e+04</td>\n",
       "</tr>\n",
       "<tr>\n",
       "  <th>Df Model:</th>              <td>     8</td>      <th>                     </th>     <td> </td>    \n",
       "</tr>\n",
       "<tr>\n",
       "  <th>Covariance Type:</th>      <td>nonrobust</td>    <th>                     </th>     <td> </td>    \n",
       "</tr>\n",
       "</table>\n",
       "<table class=\"simpletable\">\n",
       "<tr>\n",
       "                 <td></td>                    <th>coef</th>     <th>std err</th>      <th>t</th>      <th>P>|t|</th>  <th>[0.025</th>    <th>0.975]</th>  \n",
       "</tr>\n",
       "<tr>\n",
       "  <th>Schooling</th>                       <td>    2.3240</td> <td>    0.100</td> <td>   23.259</td> <td> 0.000</td> <td>    2.128</td> <td>    2.520</td>\n",
       "</tr>\n",
       "<tr>\n",
       "  <th>Income_composition_of_resources</th> <td>   13.2011</td> <td>    1.639</td> <td>    8.056</td> <td> 0.000</td> <td>    9.988</td> <td>   16.414</td>\n",
       "</tr>\n",
       "<tr>\n",
       "  <th>Adult_Mortality</th>                 <td>    0.0357</td> <td>    0.002</td> <td>   19.735</td> <td> 0.000</td> <td>    0.032</td> <td>    0.039</td>\n",
       "</tr>\n",
       "<tr>\n",
       "  <th>HIV/AIDS</th>                        <td>   -0.6956</td> <td>    0.056</td> <td>  -12.368</td> <td> 0.000</td> <td>   -0.806</td> <td>   -0.585</td>\n",
       "</tr>\n",
       "<tr>\n",
       "  <th>BMI</th>                             <td>    0.1002</td> <td>    0.012</td> <td>    8.079</td> <td> 0.000</td> <td>    0.076</td> <td>    0.125</td>\n",
       "</tr>\n",
       "<tr>\n",
       "  <th>Diphtheria</th>                      <td>    0.1279</td> <td>    0.012</td> <td>   10.827</td> <td> 0.000</td> <td>    0.105</td> <td>    0.151</td>\n",
       "</tr>\n",
       "<tr>\n",
       "  <th>Polio</th>                           <td>    0.1463</td> <td>    0.012</td> <td>   12.475</td> <td> 0.000</td> <td>    0.123</td> <td>    0.169</td>\n",
       "</tr>\n",
       "<tr>\n",
       "  <th>under_five_deaths</th>               <td>    0.0120</td> <td>    0.001</td> <td>    9.479</td> <td> 0.000</td> <td>    0.010</td> <td>    0.015</td>\n",
       "</tr>\n",
       "</table>\n",
       "<table class=\"simpletable\">\n",
       "<tr>\n",
       "  <th>Omnibus:</th>       <td>404.814</td> <th>  Durbin-Watson:     </th> <td>   1.951</td> \n",
       "</tr>\n",
       "<tr>\n",
       "  <th>Prob(Omnibus):</th> <td> 0.000</td>  <th>  Jarque-Bera (JB):  </th> <td>1217.213</td> \n",
       "</tr>\n",
       "<tr>\n",
       "  <th>Skew:</th>          <td> 0.915</td>  <th>  Prob(JB):          </th> <td>4.85e-265</td>\n",
       "</tr>\n",
       "<tr>\n",
       "  <th>Kurtosis:</th>      <td> 6.094</td>  <th>  Cond. No.          </th> <td>1.92e+03</td> \n",
       "</tr>\n",
       "</table><br/><br/>Warnings:<br/>[1] Standard Errors assume that the covariance matrix of the errors is correctly specified.<br/>[2] The condition number is large, 1.92e+03. This might indicate that there are<br/>strong multicollinearity or other numerical problems."
      ],
      "text/plain": [
       "<class 'statsmodels.iolib.summary.Summary'>\n",
       "\"\"\"\n",
       "                            OLS Regression Results                            \n",
       "==============================================================================\n",
       "Dep. Variable:        Life_Expectancy   R-squared:                       0.982\n",
       "Model:                            OLS   Adj. R-squared:                  0.982\n",
       "Method:                 Least Squares   F-statistic:                 1.531e+04\n",
       "Date:                Sun, 05 May 2019   Prob (F-statistic):               0.00\n",
       "Time:                        22:38:32   Log-Likelihood:                -8275.5\n",
       "No. Observations:                2260   AIC:                         1.657e+04\n",
       "Df Residuals:                    2252   BIC:                         1.661e+04\n",
       "Df Model:                           8                                         \n",
       "Covariance Type:            nonrobust                                         \n",
       "===================================================================================================\n",
       "                                      coef    std err          t      P>|t|      [0.025      0.975]\n",
       "---------------------------------------------------------------------------------------------------\n",
       "Schooling                           2.3240      0.100     23.259      0.000       2.128       2.520\n",
       "Income_composition_of_resources    13.2011      1.639      8.056      0.000       9.988      16.414\n",
       "Adult_Mortality                     0.0357      0.002     19.735      0.000       0.032       0.039\n",
       "HIV/AIDS                           -0.6956      0.056    -12.368      0.000      -0.806      -0.585\n",
       "BMI                                 0.1002      0.012      8.079      0.000       0.076       0.125\n",
       "Diphtheria                          0.1279      0.012     10.827      0.000       0.105       0.151\n",
       "Polio                               0.1463      0.012     12.475      0.000       0.123       0.169\n",
       "under_five_deaths                   0.0120      0.001      9.479      0.000       0.010       0.015\n",
       "==============================================================================\n",
       "Omnibus:                      404.814   Durbin-Watson:                   1.951\n",
       "Prob(Omnibus):                  0.000   Jarque-Bera (JB):             1217.213\n",
       "Skew:                           0.915   Prob(JB):                    4.85e-265\n",
       "Kurtosis:                       6.094   Cond. No.                     1.92e+03\n",
       "==============================================================================\n",
       "\n",
       "Warnings:\n",
       "[1] Standard Errors assume that the covariance matrix of the errors is correctly specified.\n",
       "[2] The condition number is large, 1.92e+03. This might indicate that there are\n",
       "strong multicollinearity or other numerical problems.\n",
       "\"\"\""
      ]
     },
     "execution_count": 94,
     "metadata": {},
     "output_type": "execute_result"
    }
   ],
   "source": [
    "X_8degiskenli_anlamli = sm.add_constant(X_train)\n",
    "\n",
    "anlamli_8degiskenli_model = sm.OLS(y_train, X_train).fit()\n",
    "\n",
    "anlamli_8degiskenli_model.summary()"
   ]
  },
  {
   "cell_type": "code",
   "execution_count": 95,
   "metadata": {},
   "outputs": [
    {
     "name": "stdout",
     "output_type": "stream",
     "text": [
      "0.8245554799847754\n",
      "0.830025511192831\n",
      "0.981467581192156\n",
      "0.982036539178629\n",
      "0.9819510218455085\n"
     ]
    }
   ],
   "source": [
    "print (tum_degiskenli_model.rsquared)\n",
    "print (anlamli_12degiskenli_model.rsquared)\n",
    "print (anlamli_10degiskenli_model.rsquared)\n",
    "print (anlamli_9degiskenli_model.rsquared)\n",
    "print (anlamli_8degiskenli_model.rsquared)"
   ]
  },
  {
   "cell_type": "markdown",
   "metadata": {},
   "source": [
    "## ***A new model with 5 variables based on P values***"
   ]
  },
  {
   "cell_type": "code",
   "execution_count": 96,
   "metadata": {},
   "outputs": [
    {
     "data": {
      "text/plain": [
       "Schooling                         0.000\n",
       "Income_composition_of_resources   0.000\n",
       "Adult_Mortality                   0.000\n",
       "HIV/AIDS                          0.000\n",
       "BMI                               0.000\n",
       "Diphtheria                        0.000\n",
       "Polio                             0.000\n",
       "under_five_deaths                 0.000\n",
       "dtype: float64"
      ]
     },
     "execution_count": 96,
     "metadata": {},
     "output_type": "execute_result"
    }
   ],
   "source": [
    "anlamli_8degiskenli_model.pvalues"
   ]
  },
  {
   "cell_type": "code",
   "execution_count": 97,
   "metadata": {},
   "outputs": [],
   "source": [
    "X_5degiskenli_anlamli = LifeExpectancyData_num[anlamli_degerler[:5]]"
   ]
  },
  {
   "cell_type": "code",
   "execution_count": 99,
   "metadata": {},
   "outputs": [
    {
     "name": "stdout",
     "output_type": "stream",
     "text": [
      "Eğitim kümesindeki gözlem sayısı : 2260\n",
      "Test kümesindeki gözlem sayısı   : 566\n"
     ]
    }
   ],
   "source": [
    "X_train, X_test, y_train, y_test = train_test_split(X_5degiskenli_anlamli, y_anlamli, test_size = 0.2, random_state = 500)\n",
    "\n",
    "print(\"Eğitim kümesindeki gözlem sayısı : {}\".format(X_train.shape[0]))\n",
    "print(\"Test kümesindeki gözlem sayısı   : {}\".format(X_test.shape[0]))"
   ]
  },
  {
   "cell_type": "code",
   "execution_count": 100,
   "metadata": {},
   "outputs": [
    {
     "data": {
      "text/html": [
       "<table class=\"simpletable\">\n",
       "<caption>OLS Regression Results</caption>\n",
       "<tr>\n",
       "  <th>Dep. Variable:</th>     <td>Life_Expectancy</td> <th>  R-squared:         </th> <td>   0.974</td> \n",
       "</tr>\n",
       "<tr>\n",
       "  <th>Model:</th>                   <td>OLS</td>       <th>  Adj. R-squared:    </th> <td>   0.974</td> \n",
       "</tr>\n",
       "<tr>\n",
       "  <th>Method:</th>             <td>Least Squares</td>  <th>  F-statistic:       </th> <td>1.709e+04</td>\n",
       "</tr>\n",
       "<tr>\n",
       "  <th>Date:</th>             <td>Sun, 05 May 2019</td> <th>  Prob (F-statistic):</th>  <td>  0.00</td>  \n",
       "</tr>\n",
       "<tr>\n",
       "  <th>Time:</th>                 <td>22:39:09</td>     <th>  Log-Likelihood:    </th> <td> -8675.2</td> \n",
       "</tr>\n",
       "<tr>\n",
       "  <th>No. Observations:</th>      <td>  2260</td>      <th>  AIC:               </th> <td>1.736e+04</td>\n",
       "</tr>\n",
       "<tr>\n",
       "  <th>Df Residuals:</th>          <td>  2255</td>      <th>  BIC:               </th> <td>1.739e+04</td>\n",
       "</tr>\n",
       "<tr>\n",
       "  <th>Df Model:</th>              <td>     5</td>      <th>                     </th>     <td> </td>    \n",
       "</tr>\n",
       "<tr>\n",
       "  <th>Covariance Type:</th>      <td>nonrobust</td>    <th>                     </th>     <td> </td>    \n",
       "</tr>\n",
       "</table>\n",
       "<table class=\"simpletable\">\n",
       "<tr>\n",
       "                 <td></td>                    <th>coef</th>     <th>std err</th>      <th>t</th>      <th>P>|t|</th>  <th>[0.025</th>    <th>0.975]</th>  \n",
       "</tr>\n",
       "<tr>\n",
       "  <th>Schooling</th>                       <td>    3.4765</td> <td>    0.110</td> <td>   31.687</td> <td> 0.000</td> <td>    3.261</td> <td>    3.692</td>\n",
       "</tr>\n",
       "<tr>\n",
       "  <th>Income_composition_of_resources</th> <td>   21.8546</td> <td>    1.924</td> <td>   11.358</td> <td> 0.000</td> <td>   18.081</td> <td>   25.628</td>\n",
       "</tr>\n",
       "<tr>\n",
       "  <th>Adult_Mortality</th>                 <td>    0.0555</td> <td>    0.002</td> <td>   27.583</td> <td> 0.000</td> <td>    0.052</td> <td>    0.059</td>\n",
       "</tr>\n",
       "<tr>\n",
       "  <th>HIV/AIDS</th>                        <td>   -0.8977</td> <td>    0.067</td> <td>  -13.475</td> <td> 0.000</td> <td>   -1.028</td> <td>   -0.767</td>\n",
       "</tr>\n",
       "<tr>\n",
       "  <th>BMI</th>                             <td>    0.1064</td> <td>    0.015</td> <td>    7.266</td> <td> 0.000</td> <td>    0.078</td> <td>    0.135</td>\n",
       "</tr>\n",
       "</table>\n",
       "<table class=\"simpletable\">\n",
       "<tr>\n",
       "  <th>Omnibus:</th>       <td>432.927</td> <th>  Durbin-Watson:     </th> <td>   1.945</td>\n",
       "</tr>\n",
       "<tr>\n",
       "  <th>Prob(Omnibus):</th> <td> 0.000</td>  <th>  Jarque-Bera (JB):  </th> <td>1480.279</td>\n",
       "</tr>\n",
       "<tr>\n",
       "  <th>Skew:</th>          <td> 0.935</td>  <th>  Prob(JB):          </th> <td>    0.00</td>\n",
       "</tr>\n",
       "<tr>\n",
       "  <th>Kurtosis:</th>      <td> 6.496</td>  <th>  Cond. No.          </th> <td>1.67e+03</td>\n",
       "</tr>\n",
       "</table><br/><br/>Warnings:<br/>[1] Standard Errors assume that the covariance matrix of the errors is correctly specified.<br/>[2] The condition number is large, 1.67e+03. This might indicate that there are<br/>strong multicollinearity or other numerical problems."
      ],
      "text/plain": [
       "<class 'statsmodels.iolib.summary.Summary'>\n",
       "\"\"\"\n",
       "                            OLS Regression Results                            \n",
       "==============================================================================\n",
       "Dep. Variable:        Life_Expectancy   R-squared:                       0.974\n",
       "Model:                            OLS   Adj. R-squared:                  0.974\n",
       "Method:                 Least Squares   F-statistic:                 1.709e+04\n",
       "Date:                Sun, 05 May 2019   Prob (F-statistic):               0.00\n",
       "Time:                        22:39:09   Log-Likelihood:                -8675.2\n",
       "No. Observations:                2260   AIC:                         1.736e+04\n",
       "Df Residuals:                    2255   BIC:                         1.739e+04\n",
       "Df Model:                           5                                         \n",
       "Covariance Type:            nonrobust                                         \n",
       "===================================================================================================\n",
       "                                      coef    std err          t      P>|t|      [0.025      0.975]\n",
       "---------------------------------------------------------------------------------------------------\n",
       "Schooling                           3.4765      0.110     31.687      0.000       3.261       3.692\n",
       "Income_composition_of_resources    21.8546      1.924     11.358      0.000      18.081      25.628\n",
       "Adult_Mortality                     0.0555      0.002     27.583      0.000       0.052       0.059\n",
       "HIV/AIDS                           -0.8977      0.067    -13.475      0.000      -1.028      -0.767\n",
       "BMI                                 0.1064      0.015      7.266      0.000       0.078       0.135\n",
       "==============================================================================\n",
       "Omnibus:                      432.927   Durbin-Watson:                   1.945\n",
       "Prob(Omnibus):                  0.000   Jarque-Bera (JB):             1480.279\n",
       "Skew:                           0.935   Prob(JB):                         0.00\n",
       "Kurtosis:                       6.496   Cond. No.                     1.67e+03\n",
       "==============================================================================\n",
       "\n",
       "Warnings:\n",
       "[1] Standard Errors assume that the covariance matrix of the errors is correctly specified.\n",
       "[2] The condition number is large, 1.67e+03. This might indicate that there are\n",
       "strong multicollinearity or other numerical problems.\n",
       "\"\"\""
      ]
     },
     "execution_count": 100,
     "metadata": {},
     "output_type": "execute_result"
    }
   ],
   "source": [
    "X_5degiskenli_anlamli = sm.add_constant(X_train)\n",
    "\n",
    "anlamli_5degiskenli_model = sm.OLS(y_train, X_train).fit()\n",
    "\n",
    "anlamli_5degiskenli_model.summary()"
   ]
  },
  {
   "cell_type": "code",
   "execution_count": 106,
   "metadata": {},
   "outputs": [
    {
     "name": "stdout",
     "output_type": "stream",
     "text": [
      "0.8245554799847754\n",
      "0.830025511192831\n",
      "0.981467581192156\n",
      "0.982036539178629\n",
      "0.9819510218455085\n",
      "0.9742909425066556\n"
     ]
    }
   ],
   "source": [
    "print (tum_degiskenli_model.rsquared)\n",
    "print (anlamli_12degiskenli_model.rsquared)\n",
    "print (anlamli_10degiskenli_model.rsquared)\n",
    "print (anlamli_9degiskenli_model.rsquared)\n",
    "print (anlamli_8degiskenli_model.rsquared)\n",
    "print (anlamli_5degiskenli_model.rsquared)"
   ]
  },
  {
   "cell_type": "markdown",
   "metadata": {},
   "source": [
    "## ***A new model with  6 variables based on Correlations***"
   ]
  },
  {
   "cell_type": "code",
   "execution_count": 101,
   "metadata": {},
   "outputs": [],
   "source": [
    "X_corr_matrix_anlamli = LifeExpectancyData_num[['Adult_Mortality', 'HIV/AIDS', 'thinness_5_9_years', 'thinness_1_19_years','Income_composition_of_resources', 'Schooling']]"
   ]
  },
  {
   "cell_type": "code",
   "execution_count": 102,
   "metadata": {},
   "outputs": [
    {
     "name": "stdout",
     "output_type": "stream",
     "text": [
      "Eğitim kümesindeki gözlem sayısı : 2260\n",
      "Test kümesindeki gözlem sayısı   : 566\n"
     ]
    }
   ],
   "source": [
    "X_train, X_test, y_train, y_test = train_test_split(X_corr_matrix_anlamli, y_anlamli, test_size = 0.2, random_state = 500)\n",
    "\n",
    "print(\"Eğitim kümesindeki gözlem sayısı : {}\".format(X_train.shape[0]))\n",
    "print(\"Test kümesindeki gözlem sayısı   : {}\".format(X_test.shape[0]))"
   ]
  },
  {
   "cell_type": "code",
   "execution_count": 103,
   "metadata": {},
   "outputs": [
    {
     "data": {
      "text/html": [
       "<table class=\"simpletable\">\n",
       "<caption>OLS Regression Results</caption>\n",
       "<tr>\n",
       "  <th>Dep. Variable:</th>     <td>Life_Expectancy</td> <th>  R-squared:         </th> <td>   0.979</td> \n",
       "</tr>\n",
       "<tr>\n",
       "  <th>Model:</th>                   <td>OLS</td>       <th>  Adj. R-squared:    </th> <td>   0.979</td> \n",
       "</tr>\n",
       "<tr>\n",
       "  <th>Method:</th>             <td>Least Squares</td>  <th>  F-statistic:       </th> <td>1.718e+04</td>\n",
       "</tr>\n",
       "<tr>\n",
       "  <th>Date:</th>             <td>Sun, 05 May 2019</td> <th>  Prob (F-statistic):</th>  <td>  0.00</td>  \n",
       "</tr>\n",
       "<tr>\n",
       "  <th>Time:</th>                 <td>22:40:10</td>     <th>  Log-Likelihood:    </th> <td> -8467.9</td> \n",
       "</tr>\n",
       "<tr>\n",
       "  <th>No. Observations:</th>      <td>  2260</td>      <th>  AIC:               </th> <td>1.695e+04</td>\n",
       "</tr>\n",
       "<tr>\n",
       "  <th>Df Residuals:</th>          <td>  2254</td>      <th>  BIC:               </th> <td>1.698e+04</td>\n",
       "</tr>\n",
       "<tr>\n",
       "  <th>Df Model:</th>              <td>     6</td>      <th>                     </th>     <td> </td>    \n",
       "</tr>\n",
       "<tr>\n",
       "  <th>Covariance Type:</th>      <td>nonrobust</td>    <th>                     </th>     <td> </td>    \n",
       "</tr>\n",
       "</table>\n",
       "<table class=\"simpletable\">\n",
       "<tr>\n",
       "                 <td></td>                    <th>coef</th>     <th>std err</th>      <th>t</th>      <th>P>|t|</th>  <th>[0.025</th>    <th>0.975]</th>  \n",
       "</tr>\n",
       "<tr>\n",
       "  <th>Adult_Mortality</th>                 <td>    0.0351</td> <td>    0.002</td> <td>   17.268</td> <td> 0.000</td> <td>    0.031</td> <td>    0.039</td>\n",
       "</tr>\n",
       "<tr>\n",
       "  <th>HIV/AIDS</th>                        <td>   -0.9346</td> <td>    0.061</td> <td>  -15.435</td> <td> 0.000</td> <td>   -1.053</td> <td>   -0.816</td>\n",
       "</tr>\n",
       "<tr>\n",
       "  <th>thinness_5_9_years</th>              <td>    0.3125</td> <td>    0.135</td> <td>    2.320</td> <td> 0.020</td> <td>    0.048</td> <td>    0.577</td>\n",
       "</tr>\n",
       "<tr>\n",
       "  <th>thinness_1_19_years</th>             <td>    0.8039</td> <td>    0.137</td> <td>    5.867</td> <td> 0.000</td> <td>    0.535</td> <td>    1.073</td>\n",
       "</tr>\n",
       "<tr>\n",
       "  <th>Income_composition_of_resources</th> <td>   23.2187</td> <td>    1.736</td> <td>   13.371</td> <td> 0.000</td> <td>   19.813</td> <td>   26.624</td>\n",
       "</tr>\n",
       "<tr>\n",
       "  <th>Schooling</th>                       <td>    3.6174</td> <td>    0.095</td> <td>   37.958</td> <td> 0.000</td> <td>    3.430</td> <td>    3.804</td>\n",
       "</tr>\n",
       "</table>\n",
       "<table class=\"simpletable\">\n",
       "<tr>\n",
       "  <th>Omnibus:</th>       <td>774.313</td> <th>  Durbin-Watson:     </th> <td>   1.976</td>\n",
       "</tr>\n",
       "<tr>\n",
       "  <th>Prob(Omnibus):</th> <td> 0.000</td>  <th>  Jarque-Bera (JB):  </th> <td>5140.536</td>\n",
       "</tr>\n",
       "<tr>\n",
       "  <th>Skew:</th>          <td> 1.453</td>  <th>  Prob(JB):          </th> <td>    0.00</td>\n",
       "</tr>\n",
       "<tr>\n",
       "  <th>Kurtosis:</th>      <td> 9.793</td>  <th>  Cond. No.          </th> <td>1.64e+03</td>\n",
       "</tr>\n",
       "</table><br/><br/>Warnings:<br/>[1] Standard Errors assume that the covariance matrix of the errors is correctly specified.<br/>[2] The condition number is large, 1.64e+03. This might indicate that there are<br/>strong multicollinearity or other numerical problems."
      ],
      "text/plain": [
       "<class 'statsmodels.iolib.summary.Summary'>\n",
       "\"\"\"\n",
       "                            OLS Regression Results                            \n",
       "==============================================================================\n",
       "Dep. Variable:        Life_Expectancy   R-squared:                       0.979\n",
       "Model:                            OLS   Adj. R-squared:                  0.979\n",
       "Method:                 Least Squares   F-statistic:                 1.718e+04\n",
       "Date:                Sun, 05 May 2019   Prob (F-statistic):               0.00\n",
       "Time:                        22:40:10   Log-Likelihood:                -8467.9\n",
       "No. Observations:                2260   AIC:                         1.695e+04\n",
       "Df Residuals:                    2254   BIC:                         1.698e+04\n",
       "Df Model:                           6                                         \n",
       "Covariance Type:            nonrobust                                         \n",
       "===================================================================================================\n",
       "                                      coef    std err          t      P>|t|      [0.025      0.975]\n",
       "---------------------------------------------------------------------------------------------------\n",
       "Adult_Mortality                     0.0351      0.002     17.268      0.000       0.031       0.039\n",
       "HIV/AIDS                           -0.9346      0.061    -15.435      0.000      -1.053      -0.816\n",
       "thinness_5_9_years                  0.3125      0.135      2.320      0.020       0.048       0.577\n",
       "thinness_1_19_years                 0.8039      0.137      5.867      0.000       0.535       1.073\n",
       "Income_composition_of_resources    23.2187      1.736     13.371      0.000      19.813      26.624\n",
       "Schooling                           3.6174      0.095     37.958      0.000       3.430       3.804\n",
       "==============================================================================\n",
       "Omnibus:                      774.313   Durbin-Watson:                   1.976\n",
       "Prob(Omnibus):                  0.000   Jarque-Bera (JB):             5140.536\n",
       "Skew:                           1.453   Prob(JB):                         0.00\n",
       "Kurtosis:                       9.793   Cond. No.                     1.64e+03\n",
       "==============================================================================\n",
       "\n",
       "Warnings:\n",
       "[1] Standard Errors assume that the covariance matrix of the errors is correctly specified.\n",
       "[2] The condition number is large, 1.64e+03. This might indicate that there are\n",
       "strong multicollinearity or other numerical problems.\n",
       "\"\"\""
      ]
     },
     "execution_count": 103,
     "metadata": {},
     "output_type": "execute_result"
    }
   ],
   "source": [
    "X_corr_matrix_anlamli = sm.add_constant(X_train)\n",
    "\n",
    "anlamli_6degiskenli_model = sm.OLS(y_train, X_train).fit()\n",
    "\n",
    "anlamli_6degiskenli_model.summary()"
   ]
  },
  {
   "cell_type": "code",
   "execution_count": 105,
   "metadata": {},
   "outputs": [
    {
     "name": "stdout",
     "output_type": "stream",
     "text": [
      "0.8245554799847754\n",
      "0.830025511192831\n",
      "0.981467581192156\n",
      "0.982036539178629\n",
      "0.9819510218455085\n",
      "0.9742909425066556\n",
      "0.9786006719334515\n"
     ]
    }
   ],
   "source": [
    "print (tum_degiskenli_model.rsquared)\n",
    "print (anlamli_12degiskenli_model.rsquared)\n",
    "print (anlamli_10degiskenli_model.rsquared)\n",
    "print (anlamli_9degiskenli_model.rsquared)\n",
    "print (anlamli_8degiskenli_model.rsquared)\n",
    "print (anlamli_5degiskenli_model.rsquared)\n",
    "print (anlamli_6degiskenli_model.rsquared)"
   ]
  },
  {
   "cell_type": "markdown",
   "metadata": {},
   "source": [
    "##  \n",
    "##                  **Let's contuine with Sklearn to have a further data.**"
   ]
  },
  {
   "cell_type": "code",
   "execution_count": 109,
   "metadata": {},
   "outputs": [
    {
     "data": {
      "text/plain": [
       "['Schooling',\n",
       " 'Income_composition_of_resources',\n",
       " 'Adult_Mortality',\n",
       " 'HIV/AIDS',\n",
       " 'BMI',\n",
       " 'Diphtheria',\n",
       " 'Polio',\n",
       " 'under_five_deaths',\n",
       " 'infant_deaths']"
      ]
     },
     "execution_count": 109,
     "metadata": {},
     "output_type": "execute_result"
    }
   ],
   "source": [
    "pDegeri = anlamli_10degiskenli_model.pvalues\n",
    "anlamli_degerler = list(pDegeri[pDegeri<= 0.002].index)\n",
    "anlamli_degerler"
   ]
  },
  {
   "cell_type": "code",
   "execution_count": 110,
   "metadata": {},
   "outputs": [],
   "source": [
    "y = LifeExpectancyData_num['Life_Expectancy']\n",
    "X = LifeExpectancyData_num[anlamli_degerler]"
   ]
  },
  {
   "cell_type": "code",
   "execution_count": 111,
   "metadata": {},
   "outputs": [],
   "source": [
    "X_9degiskenli_anlamli = LifeExpectancyData_num[anlamli_degerler]"
   ]
  },
  {
   "cell_type": "code",
   "execution_count": 112,
   "metadata": {
    "scrolled": true
   },
   "outputs": [
    {
     "name": "stdout",
     "output_type": "stream",
     "text": [
      "Eğitim kümesindeki gözlem sayısı : 2260\n",
      "Test kümesindeki gözlem sayısı   : 566\n"
     ]
    }
   ],
   "source": [
    "X_train, X_test, y_train, y_test = train_test_split(X_9degiskenli_anlamli, y_anlamli, test_size = 0.2, random_state = 0)\n",
    "\n",
    "print(\"Eğitim kümesindeki gözlem sayısı : {}\".format(X_train.shape[0]))\n",
    "print(\"Test kümesindeki gözlem sayısı   : {}\".format(X_test.shape[0]))"
   ]
  },
  {
   "cell_type": "code",
   "execution_count": 113,
   "metadata": {},
   "outputs": [],
   "source": [
    "anlamli_9degiskenli_model = LinearRegression()\n",
    "\n",
    "results = anlamli_9degiskenli_model.fit(X_train, y_train)\n",
    "y_pred = anlamli_9degiskenli_model.predict(X_test)"
   ]
  },
  {
   "cell_type": "code",
   "execution_count": 114,
   "metadata": {},
   "outputs": [
    {
     "name": "stdout",
     "output_type": "stream",
     "text": [
      "Coefficients: \n",
      " [ 0.79708938  9.52619635 -0.01783919 -0.54433015  0.04645457  0.02162381\n",
      "  0.02203735 -0.05813831  0.07618971]\n",
      "Intercept (bias): \n",
      " 52.29368043978539\n"
     ]
    }
   ],
   "source": [
    "print('Coefficients: \\n', anlamli_9degiskenli_model.coef_)\n",
    "print('Intercept (bias): \\n', anlamli_9degiskenli_model.intercept_)"
   ]
  },
  {
   "cell_type": "code",
   "execution_count": 71,
   "metadata": {},
   "outputs": [
    {
     "data": {
      "image/png": "[encoded data removed]",
      "text/plain": [
       "<Figure size 540x360 with 1 Axes>"
      ]
     },
     "metadata": {},
     "output_type": "display_data"
    }
   ],
   "source": [
    "plt.figure(dpi = 90)\n",
    "plt.scatter(y_test, y_pred,color=\"purple\" )\n",
    "plt.plot(y_test, y_test, color=\"green\")\n",
    "plt.xlabel(\"Y Test/Real Values\")\n",
    "plt.ylabel(\"Predicted Y\")\n",
    "plt.title(\"LIFE EXPECTANCY REAL AND REDICTED VALUES(anlamli_9degiskenli_model)\")\n",
    "plt.show()"
   ]
  },
  {
   "cell_type": "code",
   "execution_count": 116,
   "metadata": {},
   "outputs": [
    {
     "name": "stdout",
     "output_type": "stream",
     "text": [
      "R-Squared Score değeri        : 0.815345502058267\n"
     ]
    }
   ],
   "source": [
    "print(\"R-Squared Score değeri        : {}\".format(anlamli_9degiskenli_model.score(X_train, y_train)))\n"
   ]
  },
  {
   "cell_type": "code",
   "execution_count": null,
   "metadata": {},
   "outputs": [],
   "source": [
    "print(\"Eğitim kümesindeki gözlem sayısı  : {}\".format(X_egitim.shape[0]))\n",
    "print(\"Test kümesindeki gözlem sayısı    : {}\".format(X_test.shape[0]), \"\\n\")\n",
    "\n",
    "print(\"Eğitim kümesindeki R-Kare değeri  : {}\".format(lrm.score(X_egitim, y_egitim)))\n",
    "print(\"-----Test kümesi istatistikleri---\")\n",
    "print(\"Test kümesi R-Kare değeri         : {}\".format(lrm.score(X_test, y_test)))\n",
    "print(\"Ortalama Mutlak Hata (MAE)        : {}\".format(mean_absolute_error(y_test, y_test_tahmini)))\n",
    "print(\"Ortalama Kare Hata (MSE)          : {}\".format(mse(y_test, y_test_tahmini)))\n",
    "print(\"Kök Ortalama Kare Hata (RMSE)     : {}\".format(rmse(y_test, y_test_tahmini)))\n",
    "print(\"Ortalama Mutlak Yüzde Hata (MAPE) : {}\".format(np.mean(np.abs((y_test - "
   ]
  },
  {
   "cell_type": "code",
   "execution_count": 72,
   "metadata": {
    "scrolled": true
   },
   "outputs": [
    {
     "name": "stdout",
     "output_type": "stream",
     "text": [
      "Ortalama Mutlak Hata (MAE)        : 2.935523755014326\n",
      "Ortalama Kare Hata (MSE)          : 16.178323379224114\n",
      "Kök Ortalama Kare Hata (RMSE)     : 4.022228658247081\n",
      "Ortalama Mutlak Yüzde Hata (MAPE) : 4.514688309195997\n"
     ]
    }
   ],
   "source": [
    "print(\"Eğitim kümesindeki gözlem sayısı  : {}\".format(X_egitim.shape[0]))\n",
    "print(\"Test kümesindeki gözlem sayısı    : {}\".format(X_test.shape[0]), \"\\n\")\n",
    "\n",
    "print(\"Eğitim kümesindeki R-Kare değeri  : {}\".format(lrm.score(X_egitim, y_egitim)))\n",
    "print(\"-----Test kümesi istatistikleri---\")\n",
    "print(\"Test kümesi R-Kare değeri         : {}\".format(lrm.score(X_test, y_test)))\n",
    "print(\"Ortalama Mutlak Hata (MAE)        : {}\".format(mean_absolute_error(y_test, y_test_tahmini)))\n",
    "print(\"Ortalama Kare Hata (MSE)          : {}\".format(mse(y_test, y_test_tahmini)))\n",
    "print(\"Kök Ortalama Kare Hata (RMSE)     : {}\".format(rmse(y_test, y_test_tahmini)))\n",
    "print(\"Ortalama Mutlak Yüzde Hata (MAPE) : {}\".format(np.mean(np.abs((y_test - \n",
    "\n",
    "\n",
    "print(\"Ortalama Mutlak Hata (MAE)        : {}\".format(mean_absolute_error(y_test, y_pred)))\n",
    "print(\"Ortalama Kare Hata (MSE)          : {}\".format(mse(y_test, y_pred)))\n",
    "print(\"Kök Ortalama Kare Hata (RMSE)     : {}\".format(rmse(y_test, y_pred)))\n",
    "print(\"Ortalama Mutlak Yüzde Hata (MAPE) : {}\".format(np.mean(np.abs((y_test - y_pred) / y_test)) * 100))"
   ]
  },
  {
   "cell_type": "markdown",
   "metadata": {},
   "source": [
    "We will use some Variance Analysis in Regression models in order to determine whether regression models are accurate or misleading. Following a flawed model is a bad idea, so it is important that we can quantify how accurate our model is."
   ]
  },
  {
   "cell_type": "markdown",
   "metadata": {},
   "source": [
    "# Ridge"
   ]
  },
  {
   "cell_type": "code",
   "execution_count": 73,
   "metadata": {},
   "outputs": [],
   "source": [
    "from sklearn.linear_model import Ridge\n",
    "\n",
    "ridgeregr = Ridge(alpha=10**37) \n",
    "ridgeregr.fit(X_train, y_train)\n",
    "\n",
    "y_train_preds = ridgeregr.predict(X_train)\n",
    "y_test_preds = ridgeregr.predict(X_test)"
   ]
  },
  {
   "cell_type": "code",
   "execution_count": 74,
   "metadata": {},
   "outputs": [
    {
     "name": "stdout",
     "output_type": "stream",
     "text": [
      "Ortalama Mutlak Hata (MAE)        : 2.935523755014326\n",
      "Ortalama Kare Hata (MSE)          : 16.178323379224114\n",
      "Kök Ortalama Kare Hata (RMSE)     : 4.022228658247081\n",
      "Ortalama Mutlak Yüzde Hata (MAPE) : 4.514688309195997\n"
     ]
    }
   ],
   "source": [
    "print(\"Ortalama Mutlak Hata (MAE)        : {}\".format(mean_absolute_error(y_test, y_pred)))\n",
    "print(\"Ortalama Kare Hata (MSE)          : {}\".format(mse(y_test, y_pred)))\n",
    "print(\"Kök Ortalama Kare Hata (RMSE)     : {}\".format(rmse(y_test, y_pred)))\n",
    "print(\"Ortalama Mutlak Yüzde Hata (MAPE) : {}\".format(np.mean(np.abs((y_test - y_pred) / y_test)) * 100))"
   ]
  },
  {
   "cell_type": "code",
   "execution_count": 108,
   "metadata": {
    "scrolled": true
   },
   "outputs": [
    {
     "ename": "ValueError",
     "evalue": "shapes (2260,6) and (9,) not aligned: 6 (dim 1) != 9 (dim 0)",
     "output_type": "error",
     "traceback": [
      "\u001b[1;31m---------------------------------------------------------------------------\u001b[0m",
      "\u001b[1;31mValueError\u001b[0m                                Traceback (most recent call last)",
      "\u001b[1;32m<ipython-input-108-9602bd05ef7f>\u001b[0m in \u001b[0;36m<module>\u001b[1;34m\u001b[0m\n\u001b[1;32m----> 1\u001b[1;33m \u001b[0mprint\u001b[0m\u001b[1;33m(\u001b[0m\u001b[1;34m\"R-Squared Score değeri       : {}\"\u001b[0m\u001b[1;33m.\u001b[0m\u001b[0mformat\u001b[0m\u001b[1;33m(\u001b[0m\u001b[0mridgeregr\u001b[0m\u001b[1;33m.\u001b[0m\u001b[0mscore\u001b[0m\u001b[1;33m(\u001b[0m\u001b[0mX_train\u001b[0m\u001b[1;33m,\u001b[0m \u001b[0my_train\u001b[0m\u001b[1;33m)\u001b[0m\u001b[1;33m)\u001b[0m\u001b[1;33m)\u001b[0m\u001b[1;33m\u001b[0m\u001b[1;33m\u001b[0m\u001b[0m\n\u001b[0m",
      "\u001b[1;32m~\\Anaconda3\\lib\\site-packages\\sklearn\\base.py\u001b[0m in \u001b[0;36mscore\u001b[1;34m(self, X, y, sample_weight)\u001b[0m\n\u001b[0;32m    326\u001b[0m \u001b[1;33m\u001b[0m\u001b[0m\n\u001b[0;32m    327\u001b[0m         \u001b[1;32mfrom\u001b[0m \u001b[1;33m.\u001b[0m\u001b[0mmetrics\u001b[0m \u001b[1;32mimport\u001b[0m \u001b[0mr2_score\u001b[0m\u001b[1;33m\u001b[0m\u001b[1;33m\u001b[0m\u001b[0m\n\u001b[1;32m--> 328\u001b[1;33m         return r2_score(y, self.predict(X), sample_weight=sample_weight,\n\u001b[0m\u001b[0;32m    329\u001b[0m                         multioutput='variance_weighted')\n\u001b[0;32m    330\u001b[0m \u001b[1;33m\u001b[0m\u001b[0m\n",
      "\u001b[1;32m~\\Anaconda3\\lib\\site-packages\\sklearn\\linear_model\\base.py\u001b[0m in \u001b[0;36mpredict\u001b[1;34m(self, X)\u001b[0m\n\u001b[0;32m    211\u001b[0m             \u001b[0mReturns\u001b[0m \u001b[0mpredicted\u001b[0m \u001b[0mvalues\u001b[0m\u001b[1;33m.\u001b[0m\u001b[1;33m\u001b[0m\u001b[1;33m\u001b[0m\u001b[0m\n\u001b[0;32m    212\u001b[0m         \"\"\"\n\u001b[1;32m--> 213\u001b[1;33m         \u001b[1;32mreturn\u001b[0m \u001b[0mself\u001b[0m\u001b[1;33m.\u001b[0m\u001b[0m_decision_function\u001b[0m\u001b[1;33m(\u001b[0m\u001b[0mX\u001b[0m\u001b[1;33m)\u001b[0m\u001b[1;33m\u001b[0m\u001b[1;33m\u001b[0m\u001b[0m\n\u001b[0m\u001b[0;32m    214\u001b[0m \u001b[1;33m\u001b[0m\u001b[0m\n\u001b[0;32m    215\u001b[0m     \u001b[0m_preprocess_data\u001b[0m \u001b[1;33m=\u001b[0m \u001b[0mstaticmethod\u001b[0m\u001b[1;33m(\u001b[0m\u001b[0m_preprocess_data\u001b[0m\u001b[1;33m)\u001b[0m\u001b[1;33m\u001b[0m\u001b[1;33m\u001b[0m\u001b[0m\n",
      "\u001b[1;32m~\\Anaconda3\\lib\\site-packages\\sklearn\\linear_model\\base.py\u001b[0m in \u001b[0;36m_decision_function\u001b[1;34m(self, X)\u001b[0m\n\u001b[0;32m    196\u001b[0m         \u001b[0mX\u001b[0m \u001b[1;33m=\u001b[0m \u001b[0mcheck_array\u001b[0m\u001b[1;33m(\u001b[0m\u001b[0mX\u001b[0m\u001b[1;33m,\u001b[0m \u001b[0maccept_sparse\u001b[0m\u001b[1;33m=\u001b[0m\u001b[1;33m[\u001b[0m\u001b[1;34m'csr'\u001b[0m\u001b[1;33m,\u001b[0m \u001b[1;34m'csc'\u001b[0m\u001b[1;33m,\u001b[0m \u001b[1;34m'coo'\u001b[0m\u001b[1;33m]\u001b[0m\u001b[1;33m)\u001b[0m\u001b[1;33m\u001b[0m\u001b[1;33m\u001b[0m\u001b[0m\n\u001b[0;32m    197\u001b[0m         return safe_sparse_dot(X, self.coef_.T,\n\u001b[1;32m--> 198\u001b[1;33m                                dense_output=True) + self.intercept_\n\u001b[0m\u001b[0;32m    199\u001b[0m \u001b[1;33m\u001b[0m\u001b[0m\n\u001b[0;32m    200\u001b[0m     \u001b[1;32mdef\u001b[0m \u001b[0mpredict\u001b[0m\u001b[1;33m(\u001b[0m\u001b[0mself\u001b[0m\u001b[1;33m,\u001b[0m \u001b[0mX\u001b[0m\u001b[1;33m)\u001b[0m\u001b[1;33m:\u001b[0m\u001b[1;33m\u001b[0m\u001b[1;33m\u001b[0m\u001b[0m\n",
      "\u001b[1;32m~\\Anaconda3\\lib\\site-packages\\sklearn\\utils\\extmath.py\u001b[0m in \u001b[0;36msafe_sparse_dot\u001b[1;34m(a, b, dense_output)\u001b[0m\n\u001b[0;32m    171\u001b[0m         \u001b[1;32mreturn\u001b[0m \u001b[0mret\u001b[0m\u001b[1;33m\u001b[0m\u001b[1;33m\u001b[0m\u001b[0m\n\u001b[0;32m    172\u001b[0m     \u001b[1;32melse\u001b[0m\u001b[1;33m:\u001b[0m\u001b[1;33m\u001b[0m\u001b[1;33m\u001b[0m\u001b[0m\n\u001b[1;32m--> 173\u001b[1;33m         \u001b[1;32mreturn\u001b[0m \u001b[0mnp\u001b[0m\u001b[1;33m.\u001b[0m\u001b[0mdot\u001b[0m\u001b[1;33m(\u001b[0m\u001b[0ma\u001b[0m\u001b[1;33m,\u001b[0m \u001b[0mb\u001b[0m\u001b[1;33m)\u001b[0m\u001b[1;33m\u001b[0m\u001b[1;33m\u001b[0m\u001b[0m\n\u001b[0m\u001b[0;32m    174\u001b[0m \u001b[1;33m\u001b[0m\u001b[0m\n\u001b[0;32m    175\u001b[0m \u001b[1;33m\u001b[0m\u001b[0m\n",
      "\u001b[1;31mValueError\u001b[0m: shapes (2260,6) and (9,) not aligned: 6 (dim 1) != 9 (dim 0)"
     ]
    }
   ],
   "source": [
    "print(\"R-Squared Score değeri       : {}\".format(ridgeregr.score(X_train, y_train)))"
   ]
  },
  {
   "cell_type": "code",
   "execution_count": null,
   "metadata": {},
   "outputs": [],
   "source": []
  },
  {
   "cell_type": "code",
   "execution_count": null,
   "metadata": {},
   "outputs": [],
   "source": []
  },
  {
   "cell_type": "code",
   "execution_count": 75,
   "metadata": {},
   "outputs": [
    {
     "data": {
      "image/png": "[encoded data removed]",
      "text/plain": [
       "<Figure size 900x600 with 1 Axes>"
      ]
     },
     "metadata": {},
     "output_type": "display_data"
    }
   ],
   "source": [
    "baslik_font = {'family': 'arial','color':  'darkred','weight': 'bold','size': 15 }\n",
    "eksen_font = {'family': 'arial','color':  'darkblue','weight': 'bold','size': 10 }\n",
    "plt.figure(figsize=(9,6), dpi = 100)\n",
    "\n",
    "Life_Expectancy_BMI = X_9degiskenli_anlamli.BMI * 0.1064\n",
    "Life_Expectancy_Schooling = X_9degiskenli_anlamli.BMI * 3.4765\n",
    "Life_Expectancy_Income_composition_of_resources = X_9degiskenli_anlamli.BMI * 21.8546\n",
    "Life_Expectancy_Adult_Mortality = X_9degiskenli_anlamli.BMI * 0.0555\n",
    "Life_Expectancy_HIVAIDS = X_9degiskenli_anlamli.BMI * (-0.8977)\n",
    "\n",
    "\n",
    "plt.plot(X_9degiskenli_anlamli.BMI, Life_Expectancy_BMI)\n",
    "plt.plot(X_9degiskenli_anlamli.BMI, Life_Expectancy_Schooling)\n",
    "plt.plot(X_9degiskenli_anlamli.BMI, Life_Expectancy_Income_composition_of_resources)\n",
    "plt.plot(X_9degiskenli_anlamli.BMI, Life_Expectancy_Adult_Mortality)\n",
    "plt.plot(X_9degiskenli_anlamli.BMI, Life_Expectancy_HIVAIDS)\n",
    "\n",
    "plt.legend([\"Life Expectancy & BMI\", \"Life Expectancy & Schooling\", \"Life Expectancy & Income_composition_of_resources\", \"Life Expectancy & Adult_Mortality\", \"Life Expectancy & HIVAIDS\"])\n",
    "plt.xlabel(\"BMI\", fontdict=eksen_font)\n",
    "plt.ylabel(\"Life Expectancy\", fontdict=eksen_font)\n",
    "plt.title(\"Relation with Life Expectancy and other variables\", fontdict=baslik_font)\n",
    "\n",
    "plt.show()"
   ]
  },
  {
   "cell_type": "code",
   "execution_count": null,
   "metadata": {},
   "outputs": [],
   "source": []
  },
  {
   "cell_type": "code",
   "execution_count": null,
   "metadata": {},
   "outputs": [],
   "source": []
  },
  {
   "cell_type": "code",
   "execution_count": null,
   "metadata": {},
   "outputs": [],
   "source": []
  },
  {
   "cell_type": "code",
   "execution_count": null,
   "metadata": {},
   "outputs": [],
   "source": []
  }
 ],
 "metadata": {
  "kernelspec": {
   "display_name": "Python 3",
   "language": "python",
   "name": "python3"
  },
  "language_info": {
   "codemirror_mode": {
    "name": "ipython",
    "version": 3
   },
   "file_extension": ".py",
   "mimetype": "text/x-python",
   "name": "python",
   "nbconvert_exporter": "python",
   "pygments_lexer": "ipython3",
   "version": "3.7.1"
  }
 },
 "nbformat": 4,
 "nbformat_minor": 2
}
